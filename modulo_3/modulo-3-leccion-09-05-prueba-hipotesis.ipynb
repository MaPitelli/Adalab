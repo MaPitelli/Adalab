{
 "cells": [
  {
   "cell_type": "code",
   "execution_count": 1,
   "metadata": {},
   "outputs": [],
   "source": [
    "\n",
    "# importamos las librerías que necesitamos\n",
    "\n",
    "# Tratamiento de datos\n",
    "# -----------------------------------------------------------------------\n",
    "import pandas as pd\n",
    "import numpy as np\n",
    "\n",
    "# Visualización\n",
    "# ------------------------------------------------------------------------------\n",
    "import matplotlib.pyplot as plt\n",
    "import seaborn as sns\n",
    "\n",
    "# Evaluar linealidad de las relaciones entre las variables\n",
    "# y la distribución de las variables\n",
    "# ------------------------------------------------------------------------------\n",
    "#import scipy.stats as stats\n",
    "import scipy.stats as stats\n",
    "from scipy.stats import shapiro, poisson, chisquare, expon, kstest\n",
    "\n",
    "\n",
    "# Configuración\n",
    "# -----------------------------------------------------------------------\n",
    "pd.set_option('display.max_columns', None) # para poder visualizar todas las columnas de los DataFrames\n",
    "\n",
    "# Gestión de los warnings\n",
    "# -----------------------------------------------------------------------\n",
    "import warnings\n",
    "warnings.filterwarnings(\"ignore\")"
   ]
  },
  {
   "cell_type": "markdown",
   "metadata": {},
   "source": [
    "# Prueba de hipótesis\n",
    "\n",
    "Para determinar qué prueba de hipótesis realizar con este conjunto de datos, primero debemos identificar la pregunta o la afirmación que deseamos investigar. Aquí planteamos algunos ejemplos de preguntas o afirmaciones que probaremos para entender en que consiste la prueba de hipótesis:\n",
    "\n",
    "1. **Hipótesis sobre los ingresos promedio en función de la educación:**\n",
    "   - Hipótesis nula (H0): No hay diferencia en los ingresos promedio entre las personas con educación básica 4 años y las personas con educación secundaria.\n",
    "   - Hipótesis alternativa (H1): Hay una diferencia significativa en los ingresos promedio entre estos dos grupos.\n",
    "   - Prueba de hipótesis: Se podría realizar una prueba t de Student para comparar los ingresos promedio de estos dos grupos.\n",
    "\n",
    "2. **Hipótesis sobre la duración de la llamada telefónica en función del estado civil:**\n",
    "   - Hipótesis nula (H0): No hay diferencia en la duración promedio de las llamadas telefónicas entre personas casadas y personas solteras.\n",
    "   - Hipótesis alternativa (H1): Hay una diferencia significativa en la duración promedio de las llamadas telefónicas entre estos dos grupos.\n",
    "   - Prueba de hipótesis: También se podría utilizar una prueba t de Student para comparar la duración promedio de las llamadas entre los dos grupos de estado civil."
   ]
  },
  {
   "cell_type": "markdown",
   "metadata": {},
   "source": [
    "Para poder enfrentarnos a estos problemas vamos a tener que usar el método `ttest_ind()` de la librería `stats`.  Lo que hace este método es usar el \"Test de Student\".\n",
    "\n",
    "La función `ttest_ind` se utiliza para realizar una prueba t de Student independiente entre dos muestras (grupos) para comparar si sus medias son estadísticamente diferentes. Aquí está la sintaxis básica:\n",
    "\n",
    "```python\n",
    "ttest_ind(a, b, axis, equal_var, nan_policy=)\n",
    "```\n"
   ]
  },
  {
   "cell_type": "markdown",
   "metadata": {},
   "source": [
    "Uno de los parámetros que tenemos en el `ttest_ind` es el `equal_var`, donde le tenemos que decir, si nuestras categorías a comparar tienen varianzas iguales o no. Por lo tanto, lo primero que tendremos que hacer es evaluarlo, para eso tenemos dos test: **Prueba de Levene**\n",
    "y la **Prueba de Bartlett**. \n",
    "\n",
    "> En ambos casos, si el p-valor < 0.05 podemos concluir que las varianzas son diferentes entre los grupos. Si el p-valor > 0.05, no podemos afirmar que las varianzas son diferentes."
   ]
  },
  {
   "cell_type": "code",
   "execution_count": 2,
   "metadata": {},
   "outputs": [
    {
     "data": {
      "text/html": [
       "<div>\n",
       "<style scoped>\n",
       "    .dataframe tbody tr th:only-of-type {\n",
       "        vertical-align: middle;\n",
       "    }\n",
       "\n",
       "    .dataframe tbody tr th {\n",
       "        vertical-align: top;\n",
       "    }\n",
       "\n",
       "    .dataframe thead th {\n",
       "        text-align: right;\n",
       "    }\n",
       "</style>\n",
       "<table border=\"1\" class=\"dataframe\">\n",
       "  <thead>\n",
       "    <tr style=\"text-align: right;\">\n",
       "      <th></th>\n",
       "      <th>income</th>\n",
       "      <th>kidhome</th>\n",
       "      <th>teenhome</th>\n",
       "      <th>dt_customer</th>\n",
       "      <th>numwebvisitsmonth</th>\n",
       "      <th>id</th>\n",
       "      <th>age</th>\n",
       "      <th>job</th>\n",
       "      <th>marital</th>\n",
       "      <th>education</th>\n",
       "      <th>default</th>\n",
       "      <th>housing</th>\n",
       "      <th>loan</th>\n",
       "      <th>contact</th>\n",
       "      <th>duration</th>\n",
       "      <th>campaign</th>\n",
       "      <th>pdays</th>\n",
       "      <th>previous</th>\n",
       "      <th>poutcome</th>\n",
       "      <th>empvarrate</th>\n",
       "      <th>conspriceidx</th>\n",
       "      <th>consconfidx</th>\n",
       "      <th>euribor3m</th>\n",
       "      <th>nremployed</th>\n",
       "      <th>y</th>\n",
       "      <th>date</th>\n",
       "      <th>latitude</th>\n",
       "      <th>longitude</th>\n",
       "      <th>contact_month</th>\n",
       "      <th>contact_year</th>\n",
       "      <th>age_cat</th>\n",
       "      <th>hijos_totales</th>\n",
       "    </tr>\n",
       "  </thead>\n",
       "  <tbody>\n",
       "    <tr>\n",
       "      <th>0</th>\n",
       "      <td>161770</td>\n",
       "      <td>1</td>\n",
       "      <td>0</td>\n",
       "      <td>2012-04-04</td>\n",
       "      <td>29</td>\n",
       "      <td>089b39d8-e4d0-461b-87d4-814d71e0e079</td>\n",
       "      <td>NaN</td>\n",
       "      <td>housemaid</td>\n",
       "      <td>married</td>\n",
       "      <td>basic 4y</td>\n",
       "      <td>No</td>\n",
       "      <td>No</td>\n",
       "      <td>No</td>\n",
       "      <td>telephone</td>\n",
       "      <td>261</td>\n",
       "      <td>1</td>\n",
       "      <td>NaN</td>\n",
       "      <td>0</td>\n",
       "      <td>nonexistent</td>\n",
       "      <td>1.1</td>\n",
       "      <td>93.994</td>\n",
       "      <td>-36.4</td>\n",
       "      <td>4.857</td>\n",
       "      <td>5191</td>\n",
       "      <td>no</td>\n",
       "      <td>2-agosto-2019</td>\n",
       "      <td>41.495</td>\n",
       "      <td>-71.233</td>\n",
       "      <td>agosto</td>\n",
       "      <td>2019.0</td>\n",
       "      <td>Adultos mayores</td>\n",
       "      <td>1 hijos</td>\n",
       "    </tr>\n",
       "    <tr>\n",
       "      <th>1</th>\n",
       "      <td>85477</td>\n",
       "      <td>1</td>\n",
       "      <td>1</td>\n",
       "      <td>2012-12-30</td>\n",
       "      <td>7</td>\n",
       "      <td>e9d37224-cb6f-4942-98d7-46672963d097</td>\n",
       "      <td>57.0</td>\n",
       "      <td>services</td>\n",
       "      <td>married</td>\n",
       "      <td>high school</td>\n",
       "      <td>NaN</td>\n",
       "      <td>No</td>\n",
       "      <td>No</td>\n",
       "      <td>telephone</td>\n",
       "      <td>149</td>\n",
       "      <td>1</td>\n",
       "      <td>NaN</td>\n",
       "      <td>0</td>\n",
       "      <td>nonexistent</td>\n",
       "      <td>1.1</td>\n",
       "      <td>93.994</td>\n",
       "      <td>-36.4</td>\n",
       "      <td>NaN</td>\n",
       "      <td>5191</td>\n",
       "      <td>no</td>\n",
       "      <td>14-septiembre-2016</td>\n",
       "      <td>34.601</td>\n",
       "      <td>-83.923</td>\n",
       "      <td>septiembre</td>\n",
       "      <td>2016.0</td>\n",
       "      <td>Mediana edad</td>\n",
       "      <td>2 hijos</td>\n",
       "    </tr>\n",
       "  </tbody>\n",
       "</table>\n",
       "</div>"
      ],
      "text/plain": [
       "   income  kidhome  teenhome dt_customer  numwebvisitsmonth  \\\n",
       "0  161770        1         0  2012-04-04                 29   \n",
       "1   85477        1         1  2012-12-30                  7   \n",
       "\n",
       "                                     id   age        job  marital  \\\n",
       "0  089b39d8-e4d0-461b-87d4-814d71e0e079   NaN  housemaid  married   \n",
       "1  e9d37224-cb6f-4942-98d7-46672963d097  57.0   services  married   \n",
       "\n",
       "     education default housing loan    contact  duration  campaign  pdays  \\\n",
       "0     basic 4y      No      No   No  telephone       261         1    NaN   \n",
       "1  high school     NaN      No   No  telephone       149         1    NaN   \n",
       "\n",
       "   previous     poutcome  empvarrate  conspriceidx  consconfidx  euribor3m  \\\n",
       "0         0  nonexistent         1.1        93.994        -36.4      4.857   \n",
       "1         0  nonexistent         1.1        93.994        -36.4        NaN   \n",
       "\n",
       "  nremployed   y                date  latitude  longitude contact_month  \\\n",
       "0       5191  no       2-agosto-2019    41.495    -71.233        agosto   \n",
       "1       5191  no  14-septiembre-2016    34.601    -83.923    septiembre   \n",
       "\n",
       "   contact_year          age_cat hijos_totales  \n",
       "0        2019.0  Adultos mayores       1 hijos  \n",
       "1        2016.0     Mediana edad       2 hijos  "
      ]
     },
     "execution_count": 2,
     "metadata": {},
     "output_type": "execute_result"
    }
   ],
   "source": [
    "# lo primero que hacemos es cargar el dataframe que vamos a usar para esta lección\n",
    "df = pd.read_csv(\"bank-additional_clean.csv\", index_col = 0)\n",
    "df.head(2)"
   ]
  },
  {
   "cell_type": "code",
   "execution_count": 3,
   "metadata": {},
   "outputs": [],
   "source": [
    "# vamos a definir una función para poder hacer el t-test de Student\n",
    "\n",
    "def prueba_hipotesis(*args):\n",
    "    \n",
    "    # lo primero que tenemos que hacer es mirar si las varianzas son iguales o no\n",
    "    if len(args) == 2:\n",
    "        p_valor_varianza = stats.levene(*args, center = \"median\")[1]\n",
    "    else:\n",
    "        p_valor_varianza = stats.bartlett(*args)[1]\n",
    "    \n",
    "    if p_valor_varianza > 0.05:\n",
    "        # realizamos la prueba t de Student\n",
    "        t_stat, p_valor = stats.ttest_ind(*args, equal_var=True)\n",
    "    else:\n",
    "        t_stat, p_valor = stats.ttest_ind(*args, equal_var=False)\n",
    "        \n",
    "    # Establecemos un nivel de significancia (alfa)\n",
    "    alfa = 0.05\n",
    "\n",
    "    # comparamos el p-valor con el nivel de significancia\n",
    "    if p_valor < alfa:\n",
    "        print(\"Rechazamos la hipótesis nula.\")\n",
    "        print(\"Hay una diferencia significativa en los ingresos promedio entre los dos grupos.\")\n",
    "    else:\n",
    "        print(\"No podemos rechazar la hipótesis nula.\")\n",
    "        print(\"No hay evidencia suficiente para afirmar una diferencia significativa en los ingresos promedio entre los dos grupos.\")"
   ]
  },
  {
   "cell_type": "code",
   "execution_count": 4,
   "metadata": {},
   "outputs": [
    {
     "name": "stdout",
     "output_type": "stream",
     "text": [
      "Rechazamos la hipótesis nula.\n",
      "Hay una diferencia significativa en los ingresos promedio entre los dos grupos.\n"
     ]
    }
   ],
   "source": [
    "\n",
    "# filtramos los datos para obtener dos grupos: educación básica 4 años y educación secundaria\n",
    "grupo_educacion_basica = df[df['education'] == 'basic 4y'][\"income\"]\n",
    "grupo_educacion_secundaria = df[df['education'] == 'high school'][\"income\"]\n",
    "\n",
    "# llamamos a la función que hemos creado\n",
    "prueba_hipotesis(grupo_educacion_basica, grupo_educacion_secundaria )\n"
   ]
  },
  {
   "cell_type": "code",
   "execution_count": 5,
   "metadata": {},
   "outputs": [
    {
     "name": "stdout",
     "output_type": "stream",
     "text": [
      "No podemos rechazar la hipótesis nula.\n",
      "No hay evidencia suficiente para afirmar una diferencia significativa en los ingresos promedio entre los dos grupos.\n"
     ]
    }
   ],
   "source": [
    "# vamos a probar la segunda hipótesis que tenemos planteada\n",
    "# No hay diferencia en la duración promedio de las llamadas telefónicas entre personas casadas y personas solteras.\n",
    "\n",
    "# lo primero que tenemos que hacer es crear dos DataFrames nuevos, uno para saber el tiempo de las llamadas a personas casadas y otro para personas solteras\n",
    "grupo_casadas = df[df[\"marital\"] == \"married\"][\"duration\"]\n",
    "grupo_solteras = df[df[\"marital\"] == \"single\"][\"duration\"]\n",
    "\n",
    "# llamamos a la función que hemos creado\n",
    "prueba_hipotesis(grupo_casadas, grupo_solteras )"
   ]
  },
  {
   "cell_type": "markdown",
   "metadata": {},
   "source": [
    "# Ejercicios\n",
    "\n",
    "Seguiremos usando el conjunto de datos que usamos siempre para los ejercicios de la clase invertida. \n",
    "\n",
    "1. Dadas las situaciones, decide si se trata de una distribución de tipo exponencial o de poisson. A nivel teórico, no hace falta que lo demuestres con código. \n",
    "\n",
    "   - Imagina que estás registrando el tiempo que transcurre entre la llegada de clientes a una tienda en minutos. ¿Se asemeja más a una distribución exponencial o de Poisson? EXPONENCIAL\n",
    "\n",
    "   - Si observas el número de accidentes que ocurren en una intersección en un día determinado, ¿tiene más sentido pensar en una distribución exponencial o de Poisson? POISSON\n",
    "\n",
    "   - Cuando las personas esperan en una cola para recibir atención al cliente en una tienda, se registra el tiempo que esperan en minutos. ¿Parece seguir una distribución exponencial o de Poisson? EXPONENCIAL\n",
    "\n",
    "   - Si supervisas el número de llamadas telefónicas que llegan a un centro de atención al cliente en una hora, ¿sería más apropiado pensar en una distribución exponencial o de Poisson? POISSON\n",
    "\n",
    "   - Si mides el tiempo entre la llegada de correos electrónicos a tu bandeja de entrada durante el día, ¿se ajusta mejor a una distribución exponencial o de Poisson? EXPONENCIAL"
   ]
  },
  {
   "cell_type": "code",
   "execution_count": 6,
   "metadata": {},
   "outputs": [],
   "source": [
    "df = pd.read_csv('df_nulos_imputados.csv', index_col=0)"
   ]
  },
  {
   "cell_type": "markdown",
   "metadata": {},
   "source": [
    "2. Ejercicios intervalo de confianza: Para cada uno de los ejercicios interpreta los resultados y piensa que ventaja a nivel de negocio podemos sacar de calcularlo. \n",
    "\n",
    "   - Trabajas para una plataforma de comercio en línea y deseas determinar el intervalo de confianza al 95% para el precio promedio de productos con una cantidad de media de valoraciones al producto de 500.\n"
   ]
  },
  {
   "cell_type": "code",
   "execution_count": 23,
   "metadata": {},
   "outputs": [
    {
     "name": "stdout",
     "output_type": "stream",
     "text": [
      "El intervalo de confianza al 95% para el precio promedio de productos con una cantidad de media de valoraciones al producto de 500 es: (7.97593555702236, 10.068903152655057)\n"
     ]
    }
   ],
   "source": [
    "# Filtrar productos con una media de valoraciones cercana a 500 (por ejemplo, entre 450 y 550) >> Esa es la muestra \n",
    "filtered_df = df[(df['mean_product_ratings_count'] >= 450) & (df['mean_product_ratings_count'] <= 550)]\n",
    "\n",
    "# Calcular la media y la desviación estándar de los precios de los productos filtrados\n",
    "mean_price = filtered_df['mean_product_prices'].mean()\n",
    "std_dev_price = filtered_df['mean_product_prices'].std()\n",
    "n = filtered_df.shape[0]  # Número de productos en el filtro\n",
    "\n",
    "# Calcular el intervalo de confianza al 95%\n",
    "confidence_level = 0.95\n",
    "z_value = stats.norm.ppf(0.5 + confidence_level / 2)  # Z value for 95% confidence\n",
    "margin_of_error = z_value * (std_dev_price / np.sqrt(n))\n",
    "\n",
    "# Calcular el intervalo de confianza\n",
    "lower_bound = mean_price - margin_of_error\n",
    "upper_bound = mean_price + margin_of_error\n",
    "\n",
    "print(f\"El intervalo de confianza al 95% para el precio promedio de productos con una cantidad de media de valoraciones al producto de 500 es: ({lower_bound}, {upper_bound})\")\n"
   ]
  },
  {
   "cell_type": "code",
   "execution_count": 24,
   "metadata": {},
   "outputs": [
    {
     "name": "stdout",
     "output_type": "stream",
     "text": [
      "Intervalo de Confianza para el precio promedio de productos con una cantidad de media de valoraciones al producto de 500:\n",
      "Media Muestral: 9.02\n",
      "Error Estándar: 0.53\n",
      "Nivel de Confianza: 0.95\n",
      "Valor Crítico: 2.0\n",
      "Intervalo de Confianza: (7.95, 10.09)\n"
     ]
    }
   ],
   "source": [
    "# Filtrar productos con una media de valoraciones cercana a 500 (por ejemplo, entre 450 y 550) >> Esa es la muestra \n",
    "filtered_df = df[(df['mean_product_ratings_count'] >= 450) & (df['mean_product_ratings_count'] <= 550)]\n",
    "\n",
    "# Calcular la media y el error estándar de la muestra\n",
    "media_precio = filtered_df[\"mean_product_prices\"].mean()\n",
    "error_precio = stats.sem(filtered_df[\"mean_product_prices\"])\n",
    "\n",
    "# Definir el nivel de confianza (95% en este caso)\n",
    "nivel_confianza_precio = 0.95\n",
    "\n",
    "# calculamos los grados de libertad de la muestra. Recordad que debemos restar el total de datos que tenemos -1. \n",
    "grados_libertad_precio = len(filtered_df[\"mean_product_prices\"]) - 1\n",
    "\n",
    "# Calcular el valor crítico (utilizando la distribución t de Student)\n",
    "valor_critico_precio = stats.t.ppf((1 + nivel_confianza_precio) / 2, df=grados_libertad_precio)\n",
    "\n",
    "# Calcular el intervalo de confianza\n",
    "limite_inferior_precio = media_precio - valor_critico_precio * error_precio\n",
    "limite_superior_precio = media_precio + valor_critico_precio * error_precio\n",
    "\n",
    "print(\"Intervalo de Confianza para el precio promedio de productos con una cantidad de media de valoraciones al producto de 500:\")\n",
    "print(f\"Media Muestral: {np.round(media_precio, 2)}\")\n",
    "print(f\"Error Estándar: {np.round(error_precio, 2)}\")\n",
    "print(f\"Nivel de Confianza: {nivel_confianza_precio}\")\n",
    "print(f\"Valor Crítico: {np.round(valor_critico_precio, 2)}\")\n",
    "print(f\"Intervalo de Confianza: ({np.round(limite_inferior_precio, 2)}, {np.round(limite_superior_precio, 2)})\")"
   ]
  },
  {
   "cell_type": "markdown",
   "metadata": {},
   "source": [
    "\n",
    "   - Eres un analista de ventas en una plataforma de comercio electrónico y quieres calcular el intervalo de confianza al 90% para el número promedio de unidades vendidas por producto."
   ]
  },
  {
   "cell_type": "code",
   "execution_count": 27,
   "metadata": {},
   "outputs": [
    {
     "name": "stdout",
     "output_type": "stream",
     "text": [
      "Intervalo de Confianza para el número promedio de unidades vendidas por producto:\n",
      "Media Muestral: 4339.01\n",
      "Error Estándar: 202.91\n",
      "Nivel de Confianza: 0.9\n",
      "Valor Crítico: 1.65\n",
      "Intervalo de Confianza: (4005.05, 4672.97)\n"
     ]
    }
   ],
   "source": [
    "# Calcular la media y el error estándar de la muestra\n",
    "media_unidades_vendidas = df[\"mean_units_sold_per_product\"].mean()\n",
    "error_unidades_vendidas = stats.sem(df[\"mean_units_sold_per_product\"])\n",
    "\n",
    "# Definir el nivel de confianza (90% en este caso)\n",
    "nivel_confianza_unidades_vendidas = 0.90\n",
    "\n",
    "# calculamos los grados de libertad de la muestra. Recordad que debemos restar el total de datos que tenemos -1. \n",
    "grados_libertad_unidades_vendidas = len(df[\"mean_units_sold_per_product\"]) - 1\n",
    "\n",
    "# Calcular el valor crítico (utilizando la distribución t de Student)\n",
    "valor_critico_unidades_vendidas = stats.t.ppf((1 + nivel_confianza_unidades_vendidas) / 2, df=grados_libertad_unidades_vendidas)\n",
    "\n",
    "# Calcular el intervalo de confianza\n",
    "limite_inferior_unidades_vendidas = media_unidades_vendidas - valor_critico_unidades_vendidas * error_unidades_vendidas\n",
    "limite_superior_unidades_vendidas = media_unidades_vendidas + valor_critico_unidades_vendidas * error_unidades_vendidas\n",
    "\n",
    "print(\"Intervalo de Confianza para el número promedio de unidades vendidas por producto:\")\n",
    "print(f\"Media Muestral: {np.round(media_unidades_vendidas, 2)}\")\n",
    "print(f\"Error Estándar: {np.round(error_unidades_vendidas, 2)}\")\n",
    "print(f\"Nivel de Confianza: {nivel_confianza_unidades_vendidas}\")\n",
    "print(f\"Valor Crítico: {np.round(valor_critico_unidades_vendidas, 2)}\")\n",
    "print(f\"Intervalo de Confianza: ({np.round(limite_inferior_unidades_vendidas, 2)}, {np.round(limite_superior_unidades_vendidas, 2)})\")"
   ]
  },
  {
   "cell_type": "markdown",
   "metadata": {},
   "source": [
    "   - Trabajas en la gestión de inventario de una tienda en línea y necesitas calcular el intervalo de confianza al 99% para el precio promedio de productos según su país de origen."
   ]
  },
  {
   "cell_type": "code",
   "execution_count": 38,
   "metadata": {},
   "outputs": [
    {
     "data": {
      "text/plain": [
       "array(['CN', 'US', 'VE', 'AT', 'SG', 'GB'], dtype=object)"
      ]
     },
     "execution_count": 38,
     "metadata": {},
     "output_type": "execute_result"
    }
   ],
   "source": [
    "df.origin_country.unique()"
   ]
  },
  {
   "cell_type": "code",
   "execution_count": 54,
   "metadata": {},
   "outputs": [
    {
     "name": "stdout",
     "output_type": "stream",
     "text": [
      "Intervalo de Confianza para el precio promedio de productos según su país de origen: CN\n",
      "Media Muestral: 8.31\n",
      "Error Estándar: 0.09\n",
      "Nivel de Confianza: 0.99\n",
      "Valor Crítico: 2.58\n",
      "Intervalo de Confianza: (8.07, 8.55)\n",
      "------------------------------------------------------------------------------------------\n",
      "Intervalo de Confianza para el precio promedio de productos según su país de origen: US\n",
      "Media Muestral: 9.4\n",
      "Error Estándar: 0.5\n",
      "Nivel de Confianza: 0.99\n",
      "Valor Crítico: 2.75\n",
      "Intervalo de Confianza: (8.03, 10.76)\n",
      "------------------------------------------------------------------------------------------\n",
      "Intervalo de Confianza para el precio promedio de productos según su país de origen: VE\n",
      "Media Muestral: 8.3\n",
      "Error Estándar: 2.27\n",
      "Nivel de Confianza: 0.99\n",
      "Valor Crítico: 4.6\n",
      "Intervalo de Confianza: (-2.14, 18.73)\n",
      "------------------------------------------------------------------------------------------\n",
      "Intervalo de Confianza para el precio promedio de productos según su país de origen: AT\n",
      "No se puede calcular el intervalo de confianza debido a la cantidad insuficiente de observaciones.\n",
      "------------------------------------------------------------------------------------------\n",
      "Intervalo de Confianza para el precio promedio de productos según su país de origen: SG\n",
      "Media Muestral: 3.38\n",
      "Error Estándar: 0.0\n",
      "Nivel de Confianza: 0.99\n",
      "Valor Crítico: 63.66\n",
      "Intervalo de Confianza: (3.38, 3.38)\n",
      "------------------------------------------------------------------------------------------\n",
      "Intervalo de Confianza para el precio promedio de productos según su país de origen: GB\n",
      "No se puede calcular el intervalo de confianza debido a la cantidad insuficiente de observaciones.\n",
      "------------------------------------------------------------------------------------------\n"
     ]
    }
   ],
   "source": [
    "# Crear un diccionario para almacenar los DataFrames de cada país\n",
    "df_dict = {}\n",
    "\n",
    "# Iterar sobre los países únicos en la columna 'origin_country'\n",
    "for country in df.origin_country.unique():\n",
    "    # Crear un DataFrame para cada país\n",
    "    df_dict[country] = df[df['origin_country'] == country]\n",
    "\n",
    "# Definir el nivel de confianza (99% en este caso)\n",
    "nivel_confianza = 0.99\n",
    "\n",
    "# Calcular el intervalo de confianza para cada grupo\n",
    "for k, v in df_dict.items():\n",
    "    # Verificar la cantidad de observaciones en el grupo\n",
    "    if len(v['mean_product_prices']) < 2:\n",
    "        print(f\"Intervalo de Confianza para el precio promedio de productos según su país de origen: {k}\")\n",
    "        print(\"No se puede calcular el intervalo de confianza debido a la cantidad insuficiente de observaciones.\")\n",
    "        print('---'*30)\n",
    "        continue\n",
    "    \n",
    "    # Calcular la media y el error estándar de la muestra\n",
    "    media = v['mean_product_prices'].mean()\n",
    "    error = stats.sem(v[\"mean_product_prices\"])\n",
    "\n",
    "    # Calcular los grados de libertad de la muestra\n",
    "    grados_libertad = len(v[\"mean_product_prices\"]) - 1\n",
    "\n",
    "    # Calcular el valor crítico (utilizando la distribución t de Student)\n",
    "    valor_critico = stats.t.ppf((1 + nivel_confianza) / 2, df=grados_libertad)\n",
    "\n",
    "    # Calcular el intervalo de confianza\n",
    "    limite_inferior = media - valor_critico * error\n",
    "    limite_superior = media + valor_critico * error\n",
    "\n",
    "    print(f\"Intervalo de Confianza para el precio promedio de productos según su país de origen: {k}\")\n",
    "    print(f\"Media Muestral: {np.round(media, 2)}\")\n",
    "    print(f\"Error Estándar: {np.round(error, 2)}\")\n",
    "    print(f\"Nivel de Confianza: {nivel_confianza}\")\n",
    "    print(f\"Valor Crítico: {np.round(valor_critico, 2)}\")\n",
    "    print(f\"Intervalo de Confianza: ({np.round(limite_inferior, 2)}, {np.round(limite_superior, 2)})\")\n",
    "    print('---'*30)"
   ]
  },
  {
   "cell_type": "markdown",
   "metadata": {},
   "source": [
    "   - Eres un gerente de ventas en una plataforma de comercio electrónico y quieres determinar el intervalo de confianza al 95% para la valoración promedio de los vendedores según si ofrecen envío express o no.\n"
   ]
  },
  {
   "cell_type": "code",
   "execution_count": null,
   "metadata": {},
   "outputs": [],
   "source": [
    "# Valoración promedio de los vendedores, no sé qué columna es esa??"
   ]
  },
  {
   "cell_type": "markdown",
   "metadata": {},
   "source": [
    "   - Trabajas en el departamento de precios de una tienda en línea y necesitas calcular el intervalo de confianza al 90% para el descuento promedio de productos según la reputación del vendedor (alta, media o baja)."
   ]
  },
  {
   "cell_type": "code",
   "execution_count": 57,
   "metadata": {},
   "outputs": [
    {
     "name": "stdout",
     "output_type": "stream",
     "text": [
      "Intervalo de Confianza para ara el descuento promedio de productos según la reputación del vendedor: Buena\n",
      "Media Muestral: 26.43\n",
      "Error Estándar: 1.34\n",
      "Nivel de Confianza: 0.9\n",
      "Valor Crítico: 1.65\n",
      "Intervalo de Confianza: (24.22, 28.64)\n",
      "------------------------------------------------------------------------------------------\n",
      "Intervalo de Confianza para ara el descuento promedio de productos según la reputación del vendedor: Regular\n",
      "Media Muestral: 25.53\n",
      "Error Estándar: 1.61\n",
      "Nivel de Confianza: 0.9\n",
      "Valor Crítico: 1.65\n",
      "Intervalo de Confianza: (22.87, 28.18)\n",
      "------------------------------------------------------------------------------------------\n"
     ]
    }
   ],
   "source": [
    "# Crear un diccionario para almacenar los DataFrames de cada país\n",
    "df_dict = {}\n",
    "\n",
    "# Iterar sobre los países únicos en la columna 'origin_country'\n",
    "for rep in df.seller_reputation.unique():\n",
    "    # Crear un DataFrame para cada país\n",
    "    df_dict[rep] = df[df['seller_reputation'] == rep]\n",
    "\n",
    "# Definir el nivel de confianza (90% en este caso)\n",
    "nivel_confianza = 0.90\n",
    "\n",
    "# Calcular el intervalo de confianza para cada grupo\n",
    "for k, v in df_dict.items():\n",
    "    # Verificar la cantidad de observaciones en el grupo\n",
    "    if len(v['discount_percentage']) < 2:\n",
    "        print(f\"Intervalo de Confianza para el descuento promedio de productos según la reputación del vendedor: {k}\")\n",
    "        print(\"No se puede calcular el intervalo de confianza debido a la cantidad insuficiente de observaciones.\")\n",
    "        print('---'*30)\n",
    "        continue\n",
    "    \n",
    "    # Calcular la media y el error estándar de la muestra\n",
    "    media = v['discount_percentage'].mean()\n",
    "    error = stats.sem(v[\"discount_percentage\"])\n",
    "\n",
    "    # Calcular los grados de libertad de la muestra\n",
    "    grados_libertad = len(v[\"discount_percentage\"]) - 1\n",
    "\n",
    "    # Calcular el valor crítico (utilizando la distribución t de Student)\n",
    "    valor_critico = stats.t.ppf((1 + nivel_confianza) / 2, df=grados_libertad)\n",
    "\n",
    "    # Calcular el intervalo de confianza\n",
    "    limite_inferior = media - valor_critico * error\n",
    "    limite_superior = media + valor_critico * error\n",
    "\n",
    "    print(f\"Intervalo de Confianza para ara el descuento promedio de productos según la reputación del vendedor: {k}\")\n",
    "    print(f\"Media Muestral: {np.round(media, 2)}\")\n",
    "    print(f\"Error Estándar: {np.round(error, 2)}\")\n",
    "    print(f\"Nivel de Confianza: {nivel_confianza}\")\n",
    "    print(f\"Valor Crítico: {np.round(valor_critico, 2)}\")\n",
    "    print(f\"Intervalo de Confianza: ({np.round(limite_inferior, 2)}, {np.round(limite_superior, 2)})\")\n",
    "    print('---'*30)"
   ]
  },
  {
   "cell_type": "markdown",
   "metadata": {},
   "source": [
    "3. Ejercicios prueba de hipótesis:\n",
    "\n",
    "   - Prueba de Hipótesis sobre el precio promedio de productos con o sin empleados calificados\n",
    "\n",
    "      - *Contexto:* Trabajas en una plataforma de comercio en línea que ofrece productos de moda. Quieres saber si hay una diferencia significativa en el precio promedio de productos entre aquellos vendidos por empleados calificados (rating_employee > 4) y aquellos vendidos por empleados menos calificados (rating_employee <= 4). Esto te ayudará a tomar decisiones sobre la estrategia de precios y capacitación de empleados.\n",
    "\n",
    "      - *Hipótesis Nula (H0):* No hay diferencia significativa en el precio promedio de productos entre empleados con buena y mala reputación. \n",
    "      \n",
    "      - *Hipótesis Alternativa (H1):* Existe una diferencia significativa en el precio promedio de productos entre empleados calificados y menos calificados.\n",
    "\n",
    "   - Prueba de Hipótesis sobre el número de unidades vendidas en envío express y envío estándar\n",
    "\n",
    "      - *Contexto:* Eres un gerente de operaciones de envío en una plataforma de comercio electrónico. Quieres determinar si el número promedio de unidades vendidas difiere cuando los productos se envían con envío express (shipping_option_name = \"Express Shipping\") en comparación con envío estándar (shipping_option_name = \"Livraison standard\"). Esto te ayudará a tomar decisiones sobre la logística de envío.\n",
    "\n",
    "      - *Hipótesis Nula (H0):* No hay diferencia significativa en el número promedio de unidades vendidas entre envío express y envío estándar.\n",
    "\n",
    "      - *Hipótesis Alternativa (H1):* Existe una diferencia significativa en el número promedio de unidades vendidas entre envío express y envío estándar.\n"
   ]
  },
  {
   "cell_type": "code",
   "execution_count": null,
   "metadata": {},
   "outputs": [],
   "source": []
  }
 ],
 "metadata": {
  "kernelspec": {
   "display_name": "Python 3 (ipykernel)",
   "language": "python",
   "name": "python3"
  },
  "language_info": {
   "codemirror_mode": {
    "name": "ipython",
    "version": 3
   },
   "file_extension": ".py",
   "mimetype": "text/x-python",
   "name": "python",
   "nbconvert_exporter": "python",
   "pygments_lexer": "ipython3",
   "version": "3.11.9"
  },
  "toc": {
   "base_numbering": 1,
   "nav_menu": {},
   "number_sections": true,
   "sideBar": true,
   "skip_h1_title": false,
   "title_cell": "Table of Contents",
   "title_sidebar": "Contents",
   "toc_cell": true,
   "toc_position": {
    "height": "calc(100% - 180px)",
    "left": "10px",
    "top": "150px",
    "width": "384px"
   },
   "toc_section_display": true,
   "toc_window_display": true
  }
 },
 "nbformat": 4,
 "nbformat_minor": 2
}

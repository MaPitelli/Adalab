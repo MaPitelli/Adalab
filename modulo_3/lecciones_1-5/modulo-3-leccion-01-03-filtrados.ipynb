{
 "cells": [
  {
   "cell_type": "code",
   "execution_count": 13,
   "metadata": {},
   "outputs": [],
   "source": [
    "# antes de empezar importamos la librería de NumPy para poder trabajar con todos sus métodos. \n",
    "import numpy as np"
   ]
  },
  {
   "cell_type": "code",
   "execution_count": 14,
   "metadata": {},
   "outputs": [
    {
     "name": "stdout",
     "output_type": "stream",
     "text": [
      "El array bidimensional que tenemos es: \n",
      " [[0.92630558 0.24123677 0.87677114 0.95310067]\n",
      " [0.09864465 0.80139394 0.04745169 0.64504766]\n",
      " [0.12264643 0.96065006 0.68238698 0.38175867]\n",
      " [0.55733128 0.00504938 0.75350458 0.17658115]\n",
      " [0.6150338  0.6922396  0.27903143 0.96861303]]\n",
      "\n",
      "El primer elemento de nuestro array es: \n",
      " [0.92630558 0.24123677 0.87677114 0.95310067]\n"
     ]
    }
   ],
   "source": [
    "# definimos un array bidimensional\n",
    "# en este caso estamos generando un array de 5 filas y 4 columnas con números aleatorios entre el 0 y el 1\n",
    "\n",
    "bidimensional = np.random.rand(5, 4)\n",
    "print(f\"El array bidimensional que tenemos es: \\n {bidimensional}\")\n",
    "\n",
    "# desgranemos la indexación en este tipo de arrays\n",
    "# si accedemos al elemento 0 del array obtenemos a la fila que queramos de nuestro array\n",
    "\n",
    "print(f\"\\nEl primer elemento de nuestro array es: \\n {bidimensional[0]}\")"
   ]
  },
  {
   "cell_type": "code",
   "execution_count": 15,
   "metadata": {},
   "outputs": [
    {
     "name": "stdout",
     "output_type": "stream",
     "text": [
      "El array bidimensional con el que vamos a trabajar es: \n",
      " [[0.92630558 0.24123677 0.87677114 0.95310067]\n",
      " [0.09864465 0.80139394 0.04745169 0.64504766]\n",
      " [0.12264643 0.96065006 0.68238698 0.38175867]\n",
      " [0.55733128 0.00504938 0.75350458 0.17658115]\n",
      " [0.6150338  0.6922396  0.27903143 0.96861303]]\n",
      "-----------------------------\n",
      "Primer paso: creación de una máscara booleana \n",
      " [[ True False  True  True]\n",
      " [False  True False  True]\n",
      " [False  True  True False]\n",
      " [ True False  True False]\n",
      " [ True  True False  True]]\n",
      "-----------------------------\n",
      "Segundo paso: aplicar la máscara booleana \n",
      " [0.92630558 0.87677114 0.95310067 0.80139394 0.64504766 0.96065006\n",
      " 0.68238698 0.55733128 0.75350458 0.6150338  0.6922396  0.96861303]\n"
     ]
    }
   ],
   "source": [
    "# en este caso reutilizaremos el array bidimensional que creamos en el apartado anterior\n",
    "print(f\"El array bidimensional con el que vamos a trabajar es: \\n {bidimensional}\")\n",
    "\n",
    "# creamos la máscara, en este caso nuestra condición será: ¿qué elementos son mayores que 0.5?\n",
    "print(\"-----------------------------\")\n",
    "print(f\"Primer paso: creación de una máscara booleana \\n {bidimensional > 0.5}\")\n",
    "\n",
    "# aplicamos la máscara creada en el paso anterior, en este caso, NumPy nos devolverá solo los elementos \n",
    "# que coinciden con la condicion\n",
    "print(\"-----------------------------\")\n",
    "print(f\"Segundo paso: aplicar la máscara booleana \\n {bidimensional[bidimensional > 0.5]}\")"
   ]
  },
  {
   "cell_type": "markdown",
   "metadata": {},
   "source": [
    "Imaginemos ahora que queremos seleccionar ciertos valores basados en dos condiciones. En este caso:\n",
    "\n",
    "- Usaremos el operador `&` para indicar que queremos que se cumplan las dos condiciones. Lo que conocíamos hasta ahora como `and`.\n",
    "\n",
    "\n",
    "- Usaremos el operador `|` para indicar que se cumpla una condición y otra. Lo que conocíamos hasta ahora como `or`. "
   ]
  },
  {
   "cell_type": "code",
   "execution_count": 16,
   "metadata": {},
   "outputs": [
    {
     "name": "stdout",
     "output_type": "stream",
     "text": [
      "El array bidimensional con el que vamos a trabajar es: \n",
      " [[0.92630558 0.24123677 0.87677114 0.95310067]\n",
      " [0.09864465 0.80139394 0.04745169 0.64504766]\n",
      " [0.12264643 0.96065006 0.68238698 0.38175867]\n",
      " [0.55733128 0.00504938 0.75350458 0.17658115]\n",
      " [0.6150338  0.6922396  0.27903143 0.96861303]]\n",
      "-----------------------------\n",
      "El resultado del filtrado < 0.2 o > 0.7 es: \n",
      " [0.92630558 0.87677114 0.95310067 0.09864465 0.80139394 0.04745169\n",
      " 0.12264643 0.96065006 0.00504938 0.75350458 0.17658115 0.96861303]\n"
     ]
    }
   ],
   "source": [
    "# en este caso reutilizaremos el array bidimensional que creamos en el apartado anterior\n",
    "print(f\"El array bidimensional con el que vamos a trabajar es: \\n {bidimensional}\")\n",
    "\n",
    "\n",
    "# queremos seleccionar aquellos números que sean MENORES que 0.2 \n",
    "# o MAYORES que 0.7. FIJATE QUE CADA CONDICIÓN VA ENTRE PARÉNTESIS SEPARADA POR EL OPERADOR \"|\"\n",
    "print(\"-----------------------------\")\n",
    "resultado_filtradoI = bidimensional[(bidimensional < 0.2) |  (bidimensional >0.7)]\n",
    "print(f\"El resultado del filtrado < 0.2 o > 0.7 es: \\n {resultado_filtradoI}\")"
   ]
  },
  {
   "cell_type": "markdown",
   "metadata": {},
   "source": [
    "## Filtrado con `np.where()`\n",
    "\n",
    "Permite realizar una evaluación condicional sobre un *array*. La función `np.where()` devuelve un nuevo array con los elementos seleccionados según la condición especificada.\n",
    "\n",
    "Su sintaxis básica es:\n",
    "```python\n",
    "np.where(condición, valor_si_verdadero, valor_si_falso)\n",
    "```\n",
    "\n",
    "Donde:\n",
    "\n",
    "- **condición**: Es una expresión booleana que define la condición a evaluar. \n",
    "\n",
    "- **valor_si_verdadero** (opcional):  Es el valor o array que se selecciona si la condición es verdadera.\n",
    "\n",
    "- **valor_si_falso** (opcional): Es el valor o array que se selecciona si la condición es falsa."
   ]
  },
  {
   "cell_type": "code",
   "execution_count": 17,
   "metadata": {},
   "outputs": [
    {
     "name": "stdout",
     "output_type": "stream",
     "text": [
      "El array con el que vamos a trabajar en este apartado de la lección es: \n",
      " [[0.92630558 0.24123677 0.87677114 0.95310067]\n",
      " [0.09864465 0.80139394 0.04745169 0.64504766]\n",
      " [0.12264643 0.96065006 0.68238698 0.38175867]\n",
      " [0.55733128 0.00504938 0.75350458 0.17658115]\n",
      " [0.6150338  0.6922396  0.27903143 0.96861303]]\n",
      "--------------------------\n",
      "El resultado del np.where() es: \n",
      " (array([0, 0, 0, 1, 2, 4]), array([0, 2, 3, 1, 1, 3]))\n"
     ]
    }
   ],
   "source": [
    "print(f\"El array con el que vamos a trabajar en este apartado de la lección es: \\n {bidimensional}\")\n",
    "\n",
    "# usamos el método 'np.where()' para evaluar una condición, en este caso para encontrar los valores mayores que 0.8\n",
    "resultado_where = np.where(bidimensional > 0.8)\n",
    "print(\"--------------------------\")\n",
    "print(\"El resultado del np.where() es: \\n\", resultado_where)\n",
    "\n"
   ]
  },
  {
   "cell_type": "markdown",
   "metadata": {},
   "source": [
    "Seguramente hayan notado que la salida del resulado, pasemos a explicarlo un poco!\n",
    "\n",
    "tengamos en cuenta nuestro siguiente array y el resultado de nuestro where:\n",
    "\n",
    "```python\n",
    "[[0.41584614 0.82312683 0.19433902 0.81775218]\n",
    " [0.76281141 0.86328659 0.94662046 0.87703294]\n",
    " [0.02764513 0.03467823 0.14428307 0.98926624]\n",
    " [0.51561502 0.17237538 0.59164942 0.77651838]\n",
    " [0.76409676 0.31078056 0.00390948 0.17254908]]\n",
    "\n",
    " El resultado del np.where() es: \n",
    " (array([0, 0, 1, 1, 1, 2], dtype=int64), array([1, 3, 1, 2, 3, 3], dtype=int64))\n",
    "```\n",
    "\n",
    "nuestro where ha encontrado las posiciones de los elementos en array que son mayores que 0.8. El resultado es una tupla de dos arrays:\n",
    "\n",
    "*   El primer array contiene los índices de las filas.\n",
    "*   El segundo array contiene los índices de las columnas.\n",
    "\n",
    "\n",
    "El detalle es el siguiente:\n",
    "\n",
    "*   array([0, 0, 1, 1, 1, 2], dtype=int64) representa las filas.\n",
    "*   array([1, 3, 1, 2, 3], dtype=int64) representa las columnas.\n",
    "\n",
    "Al combinar cada fila y columna con su posicion, nos da una ubicacion de los elementos que cumplen mi condicion. por ejemplo el primer valor del array de filas es 0 y el primer valor de array de columnas es 1, por lo tanto el elemento que cumple la condicion esta en [0,1]\n",
    "\n",
    "Vamos a verificar los valores en esas posiciones para confirmar que son mayores que 0.8:\n",
    "\n",
    "*   array[0, 1] -> 0.82312683\n",
    "*   array[0, 3] -> 0.81775218\n",
    "*   array[1, 1] -> 0.86328659\n",
    "*   array[1, 2] -> 0.94662046\n",
    "*   array[1, 3] -> 0.87703294\n",
    "*   array[2, 3] -> 0.98926624\n",
    "\n",
    "\n",
    "Efectivamente, todos estos valores son mayores que 0.8!"
   ]
  },
  {
   "cell_type": "markdown",
   "metadata": {},
   "source": [
    "Ok, dijimos anteriormente que nosotros utilizando where, podriamos asignar valores segun se cumpla o no una condicion, para este caso asignaremos xxx cuando se cumpla la condicion (es decir, la condicion sea verdadera) y asignaremos ooo cuando no lo sea."
   ]
  },
  {
   "cell_type": "code",
   "execution_count": 18,
   "metadata": {},
   "outputs": [
    {
     "name": "stdout",
     "output_type": "stream",
     "text": [
      "El array con el que vamos a trabajar en este apartado de la lección es: \n",
      " [[0.92630558 0.24123677 0.87677114 0.95310067]\n",
      " [0.09864465 0.80139394 0.04745169 0.64504766]\n",
      " [0.12264643 0.96065006 0.68238698 0.38175867]\n",
      " [0.55733128 0.00504938 0.75350458 0.17658115]\n",
      " [0.6150338  0.6922396  0.27903143 0.96861303]]\n",
      "--------------------------\n",
      "El resultado del np.where() es: \n",
      " [['xxx' 'ooo' 'xxx' 'xxx']\n",
      " ['ooo' 'xxx' 'ooo' 'ooo']\n",
      " ['ooo' 'xxx' 'ooo' 'ooo']\n",
      " ['ooo' 'ooo' 'ooo' 'ooo']\n",
      " ['ooo' 'ooo' 'ooo' 'xxx']]\n"
     ]
    }
   ],
   "source": [
    "print(f\"El array con el que vamos a trabajar en este apartado de la lección es: \\n {bidimensional}\")\n",
    "\n",
    "# usamos el método 'np.where()' para evaluar una condición, en este caso para encontrar los valores mayores que 0.8\n",
    "resultado_where = np.where(bidimensional > 0.8,\"xxx\",\"ooo\")\n",
    "print(\"--------------------------\")\n",
    "print(\"El resultado del np.where() es: \\n\", resultado_where)"
   ]
  },
  {
   "cell_type": "markdown",
   "metadata": {},
   "source": [
    "NOTA IMPORTANTE! En la demostracion anterior asignamos un tipo de dato str a nuestros valores evaluados de la matriz, esto podria ser un problema si necesitamos que los valores siempre sean numericos."
   ]
  },
  {
   "cell_type": "markdown",
   "metadata": {},
   "source": [
    "# Operaciones aritméticas con *arrays* \n",
    "\n",
    "*NumPy* proporciona una amplia gama de funciones y operaciones para realizar cálculos aritméticos en *arrays* de manera eficiente.\n",
    "\n",
    "Algunas de las operaciones aritméticas comunes que puedes realizar con arrays de NumPy:\n",
    "\n",
    "1. Suma: Usaremos el método `np.add()`\n",
    "  \n",
    "2. Resta: En este caso`np.subtract()`\n",
    "\n",
    "3. Multiplicación: Usaremos `np.multiply()`\n",
    "\n",
    "4. División: Método `np.divide()`\n",
    "\n",
    "5. Potencia: Usaremos el método `np.power()`\n",
    "\n",
    "6. Operaciones con escalares\n",
    "\n",
    "Los operadores `+`, `-`, `*` y `/` también funcionan para realizar las operaciones correspondientes directamente entre *arrays* de *NumPy*. Sin embargo, aunque los podemos usar, los métodos aprendidos específicos de NumPy son los más adecuados."
   ]
  },
  {
   "cell_type": "code",
   "execution_count": 19,
   "metadata": {},
   "outputs": [
    {
     "name": "stdout",
     "output_type": "stream",
     "text": [
      "El array 1 es:\n",
      "  [[[3 5 2]\n",
      "  [3 1 6]]\n",
      "\n",
      " [[9 6 5]\n",
      "  [4 6 1]]] \n",
      "\n",
      "El array 2 es:\n",
      "  [[[2 9 1]\n",
      "  [3 9 3]]\n",
      "\n",
      " [[7 3 3]\n",
      "  [5 9 4]]]\n",
      "--------------------------------\n",
      "El resultado de la suma de los dos arrays es:\n",
      " [[[ 5 14  3]\n",
      "  [ 6 10  9]]\n",
      "\n",
      " [[16  9  8]\n",
      "  [ 9 15  5]]]\n"
     ]
    }
   ],
   "source": [
    "# lo primero que vamos a hacer es definir dos arrays con los que trabajaremos. \n",
    "# en este caso vamos a generar dos arrays tridimensionales con números enteros entre el 1 y 10\n",
    "# el array consta de 2 matrices, 2 filas y tres colummas \n",
    "array1 = np.random.randint(1,10, (2, 2, 3))\n",
    "array2 = np.random.randint(1,10, (2, 2, 3))\n",
    "\n",
    "print(\"El array 1 es:\\n \", array1, '\\n')\n",
    "print(\"El array 2 es:\\n \", array2)\n",
    "\n",
    "# sumar dos arrays\n",
    "print(\"--------------------------------\")\n",
    "suma = np.add(array1, array2)  # Suma los elementos correspondientes de los dos arrays\n",
    "print(\"El resultado de la suma de los dos arrays es:\\n\", suma)\n"
   ]
  },
  {
   "cell_type": "markdown",
   "metadata": {},
   "source": [
    "Como pueden ver, las operaciones se realizan por posicion, es decir, en este caso se suma la posicion [0][0][0] del primer array tridimensional con la posicion similar del segundo array tridimensional."
   ]
  },
  {
   "cell_type": "code",
   "execution_count": 20,
   "metadata": {},
   "outputs": [
    {
     "name": "stdout",
     "output_type": "stream",
     "text": [
      "El array 1 es:\n",
      "  [[[3 5 2]\n",
      "  [3 1 6]]\n",
      "\n",
      " [[9 6 5]\n",
      "  [4 6 1]]] \n",
      "\n",
      "El array 2 es:\n",
      "  [[[2 9 1]\n",
      "  [3 9 3]]\n",
      "\n",
      " [[7 3 3]\n",
      "  [5 9 4]]]\n",
      "--------------------------------\n",
      "El resultado de la resta de los dos arrays es:\n",
      " [[[ 1 -4  1]\n",
      "  [ 0 -8  3]]\n",
      "\n",
      " [[ 2  3  2]\n",
      "  [-1 -3 -3]]]\n"
     ]
    }
   ],
   "source": [
    "# misma logica en el caso de la resta:\n",
    "print(\"El array 1 es:\\n \", array1, '\\n')\n",
    "print(\"El array 2 es:\\n \", array2)\n",
    "\n",
    "# restar dos arrays\n",
    "print(\"--------------------------------\")\n",
    "resta = np.subtract(array1, array2)  # Resta los elementos correspondientes de los dos arrays\n",
    "print(\"El resultado de la resta de los dos arrays es:\\n\", resta)"
   ]
  },
  {
   "cell_type": "code",
   "execution_count": 21,
   "metadata": {},
   "outputs": [
    {
     "name": "stdout",
     "output_type": "stream",
     "text": [
      "El array 1 es:\n",
      "  [[[3 5 2]\n",
      "  [3 1 6]]\n",
      "\n",
      " [[9 6 5]\n",
      "  [4 6 1]]] \n",
      "\n",
      "El array 2 es:\n",
      "  [[[2 9 1]\n",
      "  [3 9 3]]\n",
      "\n",
      " [[7 3 3]\n",
      "  [5 9 4]]]\n",
      "--------------------------------\n",
      "El resultado de la multiplicación de los dos arrays es:\n",
      " [[[ 6 45  2]\n",
      "  [ 9  9 18]]\n",
      "\n",
      " [[63 18 15]\n",
      "  [20 54  4]]]\n"
     ]
    }
   ],
   "source": [
    "# la multiplicacion mantiene la misma logica de operar por cada posicion entre los diferentes arrays.\n",
    "print(\"El array 1 es:\\n \", array1, '\\n')\n",
    "print(\"El array 2 es:\\n \", array2)\n",
    "\n",
    "# multiplicar dos arrays\n",
    "print(\"--------------------------------\")\n",
    "multipicacion = np.multiply(array1, array2)  # Multiplicacion los elementos correspondientes de los dos arrays\n",
    "print(\"El resultado de la multiplicación de los dos arrays es:\\n\", multipicacion)"
   ]
  },
  {
   "cell_type": "code",
   "execution_count": 22,
   "metadata": {},
   "outputs": [
    {
     "name": "stdout",
     "output_type": "stream",
     "text": [
      "El array 1 es:\n",
      "  [[[3 5 2]\n",
      "  [3 1 6]]\n",
      "\n",
      " [[9 6 5]\n",
      "  [4 6 1]]] \n",
      "\n",
      "El array 2 es:\n",
      "  [[[2 9 1]\n",
      "  [3 9 3]]\n",
      "\n",
      " [[7 3 3]\n",
      "  [5 9 4]]]\n",
      "--------------------------------\n",
      "El resultado de la división de los dos arrays es:\n",
      " [[[1.5        0.55555556 2.        ]\n",
      "  [1.         0.11111111 2.        ]]\n",
      "\n",
      " [[1.28571429 2.         1.66666667]\n",
      "  [0.8        0.66666667 0.25      ]]]\n"
     ]
    }
   ],
   "source": [
    "# Para la division, seguimos con la logica de operar por cada posicion entre los arrays.\n",
    "print(\"El array 1 es:\\n \", array1, '\\n')\n",
    "print(\"El array 2 es:\\n \", array2)\n",
    "\n",
    "# dividir dos arrays\n",
    "print(\"--------------------------------\")\n",
    "division = np.divide(array1, array2)  # Division los elementos correspondientes de los dos arrays\n",
    "print(\"El resultado de la división de los dos arrays es:\\n\", division)"
   ]
  },
  {
   "cell_type": "code",
   "execution_count": 23,
   "metadata": {},
   "outputs": [
    {
     "name": "stdout",
     "output_type": "stream",
     "text": [
      "El array 1 es:\n",
      "  [[[3 5 2]\n",
      "  [3 1 6]]\n",
      "\n",
      " [[9 6 5]\n",
      "  [4 6 1]]] \n",
      "\n",
      "El array 2 es:\n",
      "  [[[2 9 1]\n",
      "  [3 9 3]]\n",
      "\n",
      " [[7 3 3]\n",
      "  [5 9 4]]]\n",
      "--------------------------------\n",
      "El resultado de la potencia de los dos arrays es:\n",
      " [[[       9  1953125        2]\n",
      "  [      27        1      216]]\n",
      "\n",
      " [[ 4782969      216      125]\n",
      "  [    1024 10077696        1]]]\n"
     ]
    }
   ],
   "source": [
    "#en este caso la potenciacion sigue las mismas reglas anteriores.\n",
    "print(\"El array 1 es:\\n \", array1, '\\n')\n",
    "print(\"El array 2 es:\\n \", array2)\n",
    "\n",
    "# elevar dos arrays\n",
    "print(\"--------------------------------\")\n",
    "elevado = np.power(array1, array2)  # Elevar los elementos correspondientes de los dos arrays\n",
    "print(\"El resultado de la potencia de los dos arrays es:\\n\", elevado)"
   ]
  },
  {
   "cell_type": "code",
   "execution_count": 24,
   "metadata": {},
   "outputs": [
    {
     "name": "stdout",
     "output_type": "stream",
     "text": [
      "El array 1 es:\n",
      "  [[[3 5 2]\n",
      "  [3 1 6]]\n",
      "\n",
      " [[9 6 5]\n",
      "  [4 6 1]]] \n",
      "\n",
      "--------------------------------\n",
      "El resultado de la multiplicación del array con el escalar es:\n",
      " [[[ 6 10  4]\n",
      "  [ 6  2 12]]\n",
      "\n",
      " [[18 12 10]\n",
      "  [ 8 12  2]]]\n"
     ]
    }
   ],
   "source": [
    "# operaciones con escalares\n",
    "# definimos un escalar\n",
    "escalar = 2\n",
    "# y seguimos con nuestro array de ejemplo\n",
    "print(\"El array 1 es:\\n \", array1, '\\n')\n",
    "\n",
    "print(\"--------------------------------\")\n",
    "\n",
    "multiplicacion_escalar = array1 * escalar\n",
    "print(\"El resultado de la multiplicación del array con el escalar es:\\n\", multiplicacion_escalar)\n",
    "\n",
    "# Aca lo que sucede es que ese escalar se multiplicara por cada posicion de mi array definido."
   ]
  },
  {
   "cell_type": "markdown",
   "metadata": {},
   "source": [
    "# Ejercicios\n",
    "\n",
    "\n",
    "1. Crea un *array* bidimensional con 20 elementos aleatrorios entre 0 y 50 con el método que prefieras y: \n",
    "\n",
    "    - Crea una mascara o filtro donde los valores mayores a 30 y menores a 10 se reemplace por \"objetivo\" y el resto por \"no es mi objetivo\".\n",
    "\n",
    "\n",
    "    - Los valores de mi array bidimensional multiplicalos por el escalar 10.\n",
    "\n",
    "\n",
    "2. Crea un nuevo *array* de dos dimensiones con la misma forma que el anterior y con el método que prefieras y realiz lo siguiente:\n",
    "\n",
    "    - Suma el primer array con el segundo.\n",
    "\n",
    "\n",
    "    - Aplicar la potencia para el primer array elevado al segundo.\n"
   ]
  },
  {
   "cell_type": "code",
   "execution_count": 38,
   "metadata": {},
   "outputs": [
    {
     "data": {
      "text/plain": [
       "array([[13, 10, 27, 19, 12],\n",
       "       [45, 37,  8, 14, 38],\n",
       "       [40, 37,  3,  2,  8],\n",
       "       [ 2, 28, 26,  0, 42]])"
      ]
     },
     "execution_count": 38,
     "metadata": {},
     "output_type": "execute_result"
    }
   ],
   "source": [
    "# Ejercicio 1\n",
    "array1 = np.random.randint(0, 50, (4, 5))\n",
    "array1"
   ]
  },
  {
   "cell_type": "code",
   "execution_count": 39,
   "metadata": {},
   "outputs": [
    {
     "data": {
      "text/plain": [
       "array([['no es mi objetivo', 'no es mi objetivo', 'no es mi objetivo',\n",
       "        'no es mi objetivo', 'no es mi objetivo'],\n",
       "       ['objetivo', 'objetivo', 'objetivo', 'no es mi objetivo',\n",
       "        'objetivo'],\n",
       "       ['objetivo', 'objetivo', 'objetivo', 'objetivo', 'objetivo'],\n",
       "       ['objetivo', 'no es mi objetivo', 'no es mi objetivo', 'objetivo',\n",
       "        'objetivo']], dtype='<U17')"
      ]
     },
     "execution_count": 39,
     "metadata": {},
     "output_type": "execute_result"
    }
   ],
   "source": [
    "resultado = np.where((array1 > 30)|(array1 < 10), \"objetivo\", \"no es mi objetivo\")\n",
    "resultado"
   ]
  },
  {
   "cell_type": "code",
   "execution_count": 40,
   "metadata": {},
   "outputs": [
    {
     "data": {
      "text/plain": [
       "array([[130, 100, 270, 190, 120],\n",
       "       [450, 370,  80, 140, 380],\n",
       "       [400, 370,  30,  20,  80],\n",
       "       [ 20, 280, 260,   0, 420]])"
      ]
     },
     "execution_count": 40,
     "metadata": {},
     "output_type": "execute_result"
    }
   ],
   "source": [
    "array_mult = array1 * 10\n",
    "array_mult"
   ]
  },
  {
   "cell_type": "code",
   "execution_count": 44,
   "metadata": {},
   "outputs": [
    {
     "data": {
      "text/plain": [
       "array([[4, 5, 9, 8, 5],\n",
       "       [6, 4, 2, 8, 3],\n",
       "       [8, 1, 5, 5, 2],\n",
       "       [3, 6, 6, 1, 4]])"
      ]
     },
     "execution_count": 44,
     "metadata": {},
     "output_type": "execute_result"
    }
   ],
   "source": [
    "# Ejercicio 2\n",
    "array2 = np.random.randint(0, 10, (4, 5))\n",
    "array2"
   ]
  },
  {
   "cell_type": "code",
   "execution_count": 45,
   "metadata": {},
   "outputs": [
    {
     "data": {
      "text/plain": [
       "array([[17, 15, 36, 27, 17],\n",
       "       [51, 41, 10, 22, 41],\n",
       "       [48, 38,  8,  7, 10],\n",
       "       [ 5, 34, 32,  1, 46]])"
      ]
     },
     "execution_count": 45,
     "metadata": {},
     "output_type": "execute_result"
    }
   ],
   "source": [
    "suma = np.add(array1, array2)\n",
    "suma"
   ]
  },
  {
   "cell_type": "code",
   "execution_count": 46,
   "metadata": {},
   "outputs": [
    {
     "data": {
      "text/plain": [
       "array([[        28561,        100000, 7625597484987,   16983563041,\n",
       "               248832],\n",
       "       [   8303765625,       1874161,            64,    1475789056,\n",
       "                54872],\n",
       "       [6553600000000,            37,           243,            32,\n",
       "                   64],\n",
       "       [            8,     481890304,     308915776,             0,\n",
       "              3111696]])"
      ]
     },
     "execution_count": 46,
     "metadata": {},
     "output_type": "execute_result"
    }
   ],
   "source": [
    "potencia = np.power(array1, array2)\n",
    "potencia"
   ]
  }
 ],
 "metadata": {
  "kernelspec": {
   "display_name": "Python 3 (ipykernel)",
   "language": "python",
   "name": "python3"
  },
  "language_info": {
   "codemirror_mode": {
    "name": "ipython",
    "version": 3
   },
   "file_extension": ".py",
   "mimetype": "text/x-python",
   "name": "python",
   "nbconvert_exporter": "python",
   "pygments_lexer": "ipython3",
   "version": "3.11.9"
  },
  "toc": {
   "base_numbering": 1,
   "nav_menu": {},
   "number_sections": true,
   "sideBar": true,
   "skip_h1_title": false,
   "title_cell": "Table of Contents",
   "title_sidebar": "Contents",
   "toc_cell": true,
   "toc_position": {
    "height": "calc(100% - 180px)",
    "left": "10px",
    "top": "150px",
    "width": "426.667px"
   },
   "toc_section_display": true,
   "toc_window_display": true
  }
 },
 "nbformat": 4,
 "nbformat_minor": 2
}

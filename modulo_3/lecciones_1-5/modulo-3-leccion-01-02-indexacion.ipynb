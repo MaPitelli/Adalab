{
 "cells": [
  {
   "cell_type": "markdown",
   "metadata": {},
   "source": [
    "## Indexación en *arrays* unidimensionales\n",
    "\n",
    "Como ya hemos dicho, la indexación se utiliza para acceder y manipular elementos individuales o grupos de elementos en un array. En NumPy, la indexación se realiza utilizando corchetes `[]`, al igual que hacíamos en listas. \n",
    "\n",
    "```python\n",
    "array[i]\n",
    "# donde i es el índice del elemento al que queremos acceder\n",
    "```\n"
   ]
  },
  {
   "cell_type": "code",
   "execution_count": 1,
   "metadata": {},
   "outputs": [],
   "source": [
    "# antes de empezar importamos la librería de NumPy para poder trabajar con todos sus métodos. \n",
    "import numpy as np"
   ]
  },
  {
   "cell_type": "code",
   "execution_count": 2,
   "metadata": {},
   "outputs": [
    {
     "name": "stdout",
     "output_type": "stream",
     "text": [
      "El array unidimensional que tenemos es: \n",
      " [0.68816282 0.75699888 0.73951619 0.72062798 0.36631024 0.69022652\n",
      " 0.64569782 0.86142009 0.09274719 0.33429435 0.20616209 0.83456783\n",
      " 0.81800957 0.69571302 0.9652854 ]\n",
      "\n",
      "---------------------------\n",
      "\n",
      "El primer elemento de nuestro array es: \n",
      " 0.6881628205538739\n"
     ]
    }
   ],
   "source": [
    "# Imaginemos que tenemos el siguiente array unidimensional con 15 elementos\n",
    "## en nuestro array\n",
    "\n",
    "unidimensional = np.random.random_sample(15)\n",
    "print(f\"El array unidimensional que tenemos es: \\n {unidimensional}\")\n",
    "\n",
    "# si queremos acceder al primer elemento de nuestro array\n",
    "print(\"\\n---------------------------\\n\")\n",
    "print(f\"El primer elemento de nuestro array es: \\n {unidimensional[0]}\")"
   ]
  },
  {
   "cell_type": "markdown",
   "metadata": {},
   "source": [
    "Bien! en caso de querer obtener o acceder a los ultimos 3 elementos podriamos hacerlo de la misma forma que haciamos con las listas."
   ]
  },
  {
   "cell_type": "code",
   "execution_count": 3,
   "metadata": {},
   "outputs": [
    {
     "name": "stdout",
     "output_type": "stream",
     "text": [
      "El array unidimensional que tenemos es: \n",
      " [0.51281085 0.29922045 0.11899954 0.733775   0.54556891 0.87031772\n",
      " 0.63962754 0.63464007 0.06338086 0.95320301 0.36538146 0.60265059\n",
      " 0.15901957 0.60926158 0.0424392 ]\n",
      "\n",
      "---------------------------\n",
      "\n",
      "Los tres últimos elementos de nuestro array son: \n",
      " [0.15901957 0.60926158 0.0424392 ]\n"
     ]
    }
   ],
   "source": [
    "unidimensional = np.random.random_sample(15)\n",
    "print(f\"El array unidimensional que tenemos es: \\n {unidimensional}\")\n",
    "\n",
    "\n",
    "# si queremos acceder a los tres últimos elementos:\n",
    "print(\"\\n---------------------------\\n\")\n",
    "print(f\"Los tres últimos elementos de nuestro array son: \\n {unidimensional[-3:]}\")"
   ]
  },
  {
   "cell_type": "markdown",
   "metadata": {},
   "source": [
    "Para una seleccion acotada de elementos, nuevamente lo hacemos de manera similiar que las listas, esta vez para los elementos ubicados desde la posicion 2 (incluido) y la posicion 4 (no incluido), MUCHA ATENCION EN COMO SE SELECCIONAN LOS ELEMENTOS!!"
   ]
  },
  {
   "cell_type": "code",
   "execution_count": 4,
   "metadata": {},
   "outputs": [
    {
     "name": "stdout",
     "output_type": "stream",
     "text": [
      "El array unidimensional que tenemos es: \n",
      " [0.52682527 0.65774362 0.41188248 0.0140761  0.28540157 0.89598373\n",
      " 0.06407263 0.36490472 0.78563872 0.79241556 0.5043285  0.66755705\n",
      " 0.29026069 0.53887328 0.37207859]\n",
      "\n",
      "---------------------------\n",
      "\n",
      "El tercer y cuarto elemento de nuestro array son: \n",
      " [0.41188248 0.0140761 ]\n"
     ]
    }
   ],
   "source": [
    "unidimensional = np.random.random_sample(15)\n",
    "print(f\"El array unidimensional que tenemos es: \\n {unidimensional}\")\n",
    "\n",
    "# si queremos seleccionar el tercer y cuarto elemento\n",
    "print(\"\\n---------------------------\\n\")\n",
    "print(f\"El tercer y cuarto elemento de nuestro array son: \\n {unidimensional[2:4]}\")\n"
   ]
  },
  {
   "cell_type": "markdown",
   "metadata": {},
   "source": [
    "Continuando con la seleccion de elementos, vemos que podemos combinar ya que se nos pide seleccionar todos los elementos desde el inicio hasta la posicion 10 ( recuerden que como queremos la posicion 10, entonces indicamos como fin el 11 quedando de la manera [:11]) y que a su vez deben ser en saltos de a dos posiciones, por lo que la expresion completa sera [:11:2]"
   ]
  },
  {
   "cell_type": "code",
   "execution_count": 5,
   "metadata": {},
   "outputs": [
    {
     "name": "stdout",
     "output_type": "stream",
     "text": [
      "El array unidimensional que tenemos es: \n",
      " [0.61827437 0.61345468 0.194911   0.56746703 0.21700939 0.065374\n",
      " 0.23208011 0.59312743 0.87354006 0.94587847 0.98565597 0.95881061\n",
      " 0.15185765 0.24728464 0.60791783]\n",
      "\n",
      "---------------------------\n",
      "\n",
      "Los elementos desde el inicio hasta el 10 de dos en dos son: \n",
      " [0.61827437 0.194911   0.21700939 0.23208011 0.87354006 0.98565597]\n"
     ]
    }
   ],
   "source": [
    "unidimensional = np.random.random_sample(15)\n",
    "print(f\"El array unidimensional que tenemos es: \\n {unidimensional}\")\n",
    "\n",
    "# los elementos desde el inicio hasta el 10 en saltos de dos en dos\n",
    "print(\"\\n---------------------------\\n\")\n",
    "print(f\"Los elementos desde el inicio hasta el 10 de dos en dos son: \\n {unidimensional[:11:2]}\")\n",
    "\n"
   ]
  },
  {
   "cell_type": "markdown",
   "metadata": {},
   "source": [
    "## Indexación en *arrays* bidimensionales\n",
    "\n",
    "En el caso de este tipo de *arrays* se acceder a elementos individuales en una matriz bidimensional utilizando la sintaxis `[fila, columna]` entre corchetes.\n",
    "\n",
    "Los podemos entender como una lista de listas.\n",
    "\n",
    "```python\n",
    "array[i,j]\n",
    "array[i][j]\n",
    "\n",
    "# 🚨 Las dos lineas anteriores son exactamente lo mismo\n",
    "# seleccionará el elemento de la fila \"i\" y columna \"j\"\n",
    "```\n",
    "\n",
    "\n",
    "Donde: \n",
    "- `i` --> filas\n",
    "\n",
    "- `j` --> columnas"
   ]
  },
  {
   "cell_type": "code",
   "execution_count": 6,
   "metadata": {},
   "outputs": [
    {
     "name": "stdout",
     "output_type": "stream",
     "text": [
      "El array bidimensional que tenemos es: \n",
      " [[0.42214212 0.74609509 0.87696079 0.04318946]\n",
      " [0.13534479 0.54249625 0.77210589 0.94752063]\n",
      " [0.32224622 0.23230077 0.55031145 0.93115652]\n",
      " [0.89696255 0.54797431 0.61309795 0.96268145]\n",
      " [0.58344172 0.20719895 0.13625527 0.99519379]]\n",
      "\n",
      "El primer elemento de nuestro array es: \n",
      " [0.42214212 0.74609509 0.87696079 0.04318946]\n"
     ]
    }
   ],
   "source": [
    "# definimos un array bidimensional\n",
    "# en este caso estamos generando un array de 5 filas y 4 columnas con números aleatorios entre el 0 y el 1\n",
    "bidimensional = np.random.rand(5, 4)\n",
    "print(f\"El array bidimensional que tenemos es: \\n {bidimensional}\")\n",
    "\n",
    "# desgranemos la indexación en este tipo de arrays\n",
    "# si accedemos al elemento 0 del array obtenemos a la fila que queramos de nuestro array\n",
    "\n",
    "print(f\"\\nEl primer elemento de nuestro array es: \\n {bidimensional[0]}\")"
   ]
  },
  {
   "cell_type": "code",
   "execution_count": 7,
   "metadata": {},
   "outputs": [
    {
     "name": "stdout",
     "output_type": "stream",
     "text": [
      "El array bidimensional que tenemos es: \n",
      " [[0.42214212 0.74609509 0.87696079 0.04318946]\n",
      " [0.13534479 0.54249625 0.77210589 0.94752063]\n",
      " [0.32224622 0.23230077 0.55031145 0.93115652]\n",
      " [0.89696255 0.54797431 0.61309795 0.96268145]\n",
      " [0.58344172 0.20719895 0.13625527 0.99519379]]\n",
      "\n",
      "El primer elemento de la primera fila de nuestro array es: \n",
      " 0.42214212235137805\n",
      "\n",
      "-------------------------------------\n",
      "\n",
      "bidimensional[0][0] es exactamente lo mismo que bidimensional[0,0]: \n",
      " 0.42214212235137805\n"
     ]
    }
   ],
   "source": [
    "print(f\"El array bidimensional que tenemos es: \\n {bidimensional}\")\n",
    "\n",
    "# dado el resultado del paso anterior, sigamos buceando en el array, \n",
    "# en este caso querremos acceder al primer elemento del resultado anterior\n",
    "# fijaos como ponemos dos indices, el primero para acceder a las filas \n",
    "# y el segundo para acceder a las columnas\n",
    "# podríamos decir que es como el juego de hundir la flota\n",
    "print(f\"\\nEl primer elemento de la primera fila de nuestro array es: \\n {bidimensional[0][0]}\")\n",
    "print(\"\\n-------------------------------------\\n\")\n",
    "print(f\"bidimensional[0][0] es exactamente lo mismo que bidimensional[0,0]: \\n {bidimensional[0,0]}\")"
   ]
  },
  {
   "cell_type": "code",
   "execution_count": 8,
   "metadata": {},
   "outputs": [
    {
     "name": "stdout",
     "output_type": "stream",
     "text": [
      "El array bidimensional que tenemos es: \n",
      " [[0.42214212 0.74609509 0.87696079 0.04318946]\n",
      " [0.13534479 0.54249625 0.77210589 0.94752063]\n",
      " [0.32224622 0.23230077 0.55031145 0.93115652]\n",
      " [0.89696255 0.54797431 0.61309795 0.96268145]\n",
      " [0.58344172 0.20719895 0.13625527 0.99519379]]\n",
      "\n",
      "---------------------------\n",
      "\n",
      "El elemento que esta en la 2ª fila y 3ª columna es: \n",
      " 0.7721058931947801\n"
     ]
    }
   ],
   "source": [
    "print(f\"El array bidimensional que tenemos es: \\n {bidimensional}\")\n",
    "# accedemos a la segunda fila, tercer columna. \n",
    "print(\"\\n---------------------------\\n\")\n",
    "print(f\"El elemento que esta en la 2ª fila y 3ª columna es: \\n {bidimensional[1,2]}\")\n"
   ]
  },
  {
   "cell_type": "markdown",
   "metadata": {},
   "source": [
    "📌 **NOTA** Cuando usamos la siguiente estructura `array[i,j]`: \n",
    "\n",
    "- Todo lo que haya antes de la coma se referirá a filas.\n",
    "\n",
    "\n",
    "- Todo lo que haya después de la coma se referirá a columnas. \n",
    "\n",
    "De esta forma, si por ejemplo queremos seleccionar solo las dos primeras filas usaremos la nomenclatura que ya conocemos con los `:`. Si no especificamos nada (o solo ponemos `:`) se entiende que lo queremos todo. Por ejemplo 👇🏽"
   ]
  },
  {
   "cell_type": "code",
   "execution_count": 9,
   "metadata": {},
   "outputs": [
    {
     "name": "stdout",
     "output_type": "stream",
     "text": [
      "El array bidimensional que tenemos es: \n",
      " [[0.42214212 0.74609509 0.87696079 0.04318946]\n",
      " [0.13534479 0.54249625 0.77210589 0.94752063]\n",
      " [0.32224622 0.23230077 0.55031145 0.93115652]\n",
      " [0.89696255 0.54797431 0.61309795 0.96268145]\n",
      " [0.58344172 0.20719895 0.13625527 0.99519379]]\n",
      "\n",
      "---------------------------\n",
      "\n",
      "Las dos primeras filas con todas sus columnas son: \n",
      " [[0.42214212 0.74609509 0.87696079 0.04318946]\n",
      " [0.13534479 0.54249625 0.77210589 0.94752063]]\n"
     ]
    }
   ],
   "source": [
    "print(f\"El array bidimensional que tenemos es: \\n {bidimensional}\")\n",
    "# seleccionamos las dos primeras filas, y todas las columnas (no ponemos \n",
    "# nada después de la coma). \n",
    "print(\"\\n---------------------------\\n\")\n",
    "print(f\"Las dos primeras filas con todas sus columnas son: \\n {bidimensional[:2,:]}\")\n"
   ]
  },
  {
   "cell_type": "code",
   "execution_count": 10,
   "metadata": {},
   "outputs": [
    {
     "name": "stdout",
     "output_type": "stream",
     "text": [
      "El array bidimensional que tenemos es: \n",
      " [[0.42214212 0.74609509 0.87696079 0.04318946]\n",
      " [0.13534479 0.54249625 0.77210589 0.94752063]\n",
      " [0.32224622 0.23230077 0.55031145 0.93115652]\n",
      " [0.89696255 0.54797431 0.61309795 0.96268145]\n",
      " [0.58344172 0.20719895 0.13625527 0.99519379]]\n",
      "\n",
      "---------------------------\n",
      "\n",
      "Todas las filas y las últimas tres columnas son: \n",
      " [[0.74609509 0.87696079 0.04318946]\n",
      " [0.54249625 0.77210589 0.94752063]\n",
      " [0.23230077 0.55031145 0.93115652]\n",
      " [0.54797431 0.61309795 0.96268145]\n",
      " [0.20719895 0.13625527 0.99519379]]\n"
     ]
    }
   ],
   "source": [
    "print(f\"El array bidimensional que tenemos es: \\n {bidimensional}\")\n",
    "\n",
    "# seleccionamos todas las filas y solo las tres últimas columnas\n",
    "print(\"\\n---------------------------\\n\")\n",
    "print(f\"Todas las filas y las últimas tres columnas son: \\n {bidimensional[:,-3:]}\")"
   ]
  },
  {
   "cell_type": "markdown",
   "metadata": {},
   "source": [
    "## Indexación en *arrays* tridimensionales\n",
    "\n",
    "De la misma forma que en los bidimensionales, el los mutidimensionales podemos acceder a sus elementos de dos formas: \n",
    "\n",
    "```python\n",
    "array[i,j,k]\n",
    "array[i][j][k]\n",
    "```\n",
    "\n",
    "- i → *array* al que queremos acceder \n",
    "\n",
    "\n",
    "- j → fila de nuestro *array* al que queremos acceder\n",
    "\n",
    "\n",
    "- k → columna de nuestro *array* al que queremos acceder\n",
    "\n",
    "    ![3d-array-index.png](https://github.com/Adalab/data_imagenes/blob/main/Modulo-2/NumPy/index_numpy_multidimensional.png?raw=true)"
   ]
  },
  {
   "cell_type": "code",
   "execution_count": 11,
   "metadata": {},
   "outputs": [
    {
     "name": "stdout",
     "output_type": "stream",
     "text": [
      "El array multidimensional que tenemos es: \n",
      " [[[58 45 12 78 10]\n",
      "  [74 70 60 63 91]\n",
      "  [93 34 50 72 90]]\n",
      "\n",
      " [[13 17 26 98 50]\n",
      "  [33 93 15 91 76]\n",
      "  [82 29 32 38 35]]]\n",
      "\n",
      "---------------------------\n",
      "\n",
      "El elemento de la 1ª matriz, 2ª fila y 4ª columna es : \n",
      " 63\n"
     ]
    }
   ],
   "source": [
    "# definimos un array tridimensional\n",
    "# en este caso estamos creando un array de números enteros entre el 10 y el 100 con\n",
    "# 2 matrices, 3 filas y 5 columnas\n",
    "tridimensional = np.random.randint(10,100, (2,3,5))\n",
    "print(f\"El array multidimensional que tenemos es: \\n {tridimensional}\")\n",
    "\n",
    "# accedemos al primer array y al elemento que está en la fila 2 y la columna 4\n",
    "print(\"\\n---------------------------\\n\")\n",
    "print(f\"El elemento de la 1ª matriz, 2ª fila y 4ª columna es : \\n {tridimensional[0,1,3]}\")"
   ]
  },
  {
   "cell_type": "code",
   "execution_count": 12,
   "metadata": {},
   "outputs": [
    {
     "name": "stdout",
     "output_type": "stream",
     "text": [
      "El array multidimensional que tenemos es: \n",
      " [[[58 45 12 78 10]\n",
      "  [74 70 60 63 91]\n",
      "  [93 34 50 72 90]]\n",
      "\n",
      " [[13 17 26 98 50]\n",
      "  [33 93 15 91 76]\n",
      "  [82 29 32 38 35]]]\n",
      "\n",
      "---------------------------\n",
      "\n",
      "Los elementos del 1ª matriz, 1ª fila y todas las columnas  : \n",
      " [58 45 12 78 10]\n"
     ]
    }
   ],
   "source": [
    "print(f\"El array multidimensional que tenemos es: \\n {tridimensional}\")\n",
    "\n",
    "# primer array primera fila y todas las columnas\n",
    "print(\"\\n---------------------------\\n\")\n",
    "print(f\"Los elementos del 1ª matriz, 1ª fila y todas las columnas  : \\n {tridimensional[0,0, :]}\")\n"
   ]
  },
  {
   "cell_type": "markdown",
   "metadata": {},
   "source": [
    "# Ejercicios\n",
    "\n",
    "\n",
    "1. Crea un *array* unidimensional con 50 elementos con el método que prefieras y extrae: \n",
    "\n",
    "    - El primer elemento.\n",
    "\n",
    "\n",
    "    - Lo elementos que están en posición impar.\n",
    "\n",
    "\n",
    "    - Los cuatro primeros elementos.\n",
    "\n",
    "\n",
    "    - Los últimos tres elementos.\n",
    "\n",
    "\n",
    "    - Los elementos entre el 4 y el 8 (incluido). \n",
    "\n",
    "2. Crea un *array* de dos dimensiones de 4 x 5 con el método que prefieras y extrae:\n",
    "\n",
    "    - La primera fila y todas las columnas.\n",
    "\n",
    "\n",
    "    - Todas las filas pares.\n",
    "\n",
    "\n",
    "    - La primera columna y todas las filas.\n"
   ]
  },
  {
   "cell_type": "code",
   "execution_count": 24,
   "metadata": {},
   "outputs": [
    {
     "name": "stdout",
     "output_type": "stream",
     "text": [
      "El array unidimensional es: \n",
      "  [ 0  1  2  3  4  5  6  7  8  9 10 11 12 13 14 15 16 17 18 19 20 21 22 23\n",
      " 24 25 26 27 28 29 30 31 32 33 34 35 36 37 38 39 40 41 42 43 44 45 46 47\n",
      " 48 49] \n",
      "\n"
     ]
    }
   ],
   "source": [
    "# Ejercicio 1\n",
    "# Crea un *array* unidimensional con 50 elementos con el método que prefieras\n",
    "array = np.arange(50)\n",
    "print(f\"El array unidimensional es: \\n  {array} \\n\")"
   ]
  },
  {
   "cell_type": "code",
   "execution_count": 17,
   "metadata": {},
   "outputs": [
    {
     "data": {
      "text/plain": [
       "0"
      ]
     },
     "execution_count": 17,
     "metadata": {},
     "output_type": "execute_result"
    }
   ],
   "source": [
    "# primer elemento\n",
    "array[0]"
   ]
  },
  {
   "cell_type": "code",
   "execution_count": 18,
   "metadata": {},
   "outputs": [
    {
     "data": {
      "text/plain": [
       "array([ 1,  3,  5,  7,  9, 11, 13, 15, 17, 19, 21, 23, 25, 27, 29, 31, 33,\n",
       "       35, 37, 39, 41, 43, 45, 47, 49])"
      ]
     },
     "execution_count": 18,
     "metadata": {},
     "output_type": "execute_result"
    }
   ],
   "source": [
    "# Los elementos que están en posición impar.\n",
    "array[1::2]"
   ]
  },
  {
   "cell_type": "code",
   "execution_count": 20,
   "metadata": {},
   "outputs": [
    {
     "data": {
      "text/plain": [
       "array([0, 1, 2, 3])"
      ]
     },
     "execution_count": 20,
     "metadata": {},
     "output_type": "execute_result"
    }
   ],
   "source": [
    "# Los cuatro primeros elementos.\n",
    "array[:4]"
   ]
  },
  {
   "cell_type": "code",
   "execution_count": 21,
   "metadata": {},
   "outputs": [
    {
     "data": {
      "text/plain": [
       "array([47, 48, 49])"
      ]
     },
     "execution_count": 21,
     "metadata": {},
     "output_type": "execute_result"
    }
   ],
   "source": [
    "# Los últimos tres elementos.\n",
    "array[-3:]"
   ]
  },
  {
   "cell_type": "code",
   "execution_count": 22,
   "metadata": {},
   "outputs": [
    {
     "data": {
      "text/plain": [
       "array([4, 5, 6, 7, 8])"
      ]
     },
     "execution_count": 22,
     "metadata": {},
     "output_type": "execute_result"
    }
   ],
   "source": [
    "# Los elementos entre el 4 y el 8 (incluido). \n",
    "array[4:9]"
   ]
  },
  {
   "cell_type": "code",
   "execution_count": 26,
   "metadata": {},
   "outputs": [
    {
     "name": "stdout",
     "output_type": "stream",
     "text": [
      "El array bidimensional es: \n",
      "  [[10 16 25 44  5]\n",
      " [36 37 43  0  0]\n",
      " [25 46 13 45 23]\n",
      " [38 33 39 38  1]] \n",
      "\n"
     ]
    }
   ],
   "source": [
    "# Ejercicio 2\n",
    "# Crea un *array* de dos dimensiones de 4 x 5 con el método que prefieras\n",
    "array2 = np.random.randint(0, 50, (4,5))\n",
    "print(f\"El array bidimensional es: \\n  {array2} \\n\")"
   ]
  },
  {
   "cell_type": "code",
   "execution_count": 27,
   "metadata": {},
   "outputs": [
    {
     "data": {
      "text/plain": [
       "array([10, 16, 25, 44,  5])"
      ]
     },
     "execution_count": 27,
     "metadata": {},
     "output_type": "execute_result"
    }
   ],
   "source": [
    "# La primera fila y todas las columnas.\n",
    "array2[0,:]"
   ]
  },
  {
   "cell_type": "code",
   "execution_count": 28,
   "metadata": {},
   "outputs": [
    {
     "data": {
      "text/plain": [
       "array([[10, 16, 25, 44,  5],\n",
       "       [25, 46, 13, 45, 23]])"
      ]
     },
     "execution_count": 28,
     "metadata": {},
     "output_type": "execute_result"
    }
   ],
   "source": [
    "# Todas las filas pares.\n",
    "array2[::2]"
   ]
  },
  {
   "cell_type": "code",
   "execution_count": 29,
   "metadata": {},
   "outputs": [
    {
     "data": {
      "text/plain": [
       "array([10, 36, 25, 38])"
      ]
     },
     "execution_count": 29,
     "metadata": {},
     "output_type": "execute_result"
    }
   ],
   "source": [
    "# La primera columna y todas las filas.\n",
    "array2[:, 0]"
   ]
  }
 ],
 "metadata": {
  "kernelspec": {
   "display_name": "Python 3 (ipykernel)",
   "language": "python",
   "name": "python3"
  },
  "language_info": {
   "codemirror_mode": {
    "name": "ipython",
    "version": 3
   },
   "file_extension": ".py",
   "mimetype": "text/x-python",
   "name": "python",
   "nbconvert_exporter": "python",
   "pygments_lexer": "ipython3",
   "version": "3.11.9"
  },
  "toc": {
   "base_numbering": 1,
   "nav_menu": {},
   "number_sections": true,
   "sideBar": true,
   "skip_h1_title": false,
   "title_cell": "Table of Contents",
   "title_sidebar": "Contents",
   "toc_cell": true,
   "toc_position": {
    "height": "calc(100% - 180px)",
    "left": "10px",
    "top": "150px",
    "width": "426.667px"
   },
   "toc_section_display": true,
   "toc_window_display": true
  }
 },
 "nbformat": 4,
 "nbformat_minor": 2
}

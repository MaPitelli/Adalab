{
 "cells": [
  {
   "cell_type": "markdown",
   "metadata": {},
   "source": [
    "#  Instalar NumPy\n",
    "📌Antes de ponernos a trabajar con NumPy tendremos que instalar la librería, para eso lo que tendremos que hacer es escribir en la terminal la siguiente línea de código.\n",
    "```bash\n",
    "!pip install numpy\n",
    "```"
   ]
  },
  {
   "cell_type": "markdown",
   "metadata": {},
   "source": [
    "# Creación de *arrays*\n",
    "\n",
    "NumPy permite crear *arrays* de distintas formas las más comunes son:\n",
    "\n",
    "1. **Crear un array a partir de una lista**: Puedes crear un *array* NumPy a partir de una lista utilizando la función `np.array()`.\n",
    "\n",
    "2. **Crear un array vacío**: Puedes crear un *array* vacío especificando la forma deseada utilizando la función `np.empty()`. Debemos tener en cuenta que los valores del array vacío pueden ser impredecibles, ya que toman los valores almacenados en la memoria en ese momento.\n",
    "\n",
    "3. **Crear un array de ceros**: Puedes crear un *array* con todos los elementos establecidos en cero utilizando la función `np.zeros()`. \n",
    "\n",
    "4. **Crear un array de unos**: Puedes crear un *array* con todos los elementos establecidos en uno utilizando la función `np.ones()`.\n",
    "\n",
    "5. **Crear un array con valores secuenciales**: Puedes crear un *array* con valores secuenciales utilizando la función `np.arange()`. \n",
    "\n",
    "6. **Crear un array usando random de NumPy**: Puedes crear un *array* con números aleatorios usando distintos métodos de `random` en NumPy\n"
   ]
  },
  {
   "cell_type": "code",
   "execution_count": 2,
   "metadata": {},
   "outputs": [],
   "source": [
    "# antes de empezar importamos la librería de NumPy para poder trabajar con todos sus métodos. \n",
    "import numpy as np"
   ]
  },
  {
   "cell_type": "markdown",
   "metadata": {},
   "source": [
    "## Crear un array a partir de una lista"
   ]
  },
  {
   "cell_type": "code",
   "execution_count": 3,
   "metadata": {},
   "outputs": [
    {
     "name": "stdout",
     "output_type": "stream",
     "text": [
      "-------------ARRAY UNIDIMENSIONAL--------------\n",
      "La lista a partir de la que crearemos un array unidimensional es: [1, 2, 3, 4, 5]\n",
      "El array unidimensional creado a partir de la lista es: \n",
      "  [1 2 3 4 5] \n",
      "\n",
      "\n",
      " -*-*-*-*-*-*-*-*-*-*-*-*-*-*-*-*-*-*-*-*-*-*-*-*-*-*-*-*-*-*-*-*-*-*-*-*-*-*-*-*-*-*-*-*-*-*-*-*-*-*-\n",
      " \n",
      "-------------ARRAY BIDIMENSIONAL--------------\n",
      "La lista de listas a partir de la que crearemos un array bidimensional es: [[1, 2, 3, 4, 5], [6, 7, 8, 9, 10]]\n",
      "El array bidimensional creado a partir de la lista es:\n",
      "  [[ 1  2  3  4  5]\n",
      " [ 6  7  8  9 10]]\n",
      "\n",
      "\n",
      " -*-*-*-*-*-*-*-*-*-*-*-*-*-*-*-*-*-*-*-*-*-*-*-*-*-*-*-*-*-*-*-*-*-*-*-*-*-*-*-*-*-*-*-*-*-*-*-*-*-*-\n",
      " \n",
      "-------------ARRAY TRIDIMENSIONAL--------------\n",
      "La lista de listas de listas a partir de la que crearemos un array tridimensional es: [[[1, 2, 3, 4, 5], [6, 7, 8, 9, 10]], [[11, 12, 13, 14, 15], [16, 17, 18, 19, 20]]]\n",
      "El array tridimensional creado a partir de la lista es:\n",
      "  [[[ 1  2  3  4  5]\n",
      "  [ 6  7  8  9 10]]\n",
      "\n",
      " [[11 12 13 14 15]\n",
      "  [16 17 18 19 20]]]\n",
      "\n"
     ]
    }
   ],
   "source": [
    "print(\"-------------ARRAY UNIDIMENSIONAL--------------\")\n",
    "\n",
    "# definimos una lista que usaremos para convertir en array unidimensional\n",
    "lista = [1, 2, 3, 4, 5]\n",
    "print(\"La lista a partir de la que crearemos un array unidimensional es:\", lista)\n",
    "\n",
    "# convertimos la lista en array usando el método 'np.array()' \n",
    "array_unidimensional = np.array(lista)\n",
    "print(f\"El array unidimensional creado a partir de la lista es: \\n  {array_unidimensional} \\n\")\n",
    "\n",
    "print(\"\\n -*-*-*-*-*-*-*-*-*-*-*-*-*-*-*-*-*-*-*-*-*-*-*-*-*-*-*-*-*-*-*-*-*-*-*-*-*-*-*-*-*-*-*-*-*-*-*-*-*-*-\\n \")\n",
    "\n",
    "print(\"-------------ARRAY BIDIMENSIONAL--------------\")\n",
    "# para crear un array bidimensional necesitaremos una lista de listas\n",
    "lista_listas = [[1, 2, 3, 4, 5], [6, 7, 8, 9, 10]]\n",
    "print(\"La lista de listas a partir de la que crearemos un array bidimensional es:\", lista_listas)\n",
    "\n",
    "# convertimos la lista en array usando el método 'np.array()' \n",
    "# 📌 fijaos como ahora el array que hemos construido tiene \"filas\" y \"columnas\"\n",
    "array_bidimensional = np.array(lista_listas)\n",
    "print(f\"El array bidimensional creado a partir de la lista es:\\n  {array_bidimensional}\\n\")\n",
    "\n",
    "print(\"\\n -*-*-*-*-*-*-*-*-*-*-*-*-*-*-*-*-*-*-*-*-*-*-*-*-*-*-*-*-*-*-*-*-*-*-*-*-*-*-*-*-*-*-*-*-*-*-*-*-*-*-\\n \")\n",
    "\n",
    "print(\"-------------ARRAY TRIDIMENSIONAL--------------\")\n",
    "# para crear un array tridimensional necesitaremos una lista de listas de listas 🤯. \n",
    "lista_listas_listas = [[[1, 2, 3, 4, 5], [6, 7, 8, 9, 10]], [[11, 12, 13, 14, 15], [16, 17, 18, 19, 20]]]\n",
    "print(\"La lista de listas de listas a partir de la que crearemos un array tridimensional es:\", lista_listas_listas)\n",
    "\n",
    "# convertimos la lista en array usando el método 'np.array()' \n",
    "# fijaos como ahora el array que hemos construido tiene \"filas\" y \"columnas\"\n",
    "array_tridimensional = np.array(lista_listas_listas)\n",
    "print(f\"El array tridimensional creado a partir de la lista es:\\n  {array_tridimensional}\\n\")"
   ]
  },
  {
   "cell_type": "markdown",
   "metadata": {},
   "source": [
    "Acabamos de aprender a crear *arrays* de distintas dimensiones, y como vemos en el print anterior vemos que tienen distintas formas, pero solo podemos decir eso. Exploremos ahora, con una serie de métodos específicos, cuales son las propiedades de cada uno de estos *arrays* para entender mejor sus diferencias. \n",
    "\n",
    "NumPy ofrece una variedad de métodos útiles para comprender y explorar las propiedades de un *array*. Veamos los más importantes:\n",
    "\n",
    "1. **Forma del array**: El método `shape` devuelve una tupla que representa la forma (dimensiones) del *array*. Cada elemento de la tupla representa el tamaño de una dimensión. \n",
    "\n",
    "2. **Número de dimensiones**: El atributo `ndim` devuelve el número de dimensiones del *array*.\n",
    "\n",
    "3. **Tamaño total del array**: El atributo `size` devuelve el número total de elementos en el *array*. \n",
    "\n",
    "\n",
    "4. **Tipo de datos del array**: El atributo `dtype` devuelve el tipo de datos de los elementos del *array*. \n"
   ]
  },
  {
   "cell_type": "code",
   "execution_count": 4,
   "metadata": {},
   "outputs": [
    {
     "name": "stdout",
     "output_type": "stream",
     "text": [
      "-------------ARRAY UNIDIMENSIONAL--------------\n",
      "El array unidimensional es: \n",
      "  [1 2 3 4 5]\n",
      "La forma del array unidimensional es: (5,)\n",
      "El número de dimensiones del array unidimensional es: 1\n",
      "El número de elementos del array unidimensional es: 5\n",
      "El tipo de dato que tenemos en el array unidimensional es: int64\n",
      "\n"
     ]
    }
   ],
   "source": [
    "print(\"-------------ARRAY UNIDIMENSIONAL--------------\")\n",
    "print(f\"El array unidimensional es: \\n  {array_unidimensional}\")\n",
    "print(f\"La forma del array unidimensional es: {array_unidimensional.shape}\")\n",
    "print(f\"El número de dimensiones del array unidimensional es: {array_unidimensional.ndim}\")\n",
    "print(f\"El número de elementos del array unidimensional es: {array_unidimensional.size}\")\n",
    "print(f\"El tipo de dato que tenemos en el array unidimensional es: {array_unidimensional.dtype}\\n\")"
   ]
  },
  {
   "cell_type": "markdown",
   "metadata": {},
   "source": [
    "Entendamos los resultados que hemos obtenido en la celda anterior: \n",
    "\n",
    "- ***array* unidimensional**\n",
    "\n",
    "    - *Forma*: el método `shape` nos devuelve una tupla donde nos va indicar el número de elementos que tenemos por cada dimensión que tiene nuestro *array*. En este caso, nos devuelve una tupla de un solo elemento porque solo tenemos una dimensión que tiene 5 elementos. \n",
    "\n",
    "    - *Número de dimensiones*: para entender bien que es lo que nos devuelve el atributo `ndim` necesitamos comprender que es una dimensión en el contexto de un *array*. En términos simples, una dimensión en un *array* se refiere a la cantidad de índices necesarios para acceder a un elemento dentro del *array*. Por ejemplo, un *array* unidimensional requiere un solo índice para acceder a un elemento, mientras que un *array* bidimensional requiere dos índices (uno para la fila y otro para la columna). Entendiendo esto,  y pensando que la indexación en *arrays* es como en las listas, en nuestro caso solo necesitamos un índice para acceder a algún valor dentro del *array*, por lo que la dimensión de este *array* es de 1\n",
    "\n",
    "    - *Número de elementos*: con el atributo `size` nos dice el número de elementos que  hay dentro del *array*, en este caso tenemos 5 números enteros\n",
    "\n",
    "    - *Tipo de datos*: usando el atributo `dtype` conocemos que  el *array* esta compuesto por elementos de tipo *integer*. Recordad que en un *array* todos los elementos deben ser del mismo tipo. \n"
   ]
  },
  {
   "cell_type": "code",
   "execution_count": 5,
   "metadata": {},
   "outputs": [
    {
     "name": "stdout",
     "output_type": "stream",
     "text": [
      "-------------ARRAY BIDIMENSIONAL--------------\n",
      "El array bidimensional es: \n",
      "  [[ 1  2  3  4  5]\n",
      " [ 6  7  8  9 10]]\n",
      "La forma del array bidimensional es: (2, 5)\n",
      "El número de dimensiones del array bidimensional es: 2\n",
      "El número de elementos del array bidimensional es: 10\n",
      "El tipo de dato que tenemos en el array bidimensional es: int64\n",
      "\n"
     ]
    }
   ],
   "source": [
    "print(\"-------------ARRAY BIDIMENSIONAL--------------\")\n",
    "print(f\"El array bidimensional es: \\n  {array_bidimensional}\")\n",
    "print(f\"La forma del array bidimensional es: {array_bidimensional.shape}\")\n",
    "print(f\"El número de dimensiones del array bidimensional es: {array_bidimensional.ndim}\")\n",
    "print(f\"El número de elementos del array bidimensional es: {array_bidimensional.size}\")\n",
    "print(f\"El tipo de dato que tenemos en el array bidimensional es: {array_bidimensional.dtype}\\n\")"
   ]
  },
  {
   "cell_type": "markdown",
   "metadata": {},
   "source": [
    "Entendamos los resultados que hemos obtenido en la celda anterior: \n",
    "\n",
    "\n",
    "- ***array* bidimensional**\n",
    "\n",
    "    - *Forma*: en este caso la tupla esta compuesta por dos valores, podríamos decir que tenemos \"filas\" y \"columnas\". En concreto nos esta diciendo que tenemos 2 filas y 5 columnas. \n",
    "\n",
    "    - *Número de dimensiones*: En este caso necesitamos dos índices para acceder a algún valor dentro del *array*, por lo que la dimensión de este *array* es de 2. Es como acceder a un elemento en una lista de listas\n",
    "\n",
    "    - *Número de elementos*: con el atributo `size` nos dice el número de elementos que  hay dentro del *array*, en este caso tenemos 10 números enteros\n",
    "\n",
    "    - *Tipo de datos*: usando el atributo `dtype` conocemos que  el *array* esta compuesto por elementos de tipo *integer*. Recordad que en un *array* todos los elementos deben ser del mismo tipo. \n"
   ]
  },
  {
   "cell_type": "code",
   "execution_count": 6,
   "metadata": {},
   "outputs": [
    {
     "name": "stdout",
     "output_type": "stream",
     "text": [
      "-------------ARRAY TRIDIMENSIONAL--------------\n",
      "El array tridimensional es: \n",
      "  [[[ 1  2  3  4  5]\n",
      "  [ 6  7  8  9 10]]\n",
      "\n",
      " [[11 12 13 14 15]\n",
      "  [16 17 18 19 20]]]\n",
      "La forma del array tridimensional es: (2, 2, 5)\n",
      "El número de dimensiones del array tridimensional es: 3\n",
      "El número de elementos del array tridimensional es: 20\n",
      "El tipo de dato que tenemos en el array tridimensional es: int64\n",
      "\n"
     ]
    }
   ],
   "source": [
    "print(\"-------------ARRAY TRIDIMENSIONAL--------------\")\n",
    "print(f\"El array tridimensional es: \\n  {array_tridimensional}\")\n",
    "print(f\"La forma del array tridimensional es: {array_tridimensional.shape}\")\n",
    "print(f\"El número de dimensiones del array tridimensional es: {array_tridimensional.ndim}\")\n",
    "print(f\"El número de elementos del array tridimensional es: {array_tridimensional.size}\")\n",
    "print(f\"El tipo de dato que tenemos en el array tridimensional es: {array_tridimensional.dtype}\\n\")"
   ]
  },
  {
   "cell_type": "markdown",
   "metadata": {},
   "source": [
    "Entendamos los resultados que hemos obtenido en la celda anterior: \n",
    "\n",
    "- ***array* tridimensional**\n",
    "\n",
    "    - *Forma*: en este caso la tupla esta compuesta por tres valores. Esto lo podemos interpretar de la siguiente forma, tenemos 3 dimensiones, la primera hace referencia al número de *arrays* más pequeños que tenemos en nuestro *array* principal (en este caso 2, es decir, tenemos dos *arrays*). Luego tenemos dos valores más que son el 2 y el 5 que indican que cada uno de los *arrays* pequeños tienen dos filas y 5 columnas. \n",
    "\n",
    "    - *Número de dimensiones*: En este caso necesitamos tres índices para acceder a algún valor dentro del *array*, por lo que la dimensión de este *array* es de 3. \n",
    "\n",
    "    - *Número de elementos*: con el atributo `size` nos dice el número de elementos que  hay dentro del *array*, en este caso tenemos 20 números enteros\n",
    "\n",
    "    - *Tipo de datos*: usando el atributo `dtype` conocemos que  el *array* esta compuesto por elementos de tipo *integer*. Recordad que en un *array* todos los elementos deben ser del mismo tipo. \n",
    "\n",
    "\n",
    "Comprendiendo las diferencias entre los distintos tipos de *arrays* y sus propiedades, sigamos viendo otras formas de crear **arrays**. "
   ]
  },
  {
   "cell_type": "markdown",
   "metadata": {},
   "source": [
    "## Crear un array vacío\n",
    "\n",
    "Al igual que en el caso anterior, podremos crear *arrays* vacíos de distintas dimensiones. Su sintaxis básica es:\n",
    "\n",
    "\n",
    "```python\n",
    "np.empty(shape, dtype=float)\n",
    "```\n",
    "- `shape`: Especifica la forma (dimensiones) del *array* que se creará. Puede ser un entero, una tupla de enteros o una lista de enteros. \n",
    "\n",
    "- `dtype` (opcional): Especifica el tipo de datos de los elementos del *array*. Por defecto, es `float`, lo que significa que los elementos del *array* serán números de punto flotante. También se pueden especificar otros tipos de datos, como `int` para números enteros, `bool` para valores booleanos, `str` para cadenas de texto, entre otros.\n",
    "\n",
    "\n",
    "Aquí tienes algunos ejemplos de cómo utilizar `np.empty`:\n",
    "\n",
    "```python\n",
    "import numpy as np\n",
    "\n",
    "# Crear un array vacío de 2 filas y 3 columnas\n",
    "array_vacio = np.empty((2, 3))\n",
    "print(array_vacio)\n",
    "\n",
    "# Crear un array vacío de forma (4, )\n",
    "array_vacio_1D = np.empty(4)\n",
    "print(array_vacio_1D)\n",
    "```\n",
    "\n",
    "El método `np.empty` crea un *array* vacío sin inicializar sus elementos. Esto significa que los valores de los elementos pueden ser impredecibles y dependerán de los datos almacenados previamente en la memoria."
   ]
  },
  {
   "cell_type": "code",
   "execution_count": 7,
   "metadata": {},
   "outputs": [
    {
     "name": "stdout",
     "output_type": "stream",
     "text": [
      "------------- ARRAY UNIDIMENSIONAL VACÍO --------------\n",
      "El array unidimensional creado a partir del método np.emtpy(): \n",
      "  [0. 0. 0. 0.] \n",
      "\n"
     ]
    }
   ],
   "source": [
    "print(\"------------- ARRAY UNIDIMENSIONAL VACÍO --------------\")\n",
    "\n",
    "# creamos el array vacío unidimensional especificando el número de elementos que queremos tener en el array. \n",
    "# como solo tiene una dimensión solo le paso un valor. Nos genera un array con 4 valores.\n",
    "array_vacio_unidimensional =  np.empty(4)\n",
    "print(f\"El array unidimensional creado a partir del método np.emtpy(): \\n  {array_vacio_unidimensional} \\n\")"
   ]
  },
  {
   "cell_type": "code",
   "execution_count": 8,
   "metadata": {},
   "outputs": [
    {
     "name": "stdout",
     "output_type": "stream",
     "text": [
      "------------- ARRAY BIDIMENSIONAL VACÍO --------------\n",
      "El array bidimensional creado a partir del método np.emtpy(): \n",
      "  [[0. 0.]\n",
      " [0. 0.]\n",
      " [0. 0.]\n",
      " [0. 0.]] \n",
      "\n"
     ]
    }
   ],
   "source": [
    "print(\"------------- ARRAY BIDIMENSIONAL VACÍO --------------\")\n",
    "\n",
    "# creamos el array vacío bidimensional especificando el número de elementos que queremos tener en el array. \n",
    "# como en este caso queremos tener dos dimensiones, le tendremos que pasar dos valores, con el número de elementos que queremos en cada una de ellas\n",
    "# el primer valor hace referencia al número de filas y el segundo al número de columnas\n",
    "array_vacio_bidimensional =  np.empty((4,2))\n",
    "print(f\"El array bidimensional creado a partir del método np.emtpy(): \\n  {array_vacio_bidimensional} \\n\")\n"
   ]
  },
  {
   "cell_type": "code",
   "execution_count": 9,
   "metadata": {},
   "outputs": [
    {
     "name": "stdout",
     "output_type": "stream",
     "text": [
      "------------- ARRAY TRIDIMENSIONAL VACÍO --------------\n",
      "El array tridimensional creado a partir del método np.emtpy(): \n",
      "  [[[0. 0.]\n",
      "  [0. 0.]\n",
      "  [0. 0.]\n",
      "  [0. 0.]]\n",
      "\n",
      " [[0. 0.]\n",
      "  [0. 0.]\n",
      "  [0. 0.]\n",
      "  [0. 0.]]\n",
      "\n",
      " [[0. 0.]\n",
      "  [0. 0.]\n",
      "  [0. 0.]\n",
      "  [0. 0.]]] \n",
      "\n"
     ]
    }
   ],
   "source": [
    "print(\"------------- ARRAY TRIDIMENSIONAL VACÍO --------------\")\n",
    "\n",
    "# creamos el array vacío tridimensional especificando el número de elementos que queremos tener en el array. \n",
    "# queremos tener tres dimensiones, por lo que le tendremos que pasar tres valores, con el número de elementos que queremos en cada una de ellas\n",
    "# el primer valor hace referencia al número de arrays \"pequeños\" que queremos, el segundo al número de filas y el último al número de columnas\n",
    "array_vacio_tridimensional =  np.empty((3, 4, 2)) # estamos generando un array de tres matrices donde cada una de ellas tienen 4 filas y 2 columnas\n",
    "print(f\"El array tridimensional creado a partir del método np.emtpy(): \\n  {array_vacio_tridimensional} \\n\")"
   ]
  },
  {
   "cell_type": "markdown",
   "metadata": {},
   "source": [
    "## Crear un array de ceros\n",
    "\n",
    "Permite crear un *array* compuesto solo por 0. La sintaxis del método `np.zeros` en NumPy es la siguiente:\n",
    "\n",
    "```python\n",
    "np.zeros(shape, dtype=float)\n",
    "```\n",
    "\n",
    "- `shape`: Especifica la forma (dimensiones) del *array* que se creará. Puede ser un entero, una tupla de enteros o una lista de enteros.\n",
    "\n",
    "- `dtype` (opcional): Especifica el tipo de datos de los elementos del *array*. Por defecto, es `float`, lo que significa que los elementos del *array* serán números de punto flotante. También se pueden especificar otros tipos de datos, como `int` para números enteros, `bool` para valores booleanos, `str` para cadenas de texto, entre otros.\n",
    "\n"
   ]
  },
  {
   "cell_type": "code",
   "execution_count": 10,
   "metadata": {},
   "outputs": [
    {
     "name": "stdout",
     "output_type": "stream",
     "text": [
      "------------- ARRAY UNIDIMENSIONAL DE CEROS --------------\n",
      "El array unidimensional creado a partir del método np.zeros(): \n",
      "  [0. 0. 0. 0.] \n",
      "\n"
     ]
    }
   ],
   "source": [
    "print(\"------------- ARRAY UNIDIMENSIONAL DE CEROS --------------\")\n",
    "\n",
    "# creamos el array unidimensional especificando el número de elementos que queremos tener en el array. \n",
    "# como solo tiene una dimensión solo le paso un valor.\n",
    "array_vacio_unidimensional_cero =  np.zeros(4)\n",
    "print(f\"El array unidimensional creado a partir del método np.zeros(): \\n  {array_vacio_unidimensional_cero} \\n\")"
   ]
  },
  {
   "cell_type": "code",
   "execution_count": 11,
   "metadata": {},
   "outputs": [
    {
     "name": "stdout",
     "output_type": "stream",
     "text": [
      "------------- ARRAY BIDIMENSIONAL DE CEROS --------------\n",
      "El array bidimensional creado a partir del método np.zeros(): \n",
      "  [[0. 0.]\n",
      " [0. 0.]\n",
      " [0. 0.]\n",
      " [0. 0.]] \n",
      "\n"
     ]
    }
   ],
   "source": [
    "print(\"------------- ARRAY BIDIMENSIONAL DE CEROS --------------\")\n",
    "\n",
    "# la lógica y la sintaxis va a ser la misma que cuando creabamos los arrays vacíos\n",
    "# creamos un array de 0 con 4 filas y 2 columnas\n",
    "array_vacio_bidimensional_cero =  np.zeros((4,2))\n",
    "print(f\"El array bidimensional creado a partir del método np.zeros(): \\n  {array_vacio_bidimensional_cero} \\n\")"
   ]
  },
  {
   "cell_type": "code",
   "execution_count": 12,
   "metadata": {},
   "outputs": [
    {
     "name": "stdout",
     "output_type": "stream",
     "text": [
      "------------- ARRAY TRIDIMENSIONAL DE CEROS --------------\n",
      "El array tridimensional creado a partir del método np.zeros(): \n",
      "  [[[0. 0.]\n",
      "  [0. 0.]\n",
      "  [0. 0.]\n",
      "  [0. 0.]]\n",
      "\n",
      " [[0. 0.]\n",
      "  [0. 0.]\n",
      "  [0. 0.]\n",
      "  [0. 0.]]\n",
      "\n",
      " [[0. 0.]\n",
      "  [0. 0.]\n",
      "  [0. 0.]\n",
      "  [0. 0.]]] \n",
      "\n"
     ]
    }
   ],
   "source": [
    "print(\"------------- ARRAY TRIDIMENSIONAL DE CEROS --------------\")\n",
    "\n",
    "# estamos generando un array de 0 con 3 matrices donde cada una de ellas tienen 4 filas y 2 columnas\n",
    "array_vacio_tridimensional_cero =  np.zeros((3, 4, 2)) \n",
    "print(f\"El array tridimensional creado a partir del método np.zeros(): \\n  {array_vacio_tridimensional_cero} \\n\")"
   ]
  },
  {
   "cell_type": "markdown",
   "metadata": {},
   "source": [
    "\n",
    "## Crear un array de unos\n",
    "\n",
    "Crea un *array* formado unicamente por 1. La sintaxis del método `np.ones` en NumPy es la siguiente:\n",
    "\n",
    "```python\n",
    "np.ones(shape, dtype=None)\n",
    "```\n",
    "\n",
    "- `shape`: Especifica la forma (dimensiones) del array que se creará. Puede ser un entero, una tupla de enteros o una lista de enteros. \n",
    "\n",
    "\n",
    "- `dtype` (opcional): Especifica el tipo de datos de los elementos del array. Por defecto, es `None`, lo que significa que los elementos del array serán números de punto flotante. También se pueden especificar otros tipos de datos, como `int` para números enteros, `bool` para valores booleanos, `str` para cadenas de texto, entre otros."
   ]
  },
  {
   "cell_type": "code",
   "execution_count": 13,
   "metadata": {},
   "outputs": [
    {
     "name": "stdout",
     "output_type": "stream",
     "text": [
      "------------- ARRAY UNIDIMENSIONAL DE UNOS --------------\n",
      "El array unidimensional creado a partir del método np.ones(): \n",
      "  [1. 1. 1. 1.] \n",
      "\n"
     ]
    }
   ],
   "source": [
    "print(\"------------- ARRAY UNIDIMENSIONAL DE UNOS --------------\")\n",
    "\n",
    "# creamos el array unidimensional especificando el número de elementos que queremos tener en el array. \n",
    "# como solo tiene una dimensión solo le paso un valor.\n",
    "array_vacio_unidimensional_unos =  np.ones(4)\n",
    "print(f\"El array unidimensional creado a partir del método np.ones(): \\n  {array_vacio_unidimensional_unos} \\n\")"
   ]
  },
  {
   "cell_type": "code",
   "execution_count": 14,
   "metadata": {},
   "outputs": [
    {
     "name": "stdout",
     "output_type": "stream",
     "text": [
      "------------- ARRAY BIDIMENSIONAL DE UNOS --------------\n",
      "El array bidimensional creado a partir del método np.ones(): \n",
      "  [[1. 1.]\n",
      " [1. 1.]\n",
      " [1. 1.]\n",
      " [1. 1.]] \n",
      "\n"
     ]
    }
   ],
   "source": [
    "print(\"------------- ARRAY BIDIMENSIONAL DE UNOS --------------\")\n",
    "\n",
    "# estamos creando un array de dos dimensiones con 4 filas y 2 columnas\n",
    "array_vacio_bidimensional_unos =  np.ones((4,2))\n",
    "print(f\"El array bidimensional creado a partir del método np.ones(): \\n  {array_vacio_bidimensional_unos} \\n\")"
   ]
  },
  {
   "cell_type": "code",
   "execution_count": 15,
   "metadata": {},
   "outputs": [
    {
     "name": "stdout",
     "output_type": "stream",
     "text": [
      "------------- ARRAY TRIDIMENSIONAL DE UNOS --------------\n",
      "El array tridimensional creado a partir del método np.ones(): \n",
      "  [[[1. 1.]\n",
      "  [1. 1.]\n",
      "  [1. 1.]\n",
      "  [1. 1.]]\n",
      "\n",
      " [[1. 1.]\n",
      "  [1. 1.]\n",
      "  [1. 1.]\n",
      "  [1. 1.]]\n",
      "\n",
      " [[1. 1.]\n",
      "  [1. 1.]\n",
      "  [1. 1.]\n",
      "  [1. 1.]]] \n",
      "\n"
     ]
    }
   ],
   "source": [
    "print(\"------------- ARRAY TRIDIMENSIONAL DE UNOS --------------\")\n",
    "\n",
    "# creamos el array tridimensional especificando el número de elementos que queremos tener en el array. \n",
    "array_vacio_tridimensional_unos =  np.ones((3, 4, 2)) # estamos generando un array de tres matrices donde cada una de ellas tienen 4 filas y 2 columnas\n",
    "print(f\"El array tridimensional creado a partir del método np.ones(): \\n  {array_vacio_tridimensional_unos} \\n\")"
   ]
  },
  {
   "cell_type": "markdown",
   "metadata": {},
   "source": [
    "## Crear un array con valores secuenciales\n",
    "\n",
    "\n",
    "Funciona de forma similar al `range()` de Python, pero en este caso nos genera un *array*. La sintaxis del método `np.arange` en NumPy es la siguiente:\n",
    "\n",
    "```python\n",
    "np.arange(start, stop, step, dtype=None)\n",
    "```\n",
    "\n",
    "- `start` (opcional): Especifica el valor de inicio de la secuencia. Por defecto, es 0.\n",
    "\n",
    "- `stop`: Especifica el valor final de la secuencia (exclusivo). Es decir, la secuencia generada no incluirá este valor.\n",
    "\n",
    "- `step` (opcional): Especifica el incremento (salto) entre los valores de la secuencia. Por defecto, es 1.\n",
    "\n",
    "- `dtype` (opcional): Especifica el tipo de datos de los elementos en el array. Por defecto, es `None`, lo que significa que se utilizará el tipo de datos predeterminado.\n",
    "\n",
    "\n",
    "📌 Por defecto nos devuelve una matriz unidimensional. En caso de que queramos cambiar las dimensiones del *array* tendremos que aplicar el método `reshape` que veremos mas adelante. "
   ]
  },
  {
   "cell_type": "code",
   "execution_count": 16,
   "metadata": {},
   "outputs": [
    {
     "name": "stdout",
     "output_type": "stream",
     "text": [
      "------------- ARRAY UNIDIMENSIONAL CON 4 ELEMENTOS --------------\n",
      "El array unidimensional creado a partir del método np.emtpy(): \n",
      "  [0 1 2 3] \n",
      "\n",
      "------------- ARRAY UNIDIMENSIONAL CON NÚMEROS DEL 1 AL 4 (no incluido) CON SALTOS DE 1 EN 1  --------------\n",
      "El array bidimensional creado a partir del método np.emtpy(): \n",
      "  [1 2 3] \n",
      "\n",
      "------------- ARRAY UNIDIMENSIONAL CON NÚMEROS DEL 1 AL 20 (no incluido) CON SALTOS DE 2 EN 2  --------------\n",
      "El array bidimensional creado a partir del método np.emtpy(): \n",
      "  [ 1  3  5  7  9 11 13 15 17 19] \n",
      "\n"
     ]
    }
   ],
   "source": [
    "print(\"------------- ARRAY UNIDIMENSIONAL CON 4 ELEMENTOS --------------\")\n",
    "\n",
    "array_unidimensional_arange_1 =  np.arange(4)\n",
    "print(f\"El array unidimensional creado a partir del método np.emtpy(): \\n  {array_unidimensional_arange_1} \\n\")\n",
    "\n",
    "\n",
    "print(\"------------- ARRAY UNIDIMENSIONAL CON NÚMEROS DEL 1 AL 4 (no incluido) CON SALTOS DE 1 EN 1  --------------\")\n",
    "array_unidimensional_arange_2 =  np.arange(1,4,1)\n",
    "print(f\"El array bidimensional creado a partir del método np.emtpy(): \\n  {array_unidimensional_arange_2} \\n\")\n",
    "\n",
    "\n",
    "print(\"------------- ARRAY UNIDIMENSIONAL CON NÚMEROS DEL 1 AL 20 (no incluido) CON SALTOS DE 2 EN 2  --------------\")\n",
    "array_unidimensional_arange_3 =  np.arange(1,20,2)\n",
    "print(f\"El array bidimensional creado a partir del método np.emtpy(): \\n  {array_unidimensional_arange_3} \\n\")\n"
   ]
  },
  {
   "cell_type": "markdown",
   "metadata": {},
   "source": [
    "## Crear un array usando random\n",
    "\n",
    "El módulo `random` de NumPy proporciona funciones para generar números aleatorios con diferentes distribuciones y características. Estas funciones son útiles para simular datos aleatorios y realizar experimentos numéricos. Algunos de los métodos más utilizados del módulo `random` de NumPy:\n",
    "\n",
    "\n",
    "1. `np.random.randint`: Genera números enteros aleatorios en un array. Puedes especificar el rango de los números enteros y la forma del array como argumentos.\n",
    "\n",
    "2. `np.random.rand`: Genera números aleatorios en un *array* en el rango [0, 1).  Es decir, los números generados estarán en el intervalo semiabierto [0, 1), donde 0 está incluido y 1 está excluido.\n",
    "\n",
    "3. `np.random.sample`: Genera números aleatorios en un *array*  en el rango [0, 1).\n"
   ]
  },
  {
   "cell_type": "markdown",
   "metadata": {},
   "source": [
    "### np.random.randint\n",
    "\n",
    "La sintaxis básica del método `np.random.randint` es la siguiente:\n",
    "\n",
    "```python\n",
    "numpy.random.randint(low, high, size, dtype)\n",
    "```\n",
    "\n",
    "Donde:\n",
    "\n",
    "- `low`: Especifica el límite inferior del rango de números enteros a generar (inclusive). Si solo se proporciona este argumento, los números aleatorios se generarán en el rango [0, low). Es decir, el límite superior no está incluido en el rango.\n",
    "\n",
    "- `high` (opcional): Especifica el límite superior del rango de números enteros a generar (exclusivo). Si se proporciona este argumento, los números aleatorios se generarán en el rango [low, high). \n",
    "\n",
    "- `size` (opcional): Especifica la forma del *array* resultante de números enteros aleatorios. Puede ser un número entero o una tupla de enteros que represente las dimensiones del *array*. Por defecto, es `None`, lo que implica que se generará un solo número entero,  es decir, un array unidimensional.\n",
    "\n",
    "- `dtype` (opcional): Especifica el tipo de dato de los elementos en el *array*. Por defecto, es `int`, lo que significa que los números enteros se generarán como enteros estándar.\n",
    "\n"
   ]
  },
  {
   "cell_type": "code",
   "execution_count": 31,
   "metadata": {},
   "outputs": [
    {
     "name": "stdout",
     "output_type": "stream",
     "text": [
      "------------- ARRAY UNIDIMENSIONAL RANDINT --------------\n",
      "El array unidimensional creado a partir del método np.random.randint(): \n",
      "  1 \n",
      "\n"
     ]
    }
   ],
   "source": [
    "print(\"------------- ARRAY UNIDIMENSIONAL RANDINT --------------\")\n",
    "# en este caso estamos generando un array unidimensional con un valor aleatorio que puede variar entre 0 y 9 (no incluido)\n",
    "array_randint_uni = np.random.randint(9)\n",
    "print(f\"El array unidimensional creado a partir del método np.random.randint(): \\n  {array_randint_uni} \\n\")"
   ]
  },
  {
   "cell_type": "code",
   "execution_count": 34,
   "metadata": {},
   "outputs": [
    {
     "name": "stdout",
     "output_type": "stream",
     "text": [
      "------------- ARRAY BIDIMENSIONAL RANDINT --------------\n",
      "El array bidimensional creado a partir del método np.random.randint(): \n",
      "  [[13 44 11]\n",
      " [45 26 43]] \n",
      "\n"
     ]
    }
   ],
   "source": [
    "print(\"------------- ARRAY BIDIMENSIONAL RANDINT --------------\")\n",
    "# generamos un array bidimensional con números aleatorios entre el 0 y el 50 (no incluido) de 2 filas y 3 columnas\n",
    "array_randint_bi = np.random.randint(0, 50, (2,3))\n",
    "print(f\"El array bidimensional creado a partir del método np.random.randint(): \\n  {array_randint_bi} \\n\")"
   ]
  },
  {
   "cell_type": "code",
   "execution_count": 36,
   "metadata": {},
   "outputs": [
    {
     "name": "stdout",
     "output_type": "stream",
     "text": [
      "------------- ARRAY TRIDIMENSIONAL RANDINT --------------\n",
      "El array bidimensional creado a partir del método np.random.randint(): \n",
      "  [[[ 6 14  8  7]\n",
      "  [15 12  0 17]\n",
      "  [ 4  6  1 18]]\n",
      "\n",
      " [[17 12 17  2]\n",
      "  [12 16  2  2]\n",
      "  [18  2 17 14]]] \n",
      "\n"
     ]
    }
   ],
   "source": [
    "print(\"------------- ARRAY TRIDIMENSIONAL RANDINT --------------\")\n",
    "# generamos un array tridimensional de números aleatorios entre el 0 y 20 (no incluido) de 2 matrices, 3 filas y 4 columnas\n",
    "array_randint_tri = np.random.randint(0, 20, (2, 3, 4))\n",
    "print(f\"El array bidimensional creado a partir del método np.random.randint(): \\n  {array_randint_tri} \\n\")"
   ]
  },
  {
   "cell_type": "markdown",
   "metadata": {},
   "source": [
    "### np.random.rand\n",
    "\n",
    "La sintaxis básica del método `np.random.rand` es la siguiente:\n",
    "\n",
    "```python\n",
    "numpy.random.rand(d0, d1, ..., dn)\n",
    "```\n",
    "\n",
    "- `d0, d1, ..., dn` son los argumentos opcionales que determinan las dimensiones de la matriz de números aleatorios que se generará. Puedes proporcionar cualquier número de argumentos, lo que significa que puedes crear matrices unidimensionales, bidimensionales, tridimensionales, etc.\n",
    "\n",
    "📝 **NOTA**: en este caso no tenemos que especificar que entre que valores queremos que nos genere los números. POR DEFECTO NOS GENERARÁ NÚMEROS ALEATORIOS ENTRE EL 0-1.\n",
    "\n",
    "📝 **NOTA**: Solo nos dará *floats*, por lo que no hace falta especificar el tipo. "
   ]
  },
  {
   "cell_type": "code",
   "execution_count": 37,
   "metadata": {},
   "outputs": [
    {
     "name": "stdout",
     "output_type": "stream",
     "text": [
      "------------- ARRAY UNIDIMENSIONAL RAND --------------\n",
      "El array unidimensional creado a partir del método np.random.rand(): \n",
      "  [0.0706616  0.84033251 0.8055549  0.714927  ] \n",
      "\n"
     ]
    }
   ],
   "source": [
    "print(\"------------- ARRAY UNIDIMENSIONAL RAND --------------\")\n",
    "# en este caso estamos generando un array unidimensional con cuatro valores aleatorios entre el 0 y el 1\n",
    "\n",
    "array_rand_uni = np.random.rand(4)\n",
    "print(f\"El array unidimensional creado a partir del método np.random.rand(): \\n  {array_rand_uni} \\n\")"
   ]
  },
  {
   "cell_type": "code",
   "execution_count": 38,
   "metadata": {},
   "outputs": [
    {
     "name": "stdout",
     "output_type": "stream",
     "text": [
      "------------- ARRAY BIDIMENSIONAL RAND --------------\n",
      "El array unidimensional creado a paratir del método np.random.rand(): \n",
      "  [[0.57214701 0.30774095 0.36784724]\n",
      " [0.71564309 0.21465268 0.99136743]] \n",
      "\n"
     ]
    }
   ],
   "source": [
    "print(\"------------- ARRAY BIDIMENSIONAL RAND --------------\")\n",
    "# en este caso estamos generando un array bidimensional de 2 filas y 3 columnas con números aleatorios entre el 0 y el 1\n",
    "\n",
    "array_rand_bi = np.random.rand(2,3)\n",
    "print(f\"El array unidimensional creado a paratir del método np.random.rand(): \\n  {array_rand_bi} \\n\")\n"
   ]
  },
  {
   "cell_type": "code",
   "execution_count": 40,
   "metadata": {},
   "outputs": [
    {
     "name": "stdout",
     "output_type": "stream",
     "text": [
      "------------- ARRAY TRIDIMENSIONAL RAND --------------\n",
      "El array unidimensional creado a partir del método np.random.rand(): \n",
      "  [[[0.22245467 0.23774634 0.11245528 0.81976851]\n",
      "  [0.78389909 0.79002382 0.46005663 0.12965888]\n",
      "  [0.26375778 0.01516749 0.67141207 0.36403353]]\n",
      "\n",
      " [[0.38324023 0.31027877 0.3014217  0.37893149]\n",
      "  [0.87767181 0.06916444 0.22285357 0.27069198]\n",
      "  [0.01280681 0.6884771  0.76242214 0.52599531]]] \n",
      "\n"
     ]
    }
   ],
   "source": [
    "print(\"------------- ARRAY TRIDIMENSIONAL RAND --------------\")\n",
    "# en este caso estamos generando un array tridimensional de 2 matrices, 3 filas  y 4 columnas con números aleatorios entre el 0 y el 1\n",
    "\n",
    "array_rand_tri = np.random.rand(2,3,4)\n",
    "print(f\"El array unidimensional creado a partir del método np.random.rand(): \\n  {array_rand_tri} \\n\")\n"
   ]
  },
  {
   "cell_type": "markdown",
   "metadata": {},
   "source": [
    "### np.random.random_sample\n",
    "\n",
    "La sintaxis básica del método `np.random.random_sample` es la siguiente:\n",
    "\n",
    "```python\n",
    "numpy.random.random_sample(size=None)\n",
    "```\n",
    "\n",
    "Donde:\n",
    "\n",
    "- `size` (opcional): Permite especificar la forma del array resultante. Puede ser un número entero o una tupla de enteros que represente las dimensiones del array. Si no se proporciona el parámetro `size`, se devuelve un solo número aleatorio en el rango [0, 1)."
   ]
  },
  {
   "cell_type": "code",
   "execution_count": 23,
   "metadata": {},
   "outputs": [
    {
     "name": "stdout",
     "output_type": "stream",
     "text": [
      "------------- ARRAY UNIDIMENSIONAL RANDOM_SAMPLE --------------\n",
      "El array unidimensional creado a partir del método np.random.random_sample(): \n",
      "  [0.07208371 0.04208768 0.09635446 0.78759222] \n",
      "\n"
     ]
    }
   ],
   "source": [
    "print(\"------------- ARRAY UNIDIMENSIONAL RANDOM_SAMPLE --------------\")\n",
    "# en este caso estamos generando un array unidimensional con 4 valores aleatorios entre el 0 y el 1\n",
    "array_sample_uni = np.random.random_sample(4)\n",
    "print(f\"El array unidimensional creado a partir del método np.random.random_sample(): \\n  {array_sample_uni} \\n\")"
   ]
  },
  {
   "cell_type": "code",
   "execution_count": 24,
   "metadata": {},
   "outputs": [
    {
     "name": "stdout",
     "output_type": "stream",
     "text": [
      "------------- ARRAY BIDIMENSIONAL RANDOM_SAMPLE --------------\n",
      "El array unidimensional creado a paratir del método np.random.random_sample(): \n",
      "  [[0.11274559 0.18004318 0.47252523]\n",
      " [0.34435747 0.95433807 0.65651545]] \n",
      "\n"
     ]
    }
   ],
   "source": [
    "print(\"------------- ARRAY BIDIMENSIONAL RANDOM_SAMPLE --------------\")\n",
    "# en este caso estamos generando un array bidimensional de 2 filas y 3 columnas con números aleatorios entre el 0 y el 1\n",
    "\n",
    "array_sample_bi = np.random.random_sample((2,3))\n",
    "print(f\"El array unidimensional creado a paratir del método np.random.random_sample(): \\n  {array_sample_bi} \\n\")"
   ]
  },
  {
   "cell_type": "code",
   "execution_count": 25,
   "metadata": {},
   "outputs": [
    {
     "name": "stdout",
     "output_type": "stream",
     "text": [
      "------------- ARRAY TRIDIMENSIONAL RANDOM_SAMPLE --------------\n",
      "El array unidimensional creado a partir del método  np.random.random_sample(): \n",
      "  [[[0.98357087 0.84859525 0.79839813 0.12176737]\n",
      "  [0.10372541 0.95900417 0.82793553 0.08277138]\n",
      "  [0.05991977 0.62914883 0.61434677 0.1347982 ]]\n",
      "\n",
      " [[0.60329376 0.21408239 0.74336489 0.01670447]\n",
      "  [0.50680995 0.82312775 0.04604038 0.5234078 ]\n",
      "  [0.12119501 0.4161758  0.96162347 0.54118708]]] \n",
      "\n"
     ]
    }
   ],
   "source": [
    "print(\"------------- ARRAY TRIDIMENSIONAL RANDOM_SAMPLE --------------\")\n",
    "# en este caso estamos generando un array tridimensional de 2 matrices, 3 filas  y 4 columnas con números aleatorios entre el 0 y el 1\n",
    "\n",
    "array_sample_tri = np.random.random_sample((2,3, 4))\n",
    "print(f\"El array unidimensional creado a partir del método  np.random.random_sample(): \\n  {array_sample_tri} \\n\")\n"
   ]
  },
  {
   "cell_type": "markdown",
   "metadata": {},
   "source": [
    "# Ejercicios\n",
    "\n",
    "1.  Genera un *array* bidimensional de 4 x 3 con valores aleatorios enteros entre el 34 y el 98. Una vez creado cada array comprueba las dimensiones y los tipos de datos que tenemos en el array. \n",
    "\n",
    "2. Crea dos *arrays* (unidimensional, bidimensional) usando el método `np.array()`. \n",
    "\n",
    "    Las listas para crear los *arrays* son las siguientes\n",
    "\n",
    "    ```python\n",
    "    lista1 = [34,56,71,98, 10]\n",
    "    lista2 = [[23,45,89, 56], [12,43,82,44]]\n",
    "    ```\n",
    "\n",
    "    **Bonus** Haz una pequeña descripción de cada *array* usando los métodos de exploración de *arrays* que hemos aprendido.\n",
    "\n",
    "\n"
   ]
  },
  {
   "cell_type": "code",
   "execution_count": 41,
   "metadata": {},
   "outputs": [
    {
     "name": "stdout",
     "output_type": "stream",
     "text": [
      "------------- ARRAY BIDIMENSIONAL RANDINT --------------\n",
      "El array bidimensional creado a partir del método np.random.randint(): \n",
      "  [[48 63 54]\n",
      " [56 51 95]\n",
      " [36 95 72]\n",
      " [94 60 64]] \n",
      "\n"
     ]
    }
   ],
   "source": [
    "# Ejercicio 1\n",
    "print(\"------------- ARRAY BIDIMENSIONAL RANDINT --------------\")\n",
    "array_randint_bi = np.random.randint(34, 99, (4,3))\n",
    "print(f\"El array bidimensional creado a partir del método np.random.randint(): \\n  {array_randint_bi} \\n\")"
   ]
  },
  {
   "cell_type": "code",
   "execution_count": 43,
   "metadata": {},
   "outputs": [
    {
     "name": "stdout",
     "output_type": "stream",
     "text": [
      "-------------ARRAY UNIDIMENSIONAL--------------\n",
      "El número de dimensiones del array unidimensional es: 2\n",
      "El tipo de dato que tenemos en el array unidimensional es: int64\n",
      "\n"
     ]
    }
   ],
   "source": [
    "print(\"-------------ARRAY UNIDIMENSIONAL--------------\")\n",
    "print(f\"El número de dimensiones del array unidimensional es: {array_randint_bi.ndim}\")\n",
    "print(f\"El tipo de dato que tenemos en el array unidimensional es: {array_randint_bi.dtype}\\n\")"
   ]
  },
  {
   "cell_type": "code",
   "execution_count": 44,
   "metadata": {},
   "outputs": [],
   "source": [
    "# Ejercicio 2\n",
    "lista1 = [34,56,71,98,10]\n",
    "lista2 = [[23,45,89,56], [12,43,82,44]]"
   ]
  },
  {
   "cell_type": "code",
   "execution_count": 45,
   "metadata": {},
   "outputs": [
    {
     "name": "stdout",
     "output_type": "stream",
     "text": [
      "El array unidimensional creado a partir de la lista1 es: \n",
      "  [34 56 71 98 10] \n",
      "\n",
      "El array bidimensional creado a partir de la lista2 es:\n",
      "  [[23 45 89 56]\n",
      " [12 43 82 44]]\n",
      "\n"
     ]
    }
   ],
   "source": [
    "array_unidimensional = np.array(lista1)\n",
    "print(f\"El array unidimensional creado a partir de la lista1 es: \\n  {array_unidimensional} \\n\")\n",
    "\n",
    "array_bidimensional = np.array(lista2)\n",
    "print(f\"El array bidimensional creado a partir de la lista2 es:\\n  {array_bidimensional}\\n\")"
   ]
  },
  {
   "cell_type": "code",
   "execution_count": 46,
   "metadata": {},
   "outputs": [
    {
     "name": "stdout",
     "output_type": "stream",
     "text": [
      "-------------ARRAY UNIDIMENSIONAL--------------\n",
      "El array unidimensional es: \n",
      "  [34 56 71 98 10]\n",
      "La forma del array unidimensional es: (5,)\n",
      "El número de dimensiones del array unidimensional es: 1\n",
      "El número de elementos del array unidimensional es: 5\n",
      "El tipo de dato que tenemos en el array unidimensional es: int64\n",
      "\n"
     ]
    }
   ],
   "source": [
    "print(\"-------------ARRAY UNIDIMENSIONAL--------------\")\n",
    "print(f\"El array unidimensional es: \\n  {array_unidimensional}\")\n",
    "print(f\"La forma del array unidimensional es: {array_unidimensional.shape}\")\n",
    "print(f\"El número de dimensiones del array unidimensional es: {array_unidimensional.ndim}\")\n",
    "print(f\"El número de elementos del array unidimensional es: {array_unidimensional.size}\")\n",
    "print(f\"El tipo de dato que tenemos en el array unidimensional es: {array_unidimensional.dtype}\\n\")"
   ]
  },
  {
   "cell_type": "code",
   "execution_count": 47,
   "metadata": {},
   "outputs": [
    {
     "name": "stdout",
     "output_type": "stream",
     "text": [
      "-------------ARRAY BIDIMENSIONAL--------------\n",
      "El array bidimensional es: \n",
      "  [[23 45 89 56]\n",
      " [12 43 82 44]]\n",
      "La forma del array bidimensional es: (2, 4)\n",
      "El número de dimensiones del array bidimensional es: 2\n",
      "El número de elementos del array bidimensional es: 8\n",
      "El tipo de dato que tenemos en el array bidimensional es: int64\n",
      "\n"
     ]
    }
   ],
   "source": [
    "print(\"-------------ARRAY BIDIMENSIONAL--------------\")\n",
    "print(f\"El array bidimensional es: \\n  {array_bidimensional}\")\n",
    "print(f\"La forma del array bidimensional es: {array_bidimensional.shape}\")\n",
    "print(f\"El número de dimensiones del array bidimensional es: {array_bidimensional.ndim}\")\n",
    "print(f\"El número de elementos del array bidimensional es: {array_bidimensional.size}\")\n",
    "print(f\"El tipo de dato que tenemos en el array bidimensional es: {array_bidimensional.dtype}\\n\")"
   ]
  }
 ],
 "metadata": {
  "kernelspec": {
   "display_name": "Python 3 (ipykernel)",
   "language": "python",
   "name": "python3"
  },
  "language_info": {
   "codemirror_mode": {
    "name": "ipython",
    "version": 3
   },
   "file_extension": ".py",
   "mimetype": "text/x-python",
   "name": "python",
   "nbconvert_exporter": "python",
   "pygments_lexer": "ipython3",
   "version": "3.11.9"
  },
  "toc": {
   "base_numbering": 1,
   "nav_menu": {},
   "number_sections": true,
   "sideBar": true,
   "skip_h1_title": false,
   "title_cell": "Table of Contents",
   "title_sidebar": "Contents",
   "toc_cell": true,
   "toc_position": {
    "height": "calc(100% - 180px)",
    "left": "10px",
    "top": "150px",
    "width": "426.667px"
   },
   "toc_section_display": true,
   "toc_window_display": true
  }
 },
 "nbformat": 4,
 "nbformat_minor": 2
}

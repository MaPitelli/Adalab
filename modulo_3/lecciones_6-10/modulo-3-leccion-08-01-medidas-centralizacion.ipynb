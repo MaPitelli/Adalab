{
 "cells": [
  {
   "cell_type": "markdown",
   "metadata": {},
   "source": [
    "# Estadística descriptiva "
   ]
  },
  {
   "cell_type": "code",
   "execution_count": 1,
   "metadata": {},
   "outputs": [],
   "source": [
    "# para la lección de hoy tendremos que instalar la siguiente librería. Recordad eliminar \"#\"\n",
    "# !pip install scipy"
   ]
  },
  {
   "cell_type": "code",
   "execution_count": 2,
   "metadata": {},
   "outputs": [],
   "source": [
    "# importamos las librerías que necesitamos\n",
    "\n",
    "# Tratamiento de datos\n",
    "# -----------------------------------------------------------------------\n",
    "import pandas as pd\n",
    "import numpy as np\n",
    "\n",
    "# Visualización\n",
    "# ------------------------------------------------------------------------------\n",
    "import matplotlib.pyplot as plt\n",
    "import seaborn as sns\n",
    "\n",
    "# Evaluar linealidad de las relaciones entre las variables\n",
    "# ------------------------------------------------------------------------------\n",
    "from scipy.stats import shapiro, kstest\n",
    "\n",
    "# Configuración\n",
    "# -----------------------------------------------------------------------\n",
    "pd.set_option('display.max_columns', None) # para poder visualizar todas las columnas de los DataFrames\n",
    "\n",
    "# Gestión de los warnings\n",
    "# -----------------------------------------------------------------------\n",
    "import warnings\n",
    "warnings.filterwarnings(\"ignore\")\n"
   ]
  },
  {
   "cell_type": "code",
   "execution_count": 4,
   "metadata": {},
   "outputs": [
    {
     "data": {
      "text/html": [
       "<div>\n",
       "<style scoped>\n",
       "    .dataframe tbody tr th:only-of-type {\n",
       "        vertical-align: middle;\n",
       "    }\n",
       "\n",
       "    .dataframe tbody tr th {\n",
       "        vertical-align: top;\n",
       "    }\n",
       "\n",
       "    .dataframe thead th {\n",
       "        text-align: right;\n",
       "    }\n",
       "</style>\n",
       "<table border=\"1\" class=\"dataframe\">\n",
       "  <thead>\n",
       "    <tr style=\"text-align: right;\">\n",
       "      <th></th>\n",
       "      <th>income</th>\n",
       "      <th>kidhome</th>\n",
       "      <th>teenhome</th>\n",
       "      <th>dt_customer</th>\n",
       "      <th>numwebvisitsmonth</th>\n",
       "      <th>id</th>\n",
       "      <th>age</th>\n",
       "      <th>job</th>\n",
       "      <th>marital</th>\n",
       "      <th>education</th>\n",
       "      <th>default</th>\n",
       "      <th>housing</th>\n",
       "      <th>loan</th>\n",
       "      <th>contact</th>\n",
       "      <th>duration</th>\n",
       "      <th>campaign</th>\n",
       "      <th>pdays</th>\n",
       "      <th>previous</th>\n",
       "      <th>poutcome</th>\n",
       "      <th>empvarrate</th>\n",
       "      <th>conspriceidx</th>\n",
       "      <th>consconfidx</th>\n",
       "      <th>euribor3m</th>\n",
       "      <th>nremployed</th>\n",
       "      <th>y</th>\n",
       "      <th>date</th>\n",
       "      <th>latitude</th>\n",
       "      <th>longitude</th>\n",
       "      <th>contact_month</th>\n",
       "      <th>contact_year</th>\n",
       "      <th>age_cat</th>\n",
       "      <th>hijos_totales</th>\n",
       "    </tr>\n",
       "  </thead>\n",
       "  <tbody>\n",
       "    <tr>\n",
       "      <th>0</th>\n",
       "      <td>161770</td>\n",
       "      <td>1</td>\n",
       "      <td>0</td>\n",
       "      <td>2012-04-04</td>\n",
       "      <td>29</td>\n",
       "      <td>089b39d8-e4d0-461b-87d4-814d71e0e079</td>\n",
       "      <td>NaN</td>\n",
       "      <td>housemaid</td>\n",
       "      <td>married</td>\n",
       "      <td>basic 4y</td>\n",
       "      <td>No</td>\n",
       "      <td>No</td>\n",
       "      <td>No</td>\n",
       "      <td>telephone</td>\n",
       "      <td>261</td>\n",
       "      <td>1</td>\n",
       "      <td>NaN</td>\n",
       "      <td>0</td>\n",
       "      <td>nonexistent</td>\n",
       "      <td>1.1</td>\n",
       "      <td>93.994</td>\n",
       "      <td>-36.4</td>\n",
       "      <td>4.857</td>\n",
       "      <td>5191</td>\n",
       "      <td>no</td>\n",
       "      <td>2-agosto-2019</td>\n",
       "      <td>41.495</td>\n",
       "      <td>-71.233</td>\n",
       "      <td>agosto</td>\n",
       "      <td>2019.0</td>\n",
       "      <td>Adultos mayores</td>\n",
       "      <td>1 hijos</td>\n",
       "    </tr>\n",
       "    <tr>\n",
       "      <th>1</th>\n",
       "      <td>85477</td>\n",
       "      <td>1</td>\n",
       "      <td>1</td>\n",
       "      <td>2012-12-30</td>\n",
       "      <td>7</td>\n",
       "      <td>e9d37224-cb6f-4942-98d7-46672963d097</td>\n",
       "      <td>57.0</td>\n",
       "      <td>services</td>\n",
       "      <td>married</td>\n",
       "      <td>high school</td>\n",
       "      <td>NaN</td>\n",
       "      <td>No</td>\n",
       "      <td>No</td>\n",
       "      <td>telephone</td>\n",
       "      <td>149</td>\n",
       "      <td>1</td>\n",
       "      <td>NaN</td>\n",
       "      <td>0</td>\n",
       "      <td>nonexistent</td>\n",
       "      <td>1.1</td>\n",
       "      <td>93.994</td>\n",
       "      <td>-36.4</td>\n",
       "      <td>NaN</td>\n",
       "      <td>5191</td>\n",
       "      <td>no</td>\n",
       "      <td>14-septiembre-2016</td>\n",
       "      <td>34.601</td>\n",
       "      <td>-83.923</td>\n",
       "      <td>septiembre</td>\n",
       "      <td>2016.0</td>\n",
       "      <td>Mediana edad</td>\n",
       "      <td>2 hijos</td>\n",
       "    </tr>\n",
       "    <tr>\n",
       "      <th>2</th>\n",
       "      <td>147233</td>\n",
       "      <td>1</td>\n",
       "      <td>1</td>\n",
       "      <td>2012-02-02</td>\n",
       "      <td>5</td>\n",
       "      <td>3f9f49b5-e410-4948-bf6e-f9244f04918b</td>\n",
       "      <td>37.0</td>\n",
       "      <td>services</td>\n",
       "      <td>married</td>\n",
       "      <td>high school</td>\n",
       "      <td>No</td>\n",
       "      <td>Si</td>\n",
       "      <td>No</td>\n",
       "      <td>telephone</td>\n",
       "      <td>226</td>\n",
       "      <td>1</td>\n",
       "      <td>NaN</td>\n",
       "      <td>0</td>\n",
       "      <td>nonexistent</td>\n",
       "      <td>1.1</td>\n",
       "      <td>93.994</td>\n",
       "      <td>-36.4</td>\n",
       "      <td>4.857</td>\n",
       "      <td>5191</td>\n",
       "      <td>no</td>\n",
       "      <td>15-febrero-2019</td>\n",
       "      <td>34.939</td>\n",
       "      <td>-94.847</td>\n",
       "      <td>febrero</td>\n",
       "      <td>2019.0</td>\n",
       "      <td>Adultos jóvenes</td>\n",
       "      <td>2 hijos</td>\n",
       "    </tr>\n",
       "    <tr>\n",
       "      <th>3</th>\n",
       "      <td>121393</td>\n",
       "      <td>1</td>\n",
       "      <td>2</td>\n",
       "      <td>2012-12-21</td>\n",
       "      <td>29</td>\n",
       "      <td>9991fafb-4447-451a-8be2-b0df6098d13e</td>\n",
       "      <td>40.0</td>\n",
       "      <td>admin.</td>\n",
       "      <td>married</td>\n",
       "      <td>basic 6y</td>\n",
       "      <td>No</td>\n",
       "      <td>No</td>\n",
       "      <td>No</td>\n",
       "      <td>telephone</td>\n",
       "      <td>151</td>\n",
       "      <td>1</td>\n",
       "      <td>NaN</td>\n",
       "      <td>0</td>\n",
       "      <td>nonexistent</td>\n",
       "      <td>1.1</td>\n",
       "      <td>93.994</td>\n",
       "      <td>-36.4</td>\n",
       "      <td>NaN</td>\n",
       "      <td>5191</td>\n",
       "      <td>no</td>\n",
       "      <td>29-noviembre-2015</td>\n",
       "      <td>49.041</td>\n",
       "      <td>-70.308</td>\n",
       "      <td>noviembre</td>\n",
       "      <td>2015.0</td>\n",
       "      <td>Mediana edad</td>\n",
       "      <td>3 hijos</td>\n",
       "    </tr>\n",
       "    <tr>\n",
       "      <th>4</th>\n",
       "      <td>63164</td>\n",
       "      <td>1</td>\n",
       "      <td>2</td>\n",
       "      <td>2012-06-20</td>\n",
       "      <td>20</td>\n",
       "      <td>eca60b76-70b6-4077-80ba-bc52e8ebb0eb</td>\n",
       "      <td>56.0</td>\n",
       "      <td>services</td>\n",
       "      <td>married</td>\n",
       "      <td>high school</td>\n",
       "      <td>No</td>\n",
       "      <td>No</td>\n",
       "      <td>Si</td>\n",
       "      <td>telephone</td>\n",
       "      <td>307</td>\n",
       "      <td>1</td>\n",
       "      <td>NaN</td>\n",
       "      <td>0</td>\n",
       "      <td>nonexistent</td>\n",
       "      <td>1.1</td>\n",
       "      <td>93.994</td>\n",
       "      <td>-36.4</td>\n",
       "      <td>NaN</td>\n",
       "      <td>5191</td>\n",
       "      <td>no</td>\n",
       "      <td>29-enero-2017</td>\n",
       "      <td>38.033</td>\n",
       "      <td>-104.463</td>\n",
       "      <td>enero</td>\n",
       "      <td>2017.0</td>\n",
       "      <td>Mediana edad</td>\n",
       "      <td>3 hijos</td>\n",
       "    </tr>\n",
       "  </tbody>\n",
       "</table>\n",
       "</div>"
      ],
      "text/plain": [
       "   income  kidhome  teenhome dt_customer  numwebvisitsmonth  \\\n",
       "0  161770        1         0  2012-04-04                 29   \n",
       "1   85477        1         1  2012-12-30                  7   \n",
       "2  147233        1         1  2012-02-02                  5   \n",
       "3  121393        1         2  2012-12-21                 29   \n",
       "4   63164        1         2  2012-06-20                 20   \n",
       "\n",
       "                                     id   age        job  marital  \\\n",
       "0  089b39d8-e4d0-461b-87d4-814d71e0e079   NaN  housemaid  married   \n",
       "1  e9d37224-cb6f-4942-98d7-46672963d097  57.0   services  married   \n",
       "2  3f9f49b5-e410-4948-bf6e-f9244f04918b  37.0   services  married   \n",
       "3  9991fafb-4447-451a-8be2-b0df6098d13e  40.0     admin.  married   \n",
       "4  eca60b76-70b6-4077-80ba-bc52e8ebb0eb  56.0   services  married   \n",
       "\n",
       "     education default housing loan    contact  duration  campaign  pdays  \\\n",
       "0     basic 4y      No      No   No  telephone       261         1    NaN   \n",
       "1  high school     NaN      No   No  telephone       149         1    NaN   \n",
       "2  high school      No      Si   No  telephone       226         1    NaN   \n",
       "3     basic 6y      No      No   No  telephone       151         1    NaN   \n",
       "4  high school      No      No   Si  telephone       307         1    NaN   \n",
       "\n",
       "   previous     poutcome  empvarrate  conspriceidx  consconfidx  euribor3m  \\\n",
       "0         0  nonexistent         1.1        93.994        -36.4      4.857   \n",
       "1         0  nonexistent         1.1        93.994        -36.4        NaN   \n",
       "2         0  nonexistent         1.1        93.994        -36.4      4.857   \n",
       "3         0  nonexistent         1.1        93.994        -36.4        NaN   \n",
       "4         0  nonexistent         1.1        93.994        -36.4        NaN   \n",
       "\n",
       "  nremployed   y                date  latitude  longitude contact_month  \\\n",
       "0       5191  no       2-agosto-2019    41.495    -71.233        agosto   \n",
       "1       5191  no  14-septiembre-2016    34.601    -83.923    septiembre   \n",
       "2       5191  no     15-febrero-2019    34.939    -94.847       febrero   \n",
       "3       5191  no   29-noviembre-2015    49.041    -70.308     noviembre   \n",
       "4       5191  no       29-enero-2017    38.033   -104.463         enero   \n",
       "\n",
       "   contact_year          age_cat hijos_totales  \n",
       "0        2019.0  Adultos mayores       1 hijos  \n",
       "1        2016.0     Mediana edad       2 hijos  \n",
       "2        2019.0  Adultos jóvenes       2 hijos  \n",
       "3        2015.0     Mediana edad       3 hijos  \n",
       "4        2017.0     Mediana edad       3 hijos  "
      ]
     },
     "execution_count": 4,
     "metadata": {},
     "output_type": "execute_result"
    }
   ],
   "source": [
    "# lo primero que hacemos es cargar el dataframe que vamos a usar para esta lección\n",
    "df = pd.read_csv(\"bank-additional_clean.csv\", index_col = 0)\n",
    "df.head()"
   ]
  },
  {
   "cell_type": "markdown",
   "metadata": {},
   "source": [
    "# Medidas de centralización\n",
    "\n"
   ]
  },
  {
   "cell_type": "markdown",
   "metadata": {},
   "source": [
    "## Media\n",
    "Para calcular la media usaremos el método `.mean()` de Pandas. Aquí está la sintaxis básica del método `.mean()`:\n",
    "\n",
    "```python\n",
    "df['Nombre_de_Columna'].mean()\n",
    "```\n",
    "\n",
    "Pongamos dos ejemplos para entender que es la media: \n"
   ]
  },
  {
   "cell_type": "code",
   "execution_count": 5,
   "metadata": {},
   "outputs": [
    {
     "name": "stdout",
     "output_type": "stream",
     "text": [
      "La media de los ingresos de los clientes es: 93241.2\n"
     ]
    }
   ],
   "source": [
    "# Calculamos la media de los ingresos de los clientes.\n",
    "# Interpretación: La media de ingresos representa el valor promedio de ingresos en el conjunto de datos de clientes. En este contexto, nos permite entender cuál es el ingreso promedio de los clientes en la muestra.\n",
    "\n",
    "media_ingresos = df['income'].mean()\n",
    "print(f\"La media de los ingresos de los clientes es: {np.round(media_ingresos, 2)}\")\n"
   ]
  },
  {
   "cell_type": "code",
   "execution_count": 6,
   "metadata": {},
   "outputs": [
    {
     "name": "stdout",
     "output_type": "stream",
     "text": [
      "La media de edad de los clientes es: 39.98\n"
     ]
    }
   ],
   "source": [
    "# Calculamos la media de edad de los clientes.\n",
    "# Interpretación: La media de edad nos proporciona la edad promedio de los clientes en el conjunto de datos. Esto puede ser útil para tener una idea general de la edad de la población de clientes.\n",
    "\n",
    "media_edad = df['age'].mean()\n",
    "print(f\"La media de edad de los clientes es: {np.round(media_edad, 2)}\")"
   ]
  },
  {
   "cell_type": "markdown",
   "metadata": {},
   "source": [
    "## Mediana\n",
    "\n",
    "Para calcular la mediana usaremos el método `.median()`.  Aquí está la sintaxis básica del método `.median()`:\n",
    "\n",
    "```python\n",
    "df['Nombre_de_Columna'].median()\n",
    "```"
   ]
  },
  {
   "cell_type": "code",
   "execution_count": 7,
   "metadata": {},
   "outputs": [
    {
     "name": "stdout",
     "output_type": "stream",
     "text": [
      "La media de los ingresos de los clientes es: 93241.2\n",
      "La mediana de los ingresos de los clientes es: 93050.5\n"
     ]
    }
   ],
   "source": [
    "#  Calculamos la mediana de los ingresos de los clientes.\n",
    "# Interpretación: La mediana de ingresos es el valor medio de ingresos en el conjunto de datos de clientes cuando los ingresos se ordenan en orden ascendente. En este contexto, nos proporciona el valor de ingresos que se encuentra en la mitad del conjunto de datos, lo que significa que el 50% de los clientes tienen ingresos por encima de este valor y el 50% por debajo.\n",
    "\n",
    "mediana_ingresos = df['income'].median()\n",
    "print(f\"La media de los ingresos de los clientes es: {np.round(media_ingresos, 2)}\")\n",
    "print(f\"La mediana de los ingresos de los clientes es: {np.round(mediana_ingresos, 2)}\")\n"
   ]
  },
  {
   "cell_type": "markdown",
   "metadata": {},
   "source": [
    "**Entonces, ¿Cuál es la diferencia entre media y mediana?**\n",
    "\n",
    "1. **Media de los Ingresos:** La media de los ingresos de los clientes es aproximadamente 93241.2$ \n",
    "Esto significa que si sumamos todos los ingresos de los clientes y luego dividimos ese total por la cantidad de clientes, obtendríamos alrededor de 93241.2$. \n",
    "Es como si estuviéramos repartiendo equitativamente el dinero entre todos los clientes, y cada uno recibiría alrededor de 93241.2 $.\n",
    "\n",
    "2. **Mediana de los Ingresos:** La mediana de los ingresos de los clientes es aproximadamente 93050.5$. \n",
    "Imagina que hacemos una lista de todos los ingresos de los clientes en orden de menor a mayor. Luego, encontramos el ingreso que está justo en el medio de la lista. Ese valor es la mediana. En este caso, la mediana es 93050.5$. Esto significa que la mitad de los clientes tiene ingresos menores o iguales a 93050.5$, \n",
    "y la otra mitad tiene ingresos mayores o iguales a esa cantidad.\n",
    "\n",
    "En resumen, la **media** es el promedio de todos los ingresos y puede verse afectada por valores extremos, mientras que la **mediana** es el ingreso que se encuentra justo en el medio cuando los ingresos se ordenan, y no se ve influenciada por valores extremos. Ambas medidas son importantes para entender la distribución de los ingresos de los clientes.\n"
   ]
  },
  {
   "cell_type": "code",
   "execution_count": 8,
   "metadata": {},
   "outputs": [
    {
     "name": "stdout",
     "output_type": "stream",
     "text": [
      "La media de la edad de los clientes es: 39.98\n",
      "La mediana de edad de los clientes es: 38.0\n"
     ]
    }
   ],
   "source": [
    "# Calculamos la mediana de edad de los clientes.\n",
    "# Interpretación: La mediana de edad es el valor medio de edad en el conjunto de datos de clientes cuando las edades se ordenan en orden ascendente. En este contexto, nos proporciona el valor de edad que se encuentra en la mitad del conjunto de datos, lo que significa que el 50% de los clientes tienen edades por encima de este valor y el 50% por debajo.\n",
    "\n",
    "mediana_edad = df['age'].median()\n",
    "print(f\"La media de la edad de los clientes es: {np.round(media_edad, 2)}\")\n",
    "print(f\"La mediana de edad de los clientes es: {np.round(mediana_edad, 2)}\")"
   ]
  },
  {
   "cell_type": "markdown",
   "metadata": {},
   "source": [
    "Para visualizar la mediana, podemos utilizar un diagrama de caja (*boxplot*) que muestra la distribución de los datos y resalta la mediana junto con los cuartiles (que aprenderemos que son a lo largo de esta lección).\n"
   ]
  },
  {
   "cell_type": "code",
   "execution_count": 9,
   "metadata": {},
   "outputs": [
    {
     "data": {
      "image/png": "[encoded data removed]",
      "text/plain": [
       "<Figure size 800x600 with 1 Axes>"
      ]
     },
     "metadata": {},
     "output_type": "display_data"
    }
   ],
   "source": [
    "# establecemos el tamaño de la figura\n",
    "plt.figure(figsize=(8, 6))\n",
    "\n",
    "# utilizando el método boxplot visualizamos la mediana, cambiamos el color del boxplot\n",
    "sns.boxplot(x='income', \n",
    "            data=df, \n",
    "            color='skyblue')\n",
    "\n",
    "# cambiamos el nombre del eje x\n",
    "plt.xlabel('Ingresos')\n",
    "\n",
    "# ponems título a la gráfica\n",
    "plt.title('Diagrama de Caja de Ingresos');\n",
    "\n"
   ]
  },
  {
   "cell_type": "code",
   "execution_count": 15,
   "metadata": {},
   "outputs": [
    {
     "data": {
      "image/png": "[encoded data removed]",
      "text/plain": [
       "<Figure size 800x600 with 1 Axes>"
      ]
     },
     "metadata": {},
     "output_type": "display_data"
    }
   ],
   "source": [
    "# establecemos el tamaño de la figura\n",
    "plt.figure(figsize=(8, 6))\n",
    "\n",
    "# utilizando el método boxplot visualizamos la mediana, cambiamos el color del boxplot\n",
    "sns.boxplot(x='age', \n",
    "            data=df, \n",
    "            color='skyblue')\n",
    "\n",
    "# cambiamos el nombre del eje x\n",
    "plt.xlabel('Edad')\n",
    "\n",
    "# ponems título a la gráfica\n",
    "plt.title('Diagrama de Caja de Edad');\n",
    "\n"
   ]
  },
  {
   "cell_type": "markdown",
   "metadata": {},
   "source": [
    "\n",
    "Este gráfico de caja proporcionará una representación visual de la mediana de ingresos, así como información sobre la dispersión de los datos en esa columna.\n",
    "\n",
    "Para la mediana de edad, podéis seguir el mismo enfoque y crear un diagrama de caja similar, cambiando `'income'` por `'age'` en el código anterior y viendo los resultados. "
   ]
  },
  {
   "cell_type": "markdown",
   "metadata": {},
   "source": [
    "## Moda\n",
    "\n",
    "Para calcular la moda usaremos el método `.mode()`. La sintaxis básica del método `.mode()`:\n",
    "\n",
    "```python\n",
    "df['Nombre_de_Columna'].mode()\n",
    "```"
   ]
  },
  {
   "cell_type": "code",
   "execution_count": 10,
   "metadata": {},
   "outputs": [
    {
     "name": "stdout",
     "output_type": "stream",
     "text": [
      "La moda de la educación (el tipo de educación que más tienen los clientes) es: university degree\n"
     ]
    }
   ],
   "source": [
    "#  Calculamos la moda de la educación de los clientes.\n",
    "# Interpretación:  La moda de educación nos muestra el nivel educativo que es más común entre los clientes en nuestro conjunto de datos. En otras palabras, es el nivel educativo con la mayor frecuencia de aparición.\n",
    "\n",
    "moda_educacion = df['education'].mode()\n",
    "print(f\"La moda de la educación (el tipo de educación que más tienen los clientes) es: {moda_educacion[0]}\")\n"
   ]
  },
  {
   "cell_type": "code",
   "execution_count": 11,
   "metadata": {},
   "outputs": [
    {
     "name": "stdout",
     "output_type": "stream",
     "text": [
      "La moda del mes de contacto (el mes que más contactan con los clientes) es: noviembre\n"
     ]
    }
   ],
   "source": [
    "# Calculamos la moda del mes en que se realizó el contacto.\n",
    "# Interpretación: La moda del mes de contacto nos dice en qué mes se realizó la mayoría de los contactos con los clientes. Es el mes con la mayor frecuencia de aparición en las interacciones.\n",
    "\n",
    "moda_mes_contacto = df['contact_month'].mode()\n",
    "print(f\"La moda del mes de contacto (el mes que más contactan con los clientes) es: {moda_mes_contacto[0]}\")\n"
   ]
  },
  {
   "cell_type": "markdown",
   "metadata": {},
   "source": [
    "Las dos formas comunes de visualizar la moda en Seaborn, dependiendo de si estás trabajando con variables categóricas o numéricas."
   ]
  },
  {
   "cell_type": "code",
   "execution_count": 12,
   "metadata": {},
   "outputs": [
    {
     "data": {
      "image/png": "[encoded data removed]",
      "text/plain": [
       "<Figure size 800x600 with 1 Axes>"
      ]
     },
     "metadata": {},
     "output_type": "display_data"
    }
   ],
   "source": [
    "# Para variables categóricas (como niveles educativos, estados, etc.) usaremos un 'countplot()'\n",
    "# Este gráfico de barras mostrará la frecuencia de cada nivel educativo y resaltará cuál es el más común (la moda).\n",
    "\n",
    "\n",
    "# establecemos el tamaño de la gráfica\n",
    "plt.figure(figsize=(8, 6))\n",
    "\n",
    "# usamos el método `countplot()` para contar cuántos datos por categoría\n",
    "sns.countplot(x='education', \n",
    "              data=df, \n",
    "              palette='Set1')\n",
    "\n",
    "# cambiamos el nombre del eje x\n",
    "plt.xlabel('Nivel de Educación')\n",
    "\n",
    "# cambiamos el nombre del eje y\n",
    "plt.ylabel('Frecuencia')\n",
    "\n",
    "# ponemos título a la gráfica\n",
    "plt.title('Moda de Nivel de Educación')\n",
    "\n",
    "# rotamos las etiquetas del eje x si es necesario\n",
    "plt.xticks(rotation=90); "
   ]
  },
  {
   "cell_type": "code",
   "execution_count": 13,
   "metadata": {},
   "outputs": [
    {
     "data": {
      "image/png": "[encoded data removed]",
      "text/plain": [
       "<Figure size 800x600 with 1 Axes>"
      ]
     },
     "metadata": {},
     "output_type": "display_data"
    }
   ],
   "source": [
    "# Para variables numéricas (como edades, ingresos, etc.) usaremos un 'histplot()'\n",
    "# Visualizar la moda de variables numéricas puede ser más desafiante, ya que la moda es un valor específico en lugar de una distribución de categorías. \n",
    "\n",
    "# establecemos el tamaño de la gráfica\n",
    "plt.figure(figsize=(8, 6))\n",
    "\n",
    "# creamos la gráfica usando el método 'histplot()'\n",
    "sns.histplot(data=df,\n",
    "             x='age',\n",
    "             kde=True, \n",
    "             color='aquamarine')\n",
    "\n",
    "# cambiamos el nombre del eje x\n",
    "plt.xlabel('Edad')\n",
    "\n",
    "# cambiamos el nombre del eje y\n",
    "plt.ylabel('Frecuencia')\n",
    "\n",
    "# ponemos título a la gráfica\n",
    "plt.title('Moda de Edades');"
   ]
  }
 ],
 "metadata": {
  "kernelspec": {
   "display_name": "Python 3 (ipykernel)",
   "language": "python",
   "name": "python3"
  },
  "language_info": {
   "codemirror_mode": {
    "name": "ipython",
    "version": 3
   },
   "file_extension": ".py",
   "mimetype": "text/x-python",
   "name": "python",
   "nbconvert_exporter": "python",
   "pygments_lexer": "ipython3",
   "version": "3.11.9"
  },
  "toc": {
   "base_numbering": 1,
   "nav_menu": {},
   "number_sections": true,
   "sideBar": true,
   "skip_h1_title": false,
   "title_cell": "Table of Contents",
   "title_sidebar": "Contents",
   "toc_cell": true,
   "toc_position": {
    "height": "calc(100% - 180px)",
    "left": "10px",
    "top": "150px",
    "width": "307.2px"
   },
   "toc_section_display": true,
   "toc_window_display": true
  }
 },
 "nbformat": 4,
 "nbformat_minor": 2
}

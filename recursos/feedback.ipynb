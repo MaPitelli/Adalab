{
 "cells": [
  {
   "cell_type": "markdown",
   "metadata": {},
   "source": [
    "# Feedback personalizado del módulo 2"
   ]
  },
  {
   "cell_type": "markdown",
   "metadata": {},
   "source": [
    "## Introdución"
   ]
  },
  {
   "cell_type": "markdown",
   "metadata": {},
   "source": [
    "### 1 - Archivo de las clases en Gitbook y manera de visualizar las tablas\n",
    "\n",
    "Cómo tenemos el material ahora mismo no me parece ser la mejor manera. \n",
    "\n",
    "Es dificil visualizar las tablas en el Gitbook, es mas facil verlas en el workbench o Dbeaver, esto dificulta el entendimiento.\n",
    "\n",
    "Texto explicativo de las lecciones: El texto no está claro, la manera como se explican las cosas no es del todo evidente y los errores de tecleo son frecuentes, esto dificulta el entendimeinto."
   ]
  },
  {
   "cell_type": "markdown",
   "metadata": {},
   "source": [
    "### 2 - Contenido de las lecciones de la clase invertida\n",
    "\n",
    "El Gitbook, igual que python, debería de tener una breve introdución sobre el tema que vamos a ver en la clase invertida.\n",
    "\n",
    "El contenido completo de la lección estará en otro archivo, un archivo que permita tener unas celdas de texto que expliquen el contenido, imágenes con los resultados de consultas y además que permita también ver el código en formato SQL. Puede ser una lección que viene con un PDF con los textos e imagenes y que venga con un .sql que podemos abrir para conslutar. La lección orienta la alumna: \"Ahora nos vamos a la parte 3 del archivo SQL, ahora volvemos al PDF, parte 4.\""
   ]
  },
  {
   "cell_type": "markdown",
   "metadata": {},
   "source": [
    "### 3 - Ejemplos de ejercicios resueltos\n",
    "\n",
    "En la clase invertida creo que seria ideal que hubiera como que unos 3 o 4 ejercicios resueltos con imagenes de las tablas y que también explique algunas posibilidades de errores mas comunes.\n",
    "\n",
    "¿Cómo? En pasitos muy pequeños, que se cuente la linea de pensamiento que hay que tener para llegar a la respuesta.\n",
    "\n",
    "Por ejemplo: Se coge el enunciado del ejercicio y empezamos a hacer preguntas:\n",
    "\n",
    "Pregunta 1: Qué valores me están pidiendo que enseñe? y luego se contesta a la pregunta y se hace una query que enseñe estos valores si conviene.\n",
    "\n",
    "Añado la imágen del resultado de la query. \"podemos observar que este resultado nos devuelve x filas...\"\n",
    "\n",
    "P2: En qué tablas están los valores que tengo que retornar? Se contesta. \n",
    "\n",
    "P3: Cómo hago para unir esas tablas en mi consulta? Que camino tengo que pensar para estar segura de que la union que elegi es correcta? Es inner join? Es left? Es otra cosa? Respuesta: El enunciado pide que tal y cuál, por lo tanto, la manera mas adecuada de unir seria esta. Sin embargo, si lo unimos de esa otra forma también funcionaría. Pero cuidado, aquí no nos vale la manera de unir x porque tal y cuál. \n",
    "\n",
    "P4: Tengo que filtrar mi consulta de alguna manera? Porque? que pasa si no filtro? Que problemas comúnes me pueden pasar a la hora de filtrar? \n",
    "\n",
    "y así hasta que se haya creado una línea de pensamiento completa para llegar a la respuesta, siempre con ejemplos de errores comúnes y haciendo mini preguntas que construyan el camino de la respuesta. Usando siempre imágenes de las consultas, para saber que está saliendo bien y que sale mal. Comentar los errores: \"Aquí nos sale este error porque estamos intentando hacer tal y cuál cuando deberíamos de estar haciendo tal y cuál.\"\n",
    "\n",
    "Una vez que esté resuelto, le doy al mismo ejercicio una segunda opción de respuesta y comento: Esta segunda opción no es ideal por tal y cuál pero funcionaría o esta segunda opción es igual de buena que la primera por tal cuál y cuál.\n",
    "\n",
    "Una vez que tengo unos ejemplos robustos de ejercicios resueltos, luego los ejercicios de la lección y del pair programming que sigan el mismo estilo y que sean posibles de resolver, que no sean fáciles, porque los de la lección tampoco fueron fáciles, pero que sean posibles, sin pelear mucho. Luego en el Bonus se pone unos ejercicios mas avanzados para las alumnas que quieran pelear un poco mas. "
   ]
  },
  {
   "cell_type": "markdown",
   "metadata": {},
   "source": [
    "### 4 - La importancia de la clase grabada en video\n",
    "\n",
    "Una vez que estén creado los archivos de la clase, se graba un video explicativo, con un límite de tiempo, para no sobrecargar las alumnas.\n",
    "\n",
    "En este video, se explicar el texto de la lección y se resuelve el ejercicio, usando como referencia la metodología de las clases de API, BS y Selenium. \n",
    "\n",
    "Primero me hago una consulta frankenstein, trocitos de consulta que funcionem, si conviene, y luego los uno y convierto en la respuesta correcta.\n",
    "\n",
    "Lo mas importante es crear en la mente de la alumna el camino que lleve a la respuesta. "
   ]
  }
 ],
 "metadata": {
  "kernelspec": {
   "display_name": "base",
   "language": "python",
   "name": "python3"
  },
  "language_info": {
   "codemirror_mode": {
    "name": "ipython",
    "version": 3
   },
   "file_extension": ".py",
   "mimetype": "text/x-python",
   "name": "python",
   "nbconvert_exporter": "python",
   "pygments_lexer": "ipython3",
   "version": "3.11.9"
  }
 },
 "nbformat": 4,
 "nbformat_minor": 2
}

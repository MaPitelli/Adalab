{
 "cells": [
  {
   "cell_type": "markdown",
   "metadata": {},
   "source": [
    "## Código para numerar ejercicios del Gitbook"
   ]
  },
  {
   "cell_type": "code",
   "execution_count": null,
   "metadata": {},
   "outputs": [],
   "source": [
    "texto = \"Variable que contiene los ejercícios para numerar, es un string.\"\n",
    "frases = texto.split(\".\\n\\n\")  \n",
    "for i, frase in enumerate(frases):  \n",
    "    numero = i + 1  \n",
    "    nueva_frase = f\"{numero}. {frase}\" \n",
    "    print(nueva_frase)  "
   ]
  },
  {
   "cell_type": "code",
   "execution_count": 4,
   "metadata": {},
   "outputs": [
    {
     "name": "stdout",
     "output_type": "stream",
     "text": [
      "1. Crear un conjunto vacío: Crea un conjunto llamado mi_set que esté vacío\n",
      "2. Agregar elementos a un conjunto: Agrega los números 1, 2 y 3 al conjunto mi_set\n",
      "3. Eliminar elementos de un conjunto: Elimina el número 2 del conjunto mi_set\n",
      "4. Verificar pertenencia: Comprueba si el número 3 está en mi_set y almacena el resultado en una variable llamada existe\n",
      "5. Operaciones de conjuntos: Crea dos conjuntos set1 y set2 con números y encuentra la intersección de ambos conjuntos\n",
      "6. Unión de conjuntos: Combina set1 y set2 para formar un nuevo conjunto que contenga todos los elementos de ambos\n",
      "7. Diferencia de conjuntos: Encuentra los elementos que están en set1 pero no en set2\n",
      "8. Comparación de conjuntos: Comprueba si set1 es un subconjunto de set2 y almacena el resultado en una variable llamada es_subconjunto\n",
      "9. Eliminar elementos duplicados: Dada una lista mi_lista con elementos duplicados, conviértela en un conjunto para eliminar los duplicados\n",
      "10. Comprobar igualdad de conjuntos: Compara si set1 y set2 son iguales y almacena el resultado en una variable llamada son_iguales.\n"
     ]
    }
   ],
   "source": [
    "texto = '''Crear un conjunto vacío: Crea un conjunto llamado mi_set que esté vacío.\n",
    "\n",
    "Agregar elementos a un conjunto: Agrega los números 1, 2 y 3 al conjunto mi_set.\n",
    "\n",
    "Eliminar elementos de un conjunto: Elimina el número 2 del conjunto mi_set.\n",
    "\n",
    "Verificar pertenencia: Comprueba si el número 3 está en mi_set y almacena el resultado en una variable llamada existe.\n",
    "\n",
    "Operaciones de conjuntos: Crea dos conjuntos set1 y set2 con números y encuentra la intersección de ambos conjuntos.\n",
    "\n",
    "Unión de conjuntos: Combina set1 y set2 para formar un nuevo conjunto que contenga todos los elementos de ambos.\n",
    "\n",
    "Diferencia de conjuntos: Encuentra los elementos que están en set1 pero no en set2.\n",
    "\n",
    "Comparación de conjuntos: Comprueba si set1 es un subconjunto de set2 y almacena el resultado en una variable llamada es_subconjunto.\n",
    "\n",
    "Eliminar elementos duplicados: Dada una lista mi_lista con elementos duplicados, conviértela en un conjunto para eliminar los duplicados.\n",
    "\n",
    "Comprobar igualdad de conjuntos: Compara si set1 y set2 son iguales y almacena el resultado en una variable llamada son_iguales.'''\n",
    "\n",
    "frases = texto.split(\".\\n\\n\")  \n",
    "for i, frase in enumerate(frases):  \n",
    "    numero = i + 1  \n",
    "    nueva_frase = f\"{numero}. {frase}\" \n",
    "    print(nueva_frase)  \n"
   ]
  },
  {
   "cell_type": "code",
   "execution_count": null,
   "metadata": {},
   "outputs": [],
   "source": [
    "import this # Zen of python "
   ]
  },
  {
   "cell_type": "code",
   "execution_count": 1,
   "metadata": {},
   "outputs": [
    {
     "name": "stdout",
     "output_type": "stream",
     "text": [
      "         Fecha Tiempo de Uso\n",
      "0   04/06/2024        8h 30m\n",
      "1   05/06/2024        10h 1m\n",
      "2   06/06/2024         9h 9m\n",
      "3   07/06/2024         9h 4m\n",
      "4   08/06/2024        6h 30m\n",
      "5   09/06/2024        1h 54m\n",
      "6   10/06/2024        12h 6m\n",
      "7   11/06/2024        9h 59m\n",
      "8   12/06/2024        14h 2m\n",
      "9   13/06/2024        10h 5m\n",
      "10  14/06/2024        9h 31m\n",
      "11  15/06/2024        5h 47m\n",
      "12  16/06/2024         8h 4m\n",
      "13  17/06/2024       12h 38m\n",
      "14  18/06/2024       10h 25m\n",
      "15  19/06/2024       11h 51m\n",
      "16  20/06/2024       12h 16m\n",
      "17  21/06/2024       14h 55m\n",
      "18  22/06/2024        2h 43m\n",
      "19  23/06/2024        9h 44m\n",
      "20  24/06/2024        6h 11m\n",
      "21  25/06/2024       12h 14m\n",
      "22  26/06/2024       11h 27m\n",
      "23  27/06/2024        7h 58m\n",
      "24  28/06/2024        10h 8m\n",
      "25  29/06/2024           25m\n"
     ]
    }
   ],
   "source": [
    "import pandas as pd\n",
    "from datetime import datetime, timedelta\n",
    "\n",
    "# Lista de datos proporcionados\n",
    "datos_brutos = [\n",
    "    ('04/06/2024', '8h 30m'),\n",
    "    ('05/06/2024', '10h 1m'),\n",
    "    ('06/06/2024', '9h 9m'),\n",
    "    ('07/06/2024', '9h 4m'),\n",
    "    ('08/06/2024', '6h 30m'),\n",
    "    ('09/06/2024', '1h 54m'),\n",
    "    ('10/06/2024', '12h 6m'),\n",
    "    ('11/06/2024', '9h 59m'),\n",
    "    ('12/06/2024', '14h 2m'),\n",
    "    ('13/06/2024', '10h 5m'),\n",
    "    ('14/06/2024', '9h 31m'),\n",
    "    ('15/06/2024', '5h 47m'),\n",
    "    ('16/06/2024', '8h 4m'),\n",
    "    ('17/06/2024', '12h 38m'),\n",
    "    ('18/06/2024', '10h 25m'),\n",
    "    ('19/06/2024', '11h 51m'),\n",
    "    ('20/06/2024', '12h 16m'),\n",
    "    ('21/06/2024', '14h 55m'),\n",
    "    ('22/06/2024', '2h 43m'),\n",
    "    ('23/06/2024', '9h 44m'),\n",
    "    ('24/06/2024', '6h 11m'),\n",
    "    ('25/06/2024', '12h 14m'),\n",
    "    ('26/06/2024', '11h 27m'),\n",
    "    ('27/06/2024', '7h 58m'),\n",
    "    ('28/06/2024', '10h 8m'),\n",
    "    ('29/06/2024', '25m')\n",
    "]\n",
    "\n",
    "# Crear un DataFrame\n",
    "df = pd.DataFrame(datos_brutos, columns=['Fecha', 'Tiempo de Uso'])\n",
    "\n",
    "# Mostrar el DataFrame\n",
    "print(df)\n"
   ]
  },
  {
   "cell_type": "markdown",
   "metadata": {},
   "source": [
    "| Fecha       | Día       | Tiempo de Uso de ordenador | Tiempo Total Semanal  |\n",
    "|-------------|-----------|----------------------------|-----------------------|\n",
    "| 04/06/2024  | martes    | 8h 30m                     |                       |\n",
    "| 05/06/2024  | miércoles | 10h 1m                     |                       |\n",
    "| 06/06/2024  | jueves    | 9h 9m                      |                       |\n",
    "| 07/06/2024  | viernes   | 9h 4m                      |                       |\n",
    "| 08/06/2024  | sábado    | 6h 30m                     |                       |\n",
    "| 09/06/2024  | domingo   | 1h 54m                     | semana 1: 45h 8m      |\n",
    "| 10/06/2024  | lunes     | 12h 6m                     |                       |\n",
    "| 11/06/2024  | martes    | 9h 59m                     |                       |\n",
    "| 12/06/2024  | miércoles | 14h 2m                     |                       |\n",
    "| 13/06/2024  | jueves    | 10h 5m                     |                       |\n",
    "| 14/06/2024  | viernes   | 9h 31m                     |                       |\n",
    "| 15/06/2024  | sábado    | 5h 47m                     |                       |\n",
    "| 16/06/2024  | domingo   | 8h 4m                      | semana 2: 69h 34m     |\n",
    "| 17/06/2024  | lunes     | 12h 38m                    |                       |\n",
    "| 18/06/2024  | martes    | 10h 25m                    |                       |\n",
    "| 19/06/2024  | miércoles | 11h 51m                    |                       |\n",
    "| 20/06/2024  | jueves    | 12h 16m                    |                       |\n",
    "| 21/06/2024  | viernes   | 14h 55m                    |                       |\n",
    "| 22/06/2024  | sábado    | 2h 43m                     |                       |\n",
    "| 23/06/2024  | domingo   | 9h 44m                     | semana 3: 74h 32m     |\n",
    "| 24/06/2024  | lunes     | 6h 11m                     |                       |\n",
    "| 25/06/2024  | martes    | 12h 14m                    |                       |\n",
    "| 26/06/2024  | miércoles | 11h 27m                    |                       |\n",
    "| 27/06/2024  | jueves    | 7h 58m                     |                       |\n",
    "| 28/06/2024  | viernes   | 10h 8m                     |                       |\n",
    "| 29/06/2024  | sábado    | 25m                        |                       |\n",
    "| 30/06/2024  | domingo   | 6h 20m                     | semana 4: 54h 43m     |"
   ]
  },
  {
   "cell_type": "markdown",
   "metadata": {},
   "source": [
    "| Fecha       | Día       | Tiempo de Uso de ordenador | Tiempo Total Semanal  |\n",
    "|-------------|-----------|----------------------------|-----------------------|\n",
    "| 01/07/2024  | lunes     | 8h 44m                     |                       |\n",
    "| 02/07/2024  | martes    | 7h 22m                     |                       |\n",
    "| 03/07/2024  | miércoles | 7h 29m                     |                       |\n",
    "| 04/07/2024  | jueves    | 10h 13m                    |                       |\n",
    "| 05/07/2024  | viernes   | 11h 29m                    |                       |\n",
    "| 06/07/2024  | sábado    | 0h 16m                     |                       |\n",
    "| 07/07/2024  | domingo   | 4h 43m                     | semana 1: 50h 16m     |\n",
    "| 08/07/2024  | lunes     | 13h 29m                    |                       |\n",
    "| 09/07/2024  | martes    | 10h 33m                    |                       |\n",
    "| 10/07/2024  | miércoles | 9h 48m                     |                       |\n",
    "| 11/07/2024  | jueves    | 11h 55m                    |                       |\n",
    "| 12/07/2024  | viernes   | 9h 42m                     |                       |\n",
    "| 13/07/2024  | sábado    | 8h 39m                     |                       |\n",
    "| 14/07/2024  | domingo   | 3h 47m                     | semana 2: 67h 53m     |\n",
    "| 15/07/2024  | lunes     | 10h 59m                    |                       |\n",
    "| 16/07/2024  | martes    | 10h 26m                    |                       |\n",
    "| 17/07/2024  | miércoles | 7h 16m                     |                       |\n",
    "| 18/07/2024  | jueves    | 9h 22m                     |                       |\n",
    "| 19/07/2024  | viernes   | 7h 14m                     | semana 3: 45h 17m     |\n",
    "\n"
   ]
  },
  {
   "cell_type": "code",
   "execution_count": null,
   "metadata": {},
   "outputs": [],
   "source": [
    "def llamar_api(url, headers, params):\n",
    "    \"\"\"\n",
    "    Realiza una llamada a una API utilizando la URL proporcionada.\n",
    "\n",
    "    Parameters:\n",
    "    -----------\n",
    "    url (str): La URL de la API que se va a llamar.\n",
    "\n",
    "    Returns:\n",
    "    --------\n",
    "    dict or None: Un diccionario con los datos de respuesta de la API si la llamada fue exitosa (código de estado 200).\n",
    "                  None si la llamada falló o no se pudo autenticar correctamente.\n",
    "    \"\"\"\n",
    "    llamada = requests.get(url, headers=headers, params=params)  # Realiza una solicitud GET a la URL proporcionada y almacena la respuesta en 'llamada'.\n",
    "\n",
    "    print(f\"La llamada a la API nos ha dado una respuesta de tipo: {llamada.status_code}\")  # Imprime el código de estado de la respuesta.\n",
    "\n",
    "    if llamada.status_code != 200:  # Comprueba si la respuesta no fue exitosa (código de estado distinto de 200).\n",
    "        print(f\"El motivo REASON por el que la llamada falló es {llamada.reason}\")  # Imprime la razón de la falla.\n",
    "        print(f\"El motivo TEXT por el que la llamada falló es {llamada.text}\")  # Imprime la razón de la falla.\n",
    "    else:\n",
    "        return llamada.json()  # Si la llamada fue exitosa, devuelve los datos de respuesta en formato JSON."
   ]
  },
  {
   "cell_type": "code",
   "execution_count": 1,
   "metadata": {},
   "outputs": [],
   "source": [
    "def llamar_api(url):\n",
    "    \"\"\"\n",
    "    Realiza una llamada a una API utilizando la URL proporcionada.\n",
    "\n",
    "    Parameters:\n",
    "    -----------\n",
    "    url (str): La URL de la API que se va a llamar.\n",
    "\n",
    "    Returns:\n",
    "    --------\n",
    "    dict or None: Un diccionario con los datos de respuesta de la API si la llamada fue exitosa (código de estado 200).\n",
    "                  None si la llamada falló o no se pudo autenticar correctamente.\n",
    "    \"\"\"\n",
    "    llamada = requests.get(url)  # Realiza una solicitud GET a la URL proporcionada y almacena la respuesta en 'llamada'.\n",
    "\n",
    "    print(f\"La llamada a la API nos ha dado una respuesta de tipo: {llamada.status_code}\")  # Imprime el código de estado de la respuesta.\n",
    "\n",
    "    if llamada.status_code != 200:  # Comprueba si la respuesta no fue exitosa (código de estado distinto de 200).\n",
    "        print(f\"El motivo por el que la llamada falló es {llamada.reason}\")  # Imprime la razón de la falla.\n",
    "    else:\n",
    "        return llamada.json()  # Si la llamada fue exitosa, devuelve los datos de respuesta en formato JSON.\n"
   ]
  }
 ],
 "metadata": {
  "kernelspec": {
   "display_name": "base",
   "language": "python",
   "name": "python3"
  },
  "language_info": {
   "codemirror_mode": {
    "name": "ipython",
    "version": 3
   },
   "file_extension": ".py",
   "mimetype": "text/x-python",
   "name": "python",
   "nbconvert_exporter": "python",
   "pygments_lexer": "ipython3",
   "version": "3.11.9"
  }
 },
 "nbformat": 4,
 "nbformat_minor": 2
}

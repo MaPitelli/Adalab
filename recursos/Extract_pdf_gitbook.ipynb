{
 "cells": [
  {
   "cell_type": "code",
   "execution_count": 9,
   "metadata": {},
   "outputs": [],
   "source": [
    "# Importar librerías para tratamiento de datos\n",
    "# -----------------------------------------------------------------------\n",
    "import pandas as pd  # Pandas es una poderosa librería para manipulación y análisis de datos en Python.\n",
    "\n",
    "# Importar librerías para web scraping y manipulación de datos\n",
    "# -----------------------------------------------------------------------\n",
    "from bs4 import BeautifulSoup\n",
    "import requests\n",
    "\n",
    "# Importar librerías para automatización de navegadores web con Selenium\n",
    "# -----------------------------------------------------------------------\n",
    "from selenium import webdriver  # Selenium es una herramienta para automatizar la interacción con navegadores web.\n",
    "from webdriver_manager.chrome import ChromeDriverManager  # ChromeDriverManager gestiona la instalación del controlador de Chrome.\n",
    "from selenium.webdriver.common.keys import Keys  # Keys es útil para simular eventos de teclado en Selenium.\n",
    "from selenium.webdriver.support.ui import Select  # Select se utiliza para interactuar con elementos <select> en páginas web.\n",
    "\n",
    "# Importar librerías para pausar la ejecución\n",
    "# -----------------------------------------------------------------------\n",
    "from time import sleep  # Sleep se utiliza para pausar la ejecución del programa por un número de segundos.\n",
    "\n",
    "# Configuraciones\n",
    "# -----------------------------------------------------------------------\n",
    "pd.set_option('display.max_columns', None)  # Establece una opción de Pandas para mostrar todas las columnas de un DataFrame.\n"
   ]
  },
  {
   "cell_type": "code",
   "execution_count": 13,
   "metadata": {},
   "outputs": [],
   "source": [
    "# Inicializa el navegador Chrome\n",
    "driver = webdriver.Chrome()\n",
    "\n",
    "web_sky_scan = 'https://www.skyscanner.es/' # Selector aceptar cookies: #acceptCookieButton\n",
    "web_google_fly = 'https://www.google.com/travel/flights'\n",
    "web_kayak = 'https://www.kayak.es/' \n",
    "web_momondo = 'https://www.momondo.es/'\n",
    "web_expedia = 'https://www.expedia.es/en/'\n",
    "web_cheapOair = 'https://www.cheapoair.com/'\n",
    "web_hopper = 'https://hopper.com/'\n",
    "\n",
    "driver.get(web_kayak)\n",
    "sleep(3)\n",
    "\n",
    "driver.maximize_window()\n",
    "sleep(4)\n",
    "# selector_acepta_cookies = 'body > div:nth-child(32) > div > div.c-ulo.c-ulo-mod-variant-popup.c-ulo-mod-position-top.c-ulo-mod-direction-none.c-ulo-mod-visible > div > div > div.c9Jm2 > div > div.P4zO-submit-buttons > button:nth-child(1) > div > div'\n",
    "selector_acepta_cookies = 'body > div:nth-child(31) > div > div.c-ulo.c-ulo-mod-variant-popup.c-ulo-mod-position-top.c-ulo-mod-direction-none.c-ulo-mod-visible > div > div > div.c9Jm2 > div > div.P4zO-submit-buttons > button:nth-child(1) > div > div'\n",
    "driver.find_element(\"css selector\", selector_acepta_cookies).click()\n",
    "sleep(5)\n",
    "\n",
    "selector_destino = '#main-search-form > div > div > div:nth-child(2) > div > div > div > div > div:nth-child(2) > div:nth-child(1) > div > div > div:nth-child(3) > div > div > input'\n",
    "lugar_destino = 'Amsterdam'\n",
    "driver.find_element(\"css selector\", selector_destino).send_keys(lugar_destino, Keys.ENTER)\n",
    "\n",
    "# fecha_ida = None\n",
    "# fecha_vuelta = None\n",
    "# selector_fecha_ida = '#main-search-form > div > div > div:nth-child(2) > div > div > div > div > div:nth-child(2) > div:nth-child(2) > div > div > div > div:nth-child(1) > div.JONo-button > div > span'\n",
    "# driver.find_element(\"css selector\", selector_fecha_ida).send_keys(fecha_ida, Keys.ENTER)\n",
    "\n",
    "\n",
    "\n",
    "\n",
    "\n",
    "# # Cierra el navegador\n",
    "# driver.close()"
   ]
  }
 ],
 "metadata": {
  "kernelspec": {
   "display_name": "base",
   "language": "python",
   "name": "python3"
  },
  "language_info": {
   "codemirror_mode": {
    "name": "ipython",
    "version": 3
   },
   "file_extension": ".py",
   "mimetype": "text/x-python",
   "name": "python",
   "nbconvert_exporter": "python",
   "pygments_lexer": "ipython3",
   "version": "3.11.9"
  }
 },
 "nbformat": 4,
 "nbformat_minor": 2
}

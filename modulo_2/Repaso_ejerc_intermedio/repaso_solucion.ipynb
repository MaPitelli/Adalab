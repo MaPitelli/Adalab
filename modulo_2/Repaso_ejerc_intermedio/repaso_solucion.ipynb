{
 "cells": [
  {
   "cell_type": "markdown",
   "metadata": {},
   "source": [
    "Hay que logearse en la obtener un token\n",
    "\n",
    "https://developer.nytimes.com/docs/books-product/1/overview"
   ]
  },
  {
   "cell_type": "code",
   "execution_count": 1,
   "metadata": {},
   "outputs": [],
   "source": [
    "# Importar librerías para manipulación y análisis de datos\n",
    "# -----------------------------------------------------------------------\n",
    "import pandas as pd\n",
    "\n",
    "# Importar librerías para automatización de navegadores web\n",
    "# -----------------------------------------------------------------------\n",
    "from time import sleep\n",
    "from tqdm import tqdm\n",
    "from selenium import webdriver\n",
    "from webdriver_manager.chrome import ChromeDriverManager\n",
    "from selenium.webdriver.common.keys import Keys\n",
    "from selenium.webdriver.chrome.options import Options\n",
    "from selenium.webdriver.support.ui import Select\n",
    "\n",
    "# Importar librería para hacer solicitudes HTTP\n",
    "# -----------------------------------------------------------------------\n",
    "import requests\n",
    "\n",
    "# Importar librería para suprimir advertencias\n",
    "# -----------------------------------------------------------------------\n",
    "import warnings\n",
    "warnings.filterwarnings('ignore')\n"
   ]
  },
  {
   "cell_type": "markdown",
   "metadata": {},
   "source": [
    "# Extracción Datos de la API"
   ]
  },
  {
   "cell_type": "code",
   "execution_count": 2,
   "metadata": {},
   "outputs": [],
   "source": [
    "def llamar_api(url):\n",
    "    \"\"\"\n",
    "    Realiza una llamada a una API utilizando la URL proporcionada.\n",
    "\n",
    "    Parameters:\n",
    "    -----------\n",
    "    url (str): La URL de la API que se va a llamar.\n",
    "\n",
    "    Returns:\n",
    "    --------\n",
    "    dict or None: Un diccionario con los datos de respuesta de la API si la llamada fue exitosa (código de estado 200).\n",
    "                  None si la llamada falló o no se pudo autenticar correctamente.\n",
    "    \"\"\"\n",
    "    llamada = requests.get(url)  # Realiza una solicitud GET a la URL proporcionada y almacena la respuesta en 'llamada'.\n",
    "\n",
    "    print(f\"La llamada a la API nos ha dado una respuesta de tipo: {llamada.status_code}\")  # Imprime el código de estado de la respuesta.\n",
    "\n",
    "    if llamada.status_code != 200:  # Comprueba si la respuesta no fue exitosa (código de estado distinto de 200).\n",
    "        print(f\"El motivo por el que la llamada falló es {llamada.reason}\")  # Imprime la razón de la falla.\n",
    "    else:\n",
    "        return llamada.json()  # Si la llamada fue exitosa, devuelve los datos de respuesta en formato JSON.\n"
   ]
  },
  {
   "cell_type": "code",
   "execution_count": 3,
   "metadata": {},
   "outputs": [
    {
     "name": "stdout",
     "output_type": "stream",
     "text": [
      "La llamada a la API nos ha dado una respuesta de tipo: 200\n"
     ]
    },
    {
     "data": {
      "text/plain": [
       "dict_keys(['status', 'copyright', 'num_results', 'results'])"
      ]
     },
     "execution_count": 3,
     "metadata": {},
     "output_type": "execute_result"
    }
   ],
   "source": [
    "url = \"https://api.nytimes.com/svc/books/v3/reviews.json?author=Stephen+King&api-key=x1KidYoLJF7vUfkX4PFToHAFeGsAswaD\"\n",
    "datos_stephen = llamar_api(url)\n",
    "datos_stephen.keys()"
   ]
  },
  {
   "cell_type": "code",
   "execution_count": 4,
   "metadata": {},
   "outputs": [
    {
     "data": {
      "text/html": [
       "<div>\n",
       "<style scoped>\n",
       "    .dataframe tbody tr th:only-of-type {\n",
       "        vertical-align: middle;\n",
       "    }\n",
       "\n",
       "    .dataframe tbody tr th {\n",
       "        vertical-align: top;\n",
       "    }\n",
       "\n",
       "    .dataframe thead th {\n",
       "        text-align: right;\n",
       "    }\n",
       "</style>\n",
       "<table border=\"1\" class=\"dataframe\">\n",
       "  <thead>\n",
       "    <tr style=\"text-align: right;\">\n",
       "      <th></th>\n",
       "      <th>url</th>\n",
       "      <th>publication_dt</th>\n",
       "      <th>byline</th>\n",
       "      <th>book_title</th>\n",
       "      <th>book_author</th>\n",
       "      <th>summary</th>\n",
       "      <th>uuid</th>\n",
       "      <th>uri</th>\n",
       "      <th>isbn13</th>\n",
       "    </tr>\n",
       "  </thead>\n",
       "  <tbody>\n",
       "    <tr>\n",
       "      <th>0</th>\n",
       "      <td>http://www.nytimes.com/2011/11/13/books/review...</td>\n",
       "      <td>2011-11-13</td>\n",
       "      <td>ERROL MORRIS</td>\n",
       "      <td>11/22/63</td>\n",
       "      <td>Stephen King</td>\n",
       "      <td>Stephen King’s time traveler tries to undo som...</td>\n",
       "      <td>00000000-0000-0000-0000-000000000000</td>\n",
       "      <td>nyt://book/00000000-0000-0000-0000-000000000000</td>\n",
       "      <td>[9780307951434, 9780606351461, 9781442344280, ...</td>\n",
       "    </tr>\n",
       "    <tr>\n",
       "      <th>1</th>\n",
       "      <td>http://www.nytimes.com/2011/10/31/books/stephe...</td>\n",
       "      <td>2011-10-31</td>\n",
       "      <td>JANET MASLIN</td>\n",
       "      <td>11/22/63</td>\n",
       "      <td>Stephen King</td>\n",
       "      <td>Stephen King’s latest novel, “11/22/63,” tells...</td>\n",
       "      <td>00000000-0000-0000-0000-000000000000</td>\n",
       "      <td>nyt://book/00000000-0000-0000-0000-000000000000</td>\n",
       "      <td>[9780307951434, 9780606351461, 9781442344280, ...</td>\n",
       "    </tr>\n",
       "  </tbody>\n",
       "</table>\n",
       "</div>"
      ],
      "text/plain": [
       "                                                 url publication_dt  \\\n",
       "0  http://www.nytimes.com/2011/11/13/books/review...     2011-11-13   \n",
       "1  http://www.nytimes.com/2011/10/31/books/stephe...     2011-10-31   \n",
       "\n",
       "         byline book_title   book_author  \\\n",
       "0  ERROL MORRIS   11/22/63  Stephen King   \n",
       "1  JANET MASLIN   11/22/63  Stephen King   \n",
       "\n",
       "                                             summary  \\\n",
       "0  Stephen King’s time traveler tries to undo som...   \n",
       "1  Stephen King’s latest novel, “11/22/63,” tells...   \n",
       "\n",
       "                                   uuid  \\\n",
       "0  00000000-0000-0000-0000-000000000000   \n",
       "1  00000000-0000-0000-0000-000000000000   \n",
       "\n",
       "                                               uri  \\\n",
       "0  nyt://book/00000000-0000-0000-0000-000000000000   \n",
       "1  nyt://book/00000000-0000-0000-0000-000000000000   \n",
       "\n",
       "                                              isbn13  \n",
       "0  [9780307951434, 9780606351461, 9781442344280, ...  \n",
       "1  [9780307951434, 9780606351461, 9781442344280, ...  "
      ]
     },
     "execution_count": 4,
     "metadata": {},
     "output_type": "execute_result"
    }
   ],
   "source": [
    "df = pd.DataFrame(datos_stephen[\"results\"])\n",
    "df.head(2)"
   ]
  },
  {
   "cell_type": "code",
   "execution_count": 5,
   "metadata": {},
   "outputs": [
    {
     "data": {
      "text/plain": [
       "['11/22/63',\n",
       " 'Wolves of the Calla',\n",
       " 'Nightmares and Dreamscapes',\n",
       " 'Black House']"
      ]
     },
     "execution_count": 5,
     "metadata": {},
     "output_type": "execute_result"
    }
   ],
   "source": [
    "lista_libros = df[\"book_title\"].unique().tolist()\n",
    "lista_libros[:4]"
   ]
  },
  {
   "cell_type": "markdown",
   "metadata": {},
   "source": [
    "# Extracción Datos Selenium"
   ]
  },
  {
   "cell_type": "code",
   "execution_count": 6,
   "metadata": {},
   "outputs": [],
   "source": [
    "from selenium import webdriver\n",
    "from selenium.webdriver.common.keys import Keys\n",
    "from time import sleep\n",
    "\n",
    "# Crear una instancia del navegador Chrome\n",
    "driver = webdriver.Chrome()\n",
    "\n",
    "# Maximizar la ventana del navegador\n",
    "driver.maximize_window()\n",
    "\n",
    "# Navegar a la página web de Amazon\n",
    "driver.get(\"https://www.bookcenter.es/\")\n",
    "\n",
    "# Esperar 3 segundos para que la página se cargue completamente\n",
    "sleep(3)\n",
    "\n",
    "try:\n",
    "    # Aceptar cookies si el botón está presente\n",
    "    driver.find_element(\"css selector\", \"#cookie-accept\").click()\n",
    "except:\n",
    "    pass\n",
    "\n",
    "# Esperar 2 segundos\n",
    "sleep(2)\n",
    "\n",
    "# Listas para almacenar datos\n",
    "precio_disponible = []\n",
    "toda_la_info = []\n",
    "libros = []\n",
    "\n",
    "\n",
    "for libro in lista_libros:\n",
    "    try:\n",
    "        # Ingresar el nombre del libro en el cuadro de búsqueda y presionar Enter\n",
    "        driver.find_element(\"css selector\", \"#busqueda > input.search-text\").send_keys(libro + \" Stephen King's\", Keys.ENTER)\n",
    "\n",
    "        # Esperar 5 segundos para cargar los resultados de búsqueda\n",
    "        sleep(5)\n",
    "\n",
    "        # Entrar en la página del libro\n",
    "        driver.find_element(\"css selector\", \"#main-container > div > div > div.row > ul > li:nth-child(1) > div > div > a > img\").click()\n",
    "\n",
    "        # Esperar 2 segundos\n",
    "        sleep(2)\n",
    "\n",
    "        # Extraer el precio disponible y agregarlo a la lista\n",
    "        precio_disponible.append(driver.find_element(\"css selector\", \"#main-container > div > div.content.col-md-12 > div > div.price-col.col-md-3.col-sm-3\").text)\n",
    "\n",
    "        # Extraer toda la información y agregarla a la lista\n",
    "        toda_la_info.append(driver.find_element(\"css selector\", \"#main-container > div > div.content.col-md-12 > div > div.fichaDetalle.col-md-9.col-sm-9\").text)\n",
    "\n",
    "        # Agregar el nombre del libro a la lista\n",
    "        libros.append(libro)\n",
    "\n",
    "        # Esperar 3 segundos\n",
    "        sleep(3)\n",
    "\n",
    "        # Regresar a la página anterior\n",
    "        driver.back()\n",
    "    except:\n",
    "        # Si hay algún error, agregar \"Sin datos\" a las listas\n",
    "        precio_disponible.append(\"Sin datos\")\n",
    "        toda_la_info.append(\"Sin datos\")\n",
    "        libros.append(libro)\n",
    "\n",
    "# Cerrar el navegador\n",
    "driver.close()\n"
   ]
  },
  {
   "cell_type": "markdown",
   "metadata": {},
   "source": [
    "## Limpieza de los datos"
   ]
  },
  {
   "cell_type": "code",
   "execution_count": 13,
   "metadata": {},
   "outputs": [
    {
     "data": {
      "text/plain": [
       "[23.9, 9.5, 'Sin datos', 'Sin datos']"
      ]
     },
     "execution_count": 13,
     "metadata": {},
     "output_type": "execute_result"
    }
   ],
   "source": [
    "precio_original = [\"Sin datos\" if precio == \"Sin datos\" else float(precio.split()[0].replace(\",\", \".\")) for precio in precio_disponible ]\n",
    "precio_original[:4]"
   ]
  },
  {
   "cell_type": "code",
   "execution_count": 18,
   "metadata": {},
   "outputs": [
    {
     "data": {
      "text/plain": [
       "[22.71, 9.03, 'Sin datos', 'Sin datos']"
      ]
     },
     "execution_count": 18,
     "metadata": {},
     "output_type": "execute_result"
    }
   ],
   "source": [
    "precio_rebajado = [\"Sin datos\" if precio == \"Sin datos\" else float(precio.split(\"\\n\")[1].replace(\",\", \".\").replace(\" €\", \"\")) for precio in precio_disponible ]\n",
    "precio_rebajado[:4]"
   ]
  },
  {
   "cell_type": "code",
   "execution_count": 26,
   "metadata": {},
   "outputs": [
    {
     "data": {
      "text/plain": [
       "['-5%\\nHOLLY (EDICIÓN EN ESPAÑOL)\\nKING, STEPHEN\\nEditorial:\\nPLAZA & JANES\\nAño de edición:\\n2023\\nMateria\\nNovela terror - suspense\\nISBN:\\n978-84-01-03111-3\\nPáginas:\\n624\\nEncuadernación:\\nTAPA DURA',\n",
       " '-5%\\nTHE DARK TOWER 5. THE WOLVES OF CALLA\\nKING, STEPHEN\\nEditorial:\\nLIBROS EN INGLES\\nAño de edición:\\n2006\\nISBN:\\n978-0-340-82717-8\\nPáginas:\\n616\\nColección:\\nLIBROS IMPORTACION SGEL']"
      ]
     },
     "execution_count": 26,
     "metadata": {},
     "output_type": "execute_result"
    }
   ],
   "source": [
    "toda_la_info[:2]"
   ]
  },
  {
   "cell_type": "code",
   "execution_count": 32,
   "metadata": {},
   "outputs": [
    {
     "data": {
      "text/plain": [
       "['Plaza & Janes', 'Libros En Ingles']"
      ]
     },
     "execution_count": 32,
     "metadata": {},
     "output_type": "execute_result"
    }
   ],
   "source": [
    "editorial = [\"Sin datos\" if info == \"Sin datos\" else  info.split(\"\\n\")[::2][2].title() for info in toda_la_info]\n",
    "editorial[:2]"
   ]
  },
  {
   "cell_type": "code",
   "execution_count": 46,
   "metadata": {},
   "outputs": [
    {
     "data": {
      "text/plain": [
       "[2023, 2006]"
      ]
     },
     "execution_count": 46,
     "metadata": {},
     "output_type": "execute_result"
    }
   ],
   "source": [
    "año = []\n",
    "for info in toda_la_info:\n",
    "    try:\n",
    "        año.append(int(info.split(\"\\n\")[::2][3]))\n",
    "    except:\n",
    "        año.append(\"Sin datos\")\n",
    "año[:2]"
   ]
  },
  {
   "cell_type": "code",
   "execution_count": 60,
   "metadata": {},
   "outputs": [
    {
     "data": {
      "text/plain": [
       "[624, 616]"
      ]
     },
     "execution_count": 60,
     "metadata": {},
     "output_type": "execute_result"
    }
   ],
   "source": [
    "paginas = []\n",
    "for info in toda_la_info:\n",
    "    try: \n",
    "        indice_paginas =  info.split(\"\\n\").index(\"Páginas:\") + 1\n",
    "        paginas.append(int(info.split(\"\\n\")[indice_paginas]))\n",
    "    except:\n",
    "        paginas.append(\"Sin datos\")\n",
    "paginas[:2]"
   ]
  },
  {
   "cell_type": "markdown",
   "metadata": {},
   "source": [
    "# Creación de la BBDD \n",
    "\n",
    "```sql\n",
    "-- -----------------------------------------------------\n",
    "-- Esquema  libros\n",
    "-- -----------------------------------------------------\n",
    "CREATE SCHEMA IF NOT EXISTS `libros` DEFAULT CHARACTER SET utf8 ;\n",
    "USE `libros` ;\n",
    "\n",
    "-- -----------------------------------------------------\n",
    "-- Tabla `libros`.`autores`\n",
    "-- -----------------------------------------------------\n",
    "CREATE TABLE IF NOT EXISTS `libros`.`autores` (\n",
    "  `idautores` INT NOT NULL AUTO_INCREMENT,\n",
    "  `nombre` VARCHAR(100) NOT NULL,\n",
    "  PRIMARY KEY (`idautores`))\n",
    "ENGINE = InnoDB;\n",
    "\n",
    "\n",
    "-- -----------------------------------------------------\n",
    "-- Tabla `libros`.`editoriales`\n",
    "-- -----------------------------------------------------\n",
    "CREATE TABLE IF NOT EXISTS `libros`.`editoriales` (\n",
    "  `ideditoriales` INT NOT NULL AUTO_INCREMENT,\n",
    "  `nombre_editorial` VARCHAR(100) NOT NULL,\n",
    "  PRIMARY KEY (`ideditoriales`))\n",
    "ENGINE = InnoDB;\n",
    "\n",
    "\n",
    "-- -----------------------------------------------------\n",
    "-- Tabla `libros`.`títulos`\n",
    "-- -----------------------------------------------------\n",
    "CREATE TABLE IF NOT EXISTS `libros`.`títulos` (\n",
    "  `idtítulos` INT NOT NULL AUTO_INCREMENT,\n",
    "  `nombre_libro` VARCHAR(45) NOT NULL,\n",
    "  `paginas` INT NOT NULL,\n",
    "  `año_edicion` INT NOT NULL,\n",
    "  `autores_idautores` INT NOT NULL,\n",
    "  `editoriales_ideditoriales` INT NOT NULL,\n",
    "  PRIMARY KEY (`idtítulos`),\n",
    "  INDEX `fk_títulos_autores1_idx` (`autores_idautores` ASC) VISIBLE,\n",
    "  INDEX `fk_títulos_editoriales1_idx` (`editoriales_ideditoriales` ASC) VISIBLE,\n",
    "  CONSTRAINT `fk_títulos_autores1`\n",
    "    FOREIGN KEY (`autores_idautores`)\n",
    "    REFERENCES `libros`.`autores` (`idautores`)\n",
    "    ON DELETE NO ACTION\n",
    "    ON UPDATE NO ACTION,\n",
    "  CONSTRAINT `fk_títulos_editoriales1`\n",
    "    FOREIGN KEY (`editoriales_ideditoriales`)\n",
    "    REFERENCES `libros`.`editoriales` (`ideditoriales`)\n",
    "    ON DELETE NO ACTION\n",
    "    ON UPDATE NO ACTION)\n",
    "ENGINE = InnoDB;\n",
    "\n",
    "```"
   ]
  },
  {
   "cell_type": "markdown",
   "metadata": {},
   "source": []
  }
 ],
 "metadata": {
  "kernelspec": {
   "display_name": "promoe",
   "language": "python",
   "name": "python3"
  },
  "language_info": {
   "codemirror_mode": {
    "name": "ipython",
    "version": 3
   },
   "file_extension": ".py",
   "mimetype": "text/x-python",
   "name": "python",
   "nbconvert_exporter": "python",
   "pygments_lexer": "ipython3",
   "version": "3.11.4"
  },
  "orig_nbformat": 4
 },
 "nbformat": 4,
 "nbformat_minor": 2
}

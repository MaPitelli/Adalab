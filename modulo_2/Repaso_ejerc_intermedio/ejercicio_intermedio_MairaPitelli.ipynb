{
 "cells": [
  {
   "cell_type": "markdown",
   "metadata": {},
   "source": [
    "# Parte 1: Web Scraping con BeautifulSoup"
   ]
  },
  {
   "cell_type": "code",
   "execution_count": 137,
   "metadata": {},
   "outputs": [],
   "source": [
    "# Importar librerías para web scraping y manipulación de datos\n",
    "# -----------------------------------------------------------------------\n",
    "from bs4 import BeautifulSoup\n",
    "import requests\n",
    "\n",
    "# Importar librerías para manipulación y análisis de datos\n",
    "# -----------------------------------------------------------------------\n",
    "import pandas as pd\n",
    "\n",
    "import re"
   ]
  },
  {
   "cell_type": "code",
   "execution_count": 45,
   "metadata": {},
   "outputs": [
    {
     "data": {
      "text/plain": [
       "True"
      ]
     },
     "execution_count": 45,
     "metadata": {},
     "output_type": "execute_result"
    }
   ],
   "source": [
    "# Importar librerías para ocultar las keys\n",
    "# -----------------------------------------------------------------------\n",
    "from dotenv import load_dotenv\n",
    "import os\n",
    "load_dotenv()"
   ]
  },
  {
   "cell_type": "code",
   "execution_count": 2,
   "metadata": {},
   "outputs": [],
   "source": [
    "url = 'https://es.wikipedia.org/wiki/Sendero_de_Gran_Recorrido'"
   ]
  },
  {
   "cell_type": "code",
   "execution_count": 5,
   "metadata": {},
   "outputs": [],
   "source": [
    "def llamar_api(url):\n",
    "    \"\"\"\n",
    "    Realiza una llamada a una API utilizando la URL proporcionada.\n",
    "\n",
    "    Parameters:\n",
    "    -----------\n",
    "    url (str): La URL de la API que se va a llamar.\n",
    "\n",
    "    Returns:\n",
    "    --------\n",
    "    dict or None: Un diccionario con los datos de respuesta de la API si la llamada fue exitosa (código de estado 200).\n",
    "                  None si la llamada falló o no se pudo autenticar correctamente.\n",
    "    \"\"\"\n",
    "    llamada = requests.get(url)  # Realiza una solicitud GET a la URL proporcionada y almacena la respuesta en 'llamada'.\n",
    "\n",
    "    print(f\"La llamada a la API nos ha dado una respuesta de tipo: {llamada.status_code}\")  # Imprime el código de estado de la respuesta.\n",
    "\n",
    "    if llamada.status_code != 200:  # Comprueba si la respuesta no fue exitosa (código de estado distinto de 200).\n",
    "        print(f\"El motivo por el que la llamada falló es {llamada.reason}\")  # Imprime la razón de la falla.\n",
    "    else:\n",
    "        return llamada  # Si la llamada fue exitosa, devuelve los datos de respuesta en formato JSON.\n"
   ]
  },
  {
   "cell_type": "code",
   "execution_count": 6,
   "metadata": {},
   "outputs": [
    {
     "name": "stdout",
     "output_type": "stream",
     "text": [
      "La llamada a la API nos ha dado una respuesta de tipo: 200\n"
     ]
    }
   ],
   "source": [
    "response = llamar_api(url)"
   ]
  },
  {
   "cell_type": "code",
   "execution_count": 8,
   "metadata": {},
   "outputs": [],
   "source": [
    "sopa_tabla = BeautifulSoup(response.content, 'html.parser')"
   ]
  },
  {
   "cell_type": "code",
   "execution_count": 10,
   "metadata": {},
   "outputs": [],
   "source": [
    "tablas = sopa_tabla.find_all(\"table\")"
   ]
  },
  {
   "cell_type": "code",
   "execution_count": 16,
   "metadata": {},
   "outputs": [
    {
     "data": {
      "text/plain": [
       "2"
      ]
     },
     "execution_count": 16,
     "metadata": {},
     "output_type": "execute_result"
    }
   ],
   "source": [
    "len(tablas) "
   ]
  },
  {
   "cell_type": "code",
   "execution_count": 19,
   "metadata": {},
   "outputs": [],
   "source": [
    "mi_tabla = tablas[0]"
   ]
  },
  {
   "cell_type": "code",
   "execution_count": 21,
   "metadata": {},
   "outputs": [
    {
     "data": {
      "text/plain": [
       "[<th>Identificador</th>,\n",
       " <th>Denominación</th>,\n",
       " <th>Itinerario</th>,\n",
       " <th>Variantes\n",
       " </th>]"
      ]
     },
     "execution_count": 21,
     "metadata": {},
     "output_type": "execute_result"
    }
   ],
   "source": [
    "lista_encabezados = mi_tabla.find_all(\"th\")\n",
    "lista_encabezados\n"
   ]
  },
  {
   "cell_type": "code",
   "execution_count": 34,
   "metadata": {},
   "outputs": [
    {
     "data": {
      "text/plain": [
       "['Identificador', 'Denominación', 'Itinerario']"
      ]
     },
     "execution_count": 34,
     "metadata": {},
     "output_type": "execute_result"
    }
   ],
   "source": [
    "encabezados_senderos = [columna.text for columna in lista_encabezados]\n",
    "encabezados_senderos = encabezados_senderos[:3]\n",
    "encabezados_senderos"
   ]
  },
  {
   "cell_type": "code",
   "execution_count": 26,
   "metadata": {},
   "outputs": [
    {
     "data": {
      "text/plain": [
       "181"
      ]
     },
     "execution_count": 26,
     "metadata": {},
     "output_type": "execute_result"
    }
   ],
   "source": [
    "filas_senderos = mi_tabla.find_all(\"tr\")\n",
    "len(filas_senderos)"
   ]
  },
  {
   "cell_type": "code",
   "execution_count": 29,
   "metadata": {},
   "outputs": [],
   "source": [
    "filas_senderos = filas_senderos[1:]"
   ]
  },
  {
   "cell_type": "code",
   "execution_count": 30,
   "metadata": {},
   "outputs": [
    {
     "data": {
      "text/plain": [
       "<tr>\n",
       "<td><b><a href=\"/wiki/GR-1\" title=\"GR-1\">GR-1</a></b></td>\n",
       "<td><a href=\"/wiki/GR-1\" title=\"GR-1\">Sendero Histórico</a></td>\n",
       "<td><a href=\"/wiki/Ampurd%C3%A1n\" title=\"Ampurdán\">Ampurdán</a> - <a href=\"/wiki/Ba%C3%B1olas\" title=\"Bañolas\">Bañolas</a> - <a href=\"/wiki/Ripoll\" title=\"Ripoll\">Ripoll</a> - <a href=\"/wiki/Berga\" title=\"Berga\">Berga</a> - <a href=\"/wiki/Graus\" title=\"Graus\">Graus</a> - <a href=\"/wiki/Tierrantona\" title=\"Tierrantona\">Tierrantona</a> - <a href=\"/wiki/Riglos\" title=\"Riglos\">Riglos</a> - <a href=\"/wiki/Biel_(Zaragoza)\" title=\"Biel (Zaragoza)\">Biel</a> - <a href=\"/wiki/Sos_del_Rey_Cat%C3%B3lico\" title=\"Sos del Rey Católico\">Sos del Rey Católico</a> - <a href=\"/wiki/Olite\" title=\"Olite\">Olite</a> - <a href=\"/wiki/Allo_(Navarra)\" title=\"Allo (Navarra)\">Allo</a> - <a href=\"/wiki/Santa_Cruz_de_Campezo\" title=\"Santa Cruz de Campezo\">Santa Cruz de Campezo</a> - <a href=\"/wiki/Bernedo\" title=\"Bernedo\">Bernedo</a> - <a href=\"/wiki/Pe%C3%B1acerrada\" title=\"Peñacerrada\">Peñacerrada</a> - <a href=\"/wiki/San_Pantale%C3%B3n_de_Losa\" title=\"San Pantaleón de Losa\">San Pantaleón de Losa</a> - <a href=\"/wiki/Reinosa\" title=\"Reinosa\">Reinosa</a> - <a href=\"/wiki/Cervera_de_Pisuerga\" title=\"Cervera de Pisuerga\">Cervera de Pisuerga</a> - <a href=\"/wiki/Mara%C3%B1a\" title=\"Maraña\">Maraña</a> -*- <a href=\"/wiki/Fonteo\" title=\"Fonteo\">Fonteo</a> -*- <a href=\"/wiki/Sarria\" title=\"Sarria\">Sarria</a> -*- <a class=\"mw-redirect\" href=\"/wiki/Finisterre_(La_Coru%C3%B1a)\" title=\"Finisterre (La Coruña)\">Finisterre</a></td>\n",
       "<td><b><a class=\"new\" href=\"/w/index.php?title=GR-1.1&amp;action=edit&amp;redlink=1\" title=\"GR-1.1 (aún no redactado)\">GR-1.1</a></b><br/><b><a class=\"new\" href=\"/w/index.php?title=GR-1.4&amp;action=edit&amp;redlink=1\" title=\"GR-1.4 (aún no redactado)\">GR-1.4</a></b>\n",
       "</td></tr>"
      ]
     },
     "execution_count": 30,
     "metadata": {},
     "output_type": "execute_result"
    }
   ],
   "source": [
    "filas_senderos[0]"
   ]
  },
  {
   "cell_type": "code",
   "execution_count": 41,
   "metadata": {},
   "outputs": [
    {
     "name": "stdout",
     "output_type": "stream",
     "text": [
      "[['GR-1', 'Sendero Histórico', 'Ampurdán - Bañolas - Ripoll - Berga - Graus - Tierrantona - Riglos - Biel - Sos del Rey Católico - Olite - Allo - Santa Cruz de Campezo - Bernedo - Peñacerrada - San Pantaleón de Losa - Reinosa - Cervera de Pisuerga - Maraña -*- Fonteo -*- Sarria -*- Finisterre'], ['GR-2', 'Sendero La Junquera-San Adrián del Besós', 'La Junquera - Rupit - San Adrián del Besós'], ['GR-3', 'Sendero Central de Cataluña', 'Lérida -*- Balaguer -*- Tremp -*- Puebla de Segur -*- El Pont de Suert -*- Seo de Urgel -*- San Juan de las Abadesas - Manresa - Solsona - Tárrega - Vallbona de las Monjas -*- Borjas Blancas -*- Lérida']] \n",
      "\n"
     ]
    }
   ],
   "source": [
    "resultados_filas = []\n",
    "\n",
    "for fila in filas_senderos:\n",
    "    fila_texto = fila.text\n",
    "    elementos_fila = fila_texto.split(\"\\n\")[1:4]\n",
    "    resultados_filas.append(elementos_fila)\n",
    "\n",
    "print(resultados_filas[:3])"
   ]
  },
  {
   "cell_type": "code",
   "execution_count": 43,
   "metadata": {},
   "outputs": [
    {
     "data": {
      "text/html": [
       "<div>\n",
       "<style scoped>\n",
       "    .dataframe tbody tr th:only-of-type {\n",
       "        vertical-align: middle;\n",
       "    }\n",
       "\n",
       "    .dataframe tbody tr th {\n",
       "        vertical-align: top;\n",
       "    }\n",
       "\n",
       "    .dataframe thead th {\n",
       "        text-align: right;\n",
       "    }\n",
       "</style>\n",
       "<table border=\"1\" class=\"dataframe\">\n",
       "  <thead>\n",
       "    <tr style=\"text-align: right;\">\n",
       "      <th></th>\n",
       "      <th>Identificador</th>\n",
       "      <th>Denominación</th>\n",
       "      <th>Itinerario</th>\n",
       "    </tr>\n",
       "  </thead>\n",
       "  <tbody>\n",
       "    <tr>\n",
       "      <th>0</th>\n",
       "      <td>GR-1</td>\n",
       "      <td>Sendero Histórico</td>\n",
       "      <td>Ampurdán - Bañolas - Ripoll - Berga - Graus - ...</td>\n",
       "    </tr>\n",
       "    <tr>\n",
       "      <th>1</th>\n",
       "      <td>GR-2</td>\n",
       "      <td>Sendero La Junquera-San Adrián del Besós</td>\n",
       "      <td>La Junquera - Rupit - San Adrián del Besós</td>\n",
       "    </tr>\n",
       "    <tr>\n",
       "      <th>2</th>\n",
       "      <td>GR-3</td>\n",
       "      <td>Sendero Central de Cataluña</td>\n",
       "      <td>Lérida -*- Balaguer -*- Tremp -*- Puebla de Se...</td>\n",
       "    </tr>\n",
       "    <tr>\n",
       "      <th>3</th>\n",
       "      <td>GR-4</td>\n",
       "      <td>Sendero Puigcerdá-Mequinenza</td>\n",
       "      <td>Puigcerdá - Montserrat -*- Mequinenza</td>\n",
       "    </tr>\n",
       "    <tr>\n",
       "      <th>4</th>\n",
       "      <td>GR-5</td>\n",
       "      <td>Sendero de los Miradores o de los parques natu...</td>\n",
       "      <td>Sitges - Montserrat - Canet de Mar</td>\n",
       "    </tr>\n",
       "  </tbody>\n",
       "</table>\n",
       "</div>"
      ],
      "text/plain": [
       "  Identificador                                       Denominación  \\\n",
       "0          GR-1                                  Sendero Histórico   \n",
       "1          GR-2           Sendero La Junquera-San Adrián del Besós   \n",
       "2          GR-3                        Sendero Central de Cataluña   \n",
       "3          GR-4                       Sendero Puigcerdá-Mequinenza   \n",
       "4          GR-5  Sendero de los Miradores o de los parques natu...   \n",
       "\n",
       "                                          Itinerario  \n",
       "0  Ampurdán - Bañolas - Ripoll - Berga - Graus - ...  \n",
       "1         La Junquera - Rupit - San Adrián del Besós  \n",
       "2  Lérida -*- Balaguer -*- Tremp -*- Puebla de Se...  \n",
       "3              Puigcerdá - Montserrat -*- Mequinenza  \n",
       "4                 Sitges - Montserrat - Canet de Mar  "
      ]
     },
     "execution_count": 43,
     "metadata": {},
     "output_type": "execute_result"
    }
   ],
   "source": [
    "df_senderos = pd.DataFrame(resultados_filas)\n",
    "df_senderos.columns = encabezados_senderos\n",
    "df_senderos.head()"
   ]
  },
  {
   "cell_type": "code",
   "execution_count": 44,
   "metadata": {},
   "outputs": [
    {
     "data": {
      "text/html": [
       "<div>\n",
       "<style scoped>\n",
       "    .dataframe tbody tr th:only-of-type {\n",
       "        vertical-align: middle;\n",
       "    }\n",
       "\n",
       "    .dataframe tbody tr th {\n",
       "        vertical-align: top;\n",
       "    }\n",
       "\n",
       "    .dataframe thead th {\n",
       "        text-align: right;\n",
       "    }\n",
       "</style>\n",
       "<table border=\"1\" class=\"dataframe\">\n",
       "  <thead>\n",
       "    <tr style=\"text-align: right;\">\n",
       "      <th></th>\n",
       "      <th>Identificador</th>\n",
       "      <th>Denominación</th>\n",
       "      <th>Itinerario</th>\n",
       "    </tr>\n",
       "  </thead>\n",
       "  <tbody>\n",
       "    <tr>\n",
       "      <th>175</th>\n",
       "      <td>GR-292</td>\n",
       "      <td>Canales romanos de las Médulas (El Bierzo)</td>\n",
       "      <td>Área recreativa Campo de Braña (Las Médulas) -...</td>\n",
       "    </tr>\n",
       "    <tr>\n",
       "      <th>176</th>\n",
       "      <td>GR-300</td>\n",
       "      <td>Círculo al Embalse de El Atazar</td>\n",
       "      <td>El Berrueco - Patones de Arriba - El Atazar - ...</td>\n",
       "    </tr>\n",
       "    <tr>\n",
       "      <th>177</th>\n",
       "      <td>GR-303</td>\n",
       "      <td>Sierra del Rincón</td>\n",
       "      <td></td>\n",
       "    </tr>\n",
       "    <tr>\n",
       "      <th>178</th>\n",
       "      <td>GR-330</td>\n",
       "      <td>Sendero Costa Blanca Interior</td>\n",
       "      <td>Parque natural del Macizo del Montgó - Parque ...</td>\n",
       "    </tr>\n",
       "    <tr>\n",
       "      <th>179</th>\n",
       "      <td>GR-1006</td>\n",
       "      <td>Ruta de los Monteros del Rey (Las Merindades)</td>\n",
       "      <td>Espinosa de los Monteros - Medina de Pomar - N...</td>\n",
       "    </tr>\n",
       "  </tbody>\n",
       "</table>\n",
       "</div>"
      ],
      "text/plain": [
       "    Identificador                                   Denominación  \\\n",
       "175        GR-292     Canales romanos de las Médulas (El Bierzo)   \n",
       "176        GR-300                Círculo al Embalse de El Atazar   \n",
       "177        GR-303                              Sierra del Rincón   \n",
       "178        GR-330                  Sendero Costa Blanca Interior   \n",
       "179       GR-1006  Ruta de los Monteros del Rey (Las Merindades)   \n",
       "\n",
       "                                            Itinerario  \n",
       "175  Área recreativa Campo de Braña (Las Médulas) -...  \n",
       "176  El Berrueco - Patones de Arriba - El Atazar - ...  \n",
       "177                                                     \n",
       "178  Parque natural del Macizo del Montgó - Parque ...  \n",
       "179  Espinosa de los Monteros - Medina de Pomar - N...  "
      ]
     },
     "execution_count": 44,
     "metadata": {},
     "output_type": "execute_result"
    }
   ],
   "source": [
    "df_senderos.tail()"
   ]
  },
  {
   "cell_type": "markdown",
   "metadata": {},
   "source": [
    "# Parte 2: Obtención de Datos Climatológicos con la API de AEMET"
   ]
  },
  {
   "cell_type": "code",
   "execution_count": 46,
   "metadata": {},
   "outputs": [],
   "source": [
    "api_key = os.getenv('api_key_aemet')"
   ]
  },
  {
   "cell_type": "code",
   "execution_count": 98,
   "metadata": {},
   "outputs": [
    {
     "name": "stdout",
     "output_type": "stream",
     "text": [
      "La llamada a la API nos ha dado una respuesta de tipo: 200\n"
     ]
    }
   ],
   "source": [
    "url_predicion_especifica = f\"https://opendata.aemet.es/opendata/api/prediccion/especifica/montaña/pasada/area/gre1/?api_key={api_key}\"\n",
    "\n",
    "json_prediccion = llamar_api(url_predicion_especifica)"
   ]
  },
  {
   "cell_type": "code",
   "execution_count": 100,
   "metadata": {},
   "outputs": [],
   "source": [
    "endpoint = json_prediccion.json()"
   ]
  },
  {
   "cell_type": "code",
   "execution_count": 101,
   "metadata": {},
   "outputs": [
    {
     "data": {
      "text/plain": [
       "'https://opendata.aemet.es/opendata/sh/b1dd16e6'"
      ]
     },
     "execution_count": 101,
     "metadata": {},
     "output_type": "execute_result"
    }
   ],
   "source": [
    "endpoint['datos']"
   ]
  },
  {
   "cell_type": "code",
   "execution_count": 102,
   "metadata": {},
   "outputs": [
    {
     "name": "stdout",
     "output_type": "stream",
     "text": [
      "La llamada a la API nos ha dado una respuesta de tipo: 200\n"
     ]
    }
   ],
   "source": [
    "response = llamar_api(endpoint['datos'])"
   ]
  },
  {
   "cell_type": "code",
   "execution_count": 103,
   "metadata": {},
   "outputs": [
    {
     "data": {
      "text/plain": [
       "[{'origen': {'productor': 'Agencia Estatal de Meteorología - AEMET - Gobierno de España',\n",
       "   'web': 'http://www.aemet.es',\n",
       "   'tipo': 'Predicción de montaña',\n",
       "   'language': 'es',\n",
       "   'copyright': '© AEMET. Autorizado el uso de la información y su reproducción citando a AEMET como autora de la misma.',\n",
       "   'notaLegal': 'http://www.aemet.es/es/nota_legal'},\n",
       "  'seccion': [{'apartado': [],\n",
       "    'lugar': [],\n",
       "    'parrafo': [{'texto': '(En las 24 horas previas a las 10:00 hora oficial del 2 de julio de 2024)',\n",
       "      'numero': '1'},\n",
       "     {'texto': '', 'numero': '2'},\n",
       "     {'texto': 'TEMPERATURAS MÍNIMAS:', 'numero': '3'},\n",
       "     {'texto': '5ºC en el puerto de El Pico, 8ºC en El Barco de Ávila, 10ºC en La Covatilla, 11ºC en Muñotello, 14ºC en El Piornal y Hervás 16ºC en Tornavacas y Garganta La Olla.',\n",
       "      'numero': '4'},\n",
       "     {'texto': 'TEMPERATURAS MÁXIMAS:', 'numero': '5'},\n",
       "     {'texto': '29ºC en Garganta La Olla; Tornavacas, El Piornal y El Barco de Ávila; 23ºC en Hervás; 24ºC en Muñotello; 23ºC en el puerto de El Pico y 16ºC en La Covatilla.',\n",
       "      'numero': '6'},\n",
       "     {'texto': 'VIENTO: flojo con intervalos de intensidad moderada.',\n",
       "      'numero': '7'}],\n",
       "    'nombre': 'tiempo_pasado'}],\n",
       "  'id': 'gre1',\n",
       "  'nombre': 'Tiempo pasado'}]"
      ]
     },
     "execution_count": 103,
     "metadata": {},
     "output_type": "execute_result"
    }
   ],
   "source": [
    "response.json()"
   ]
  },
  {
   "cell_type": "code",
   "execution_count": 106,
   "metadata": {},
   "outputs": [
    {
     "data": {
      "text/plain": [
       "{'origen': {'productor': 'Agencia Estatal de Meteorología - AEMET - Gobierno de España',\n",
       "  'web': 'http://www.aemet.es',\n",
       "  'tipo': 'Predicción de montaña',\n",
       "  'language': 'es',\n",
       "  'copyright': '© AEMET. Autorizado el uso de la información y su reproducción citando a AEMET como autora de la misma.',\n",
       "  'notaLegal': 'http://www.aemet.es/es/nota_legal'},\n",
       " 'seccion': [{'apartado': [],\n",
       "   'lugar': [],\n",
       "   'parrafo': [{'texto': '(En las 24 horas previas a las 10:00 hora oficial del 2 de julio de 2024)',\n",
       "     'numero': '1'},\n",
       "    {'texto': '', 'numero': '2'},\n",
       "    {'texto': 'TEMPERATURAS MÍNIMAS:', 'numero': '3'},\n",
       "    {'texto': '5ºC en el puerto de El Pico, 8ºC en El Barco de Ávila, 10ºC en La Covatilla, 11ºC en Muñotello, 14ºC en El Piornal y Hervás 16ºC en Tornavacas y Garganta La Olla.',\n",
       "     'numero': '4'},\n",
       "    {'texto': 'TEMPERATURAS MÁXIMAS:', 'numero': '5'},\n",
       "    {'texto': '29ºC en Garganta La Olla; Tornavacas, El Piornal y El Barco de Ávila; 23ºC en Hervás; 24ºC en Muñotello; 23ºC en el puerto de El Pico y 16ºC en La Covatilla.',\n",
       "     'numero': '6'},\n",
       "    {'texto': 'VIENTO: flojo con intervalos de intensidad moderada.',\n",
       "     'numero': '7'}],\n",
       "   'nombre': 'tiempo_pasado'}],\n",
       " 'id': 'gre1',\n",
       " 'nombre': 'Tiempo pasado'}"
      ]
     },
     "execution_count": 106,
     "metadata": {},
     "output_type": "execute_result"
    }
   ],
   "source": [
    "response.json()[0]"
   ]
  },
  {
   "cell_type": "code",
   "execution_count": 109,
   "metadata": {},
   "outputs": [
    {
     "data": {
      "text/plain": [
       "dict_keys(['origen', 'seccion', 'id', 'nombre'])"
      ]
     },
     "execution_count": 109,
     "metadata": {},
     "output_type": "execute_result"
    }
   ],
   "source": [
    "response.json()[0].keys()"
   ]
  },
  {
   "cell_type": "code",
   "execution_count": 110,
   "metadata": {},
   "outputs": [
    {
     "data": {
      "text/plain": [
       "[{'apartado': [],\n",
       "  'lugar': [],\n",
       "  'parrafo': [{'texto': '(En las 24 horas previas a las 10:00 hora oficial del 2 de julio de 2024)',\n",
       "    'numero': '1'},\n",
       "   {'texto': '', 'numero': '2'},\n",
       "   {'texto': 'TEMPERATURAS MÍNIMAS:', 'numero': '3'},\n",
       "   {'texto': '5ºC en el puerto de El Pico, 8ºC en El Barco de Ávila, 10ºC en La Covatilla, 11ºC en Muñotello, 14ºC en El Piornal y Hervás 16ºC en Tornavacas y Garganta La Olla.',\n",
       "    'numero': '4'},\n",
       "   {'texto': 'TEMPERATURAS MÁXIMAS:', 'numero': '5'},\n",
       "   {'texto': '29ºC en Garganta La Olla; Tornavacas, El Piornal y El Barco de Ávila; 23ºC en Hervás; 24ºC en Muñotello; 23ºC en el puerto de El Pico y 16ºC en La Covatilla.',\n",
       "    'numero': '6'},\n",
       "   {'texto': 'VIENTO: flojo con intervalos de intensidad moderada.',\n",
       "    'numero': '7'}],\n",
       "  'nombre': 'tiempo_pasado'}]"
      ]
     },
     "execution_count": 110,
     "metadata": {},
     "output_type": "execute_result"
    }
   ],
   "source": [
    "response.json()[0]['seccion']"
   ]
  },
  {
   "cell_type": "code",
   "execution_count": 132,
   "metadata": {},
   "outputs": [
    {
     "data": {
      "text/plain": [
       "'(En las 24 horas previas a las 10:00 hora oficial del 2 de julio de 2024)'"
      ]
     },
     "execution_count": 132,
     "metadata": {},
     "output_type": "execute_result"
    }
   ],
   "source": [
    "fecha_recop_datos = response.json()[0]['seccion'][0]['parrafo'][0]['texto']\n",
    "fecha_recop_datos"
   ]
  },
  {
   "cell_type": "code",
   "execution_count": 131,
   "metadata": {},
   "outputs": [
    {
     "data": {
      "text/plain": [
       "'3'"
      ]
     },
     "execution_count": 131,
     "metadata": {},
     "output_type": "execute_result"
    }
   ],
   "source": [
    "temperatura_minima = response.json()[0]['seccion'][0]['parrafo'][2]['numero']\n",
    "temperatura_minima"
   ]
  },
  {
   "cell_type": "code",
   "execution_count": 130,
   "metadata": {},
   "outputs": [
    {
     "data": {
      "text/plain": [
       "'5'"
      ]
     },
     "execution_count": 130,
     "metadata": {},
     "output_type": "execute_result"
    }
   ],
   "source": [
    "temperatura_maxima = response.json()[0]['seccion'][0]['parrafo'][4]['numero']\n",
    "temperatura_maxima"
   ]
  },
  {
   "cell_type": "code",
   "execution_count": 129,
   "metadata": {},
   "outputs": [
    {
     "data": {
      "text/plain": [
       "'VIENTO: flojo con intervalos de intensidad moderada.'"
      ]
     },
     "execution_count": 129,
     "metadata": {},
     "output_type": "execute_result"
    }
   ],
   "source": [
    "viento = response.json()[0]['seccion'][0]['parrafo'][6]['texto']\n",
    "viento"
   ]
  },
  {
   "cell_type": "code",
   "execution_count": 159,
   "metadata": {},
   "outputs": [],
   "source": [
    "columnas = [['temp_maxima', 'temp_minima', 'sierra', 'fecha']]"
   ]
  },
  {
   "cell_type": "code",
   "execution_count": 150,
   "metadata": {},
   "outputs": [
    {
     "data": {
      "text/plain": [
       "'2024-Jul-02'"
      ]
     },
     "execution_count": 150,
     "metadata": {},
     "output_type": "execute_result"
    }
   ],
   "source": [
    "fecha = fecha_recop_datos.replace(\"(\", \"\").replace(\")\", \"\")\n",
    "anio = fecha[-4:]\n",
    "\n",
    "patron_mes = r\"(?i)\\b(?:enero|febrero|marzo|abril|mayo|junio|julio|agosto|septiembre|octubre|noviembre|diciembre)\\b\"\n",
    "mes = re.search(patron_mes, fecha_recop_datos)\n",
    "mes = mes.group()\n",
    "\n",
    "patron_dia = r\"\\b\\d{1,2}(?=\\s+de\\s+(?:enero|febrero|marzo|abril|mayo|junio|julio|agosto|septiembre|octubre|noviembre|diciembre))\"\n",
    "dia = re.search(patron_dia, fecha_recop_datos)\n",
    "dia = dia.group()\n",
    "if len(dia) == 1:\n",
    "    dia = '0' + dia\n",
    "\n",
    "fecha = anio + '-' + mes[:3].capitalize() + '-' + dia\n",
    "fecha\n"
   ]
  },
  {
   "cell_type": "code",
   "execution_count": 157,
   "metadata": {},
   "outputs": [],
   "source": [
    "fila = [[temperatura_maxima, temperatura_minima, 'sierra de gredos', fecha]]"
   ]
  },
  {
   "cell_type": "code",
   "execution_count": 160,
   "metadata": {},
   "outputs": [
    {
     "data": {
      "text/html": [
       "<div>\n",
       "<style scoped>\n",
       "    .dataframe tbody tr th:only-of-type {\n",
       "        vertical-align: middle;\n",
       "    }\n",
       "\n",
       "    .dataframe tbody tr th {\n",
       "        vertical-align: top;\n",
       "    }\n",
       "\n",
       "    .dataframe thead tr th {\n",
       "        text-align: left;\n",
       "    }\n",
       "</style>\n",
       "<table border=\"1\" class=\"dataframe\">\n",
       "  <thead>\n",
       "    <tr>\n",
       "      <th></th>\n",
       "      <th>temp_maxima</th>\n",
       "      <th>temp_minima</th>\n",
       "      <th>sierra</th>\n",
       "      <th>fecha</th>\n",
       "    </tr>\n",
       "  </thead>\n",
       "  <tbody>\n",
       "    <tr>\n",
       "      <th>0</th>\n",
       "      <td>5</td>\n",
       "      <td>3</td>\n",
       "      <td>sierra de gredos</td>\n",
       "      <td>2024-Jul-02</td>\n",
       "    </tr>\n",
       "  </tbody>\n",
       "</table>\n",
       "</div>"
      ],
      "text/plain": [
       "  temp_maxima temp_minima            sierra        fecha\n",
       "0           5           3  sierra de gredos  2024-Jul-02"
      ]
     },
     "execution_count": 160,
     "metadata": {},
     "output_type": "execute_result"
    }
   ],
   "source": [
    "df_sierra = pd.DataFrame(fila)\n",
    "df_sierra.columns = columnas\n",
    "df_sierra.head()"
   ]
  },
  {
   "cell_type": "markdown",
   "metadata": {},
   "source": [
    "# Creación de la BBDD \n",
    "\n",
    "```sql\n",
    "-- -----------------------------------------------------\n",
    "-- Esquema rutas\n",
    "-- -----------------------------------------------------\n",
    "CREATE SCHEMA IF NOT EXISTS `rutas` DEFAULT CHARACTER SET utf8 ;\n",
    "USE `rutas` ;\n",
    "\n",
    "-- -----------------------------------------------------\n",
    "-- Tabla `rutas`.`rutas`\n",
    "-- -----------------------------------------------------\n",
    "CREATE TABLE IF NOT EXISTS `rutas`.`rutas` (\n",
    "  `id_rutas` INT NOT NULL AUTO_INCREMENT,\n",
    "  `nombre` VARCHAR(100) NOT NULL,\n",
    "  `donde` VARCHAR(100) NOT NULL,\n",
    "  `tipo` VARCHAR(100) NOT NULL,\n",
    "  `duracion` VARCHAR(100) NOT NULL,\n",
    "  `km` VARCHAR(100) NOT NULL,\n",
    "  `dificultad` VARCHAR(100) NOT NULL,\n",
    "  `esfuerzo` VARCHAR(100) NOT NULL,\n",
    "  `descripcion` VARCHAR(100),\n",
    "  PRIMARY KEY (`id_rutas`))\n",
    "ENGINE = InnoDB;\n",
    "\n",
    "\n",
    "-- -----------------------------------------------------\n",
    "-- Tabla `rutas`.`clima`\n",
    "-- -----------------------------------------------------\n",
    "CREATE TABLE IF NOT EXISTS `rutas`.`clima` (\n",
    "  `id_clima` INT NOT NULL AUTOINCREMENT,\n",
    "  `temp_maxima` VARCHAR(100) NOT NULL,\n",
    "  `temp_minima` VARCHAR(100) NOT NULL,\n",
    "  `sierra` VARCHAR(100) NOT NULL,\n",
    "  `fecha` DATETIME NOT NULL,\n",
    "  PRIMARY KEY (`id_clima`))\n",
    "ENGINE = InnoDB;\n",
    "```"
   ]
  },
  {
   "cell_type": "code",
   "execution_count": null,
   "metadata": {},
   "outputs": [],
   "source": [
    "# Modelo de código SQL para crear las tablas usando Python\n",
    "\n",
    "import sqlite3 # Importar módulo para trabajar con SQL desde python\n",
    "\n",
    "# Crear una conexión a una base de datos en memoria (o en un archivo)\n",
    "conn = sqlite3.connect(':memory:')  # Usa 'tu_base_de_datos.db' para almacenar en un archivo\n",
    "\n",
    "# Crear un cursor para ejecutar comandos SQL\n",
    "cursor = conn.cursor()\n",
    "\n",
    "# Crear la primera tabla para almacenar datos de rutas\n",
    "cursor.execute('''\n",
    "CREATE TABLE rutas (\n",
    "    id INTEGER PRIMARY KEY AUTOINCREMENT,\n",
    "    nombre TEXT NOT NULL,\n",
    "    donde TEXT NOT NULL,\n",
    "    tipo TEXT NOT NULL,\n",
    "    duracion TEXT NOT NULL,\n",
    "    km REAL NOT NULL,\n",
    "    dificultad TEXT NOT NULL,\n",
    "    esfuerzo TEXT NOT NULL,\n",
    "    descripcion TEXT\n",
    ")\n",
    "''')\n",
    "\n",
    "# Crear la segunda tabla para almacenar datos climatológicos\n",
    "cursor.execute('''\n",
    "CREATE TABLE clima (\n",
    "    id INTEGER PRIMARY KEY AUTOINCREMENT,\n",
    "    temp_maxima REAL NOT NULL,\n",
    "    temp_minima REAL NOT NULL,\n",
    "    sierra TEXT NOT NULL,\n",
    "    fecha TEXT NOT NULL\n",
    ")\n",
    "''')\n",
    "\n",
    "# Confirmar los cambios\n",
    "conn.commit()\n",
    "\n",
    "# Mostrar las tablas creadas con sus datos\n",
    "print(\"Datos en la tabla 'rutas':\")\n",
    "for row in cursor.execute('SELECT * FROM rutas'):\n",
    "    print(row)\n",
    "\n",
    "print(\"\\nDatos en la tabla 'clima':\")\n",
    "for row in cursor.execute('SELECT * FROM clima'):\n",
    "    print(row)\n",
    "\n",
    "# Cerrar la conexión\n",
    "conn.close()\n"
   ]
  }
 ],
 "metadata": {
  "kernelspec": {
   "display_name": "base",
   "language": "python",
   "name": "python3"
  },
  "language_info": {
   "codemirror_mode": {
    "name": "ipython",
    "version": 3
   },
   "file_extension": ".py",
   "mimetype": "text/x-python",
   "name": "python",
   "nbconvert_exporter": "python",
   "pygments_lexer": "ipython3",
   "version": "3.11.9"
  }
 },
 "nbformat": 4,
 "nbformat_minor": 2
}

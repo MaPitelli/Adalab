{
 "cells": [
  {
   "cell_type": "code",
   "execution_count": 1,
   "metadata": {},
   "outputs": [],
   "source": [
    "import pandas as pd\n",
    "\n",
    "# Importar librerías para automatización de navegadores web\n",
    "# -----------------------------------------------------------------------\n",
    "from time import sleep\n",
    "from tqdm import tqdm\n",
    "from selenium import webdriver\n",
    "from webdriver_manager.chrome import ChromeDriverManager\n",
    "from selenium.webdriver.common.keys import Keys\n",
    "from selenium.webdriver.chrome.options import Options\n",
    "from selenium.webdriver.support.ui import Select\n",
    "\n",
    "# Importar librería para hacer solicitudes HTTP\n",
    "# -----------------------------------------------------------------------\n",
    "import requests\n",
    "\n",
    "# Importar librería para suprimir advertencias\n",
    "# -----------------------------------------------------------------------\n",
    "import warnings\n",
    "warnings.filterwarnings('ignore')"
   ]
  },
  {
   "cell_type": "code",
   "execution_count": 7,
   "metadata": {},
   "outputs": [
    {
     "data": {
      "text/plain": [
       "True"
      ]
     },
     "execution_count": 7,
     "metadata": {},
     "output_type": "execute_result"
    }
   ],
   "source": [
    "from dotenv import load_dotenv\n",
    "import os\n",
    "load_dotenv()"
   ]
  },
  {
   "cell_type": "code",
   "execution_count": 14,
   "metadata": {},
   "outputs": [],
   "source": [
    "secret = os.getenv('secret')\n",
    "api_key = os.getenv('key')"
   ]
  },
  {
   "cell_type": "code",
   "execution_count": 15,
   "metadata": {},
   "outputs": [],
   "source": [
    "def llamar_api(url):\n",
    "    \"\"\"\n",
    "    Realiza una llamada a una API utilizando la URL proporcionada.\n",
    "\n",
    "    Parameters:\n",
    "    -----------\n",
    "    url (str): La URL de la API que se va a llamar.\n",
    "\n",
    "    Returns:\n",
    "    --------\n",
    "    dict or None: Un diccionario con los datos de respuesta de la API si la llamada fue exitosa (código de estado 200).\n",
    "                  None si la llamada falló o no se pudo autenticar correctamente.\n",
    "    \"\"\"\n",
    "    llamada = requests.get(url)  # Realiza una solicitud GET a la URL proporcionada y almacena la respuesta en 'llamada'.\n",
    "\n",
    "    print(f\"La llamada a la API nos ha dado una respuesta de tipo: {llamada.status_code}\")  # Imprime el código de estado de la respuesta.\n",
    "\n",
    "    if llamada.status_code != 200:  # Comprueba si la respuesta no fue exitosa (código de estado distinto de 200).\n",
    "        print(f\"El motivo por el que la llamada falló es {llamada.reason}\")  # Imprime la razón de la falla.\n",
    "    else:\n",
    "        return llamada.json()  # Si la llamada fue exitosa, devuelve los datos de respuesta en formato JSON.\n"
   ]
  },
  {
   "cell_type": "code",
   "execution_count": 17,
   "metadata": {},
   "outputs": [
    {
     "name": "stdout",
     "output_type": "stream",
     "text": [
      "La llamada a la API nos ha dado una respuesta de tipo: 200\n"
     ]
    }
   ],
   "source": [
    "url = f\"https://api.nytimes.com/svc/books/v3/reviews.json?author=Stephen+King&api-key={api_key}\"\n",
    "datos = llamar_api(url)"
   ]
  },
  {
   "cell_type": "code",
   "execution_count": 18,
   "metadata": {},
   "outputs": [
    {
     "data": {
      "text/plain": [
       "dict_keys(['status', 'copyright', 'num_results', 'results'])"
      ]
     },
     "execution_count": 18,
     "metadata": {},
     "output_type": "execute_result"
    }
   ],
   "source": [
    "datos.keys()"
   ]
  },
  {
   "cell_type": "code",
   "execution_count": 19,
   "metadata": {},
   "outputs": [
    {
     "data": {
      "text/plain": [
       "'Copyright (c) 2024 The New York Times Company.  All Rights Reserved.'"
      ]
     },
     "execution_count": 19,
     "metadata": {},
     "output_type": "execute_result"
    }
   ],
   "source": [
    "datos['copyright']"
   ]
  },
  {
   "cell_type": "code",
   "execution_count": 20,
   "metadata": {},
   "outputs": [
    {
     "data": {
      "text/plain": [
       "66"
      ]
     },
     "execution_count": 20,
     "metadata": {},
     "output_type": "execute_result"
    }
   ],
   "source": [
    "datos['num_results']\n"
   ]
  },
  {
   "cell_type": "code",
   "execution_count": 25,
   "metadata": {},
   "outputs": [
    {
     "data": {
      "text/plain": [
       "{'url': 'http://www.nytimes.com/2011/11/13/books/review/11-22-63-by-stephen-king-book-review.html',\n",
       " 'publication_dt': '2011-11-13',\n",
       " 'byline': 'ERROL MORRIS',\n",
       " 'book_title': '11/22/63',\n",
       " 'book_author': 'Stephen King',\n",
       " 'summary': 'Stephen King’s time traveler tries to undo some painful history.',\n",
       " 'uuid': '00000000-0000-0000-0000-000000000000',\n",
       " 'uri': 'nyt://book/00000000-0000-0000-0000-000000000000',\n",
       " 'isbn13': ['9780307951434',\n",
       "  '9780606351461',\n",
       "  '9781442344280',\n",
       "  '9781442344303',\n",
       "  '9781442391635',\n",
       "  '9781444727326',\n",
       "  '9781451627282',\n",
       "  '9781451627299',\n",
       "  '9781451627305',\n",
       "  '9781451651645',\n",
       "  '9781501120602',\n",
       "  '9781594135590']}"
      ]
     },
     "execution_count": 25,
     "metadata": {},
     "output_type": "execute_result"
    }
   ],
   "source": [
    "datos['results'][0]"
   ]
  },
  {
   "cell_type": "code",
   "execution_count": 26,
   "metadata": {},
   "outputs": [
    {
     "data": {
      "text/plain": [
       "'11/22/63'"
      ]
     },
     "execution_count": 26,
     "metadata": {},
     "output_type": "execute_result"
    }
   ],
   "source": [
    "datos['results'][0]['book_title']\n"
   ]
  },
  {
   "cell_type": "code",
   "execution_count": 28,
   "metadata": {},
   "outputs": [
    {
     "data": {
      "text/html": [
       "<div>\n",
       "<style scoped>\n",
       "    .dataframe tbody tr th:only-of-type {\n",
       "        vertical-align: middle;\n",
       "    }\n",
       "\n",
       "    .dataframe tbody tr th {\n",
       "        vertical-align: top;\n",
       "    }\n",
       "\n",
       "    .dataframe thead th {\n",
       "        text-align: right;\n",
       "    }\n",
       "</style>\n",
       "<table border=\"1\" class=\"dataframe\">\n",
       "  <thead>\n",
       "    <tr style=\"text-align: right;\">\n",
       "      <th></th>\n",
       "      <th>url</th>\n",
       "      <th>publication_dt</th>\n",
       "      <th>byline</th>\n",
       "      <th>book_title</th>\n",
       "      <th>book_author</th>\n",
       "      <th>summary</th>\n",
       "      <th>uuid</th>\n",
       "      <th>uri</th>\n",
       "      <th>isbn13</th>\n",
       "    </tr>\n",
       "  </thead>\n",
       "  <tbody>\n",
       "    <tr>\n",
       "      <th>0</th>\n",
       "      <td>http://www.nytimes.com/2011/11/13/books/review...</td>\n",
       "      <td>2011-11-13</td>\n",
       "      <td>ERROL MORRIS</td>\n",
       "      <td>11/22/63</td>\n",
       "      <td>Stephen King</td>\n",
       "      <td>Stephen King’s time traveler tries to undo som...</td>\n",
       "      <td>00000000-0000-0000-0000-000000000000</td>\n",
       "      <td>nyt://book/00000000-0000-0000-0000-000000000000</td>\n",
       "      <td>[9780307951434, 9780606351461, 9781442344280, ...</td>\n",
       "    </tr>\n",
       "    <tr>\n",
       "      <th>1</th>\n",
       "      <td>http://www.nytimes.com/2011/10/31/books/stephe...</td>\n",
       "      <td>2011-10-31</td>\n",
       "      <td>JANET MASLIN</td>\n",
       "      <td>11/22/63</td>\n",
       "      <td>Stephen King</td>\n",
       "      <td>Stephen King’s latest novel, “11/22/63,” tells...</td>\n",
       "      <td>00000000-0000-0000-0000-000000000000</td>\n",
       "      <td>nyt://book/00000000-0000-0000-0000-000000000000</td>\n",
       "      <td>[9780307951434, 9780606351461, 9781442344280, ...</td>\n",
       "    </tr>\n",
       "    <tr>\n",
       "      <th>2</th>\n",
       "      <td>http://www.nytimes.com/2004/01/04/books/the-qu...</td>\n",
       "      <td>2004-01-04</td>\n",
       "      <td>ANDREW O'HEHIR</td>\n",
       "      <td>Wolves of the Calla</td>\n",
       "      <td>Stephen King</td>\n",
       "      <td></td>\n",
       "      <td>00000000-0000-0000-0000-000000000000</td>\n",
       "      <td>nyt://book/00000000-0000-0000-0000-000000000000</td>\n",
       "      <td>[9781848941137]</td>\n",
       "    </tr>\n",
       "    <tr>\n",
       "      <th>3</th>\n",
       "      <td>http://www.nytimes.com/1993/10/24/books/in-sho...</td>\n",
       "      <td>1993-10-24</td>\n",
       "      <td>RICHARD E. NICHOLLS</td>\n",
       "      <td>Nightmares and Dreamscapes</td>\n",
       "      <td>Stephen King</td>\n",
       "      <td></td>\n",
       "      <td>00000000-0000-0000-0000-000000000000</td>\n",
       "      <td>nyt://book/00000000-0000-0000-0000-000000000000</td>\n",
       "      <td>[9781441615299]</td>\n",
       "    </tr>\n",
       "    <tr>\n",
       "      <th>4</th>\n",
       "      <td>http://www.nytimes.com/2001/11/04/books/books-...</td>\n",
       "      <td>2001-11-04</td>\n",
       "      <td>MARY ELIZABETH WILLIAMS</td>\n",
       "      <td>Black House</td>\n",
       "      <td>Stephen King</td>\n",
       "      <td></td>\n",
       "      <td>00000000-0000-0000-0000-000000000000</td>\n",
       "      <td>nyt://book/00000000-0000-0000-0000-000000000000</td>\n",
       "      <td>[9780375504396]</td>\n",
       "    </tr>\n",
       "    <tr>\n",
       "      <th>5</th>\n",
       "      <td>http://www.nytimes.com/1990/05/13/books/armage...</td>\n",
       "      <td>1990-05-13</td>\n",
       "      <td>ROBERT KIELY</td>\n",
       "      <td>The Stand</td>\n",
       "      <td>Stephen King</td>\n",
       "      <td></td>\n",
       "      <td>00000000-0000-0000-0000-000000000000</td>\n",
       "      <td>nyt://book/00000000-0000-0000-0000-000000000000</td>\n",
       "      <td>[9781848940833]</td>\n",
       "    </tr>\n",
       "    <tr>\n",
       "      <th>6</th>\n",
       "      <td>http://www.nytimes.com/1990/09/02/books/scared...</td>\n",
       "      <td>1990-09-02</td>\n",
       "      <td>ANDY SOLOMON</td>\n",
       "      <td>Four Past Midnight</td>\n",
       "      <td>Stephen King</td>\n",
       "      <td></td>\n",
       "      <td>00000000-0000-0000-0000-000000000000</td>\n",
       "      <td>nyt://book/00000000-0000-0000-0000-000000000000</td>\n",
       "      <td>[9780816151776]</td>\n",
       "    </tr>\n",
       "    <tr>\n",
       "      <th>7</th>\n",
       "      <td>http://www.nytimes.com/1991/10/20/books/l-defe...</td>\n",
       "      <td>1991-10-20</td>\n",
       "      <td></td>\n",
       "      <td>Needful Things</td>\n",
       "      <td>Stephen King</td>\n",
       "      <td></td>\n",
       "      <td>00000000-0000-0000-0000-000000000000</td>\n",
       "      <td>nyt://book/00000000-0000-0000-0000-000000000000</td>\n",
       "      <td>[9781598877427]</td>\n",
       "    </tr>\n",
       "    <tr>\n",
       "      <th>8</th>\n",
       "      <td>http://www.nytimes.com/1992/06/29/books/books-...</td>\n",
       "      <td>1992-06-29</td>\n",
       "      <td>CHRISTOPHER LEHMANN-HAUPT</td>\n",
       "      <td>Gerald's Game</td>\n",
       "      <td>Stephen King</td>\n",
       "      <td></td>\n",
       "      <td>00000000-0000-0000-0000-000000000000</td>\n",
       "      <td>nyt://book/00000000-0000-0000-0000-000000000000</td>\n",
       "      <td>[9780670846504]</td>\n",
       "    </tr>\n",
       "    <tr>\n",
       "      <th>9</th>\n",
       "      <td>http://www.nytimes.com/2002/04/14/books/the-ho...</td>\n",
       "      <td>2002-04-14</td>\n",
       "      <td>WALTER KIRN</td>\n",
       "      <td>Everything's Eventual : 14 Dark Tales</td>\n",
       "      <td>Stephen King</td>\n",
       "      <td></td>\n",
       "      <td>00000000-0000-0000-0000-000000000000</td>\n",
       "      <td>nyt://book/00000000-0000-0000-0000-000000000000</td>\n",
       "      <td>[9781439568200]</td>\n",
       "    </tr>\n",
       "  </tbody>\n",
       "</table>\n",
       "</div>"
      ],
      "text/plain": [
       "                                                 url publication_dt  \\\n",
       "0  http://www.nytimes.com/2011/11/13/books/review...     2011-11-13   \n",
       "1  http://www.nytimes.com/2011/10/31/books/stephe...     2011-10-31   \n",
       "2  http://www.nytimes.com/2004/01/04/books/the-qu...     2004-01-04   \n",
       "3  http://www.nytimes.com/1993/10/24/books/in-sho...     1993-10-24   \n",
       "4  http://www.nytimes.com/2001/11/04/books/books-...     2001-11-04   \n",
       "5  http://www.nytimes.com/1990/05/13/books/armage...     1990-05-13   \n",
       "6  http://www.nytimes.com/1990/09/02/books/scared...     1990-09-02   \n",
       "7  http://www.nytimes.com/1991/10/20/books/l-defe...     1991-10-20   \n",
       "8  http://www.nytimes.com/1992/06/29/books/books-...     1992-06-29   \n",
       "9  http://www.nytimes.com/2002/04/14/books/the-ho...     2002-04-14   \n",
       "\n",
       "                      byline                             book_title  \\\n",
       "0               ERROL MORRIS                               11/22/63   \n",
       "1               JANET MASLIN                               11/22/63   \n",
       "2             ANDREW O'HEHIR                    Wolves of the Calla   \n",
       "3        RICHARD E. NICHOLLS             Nightmares and Dreamscapes   \n",
       "4    MARY ELIZABETH WILLIAMS                            Black House   \n",
       "5               ROBERT KIELY                              The Stand   \n",
       "6               ANDY SOLOMON                     Four Past Midnight   \n",
       "7                                                    Needful Things   \n",
       "8  CHRISTOPHER LEHMANN-HAUPT                          Gerald's Game   \n",
       "9                WALTER KIRN  Everything's Eventual : 14 Dark Tales   \n",
       "\n",
       "    book_author                                            summary  \\\n",
       "0  Stephen King  Stephen King’s time traveler tries to undo som...   \n",
       "1  Stephen King  Stephen King’s latest novel, “11/22/63,” tells...   \n",
       "2  Stephen King                                                      \n",
       "3  Stephen King                                                      \n",
       "4  Stephen King                                                      \n",
       "5  Stephen King                                                      \n",
       "6  Stephen King                                                      \n",
       "7  Stephen King                                                      \n",
       "8  Stephen King                                                      \n",
       "9  Stephen King                                                      \n",
       "\n",
       "                                   uuid  \\\n",
       "0  00000000-0000-0000-0000-000000000000   \n",
       "1  00000000-0000-0000-0000-000000000000   \n",
       "2  00000000-0000-0000-0000-000000000000   \n",
       "3  00000000-0000-0000-0000-000000000000   \n",
       "4  00000000-0000-0000-0000-000000000000   \n",
       "5  00000000-0000-0000-0000-000000000000   \n",
       "6  00000000-0000-0000-0000-000000000000   \n",
       "7  00000000-0000-0000-0000-000000000000   \n",
       "8  00000000-0000-0000-0000-000000000000   \n",
       "9  00000000-0000-0000-0000-000000000000   \n",
       "\n",
       "                                               uri  \\\n",
       "0  nyt://book/00000000-0000-0000-0000-000000000000   \n",
       "1  nyt://book/00000000-0000-0000-0000-000000000000   \n",
       "2  nyt://book/00000000-0000-0000-0000-000000000000   \n",
       "3  nyt://book/00000000-0000-0000-0000-000000000000   \n",
       "4  nyt://book/00000000-0000-0000-0000-000000000000   \n",
       "5  nyt://book/00000000-0000-0000-0000-000000000000   \n",
       "6  nyt://book/00000000-0000-0000-0000-000000000000   \n",
       "7  nyt://book/00000000-0000-0000-0000-000000000000   \n",
       "8  nyt://book/00000000-0000-0000-0000-000000000000   \n",
       "9  nyt://book/00000000-0000-0000-0000-000000000000   \n",
       "\n",
       "                                              isbn13  \n",
       "0  [9780307951434, 9780606351461, 9781442344280, ...  \n",
       "1  [9780307951434, 9780606351461, 9781442344280, ...  \n",
       "2                                    [9781848941137]  \n",
       "3                                    [9781441615299]  \n",
       "4                                    [9780375504396]  \n",
       "5                                    [9781848940833]  \n",
       "6                                    [9780816151776]  \n",
       "7                                    [9781598877427]  \n",
       "8                                    [9780670846504]  \n",
       "9                                    [9781439568200]  "
      ]
     },
     "execution_count": 28,
     "metadata": {},
     "output_type": "execute_result"
    }
   ],
   "source": [
    "df_libros = pd.DataFrame(datos['results'])\n",
    "df_libros.head(10)"
   ]
  },
  {
   "cell_type": "code",
   "execution_count": 29,
   "metadata": {},
   "outputs": [],
   "source": [
    "# Guardar los datos en un csv\n",
    "df_libros.to_csv('libros.csv')"
   ]
  },
  {
   "cell_type": "code",
   "execution_count": 31,
   "metadata": {},
   "outputs": [
    {
     "data": {
      "text/plain": [
       "['11/22/63',\n",
       " 'Wolves of the Calla',\n",
       " 'Nightmares and Dreamscapes',\n",
       " 'Black House']"
      ]
     },
     "execution_count": 31,
     "metadata": {},
     "output_type": "execute_result"
    }
   ],
   "source": [
    "lista_libros = df_libros['book_title'].unique().tolist()\n",
    "lista_libros[:4]"
   ]
  },
  {
   "cell_type": "code",
   "execution_count": null,
   "metadata": {},
   "outputs": [],
   "source": []
  }
 ],
 "metadata": {
  "kernelspec": {
   "display_name": "base",
   "language": "python",
   "name": "python3"
  },
  "language_info": {
   "codemirror_mode": {
    "name": "ipython",
    "version": 3
   },
   "file_extension": ".py",
   "mimetype": "text/x-python",
   "name": "python",
   "nbconvert_exporter": "python",
   "pygments_lexer": "ipython3",
   "version": "3.11.9"
  }
 },
 "nbformat": 4,
 "nbformat_minor": 2
}

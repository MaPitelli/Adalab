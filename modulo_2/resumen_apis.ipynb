{
 "cells": [
  {
   "cell_type": "markdown",
   "metadata": {},
   "source": [
    "# Resumen APIs"
   ]
  },
  {
   "cell_type": "markdown",
   "metadata": {},
   "source": [
    "## Que es una API?\n",
    "\n",
    "* Es un conjunto de reglas y definiciones que nos permiten conectar aplicaciones\n",
    "* Vehículo para obtneter información de terceros\n",
    "\n",
    "\n",
    "## Endpoints: URLs\n",
    "\n",
    "* Como acceder de forma específica a los distintos departamentos\n",
    "\n",
    "\n",
    "## Documentación \n",
    "\n",
    "* Es obligatorio y necesario leer la documentación\n",
    "\n",
    "\n",
    "## Códigos de error\n",
    "\n",
    "* https://http.cat/\n",
    "\n",
    "\n",
    "## Librería\n",
    "\n",
    "* La librería utilizada para hacer las peticiones es la requests y el método que utilizamos es el requests.get()\n",
    "* status_code sirve para conocer el estado de la llamada\n",
    "* .json() es el método para convertir el resultado de la llamada en un archivo .json\n",
    "* Explorar el .json() es necesario para sacar la documentación\n",
    "* .reason nos devuelve el mensaje de error de manera descriptiva\n",
    "* .content nos devuelve lo que hay en bruto: un .json() metido en una string\n",
    "\n",
    "\n",
    "## Docstring \n",
    "\n",
    "* Es la manera correcta de documentar la función: Tras definir la función hay que documentarla en un string usando triple comilla, que es lo que permite poner los comentários multilínea\n",
    "\n",
    "## Función llamar_api() >>> Esta función nos sirve para cualquier llamada\n",
    "\n"
   ]
  }
 ],
 "metadata": {
  "language_info": {
   "name": "python"
  }
 },
 "nbformat": 4,
 "nbformat_minor": 2
}

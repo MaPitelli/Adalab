{
 "cells": [
  {
   "cell_type": "markdown",
   "metadata": {},
   "source": [
    "# Resumen Selenium\n",
    "\n",
    "- Herramienta para automatizar el navegador que nos permite extraer datos de páginas web\n",
    "\n",
    "\n",
    "## Métodos más importantes - El driver es el elemento al que aplicamos los métodos, es un objeto de Selenium\n",
    "\n",
    "\n",
    "- webdriver.Chrome() >>> Para inicializar el navegador\n",
    "\n",
    "- driver.get(url) >>> Para acceder a la url\n",
    "\n",
    "- driver.find_elements() >>> Para econtrar los elementos de distintas maneras, con distintos IDs    \n",
    "\n",
    "- driver.find_elements().click() >>> Para clicar en botones\n",
    "\n",
    "- driver.find_elements().text >>> Para que devuelva el texto de un elemento especifico\n",
    "\n",
    "- driver.find_elements().send_keys() >>> Para ingresar texto\n",
    "\n",
    "- driver.close() >>> Para cerrar el navegador \n",
    "\n",
    "- driver.implicitly_wait(tiempo) >>> Espera el tiempo determinado y si puede realiza antes la acción\n",
    "\n",
    "- driver.save_screenshot(\"nombre_del_archivo.png\") >>> Hace una captura de pantalla\n",
    "\n",
    "\n",
    "## Otro métodos\n",
    "\n",
    "- sleep() >>> Usar sleeps variables (con random) para no ser robótico y predecible (Pertenece a la librería Time: From Time import sleep)\n",
    "\n",
    "## Notas Adicionales\n",
    "\n",
    "- Construir nuestro propio xpath: Truco interesante, pendiente de investigación"
   ]
  }
 ],
 "metadata": {
  "language_info": {
   "name": "python"
  }
 },
 "nbformat": 4,
 "nbformat_minor": 2
}

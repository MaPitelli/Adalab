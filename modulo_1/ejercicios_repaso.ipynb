{
 "cells": [
  {
   "cell_type": "markdown",
   "metadata": {},
   "source": [
    "# Listas\n",
    "\n",
    "1. Crear una lista: Crea una lista con cinco colores diferentes\n",
    "2. Acceder a elementos: Accede al tercer elemento de la lista de colores\n",
    "3. Modificar elementos: Cambia el segundo color de la lista por otro de tu elección\n",
    "4. Agregar elementos: Agrega dos colores nuevos a la lista\n",
    "5. Eliminar elementos: Elimina el cuarto color de la lista\n",
    "6. Longitud de la lista: Encuentra la longitud de la lista de colores\n",
    "7. Ordenar la lista: Ordena la lista de colores en orden alfabético\n",
    "8. Listas anidadas: Crea una lista de dos sublistas, cada una con tres nombres de frutas\n",
    "9. Concatenar listas: Concatena las dos sublistas en una sola lista de frutas\n",
    "10. Repetir elementos: Repite la lista de frutas tres veces para obtener una lista más larga\n",
    "11. Acceder a la primera lista de frutas: Crea una variable llamada primera_lista y asigna la primera lista de frutas a esta variable\n",
    "12. Acceder a la segunda lista de frutas: Crea una variable llamada segunda_lista y asigna la segunda lista de frutas a esta variable\n",
    "13. Acceder a la primera fruta de la primera lista: Crea una variable llamada primera_fruta y asigna la primera fruta de la primera lista de frutas a esta variable\n",
    "14. Acceder a la última fruta de la segunda lista: Crea una variable llamada ultima_fruta y asigna la última fruta de la segunda lista de frutas a esta variable\n",
    "15. Acceder a la segunda fruta de la primera lista: Crea una variable llamada segunda_fruta y asigna la segunda fruta de la primera lista de frutas a esta variable\n",
    "16. Acceder a la última fruta de la primera lista: Crea una variable llamada ultima_fruta_primera_lista y asigna la última fruta de la primera lista de frutas a esta variable\n",
    "17. Acceder a la longitud de la segunda lista de frutas: Crea una variable llamada longitud_segunda_lista y asigna la longitud (número de elementos) de la segunda lista de frutas a esta variable\n",
    "18. Acceder a una porción de la segunda lista (slicing): Crea una variable llamada porcion_segunda_lista y asigna los dos primeros elementos de la segunda lista de frutas a esta variable utilizando el slicing\n",
    "19. Cambiar la segunda fruta de la segunda lista: Cambia la segunda fruta de la segunda lista de frutas a \"ciruela\"\n",
    "20. Agregar una nueva fruta a la primera lista: Agrega una nueva fruta, \"kiwi\", a la primera lista de frutas."
   ]
  },
  {
   "cell_type": "code",
   "execution_count": 1,
   "metadata": {},
   "outputs": [],
   "source": [
    "#1\n",
    "colores = [\"azul\", \"verde\", \"branco\", \"amarelo\", \"vermelho\"]"
   ]
  },
  {
   "cell_type": "code",
   "execution_count": 2,
   "metadata": {},
   "outputs": [
    {
     "data": {
      "text/plain": [
       "'branco'"
      ]
     },
     "execution_count": 2,
     "metadata": {},
     "output_type": "execute_result"
    }
   ],
   "source": [
    "#2\n",
    "colores[2]"
   ]
  },
  {
   "cell_type": "code",
   "execution_count": 3,
   "metadata": {},
   "outputs": [
    {
     "data": {
      "text/plain": [
       "['azul', 'roxo', 'branco', 'amarelo', 'vermelho']"
      ]
     },
     "execution_count": 3,
     "metadata": {},
     "output_type": "execute_result"
    }
   ],
   "source": [
    "#3\n",
    "colores[1] = \"roxo\"\n",
    "colores"
   ]
  },
  {
   "cell_type": "code",
   "execution_count": 4,
   "metadata": {},
   "outputs": [
    {
     "data": {
      "text/plain": [
       "['azul', 'roxo', 'branco', 'amarelo', 'vermelho', 'preto', 'lilás']"
      ]
     },
     "execution_count": 4,
     "metadata": {},
     "output_type": "execute_result"
    }
   ],
   "source": [
    "#4\n",
    "colores.extend([\"preto\", \"lilás\"])\n",
    "colores"
   ]
  },
  {
   "cell_type": "code",
   "execution_count": 5,
   "metadata": {},
   "outputs": [
    {
     "data": {
      "text/plain": [
       "['azul', 'roxo', 'branco', 'vermelho', 'preto', 'lilás']"
      ]
     },
     "execution_count": 5,
     "metadata": {},
     "output_type": "execute_result"
    }
   ],
   "source": [
    "#5\n",
    "colores.pop(3)\n",
    "colores"
   ]
  },
  {
   "cell_type": "code",
   "execution_count": 6,
   "metadata": {},
   "outputs": [
    {
     "name": "stdout",
     "output_type": "stream",
     "text": [
      "6\n"
     ]
    }
   ],
   "source": [
    "#6\n",
    "print(len(colores))"
   ]
  },
  {
   "cell_type": "code",
   "execution_count": 7,
   "metadata": {},
   "outputs": [
    {
     "data": {
      "text/plain": [
       "['azul', 'branco', 'lilás', 'preto', 'roxo', 'vermelho']"
      ]
     },
     "execution_count": 7,
     "metadata": {},
     "output_type": "execute_result"
    }
   ],
   "source": [
    "#7\n",
    "colores.sort()\n",
    "colores"
   ]
  },
  {
   "cell_type": "code",
   "execution_count": 8,
   "metadata": {},
   "outputs": [],
   "source": [
    "#8\n",
    "frutas = [[\"maçã\", \"pera\", \"banana\"], [\"mamão\", \"laranja\", \"cereja\"]]"
   ]
  },
  {
   "cell_type": "code",
   "execution_count": 9,
   "metadata": {},
   "outputs": [
    {
     "data": {
      "text/plain": [
       "['maçã', 'pera', 'banana', 'mamão', 'laranja', 'cereja']"
      ]
     },
     "execution_count": 9,
     "metadata": {},
     "output_type": "execute_result"
    }
   ],
   "source": [
    "#9\n",
    "frutas_concatena = frutas[0] + frutas[1]\n",
    "frutas_concatena"
   ]
  },
  {
   "cell_type": "code",
   "execution_count": 10,
   "metadata": {},
   "outputs": [
    {
     "data": {
      "text/plain": [
       "['maçã',\n",
       " 'pera',\n",
       " 'banana',\n",
       " 'mamão',\n",
       " 'laranja',\n",
       " 'cereja',\n",
       " 'maçã',\n",
       " 'pera',\n",
       " 'banana',\n",
       " 'mamão',\n",
       " 'laranja',\n",
       " 'cereja',\n",
       " 'maçã',\n",
       " 'pera',\n",
       " 'banana',\n",
       " 'mamão',\n",
       " 'laranja',\n",
       " 'cereja']"
      ]
     },
     "execution_count": 10,
     "metadata": {},
     "output_type": "execute_result"
    }
   ],
   "source": [
    "#10\n",
    "frutas_larga = frutas_concatena * 3\n",
    "frutas_larga"
   ]
  },
  {
   "cell_type": "code",
   "execution_count": 11,
   "metadata": {},
   "outputs": [],
   "source": [
    "#11 \n",
    "primera_lista = frutas"
   ]
  },
  {
   "cell_type": "code",
   "execution_count": 12,
   "metadata": {},
   "outputs": [],
   "source": [
    "#12\n",
    "segunda_lista = frutas_concatena"
   ]
  },
  {
   "cell_type": "code",
   "execution_count": 13,
   "metadata": {},
   "outputs": [
    {
     "data": {
      "text/plain": [
       "'maçã'"
      ]
     },
     "execution_count": 13,
     "metadata": {},
     "output_type": "execute_result"
    }
   ],
   "source": [
    "#13\n",
    "primera_fruta = primera_lista[0][0]\n",
    "primera_fruta"
   ]
  },
  {
   "cell_type": "code",
   "execution_count": 14,
   "metadata": {},
   "outputs": [
    {
     "data": {
      "text/plain": [
       "'cereja'"
      ]
     },
     "execution_count": 14,
     "metadata": {},
     "output_type": "execute_result"
    }
   ],
   "source": [
    "#14\n",
    "ultima_fruta = segunda_lista[-1]\n",
    "ultima_fruta"
   ]
  },
  {
   "cell_type": "code",
   "execution_count": 15,
   "metadata": {},
   "outputs": [
    {
     "data": {
      "text/plain": [
       "'pera'"
      ]
     },
     "execution_count": 15,
     "metadata": {},
     "output_type": "execute_result"
    }
   ],
   "source": [
    "#15\n",
    "segunda_fruta = primera_lista[0][1]\n",
    "segunda_fruta"
   ]
  },
  {
   "cell_type": "code",
   "execution_count": 16,
   "metadata": {},
   "outputs": [
    {
     "data": {
      "text/plain": [
       "'cereja'"
      ]
     },
     "execution_count": 16,
     "metadata": {},
     "output_type": "execute_result"
    }
   ],
   "source": [
    "#16\n",
    "ultima_fruta_primera_lista = primera_lista[-1][-1]\n",
    "ultima_fruta_primera_lista"
   ]
  },
  {
   "cell_type": "code",
   "execution_count": 17,
   "metadata": {},
   "outputs": [
    {
     "data": {
      "text/plain": [
       "6"
      ]
     },
     "execution_count": 17,
     "metadata": {},
     "output_type": "execute_result"
    }
   ],
   "source": [
    "#17\n",
    "longitud_segunda_lista = len(segunda_lista)\n",
    "longitud_segunda_lista"
   ]
  },
  {
   "cell_type": "code",
   "execution_count": 18,
   "metadata": {},
   "outputs": [
    {
     "data": {
      "text/plain": [
       "['maçã', 'pera']"
      ]
     },
     "execution_count": 18,
     "metadata": {},
     "output_type": "execute_result"
    }
   ],
   "source": [
    "#18\n",
    "porcion_segunda_lista = segunda_lista[:2]\n",
    "porcion_segunda_lista"
   ]
  },
  {
   "cell_type": "code",
   "execution_count": 19,
   "metadata": {},
   "outputs": [
    {
     "data": {
      "text/plain": [
       "['maçã', 'ciruela', 'banana', 'mamão', 'laranja', 'cereja']"
      ]
     },
     "execution_count": 19,
     "metadata": {},
     "output_type": "execute_result"
    }
   ],
   "source": [
    "#19\n",
    "segunda_lista[1] = \"ciruela\"\n",
    "segunda_lista"
   ]
  },
  {
   "cell_type": "code",
   "execution_count": 20,
   "metadata": {},
   "outputs": [
    {
     "data": {
      "text/plain": [
       "[['maçã', 'pera', 'banana'], ['mamão', 'laranja', 'cereja'], 'kiwi']"
      ]
     },
     "execution_count": 20,
     "metadata": {},
     "output_type": "execute_result"
    }
   ],
   "source": [
    "#20\n",
    "primera_lista.append(\"kiwi\")\n",
    "primera_lista"
   ]
  },
  {
   "cell_type": "markdown",
   "metadata": {},
   "source": [
    "# Tuplas\n",
    "\n",
    "1. Crear una tupla: Crea una tupla llamada mi_tupla con algunos elementos de tu elección\n",
    "2. Acceder al primer elemento: Accede al primer elemento de mi_tupla y guárdalo en una variable llamada primer_elemento\n",
    "3. Acceder al último elemento: Accede al último elemento de mi_tupla y guárdalo en una variable llamada ultimo_elemento\n",
    "4. Acceder a un rango de elementos: Utilizando el slicing, crea una nueva tupla llamada sub_tupla que contenga los elementos desde el segundo hasta el cuarto de mi_tupla\n",
    "5. Concatenar dos tuplas: Crea otra tupla llamada otra_tupla y concaténala con mi_tupla para formar una nueva tupla llamada tupla_concatenada\n",
    "6. Encontrar la longitud: Encuentra la longitud de tupla_concatenada y guárdala en una variable llamada longitud\n",
    "7. Buscar un elemento: Verifica si un elemento específico está presente en mi_tupla, por ejemplo, \"manzana\"\n",
    "8. Contar elementos: Cuenta cuántas veces aparece un elemento específico en mi_tupla, por ejemplo, cuántas veces aparece \"pera\"\n",
    "9. Desempaquetar una tupla: Si tienes una tupla de nombres (nombre, apellido), desempaqueta los valores en dos variables separadas\n",
    "10. Convertir una lista en tupla: Crea una lista de números y conviértela en una tupla llamada tupla_desde_lista."
   ]
  },
  {
   "cell_type": "code",
   "execution_count": 21,
   "metadata": {},
   "outputs": [],
   "source": [
    "#1\n",
    "mi_tupla = (1, 3, 7, \"a\")"
   ]
  },
  {
   "cell_type": "code",
   "execution_count": 22,
   "metadata": {},
   "outputs": [
    {
     "data": {
      "text/plain": [
       "1"
      ]
     },
     "execution_count": 22,
     "metadata": {},
     "output_type": "execute_result"
    }
   ],
   "source": [
    "#2\n",
    "primer_elemento = mi_tupla[0]\n",
    "primer_elemento"
   ]
  },
  {
   "cell_type": "code",
   "execution_count": 23,
   "metadata": {},
   "outputs": [
    {
     "data": {
      "text/plain": [
       "'a'"
      ]
     },
     "execution_count": 23,
     "metadata": {},
     "output_type": "execute_result"
    }
   ],
   "source": [
    "#3\n",
    "ultimo_elemento = mi_tupla[-1]\n",
    "ultimo_elemento"
   ]
  },
  {
   "cell_type": "code",
   "execution_count": 24,
   "metadata": {},
   "outputs": [
    {
     "data": {
      "text/plain": [
       "(3, 7, 'a')"
      ]
     },
     "execution_count": 24,
     "metadata": {},
     "output_type": "execute_result"
    }
   ],
   "source": [
    "#4\n",
    "sub_tupla = mi_tupla[1:]\n",
    "sub_tupla"
   ]
  },
  {
   "cell_type": "code",
   "execution_count": 25,
   "metadata": {},
   "outputs": [
    {
     "data": {
      "text/plain": [
       "(6, 3, 9, 0, 1, 3, 7, 'a')"
      ]
     },
     "execution_count": 25,
     "metadata": {},
     "output_type": "execute_result"
    }
   ],
   "source": [
    "#5\n",
    "otra_tupla = (6, 3, 9, 0)\n",
    "tupla_concatenada = otra_tupla + mi_tupla \n",
    "tupla_concatenada"
   ]
  },
  {
   "cell_type": "code",
   "execution_count": 26,
   "metadata": {},
   "outputs": [
    {
     "data": {
      "text/plain": [
       "8"
      ]
     },
     "execution_count": 26,
     "metadata": {},
     "output_type": "execute_result"
    }
   ],
   "source": [
    "#6\n",
    "longitud = len(tupla_concatenada)\n",
    "longitud"
   ]
  },
  {
   "cell_type": "code",
   "execution_count": 27,
   "metadata": {},
   "outputs": [
    {
     "data": {
      "text/plain": [
       "False"
      ]
     },
     "execution_count": 27,
     "metadata": {},
     "output_type": "execute_result"
    }
   ],
   "source": [
    "#7\n",
    "\"manzana\" in mi_tupla"
   ]
  },
  {
   "cell_type": "code",
   "execution_count": 28,
   "metadata": {},
   "outputs": [
    {
     "data": {
      "text/plain": [
       "2"
      ]
     },
     "execution_count": 28,
     "metadata": {},
     "output_type": "execute_result"
    }
   ],
   "source": [
    "#8\n",
    "tupla_concatenada.count(3)"
   ]
  },
  {
   "cell_type": "code",
   "execution_count": 29,
   "metadata": {},
   "outputs": [
    {
     "name": "stdout",
     "output_type": "stream",
     "text": [
      "Maíra\n",
      "Pitelli\n"
     ]
    }
   ],
   "source": [
    "#9\n",
    "tupla_nombres = (\"Maíra\", \"Pitelli\")\n",
    "nombre, apellido = tupla_nombres\n",
    "print(nombre)\n",
    "print(apellido)"
   ]
  },
  {
   "cell_type": "code",
   "execution_count": 30,
   "metadata": {},
   "outputs": [
    {
     "data": {
      "text/plain": [
       "(1, 2, 3, 4, 5, 6, 7, 8, 9, 9)"
      ]
     },
     "execution_count": 30,
     "metadata": {},
     "output_type": "execute_result"
    }
   ],
   "source": [
    "#10\n",
    "numeros = [1, 2, 3, 4, 5, 6, 7, 8, 9, 9]\n",
    "tupla_desde_lista = tuple(numeros)\n",
    "tupla_desde_lista"
   ]
  },
  {
   "cell_type": "markdown",
   "metadata": {},
   "source": [
    "## Diccionarios\n",
    "\n",
    "1. Crear un diccionario: Crea un diccionario vacío llamado mi_diccionario con una key llamada apellido y que su value sea López\n",
    "2. Agregar elementos: Agrega una clave-valor al diccionario mi_diccionario. Por ejemplo, agrega la clave \"nombre\" con el valor \"Juan\"\n",
    "3. Acceder a un valor: Accede al valor correspondiente a la clave \"nombre\" en mi_diccionario\n",
    "4. Modificar un valor: Cambia el valor de la clave \"nombre\" a \"Ana\"\n",
    "5. Eliminar un elemento: Elimina la clave \"nombre\" de mi_diccionario\n",
    "6. Verificar existencia: Verifica si la clave \"apellido\" existe en mi_diccionario\n",
    "7. Obtener todas las claves: Obtén una lista de todas las claves en mi_diccionario\n",
    "8. Obtener todos los valores: Obtén una lista de todos los valores en mi_diccionario\n",
    "9. Recorrer el diccionario: Usa un bucle for para recorrer y mostrar todas las claves y valores en mi_diccionario\n",
    "10. Longitud del diccionario: Calcula la longitud (cantidad de elementos) de mi_diccionario\n",
    "11. Copiar un diccionario: Crea una copia de mi_diccionario llamada copia_diccionario\n",
    "12. Eliminar elementos: Elimina todos los elementos de copia_diccionario\n",
    "13. Combinar diccionarios: Crea otro diccionario llamado diccionario_combinado y combina mi_diccionario y copia_diccionario en él\n",
    "14. Obtener valor predeterminado: Intenta acceder a la clave \"edad\" en mi_diccionario. Si no existe, muestra el valor predeterminado \"Desconocida\"\n",
    "15. Clave máxima: Encuentra la clave con el valor máximo en un diccionario que contenga pares clave-valor numéricos."
   ]
  },
  {
   "cell_type": "code",
   "execution_count": 31,
   "metadata": {},
   "outputs": [],
   "source": [
    "#1\n",
    "mi_diccionario = {\"apellido\":\"López\"}"
   ]
  },
  {
   "cell_type": "code",
   "execution_count": 32,
   "metadata": {},
   "outputs": [
    {
     "data": {
      "text/plain": [
       "{'apellido': 'López', 'nombre': 'Juan'}"
      ]
     },
     "execution_count": 32,
     "metadata": {},
     "output_type": "execute_result"
    }
   ],
   "source": [
    "#2\n",
    "mi_diccionario[\"nombre\"] = \"Juan\"\n",
    "mi_diccionario"
   ]
  },
  {
   "cell_type": "code",
   "execution_count": 33,
   "metadata": {},
   "outputs": [
    {
     "data": {
      "text/plain": [
       "'Juan'"
      ]
     },
     "execution_count": 33,
     "metadata": {},
     "output_type": "execute_result"
    }
   ],
   "source": [
    "#3\n",
    "mi_diccionario[\"nombre\"]"
   ]
  },
  {
   "cell_type": "code",
   "execution_count": 34,
   "metadata": {},
   "outputs": [
    {
     "data": {
      "text/plain": [
       "{'apellido': 'López', 'nombre': 'Ana'}"
      ]
     },
     "execution_count": 34,
     "metadata": {},
     "output_type": "execute_result"
    }
   ],
   "source": [
    "#4\n",
    "mi_diccionario[\"nombre\"] = \"Ana\"\n",
    "mi_diccionario"
   ]
  },
  {
   "cell_type": "code",
   "execution_count": 35,
   "metadata": {},
   "outputs": [
    {
     "data": {
      "text/plain": [
       "{'apellido': 'López'}"
      ]
     },
     "execution_count": 35,
     "metadata": {},
     "output_type": "execute_result"
    }
   ],
   "source": [
    "#5\n",
    "mi_diccionario.pop(\"nombre\")\n",
    "mi_diccionario"
   ]
  },
  {
   "cell_type": "code",
   "execution_count": 36,
   "metadata": {},
   "outputs": [
    {
     "data": {
      "text/plain": [
       "True"
      ]
     },
     "execution_count": 36,
     "metadata": {},
     "output_type": "execute_result"
    }
   ],
   "source": [
    "#6\n",
    "\"apellido\" in mi_diccionario"
   ]
  },
  {
   "cell_type": "code",
   "execution_count": 37,
   "metadata": {},
   "outputs": [
    {
     "data": {
      "text/plain": [
       "dict_keys(['apellido'])"
      ]
     },
     "execution_count": 37,
     "metadata": {},
     "output_type": "execute_result"
    }
   ],
   "source": [
    "#7\n",
    "keys = mi_diccionario.keys()\n",
    "keys"
   ]
  },
  {
   "cell_type": "code",
   "execution_count": 38,
   "metadata": {},
   "outputs": [
    {
     "data": {
      "text/plain": [
       "dict_values(['López'])"
      ]
     },
     "execution_count": 38,
     "metadata": {},
     "output_type": "execute_result"
    }
   ],
   "source": [
    "#8 \n",
    "values = mi_diccionario.values()\n",
    "values"
   ]
  },
  {
   "cell_type": "code",
   "execution_count": 39,
   "metadata": {},
   "outputs": [
    {
     "name": "stdout",
     "output_type": "stream",
     "text": [
      "apellido López\n"
     ]
    }
   ],
   "source": [
    "#9\n",
    "for clave, valor in mi_diccionario.items():\n",
    "    print(clave, valor)"
   ]
  },
  {
   "cell_type": "code",
   "execution_count": 40,
   "metadata": {},
   "outputs": [
    {
     "data": {
      "text/plain": [
       "1"
      ]
     },
     "execution_count": 40,
     "metadata": {},
     "output_type": "execute_result"
    }
   ],
   "source": [
    "#10\n",
    "len(mi_diccionario)"
   ]
  },
  {
   "cell_type": "code",
   "execution_count": 41,
   "metadata": {},
   "outputs": [
    {
     "data": {
      "text/plain": [
       "{'apellido': 'López'}"
      ]
     },
     "execution_count": 41,
     "metadata": {},
     "output_type": "execute_result"
    }
   ],
   "source": [
    "#11\n",
    "copia_diccionario = mi_diccionario.copy()\n",
    "copia_diccionario"
   ]
  },
  {
   "cell_type": "code",
   "execution_count": 42,
   "metadata": {},
   "outputs": [
    {
     "data": {
      "text/plain": [
       "{}"
      ]
     },
     "execution_count": 42,
     "metadata": {},
     "output_type": "execute_result"
    }
   ],
   "source": [
    "#12\n",
    "copia_diccionario.clear()\n",
    "copia_diccionario"
   ]
  },
  {
   "cell_type": "code",
   "execution_count": 43,
   "metadata": {},
   "outputs": [
    {
     "data": {
      "text/plain": [
       "{'apellido': 'López'}"
      ]
     },
     "execution_count": 43,
     "metadata": {},
     "output_type": "execute_result"
    }
   ],
   "source": [
    "#13\n",
    "diccionario_combinado = {}\n",
    "diccionario_combinado.update(mi_diccionario)\n",
    "diccionario_combinado.update(copia_diccionario)\n",
    "diccionario_combinado"
   ]
  },
  {
   "cell_type": "code",
   "execution_count": 44,
   "metadata": {},
   "outputs": [
    {
     "data": {
      "text/plain": [
       "{'apellido': 'López', 'edad': 'desconocida'}"
      ]
     },
     "execution_count": 44,
     "metadata": {},
     "output_type": "execute_result"
    }
   ],
   "source": [
    "#14\n",
    "mi_diccionario.setdefault(\"edad\", \"desconocida\")\n",
    "mi_diccionario"
   ]
  },
  {
   "cell_type": "code",
   "execution_count": 45,
   "metadata": {},
   "outputs": [
    {
     "name": "stdout",
     "output_type": "stream",
     "text": [
      "La clave es: 57.\n"
     ]
    }
   ],
   "source": [
    "#15\n",
    "diccionario_num = {1:3, 4:8, 9:0, 3:7, 57:43}\n",
    "valor_max = max(diccionario_num.values())\n",
    "for k, v in diccionario_num.items():\n",
    "    if v == valor_max:\n",
    "        print(f\"La clave es: {k}.\")\n"
   ]
  },
  {
   "cell_type": "markdown",
   "metadata": {},
   "source": [
    "## Sets\n",
    "\n",
    "1. Crear un conjunto vacío: Crea un conjunto llamado mi_set que esté vacío\n",
    "2. Agregar elementos a un conjunto: Agrega los números 1, 2 y 3 al conjunto mi_set\n",
    "3. Eliminar elementos de un conjunto: Elimina el número 2 del conjunto mi_set\n",
    "4. Verificar pertenencia: Comprueba si el número 3 está en mi_set y almacena el resultado en una variable llamada existe\n",
    "5. Operaciones de conjuntos: Crea dos conjuntos set1 y set2 con números y encuentra la intersección de ambos conjuntos\n",
    "6. Unión de conjuntos: Combina set1 y set2 para formar un nuevo conjunto que contenga todos los elementos de ambos\n",
    "7. Diferencia de conjuntos: Encuentra los elementos que están en set1 pero no en set2\n",
    "8. Comparación de conjuntos: Comprueba si set1 es un subconjunto de set2 y almacena el resultado en una variable llamada es_subconjunto\n",
    "9. Eliminar elementos duplicados: Dada una lista mi_lista con elementos duplicados, conviértela en un conjunto para eliminar los duplicados\n",
    "10. Comprobar igualdad de conjuntos: Compara si set1 y set2 son iguales y almacena el resultado en una variable llamada son_iguales."
   ]
  },
  {
   "cell_type": "code",
   "execution_count": 50,
   "metadata": {},
   "outputs": [],
   "source": [
    "mi_set = set()"
   ]
  },
  {
   "cell_type": "code",
   "execution_count": 53,
   "metadata": {},
   "outputs": [
    {
     "data": {
      "text/plain": [
       "{1, 2, 3}"
      ]
     },
     "execution_count": 53,
     "metadata": {},
     "output_type": "execute_result"
    }
   ],
   "source": [
    "mi_set.update([1, 2, 3])\n",
    "mi_set"
   ]
  },
  {
   "cell_type": "code",
   "execution_count": null,
   "metadata": {},
   "outputs": [],
   "source": []
  }
 ],
 "metadata": {
  "kernelspec": {
   "display_name": "base",
   "language": "python",
   "name": "python3"
  },
  "language_info": {
   "codemirror_mode": {
    "name": "ipython",
    "version": 3
   },
   "file_extension": ".py",
   "mimetype": "text/x-python",
   "name": "python",
   "nbconvert_exporter": "python",
   "pygments_lexer": "ipython3",
   "version": "3.11.7"
  }
 },
 "nbformat": 4,
 "nbformat_minor": 2
}

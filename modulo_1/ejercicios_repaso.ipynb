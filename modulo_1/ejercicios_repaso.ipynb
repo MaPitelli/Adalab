{
 "cells": [
  {
   "cell_type": "markdown",
   "metadata": {},
   "source": [
    "# Listas"
   ]
  },
  {
   "cell_type": "code",
   "execution_count": 10,
   "metadata": {},
   "outputs": [
    {
     "name": "stdout",
     "output_type": "stream",
     "text": [
      "['Crear una lista: Crea una lista con cinco colores diferentes', 'Acceder a elementos: Accede al tercer elemento de la lista de colores', 'Modificar elementos: Cambia el segundo color de la lista por otro de tu elección', 'Agregar elementos: Agrega dos colores nuevos a la lista', 'Eliminar elementos: Elimina el cuarto color de la lista', 'Longitud de la lista: Encuentra la longitud de la lista de colores', 'Ordenar la lista: Ordena la lista de colores en orden alfabético', 'Listas anidadas: Crea una lista de dos sublistas, cada una con tres nombres de frutas', 'Concatenar listas: Concatena las dos sublistas en una sola lista de frutas', 'Repetir elementos: Repite la lista de frutas tres veces para obtener una lista más larga', 'Acceder a la primera lista de frutas: Crea una variable llamada primera_lista y asigna la primera lista de frutas a esta variable', 'Acceder a la segunda lista de frutas: Crea una variable llamada segunda_lista y asigna la segunda lista de frutas a esta variable', 'Acceder a la primera fruta de la primera lista: Crea una variable llamada primera_fruta y asigna la primera fruta de la primera lista de frutas a esta variable', 'Acceder a la última fruta de la segunda lista: Crea una variable llamada ultima_fruta y asigna la última fruta de la segunda lista de frutas a esta variable', 'Acceder a la segunda fruta de la primera lista: Crea una variable llamada segunda_fruta y asigna la segunda fruta de la primera lista de frutas a esta variable', 'Acceder a la última fruta de la primera lista: Crea una variable llamada ultima_fruta_primera_lista y asigna la última fruta de la primera lista de frutas a esta variable', 'Acceder a la longitud de la segunda lista de frutas: Crea una variable llamada longitud_segunda_lista y asigna la longitud (número de elementos) de la segunda lista de frutas a esta variable', 'Acceder a una porción de la segunda lista (slicing): Crea una variable llamada porcion_segunda_lista y asigna los dos primeros elementos de la segunda lista de frutas a esta variable utilizando el slicing', 'Cambiar la segunda fruta de la segunda lista: Cambia la segunda fruta de la segunda lista de frutas a \"ciruela\"', 'Agregar una nueva fruta a la primera lista: Agrega una nueva fruta, \"kiwi\", a la primera lista de frutas.']\n"
     ]
    }
   ],
   "source": [
    "texto = '''Crear una lista: Crea una lista con cinco colores diferentes.\n",
    "\n",
    "Acceder a elementos: Accede al tercer elemento de la lista de colores.\n",
    "\n",
    "Modificar elementos: Cambia el segundo color de la lista por otro de tu elección.\n",
    "\n",
    "Agregar elementos: Agrega dos colores nuevos a la lista.\n",
    "\n",
    "Eliminar elementos: Elimina el cuarto color de la lista.\n",
    "\n",
    "Longitud de la lista: Encuentra la longitud de la lista de colores.\n",
    "\n",
    "Ordenar la lista: Ordena la lista de colores en orden alfabético.\n",
    "\n",
    "Listas anidadas: Crea una lista de dos sublistas, cada una con tres nombres de frutas.\n",
    "\n",
    "Concatenar listas: Concatena las dos sublistas en una sola lista de frutas.\n",
    "\n",
    "Repetir elementos: Repite la lista de frutas tres veces para obtener una lista más larga.\n",
    "\n",
    "Acceder a la primera lista de frutas: Crea una variable llamada primera_lista y asigna la primera lista de frutas a esta variable.\n",
    "\n",
    "Acceder a la segunda lista de frutas: Crea una variable llamada segunda_lista y asigna la segunda lista de frutas a esta variable.\n",
    "\n",
    "Acceder a la primera fruta de la primera lista: Crea una variable llamada primera_fruta y asigna la primera fruta de la primera lista de frutas a esta variable.\n",
    "\n",
    "Acceder a la última fruta de la segunda lista: Crea una variable llamada ultima_fruta y asigna la última fruta de la segunda lista de frutas a esta variable.\n",
    "\n",
    "Acceder a la segunda fruta de la primera lista: Crea una variable llamada segunda_fruta y asigna la segunda fruta de la primera lista de frutas a esta variable.\n",
    "\n",
    "Acceder a la última fruta de la primera lista: Crea una variable llamada ultima_fruta_primera_lista y asigna la última fruta de la primera lista de frutas a esta variable.\n",
    "\n",
    "Acceder a la longitud de la segunda lista de frutas: Crea una variable llamada longitud_segunda_lista y asigna la longitud (número de elementos) de la segunda lista de frutas a esta variable.\n",
    "\n",
    "Acceder a una porción de la segunda lista (slicing): Crea una variable llamada porcion_segunda_lista y asigna los dos primeros elementos de la segunda lista de frutas a esta variable utilizando el slicing.\n",
    "\n",
    "Cambiar la segunda fruta de la segunda lista: Cambia la segunda fruta de la segunda lista de frutas a \"ciruela\".\n",
    "\n",
    "Agregar una nueva fruta a la primera lista: Agrega una nueva fruta, \"kiwi\", a la primera lista de frutas.'''\n",
    "\n",
    "\n",
    "frases = texto.split(\".\\n\\n\")  # Separa el texto en frases por saltos de línea\n",
    "print(frases)\n",
    "\n",
    "# for i, frase in enumerate(frases):  # Recorre las frases con enumerate\n",
    "#     numero = i + 1  # Calcula el número para la frase actual\n",
    "#     nueva_frase = f\"{numero}. {frase}\"  # Crea la frase con el número\n",
    "#     print(nueva_frase)  # Imprime la frase con el número\n",
    "\n",
    "\n",
    "\n"
   ]
  },
  {
   "cell_type": "code",
   "execution_count": null,
   "metadata": {},
   "outputs": [],
   "source": []
  }
 ],
 "metadata": {
  "kernelspec": {
   "display_name": "base",
   "language": "python",
   "name": "python3"
  },
  "language_info": {
   "codemirror_mode": {
    "name": "ipython",
    "version": 3
   },
   "file_extension": ".py",
   "mimetype": "text/x-python",
   "name": "python",
   "nbconvert_exporter": "python",
   "pygments_lexer": "ipython3",
   "version": "3.11.7"
  }
 },
 "nbformat": 4,
 "nbformat_minor": 2
}

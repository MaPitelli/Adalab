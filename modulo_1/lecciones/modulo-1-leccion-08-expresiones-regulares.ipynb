{
 "cells": [
  {
   "cell_type": "markdown",
   "metadata": {
    "toc": true
   },
   "source": [
    "<h1>Table of Contents<span class=\"tocSkip\"></span></h1>\n",
    "<div class=\"toc\"><ul class=\"toc-item\"><li><span><a href=\"#¿Qué-es-Regex?\" data-toc-modified-id=\"¿Qué-es-Regex?-1\"><span class=\"toc-item-num\">1&nbsp;&nbsp;</span>¿Qué es Regex?</a></span><ul class=\"toc-item\"><li><span><a href=\"#Operadores-comunes\" data-toc-modified-id=\"Operadores-comunes-1.1\"><span class=\"toc-item-num\">1.1&nbsp;&nbsp;</span>Operadores comunes</a></span></li><li><span><a href=\"#Sintaxis-básica-de-regex\" data-toc-modified-id=\"Sintaxis-básica-de-regex-1.2\"><span class=\"toc-item-num\">1.2&nbsp;&nbsp;</span>Sintaxis básica de regex</a></span></li><li><span><a href=\"#Links-útiles--🤓\" data-toc-modified-id=\"Links-útiles--🤓-1.3\"><span class=\"toc-item-num\">1.3&nbsp;&nbsp;</span>Links útiles  🤓</a></span></li></ul></li><li><span><a href=\"#Regex-en-Python\" data-toc-modified-id=\"Regex-en-Python-2\"><span class=\"toc-item-num\">2&nbsp;&nbsp;</span>Regex en Python</a></span><ul class=\"toc-item\"><li><span><a href=\"#re.findall()\" data-toc-modified-id=\"re.findall()-2.1\"><span class=\"toc-item-num\">2.1&nbsp;&nbsp;</span><code>re.findall()</code></a></span></li><li><span><a href=\"#re.sub()\" data-toc-modified-id=\"re.sub()-2.2\"><span class=\"toc-item-num\">2.2&nbsp;&nbsp;</span><code>re.sub()</code></a></span></li><li><span><a href=\"#re.split()\" data-toc-modified-id=\"re.split()-2.3\"><span class=\"toc-item-num\">2.3&nbsp;&nbsp;</span><code>re.split()</code></a></span></li><li><span><a href=\"#re.match()\" data-toc-modified-id=\"re.match()-2.4\"><span class=\"toc-item-num\">2.4&nbsp;&nbsp;</span><code>re.match()</code></a></span></li><li><span><a href=\"#re.search()\" data-toc-modified-id=\"re.search()-2.5\"><span class=\"toc-item-num\">2.5&nbsp;&nbsp;</span><code>re.search()</code></a></span></li></ul></li><li><span><a href=\"#Ejercicios\" data-toc-modified-id=\"Ejercicios-3\"><span class=\"toc-item-num\">3&nbsp;&nbsp;</span>Ejercicios</a></span></li></ul></div>"
   ]
  },
  {
   "cell_type": "markdown",
   "metadata": {},
   "source": [
    "# ¿Qué es Regex? \n",
    "\n",
    "Regex (de la abreviatura de expresion regular) son secuencias de caracteres que forman un patrón de búsqueda utilizado para encontrar y manipular texto de manera eficiente. Son una herramienta poderosa para buscar, validar y manipular cadenas de caracteres basándose en patrones predefinidos.\n",
    "\n",
    "Con regex, podemos especificar patrones complejos que coincidan con cadenas de texto específicas. Podemos buscar patrones simples, como una palabra específica, o patrones más complejos, como una dirección de correo electrónico, un número de teléfono o un formato de fecha.\n",
    "\n",
    "Las expresiones regulares proporcionan un método potente, flexible y eficaz para procesar texto. La extensa notación de coincidencia de patrones de las expresiones regulares nos permite analizar rápidamente grandes cantidades de texto para:\n",
    "\n",
    "- Encontrar patrones de caracteres específicos.\n",
    "\n",
    "- Validar el texto para asegurarse de que coincide con un patrón predefinido (como una dirección de correo electrónico).\n",
    "\n",
    "- Extraer, editar, sustituir o eliminar subcadenas de texto.\n",
    "\n",
    " \n",
    "A la hora de trabajar con Regex hay dos preguntas que nos podríamos hacer que nos pueden ayudar: \n",
    "\n",
    "- ¿qué tienen en común los fragmentos de texto que buscamos?\n",
    "- ¿qué fragmentos de texto *no* me interesan?\n",
    "\n",
    "Una cosa interesante de regex es que universal para cualquier tipo de lenguaje de programación, es decir, será igual para Python, que para Java por ejemplo. \n"
   ]
  },
  {
   "cell_type": "markdown",
   "metadata": {},
   "source": [
    "## Operadores comunes\n",
    "\n",
    "Estamos empezando con un \"lenguaje\" nuevo, por lo que antes de ponernos manos a la obra veremos algunos de los operadores más comunes. Por supuesto, existen muchos más, pero con estos que os compartimos ya podremos solucionar muchos problemas 💪🏽. \n",
    "\n",
    "- `+`  : coincide con el carácter precedente una o más veces.\n",
    "\n",
    "    Por ejemplo `ab+c` coincide con \"**abc**\", \"**abbc**\", \"**abbbc**\" pero no con \"**ac**\". Es decir, la `b`(ya que el + lo tenemos después de la b), puede estar 1,2,n veces. Pero tiene que estar! \n",
    "\n",
    "- `*` : coincide con el carácter precedente cero o más veces u opcional\n",
    "\n",
    "    Por ejemplo, `ab*c` coincide con \"**abc**\", \"**abbc**\", \"**abbbc**\" y \"**ac**\". Es decir, nuestro *string* puede tener 1, 2, 3, n `b`, pero también puede no tener ninguna. La diferencia con el `+` es que con el `*` indicamos que pueda aparecer o no ese caracter. \n",
    "\n",
    "- `?` : indica cero o una ocurrencia del elemento precedente.\n",
    "\n",
    "    Por ejemplo, `colou?r` coincide con \"*colour*\" y \"*color*\". A diferencia con el `*`, cuando ponemos una `?`, el caracter que estamos buscando *solo* podrá aparecer UNA vez o ninguna. \n",
    "\n",
    "- `.` : coincide con cualquier carácter individual.\n",
    "\n",
    "    Por ejemplo, `a.c` coincide con \"**abc**\", \"**adc**\", \"**aec**\", etc. Es decir, con el `.` indicamos \"cualquier cosa\". \n",
    "\n",
    "    📌 Si quisiéramos que coincidieran varios caracteres antes de la letra \"c\", sólo tendríamos que utilizar el asterisco * de arriba así: a.*c y esto coincidiría con \"abdefghc\".\n",
    "\n",
    "- `^` : coincide con la posición inicial de cualquier *string*\n",
    "\n",
    "    Por ejemplo,` ^b` coincide con **bat**, *ball*, *basketball*, etc. Es decir, buscaremos todos los *strings* que empiecen con \"b\". \n",
    "\n",
    "- `$` : coincide con la posición final de cualquier *string*\n",
    "\n",
    "    Por ejemplo, `$o` coincide con **sombrero**, **gato**, etc. Todos los *strings* que terminen con \"o\". "
   ]
  },
  {
   "cell_type": "markdown",
   "metadata": {},
   "source": [
    "## Sintaxis básica de regex\n",
    "\n",
    "- `\\w`: buscaremos cualquier caracter de tipo alfabético.\n",
    "\n",
    "- `\\d`: buscaremos cualquier caracter de tipo númerico.\n",
    "\n",
    "- `\\s`: buscaremos los espacios en nuestro *string*.\n",
    "\n",
    "- `\\n`: buscaremos los saltos de línea en nuestro *string*.\n",
    "\n",
    "- `\\W`: buscaremos cualquier caracter que no sea una letra.\n",
    "\n",
    "- `\\D`: buscaremos cualquier caracter que no sea un dígito. \n",
    "\n",
    "- `\\S`: buscaremos cualquier elemento que no sea un espacio en nuestro *string* \n",
    "\n",
    "- `()` : aísla sólo una parte de nuestro patrón de búsqueda que queremos devolver, es decir, captura un grupo.\n",
    "\n",
    "- `[]` : incluye todos los caracteres que queremos que coincidan e incluso incluye rangos como este: a-z y 0-9.\n",
    "\n",
    "    Por ejemplo encontrar todos los caracteres en minúscula de una cadena [a-z]\n",
    "\n",
    "    ⚠️ Aquí se refiere simplemente a todos las letras en minúscula desde la \"a\" hasta la \"z\".\n",
    "\n",
    "    Para los caracteres en mayúscula [A-Z]\n",
    "\n",
    "    Para los números [0-9]\n",
    "\n",
    "    🚨 Nota [^ch] coincide con todas las cadenas que **NO** empiezan por ch\n",
    "\n",
    "- `|` : es como el operador `or` que conocemos de Python.\n",
    "\n",
    "    Por ejemplo `hola|hi` comprueba si el *string* contiene \"**hola**\" o \"**hi**\"\n",
    "\n",
    "- `\\` : señala una secuencia especial ( escapar caracteres especiales). Estos caracteres especiales son todos los que vimos al inicio de la lección en el apartado de operadores y los citados en este apartado. \n",
    "\n",
    "    Por ejemplo si queremos buscar `.` en nuestro *string*, los `.` son elementos especiales, para \"escaparlo\" y poder buscarlos usaremos `\\.` \n",
    "\n",
    "- `{}`: Exactamente el número especificado de ocurrencias\n",
    "\n",
    "    - {n}: Exactamente n veces\n",
    "\n",
    "    - {n,}: Al menos n veces\n",
    "\n",
    "    - {n,m}: Entre n y m veces\n",
    "\n",
    "    Por ejemplo `to{2}` coincide con **todo** pero no con **todavía**, ya que estamos buscando en nuestros *strings*  algo que tenga \"to\" seguido de SOLO dos caracteres más. \n",
    "\n",
    "\n",
    "Os dejamos por aquí una cheatsheet de Regex por si os ayuda! \n",
    "\n",
    "![regex](https://github.com/Adalab/data_imagenes/blob/main/Modulo-1/python/cheatsheet_regex.png?raw=true)"
   ]
  },
  {
   "cell_type": "markdown",
   "metadata": {},
   "source": [
    "## Links útiles  🤓\n",
    "\n",
    "**1- Documentación**\n",
    "\n",
    "   - [La documentación](https://docs.python.org/3/howto/regex.html)\n",
    "\n",
    "**2- Cheatsheets**\n",
    "\n",
    "   - [Tutorial de Regex - Un cheatsheet rápido con ejemplos](https://medium.com/factory-mind/regex-tutorial-a-simple-cheatsheet-by-examples-649dc1c3f285)\n",
    "   - [Cheatsheet de expresiones regulares](https://cheatography.com/davechild/cheat-sheets/regular-expressions/)\n",
    "\n",
    "**3- Para practicar y comprobar patrones**\n",
    "\n",
    "- Regex One, [para practicar](https://regex101.com/)\n",
    "\n",
    "- Regex101, [para comprobar patrones](https://regex101.com/)\n",
    "\n",
    "**4- Más enlaces**\n",
    "\n",
    "   - [Regex de Python para científicos de datos](https://www.dataquest.io/blog/regular-expressions-data-scientists/)\n",
    "   - [Construir, probar y depurar regex](https://regex101.com/)"
   ]
  },
  {
   "cell_type": "markdown",
   "metadata": {},
   "source": [
    "# Regex en Python"
   ]
  },
  {
   "cell_type": "markdown",
   "metadata": {},
   "source": [
    "En Python nos vamos a encontrar 5 funciones principales que nos van a permitir trabajar con *strings*  y Regex. Estas son: \n",
    "\n",
    "\n",
    "- `findall` : devuelve una lista con todas las coincidencias.\n",
    "\n",
    "- `sub` : reemplaza una o varias coincidencias con un *string* especificado.\n",
    "\n",
    "- `split` : devuelve una lista en la que el *string* ha sido dividido en cada coincidencia. Como el `split` que aprendimos en los *strings* pero incluyendo regex.  \n",
    "\n",
    "- `match` : busca el patrón de expresión regular y devuelve la primera ocurrencia.\n",
    "\n",
    "- `search` : devuelve un objeto Match si hay una coincidencia en cualquier parte de la cadena.\n",
    "\n"
   ]
  },
  {
   "cell_type": "code",
   "execution_count": 1,
   "metadata": {},
   "outputs": [],
   "source": [
    "# lo primero que hacermos es importar la librería re, ya que la necesitaremos para trabajar con regex en python\n",
    "import re"
   ]
  },
  {
   "cell_type": "markdown",
   "metadata": {},
   "source": [
    "## `re.findall()`\n",
    "\n",
    "El método `re.findall()` se utiliza para buscar todas las ocurrencias de un patrón específico dentro de una cadena de texto (un *string*) y devolverlas como una **lista**. Su sintaxis es:\n",
    "\n",
    "```python\n",
    "re.findall(patron_regex, string)\n",
    "```\n",
    "\n",
    "Basándonos en el ejemplo que tenemos en la imagen:\n",
    "\n",
    "- **patron_regex**: sería el patrón de regex que queremos buscar en el texto, en este caso `[a-z]+`\n",
    "\n",
    "- **string**: el *string* sobre el que queremos buscar el patrón, en este caso `que tal`\n",
    "\n",
    "![findall](https://github.com/Adalab/data_imagenes/blob/main/Modulo-1/python/re-findall().png?raw=true)"
   ]
  },
  {
   "cell_type": "markdown",
   "metadata": {},
   "source": [
    "Empecemos con un ejemplo algo más sencillo para luego meternos en el fango, con más patrones. En este primer ejemplo, vamos a querer extraer únicamente la información sobre los números de teléfono que tenemos en el *string*. Por lo tanto, tendremos que buscar en nuestro *string* únicamente los elementos numéricos. "
   ]
  },
  {
   "cell_type": "code",
   "execution_count": 2,
   "metadata": {},
   "outputs": [
    {
     "name": "stdout",
     "output_type": "stream",
     "text": [
      "Los numeros capturados en nuestro patrón son: ['123456789', '987654321']\n"
     ]
    }
   ],
   "source": [
    "# definimos un string\n",
    "\n",
    "string = \"\"\"Hola, mi número es 123456789 y \n",
    "            el de mi amigo es 987654321\"\"\"  \n",
    "            \n",
    "# definimos el patrón. Recordemos que para los dígitos tenemos la sintaxis \"\\d\" que nos va a capturar todos los números. Le pondremos un \"+\" por que queremos que sean muchos números. \n",
    "patron1 = \"\\d+\"\n",
    "\n",
    "# utilizamos el método re.findall para sacar los números de nuestro string\n",
    "numeros = re.findall(\"\\d+\", string)\n",
    "\n",
    "# veamos ahora que es numeros, donde esperaríamos encontrarnos una lista solo de números\n",
    "print(\"Los numeros capturados en nuestro patrón son:\", numeros)"
   ]
  },
  {
   "cell_type": "markdown",
   "metadata": {},
   "source": [
    "Veamos otro ejemplo ahora donde tendremos un string donde querremos extraer las fechas de nacimiento que tenemos. "
   ]
  },
  {
   "cell_type": "code",
   "execution_count": 3,
   "metadata": {},
   "outputs": [
    {
     "name": "stdout",
     "output_type": "stream",
     "text": [
      "Las fechas de nacimiento son:  ['12-03-1990', '25-08-1985']\n"
     ]
    }
   ],
   "source": [
    "texto = \"La fecha de nacimiento de Juan es 12-03-1990 y la fecha de nacimiento de María es 25-08-1985.\"\n",
    "\n",
    "# Buscar todas las fechas de nacimiento en el texto\n",
    "coincidencias = re.findall(r\"\\d{2}-\\d{2}-\\d{4}\", texto)\n",
    "\n",
    "# Imprimir las coincidencias encontradas\n",
    "print(\"Las fechas de nacimiento son: \", coincidencias)\n"
   ]
  },
  {
   "cell_type": "markdown",
   "metadata": {},
   "source": [
    "Expliquemos el patrón:\n",
    "\n",
    "- busca una secuencia de dos dígitos (\\d{2})\n",
    "\n",
    "- seguida de un guion (-)\n",
    "\n",
    "- seguida de otra secuencia de dos dígitos (\\d{2})\n",
    "\n",
    "- seguida de un guion (-)\n",
    "\n",
    "- y finalmente, otra secuencia de cuatro dígitos (\\d{4})\n",
    "\n",
    "En resumen, buscamos el patrón \"dd-dd-dddd\", que representa un formato de fecha dd-mm-aaaa."
   ]
  },
  {
   "cell_type": "markdown",
   "metadata": {},
   "source": [
    "Sigamos con más ejemplos. Recordáis que al inicio de este jupyter hablamos de operadores como `?`, `+` o `*` y que las diferencias podían ser un poco sutiles. Recordemos un poco antes de seguir: \n",
    "\n",
    "- `?` (cero o una vez):\n",
    "\n",
    "    - Significa que el elemento precedente puede aparecer cero veces o una vez en el texto.\n",
    "    \n",
    "    - Coincide con cero o una repetición del elemento anterior.\n",
    "    \n",
    "    Por ejemplo, el patrón colou?r coincidiría con \"color\" y \"colour\", ya que la \"u\" es opcional.\n",
    "\n",
    "- `+` (una o más veces):\n",
    "\n",
    "    - Significa que el elemento precedente debe aparecer al menos una vez en el texto.\n",
    "\n",
    "    - Coincide con una o más repeticiones del elemento anterior.\n",
    "    \n",
    "    Por ejemplo, el patrón go+l coincidiría con \"gol\", \"gool\", \"goooool\", pero no con \"gl\", ya que el \"o\" debe aparecer al menos una vez.\n",
    "\n",
    "- `*` (cero o más veces):\n",
    "\n",
    "    - Significa que el elemento precedente puede aparecer cero o más veces en el texto.\n",
    "\n",
    "    - Coincide con cero o más repeticiones del elemento anterior.\n",
    "    \n",
    "    Por ejemplo, el patrón ab*c coincidiría con \"ac\", \"abc\", \"abbc\", \"abbbc\", ya que el \"b\" puede repetirse cero o más veces.\n",
    "\n",
    "\n",
    "Vemos un caso práctico para ver mejor las diferencias: "
   ]
  },
  {
   "cell_type": "code",
   "execution_count": 4,
   "metadata": {},
   "outputs": [
    {
     "name": "stdout",
     "output_type": "stream",
     "text": [
      "El resultado es: ['la', 'la', 'la', 'la', 'la', 'la', 'la', 'la', 'la', 'la', 'la']\n"
     ]
    }
   ],
   "source": [
    "# definimos un nuevo string\n",
    "lala = \"la lala la lalala l laaa lo laaaaaaaa la laaaa\"\n",
    "\n",
    "# si buscamos sin ninguno de estos operadores los caracteres \"la\", buscaremos literalmente las palabras \"la\"\n",
    "# Si nos fijamos, nos devuelve unicamente *strings* \"la\", sin nada más! \n",
    "la1 = re.findall('la', lala)\n",
    "print(\"El resultado es:\", la1)\n"
   ]
  },
  {
   "cell_type": "code",
   "execution_count": 5,
   "metadata": {},
   "outputs": [
    {
     "name": "stdout",
     "output_type": "stream",
     "text": [
      "El resultado es: ['la', 'la', 'la', 'la', 'la', 'la', 'la', 'l', 'la', 'l', 'la', 'la', 'la']\n"
     ]
    }
   ],
   "source": [
    "# también teníamos el operador \"?\", el cual buscaba 0 o 1 coincidencia con el caracter previo. En nuestro caso, vamos a buscar todos aquellos caracteres que tengan una \"l\" SEGUIDO O NO de UNA SOLA \"a\"\n",
    "la2 = re.findall('la?', lala)\n",
    "\n",
    "# Esto nos esta devolviendo aquellas partes de nuestro *string* donde tenemos una \"l\" sola o una \"l\" seguida de UNA ÚNICA \"a\". \n",
    "# Es decir, no está considerando aquellas partes del *string* donde tengamos una \"l\" seguida de más de una \"a\". \n",
    "print(\"El resultado es:\", la2)"
   ]
  },
  {
   "cell_type": "code",
   "execution_count": 6,
   "metadata": {},
   "outputs": [
    {
     "name": "stdout",
     "output_type": "stream",
     "text": [
      "El resultado es: ['la', 'la', 'la', 'la', 'la', 'la', 'la', 'laaa', 'laaaaaaaa', 'la', 'laaaa']\n"
     ]
    }
   ],
   "source": [
    "# además teníamos el operador \"+\",  que a diferencia de la \"?\", nos macheaba todo lo que tenga una \"l\" SEGUIDO de UNA o MAS \"a\". \n",
    "# Es decir, a diferencia del \"?\", con el \"+\" la \"a\" TIENE QUE ESTAR\n",
    "la3 = re.findall('la+', lala)\n",
    "\n",
    "# Si nos fijamos en lo que nos devuelve vemos que, en este caso ya no tenemos la \"l\" sola, ya que con el `+` la \"a\" tiene que estar si o si. \n",
    "# Pero además nos ha añadido el \"laaa\", ya que con el operador `+` especificamos que aparezca una o más veces. \n",
    "print(\"El resultado es:\", la3)"
   ]
  },
  {
   "cell_type": "code",
   "execution_count": 7,
   "metadata": {},
   "outputs": [
    {
     "name": "stdout",
     "output_type": "stream",
     "text": [
      "El resultado es: ['la', 'la', 'la', 'la', 'la', 'la', 'la', 'l', 'laaa', 'l', 'laaaaaaaa', 'la', 'laaaa']\n"
     ]
    }
   ],
   "source": [
    "# por último tenemos el operador \"*\", el cuál buscará todo aquello que tenga una \"l\" SEGUIDO o NO de UNA o MAS \"a\". \n",
    "# A diferencia del \"?\", aquí nos capturará si hay más de una \"a\" mientras que el \"?\" solo nos machea una. \n",
    "la4 = re.findall('la*', lala)\n",
    "print(\"El resultado es:\", la4)"
   ]
  },
  {
   "cell_type": "markdown",
   "metadata": {},
   "source": [
    "Sigamos con más operadores, recordamos las llaves `{}`, los cuáles nos permitian especificar el número de veces que queremos buscar un caracter especificado. \n",
    "\n",
    "📌 **NOTA** Este operador solo aplicará sobre el caracter previo al que está, veamos un ejemplo: \n",
    "\n",
    "```python\n",
    "\n",
    "# imaginamos que tenemos el siguiente patrón: \n",
    "\n",
    "patron1 = \"1234{3}\"\n",
    "\n",
    "# el {3} solo está afectando sobre el 4, es decir, el caracter previo. Por lo tanto, con este patrón estaríamos buscando cualquier elemento en nuestro string que tenga 123 seguido de 3 cuatros. \n",
    "``` "
   ]
  },
  {
   "cell_type": "code",
   "execution_count": 8,
   "metadata": {},
   "outputs": [
    {
     "name": "stdout",
     "output_type": "stream",
     "text": [
      "El resultado es: ['aa', 'aa', 'aa', 'aa', 'aa', 'aa', 'aa']\n"
     ]
    }
   ],
   "source": [
    "# si queremos que nos busque exactamente 2 \"a\"\n",
    "res_a1 = re.findall('a{2}' , lala)\n",
    "\n",
    "# Si nos fijamos en lo que nos devuelve vemos que, en este caso ya no tenemos la \"l\" sola, ya que el operador {} lo que hace es buscar unicamente el número de letras que indicamos, en este caso 2. \n",
    "print(\"El resultado es:\", res_a1)"
   ]
  },
  {
   "cell_type": "code",
   "execution_count": 9,
   "metadata": {},
   "outputs": [
    {
     "name": "stdout",
     "output_type": "stream",
     "text": [
      "El resultado es: ['aaa', 'aaaaaaaa', 'aaaa']\n"
     ]
    }
   ],
   "source": [
    "# si queremos buscar al menos tres \"a\" en nuestro string usaremos {3,}. Esto nos devolverá la parte del string que tenga 3 o más \"a\"\n",
    "res_a2 = re.findall('a{3,}' , lala)\n",
    "\n",
    "# ahora lo que nos devuelve nuestro patrón es una lista con los elementos que coinciden con tres o más \"a\"\n",
    "print(\"El resultado es:\", res_a2)\n"
   ]
  },
  {
   "cell_type": "code",
   "execution_count": 10,
   "metadata": {},
   "outputs": [
    {
     "name": "stdout",
     "output_type": "stream",
     "text": [
      "El resultado es: ['aaa', 'aaaa', 'aaaa', 'aaaa']\n"
     ]
    }
   ],
   "source": [
    "# si quisieramos buscar mínimo 2  y máximo 4 \"a\", usaremos {2,4}\n",
    "res_a3 = re.findall('a{2,4}', lala)\n",
    "\n",
    "# ahora lo que estamos viendo es todas las coincidencias que tengan entre 2 y 4 \"a\"\n",
    "print(\"El resultado es:\", res_a3)\n"
   ]
  },
  {
   "cell_type": "markdown",
   "metadata": {},
   "source": [
    "Alternativamente, el operador `|` en regex es el 'or' como vimos en las sentencias booleanas. Imaginemos que tenemos la siguiente canción 👇🏽 y queremos saber cuántas veces aparece la palabra barquito en nuestro *string* y que nos da igual si la \"b\" esta en mayúscula o minúscula, en este caso deberíamos buscar: \n",
    "\n",
    "> barquito **o** Barquito\n",
    "\n",
    "Es en este caso donde podremos usar el operador `|`"
   ]
  },
  {
   "cell_type": "code",
   "execution_count": 11,
   "metadata": {},
   "outputs": [
    {
     "name": "stdout",
     "output_type": "stream",
     "text": [
      "B|barquito aparece en la cancion: ['Barquito', 'barquito', 'barquito', 'barquito', 'barquito']\n"
     ]
    }
   ],
   "source": [
    "# vamos a definir un string sobre el que trabajaremos en los siguientes ejemplos:\n",
    "\n",
    "cancion =\"\"\"Había una Vez un Barquito Chiquitito,   \n",
    "había una vez un barquito chiquitito,\n",
    "que no sabia, que no sabía , que no sabía navegar.\n",
    "\n",
    "Pasaron un, dos, tres,\n",
    "cuatro , cinco, seis semanas,\n",
    "pasaron 1, 2 , 3,\n",
    "4, 5 , 6 semanas,\n",
    "y aquel barquito y aquel barquito\n",
    "y aquel barquito navegó.\"\"\"\n",
    "\n",
    "barquitos3 = re.findall('barquito|Barquito',cancion)\n",
    "\n",
    "print(\"B|barquito aparece en la cancion:\",  barquitos3)"
   ]
  },
  {
   "cell_type": "markdown",
   "metadata": {},
   "source": [
    "**Veamos ahora unos operadores que pueden resultar confusos cuando los aprendemos, los operadores `^` y `$`**. Recordemos que: \n",
    "\n",
    "- El operador `^` nos sirve para buscar en el incio del *string*, es decir, **EL PRIMER CARACTER DE TODO EL *STRING***. \n",
    "\n",
    "- El operador `$` nos sirve para buscar en el final del *string*, es decir, **EL ÚLTIMO CARACTER DE TODO EL *STRING***. "
   ]
  },
  {
   "cell_type": "code",
   "execution_count": 12,
   "metadata": {},
   "outputs": [],
   "source": [
    "# definamos un nuevo string\n",
    "saludo = \"Hola Adalabers, regex puede ser un poco dificil, pero lo podemos superar!!! Es cuestión de práctica\""
   ]
  },
  {
   "cell_type": "code",
   "execution_count": 13,
   "metadata": {},
   "outputs": [
    {
     "name": "stdout",
     "output_type": "stream",
     "text": [
      "El resultado de buscar que empiece por 're' es: []\n",
      "El resultado de buscar que empiece por 'Ho' es: ['Hola']\n"
     ]
    }
   ],
   "source": [
    "# con este patrón lo que estamos buscando es el string que empieza por \"re\". \n",
    "inicio_re = re.findall(\"^re\", saludo)\n",
    "\n",
    "print(\"El resultado de buscar que empiece por 're' es:\", inicio_re)\n",
    "\n",
    "# con este string estamos buscando es el string que empieza por \"Ho\" y que luego tenga más letras, por eso ponemos \"\\w+\"\n",
    "inicio_ho = re.findall(\"^Ho\\w+\", saludo)\n",
    "print(\"El resultado de buscar que empiece por 'Ho' es:\" , inicio_ho)"
   ]
  },
  {
   "cell_type": "markdown",
   "metadata": {},
   "source": [
    "**Pero... ¿Porqué aunque tengamos una palabra dentro de nuestro saludo  que empieza por *re* no nos devuelve nada?** ⚠️⚠️ Y es que este operador al igual que el `^` solo afecta al INICIO (o al FINAL en el caso del `$`) del *string*, no a al inicio de las palabras contenidas dentro del *string* ⚠️⚠️\n",
    "\n",
    "Imaginemos que tenemos una lista de direcciones, sin embargo, de esta lista solo me interesan las que empiezan por calle, estas direcciones las añadiremos a una nueva lista. \n",
    "\n",
    "- Cómo lo que queremos hacer es ir evaluando dirección a dirección de nuestra lista, lo primero que tendremos que hacer es un `for loop`. \n",
    "\n",
    "- Además queremos ver si cada una de estas direcciones empieza con \"Calle\", usaremos el operador `^`. \n",
    "\n",
    "Veamos todo esto con código: "
   ]
  },
  {
   "cell_type": "code",
   "execution_count": 14,
   "metadata": {},
   "outputs": [
    {
     "name": "stdout",
     "output_type": "stream",
     "text": [
      "El resutlado es:  ['Calle de la Paz', 'Calle de la Esperanza', 'Calle Gloria']\n"
     ]
    }
   ],
   "source": [
    "direcciones = [\"Calle de la Paz\", \"Avenida de la Libertad\", \"Calle de la Esperanza\", \"Plaza de las Virtudes\", \"Calle Gloria\", \"Avenida de la Gran Calle\"]\n",
    "\n",
    "# creamos una lista vacía donde iremos añadiendo las direcciones que tengan \"Calle\"\n",
    "direcciones_calle = []\n",
    "\n",
    "for direccion in direcciones: \n",
    "    # hacemos un findall para ver si cada una de las direcciones empieza con \"Calle\"\n",
    "\n",
    "    calle = re.findall(\"^Calle\", direccion) # esto nos devolverá una lista vacía en caso de que la dirección no comience por \"Calle\", pero será una lista con contenido cuando la dirección empiece con \"Calle\"\n",
    "\n",
    "    # jugando con las longitudes del resultado del findall anterior, solo querremos apendear la dirección si el findall nos devuelve algo, y por lo tanto la longitud de la lista calle será distinto de 0. \n",
    "    if len(calle) != 0:\n",
    "        direcciones_calle.append(direccion)\n",
    "\n",
    "\n",
    "# si ahora vemos el contenido de la lista direcciones_calle, solo tendremos las direcciones que empiecen por \"Calle\", pero no aquellas que no empiecen con \"Calle\" o que lo tengan en mitad del string. \n",
    "print(\"El resutlado es: \", direcciones_calle)"
   ]
  },
  {
   "cell_type": "markdown",
   "metadata": {},
   "source": [
    "## `re.sub()`\n",
    "\n",
    "Este método pertenece a la librería `re` (expresiones regulares) y se utiliza para reemplazar ocurrencias de una expresión regular en una cadena o *string* con un nuevo valor.\n",
    "\n",
    "La sintaxis básica de `re.sub()` es la siguiente:\n",
    "\n",
    "```python\n",
    "re.sub(patron, reemplazo, cadena)\n",
    "```\n",
    "\n",
    "Basándonos en la imagen que tenemos a continuación:\n",
    "\n",
    "- **patron**: sería el patrón de regex que queremos buscar en el texto, en este caso `a`.\n",
    "\n",
    "- **reemplazo**: el *string* por el que vamos a reemplazar el patrón anterior, en este caso `b`.\n",
    "\n",
    "- **cadena**: es el *string* sobre el que querremos reemplazar el patrón que estamos buscando, en este caso `aabb`. \n",
    "\n",
    "![sub](https://github.com/Adalab/data_imagenes/blob/main/Modulo-1/python/re-sub.png?raw=true)"
   ]
  },
  {
   "cell_type": "markdown",
   "metadata": {},
   "source": [
    "Empecemos con un ejemplo sencillo, para luego pasar a usar el *string* \"cancion\" que definimos al inicio de este apartado. "
   ]
  },
  {
   "cell_type": "code",
   "execution_count": 15,
   "metadata": {},
   "outputs": [
    {
     "name": "stdout",
     "output_type": "stream",
     "text": [
      "El resultado es: C++ 9s 9l m9jor l9nguaj9. C++ mola!\n"
     ]
    }
   ],
   "source": [
    "# Dado el siguiente string, vamos a querer reemplazar todas las \"e\" por \"9\"\n",
    "txt = \"C++ es el mejor lenguaje. C++ mola!\"\n",
    "\n",
    "# llamamos al método  \"re.sub\"\n",
    "# lo primero que le pasamos es lo que queremos buscar, en este caso es sencillo, ya que queremos las \"e\"\n",
    "# después especificamos por que lo queremos reemplazar, en este caso por \"9\"\n",
    "# y por ultimo le pasamos el string sobre el que queremos hacer el reemplazo\n",
    "\n",
    "txt_9 = re.sub(\"e\", \"9\", txt)\n",
    "\n",
    "# si ahora vemos nuestro nuevo string, no deberíamos tener \"e\" y debería haber \"9\"\n",
    "print(\"El resultado es:\", txt_9)"
   ]
  },
  {
   "cell_type": "markdown",
   "metadata": {},
   "source": [
    "Este método, puede recibir un parámetro extra, que será un número, con el cual indicaremos en cuántas de las coincidencias querremos hacer el cambio. En este ejemplo, teníamos tres \"e\", pero imaginemos que solo nos interesa hacerlo en dos. Lo haremos de la siguiente forma: "
   ]
  },
  {
   "cell_type": "code",
   "execution_count": 16,
   "metadata": {},
   "outputs": [
    {
     "name": "stdout",
     "output_type": "stream",
     "text": [
      "El resultado es: C++ 9s 9l mejor lenguaje. C++ mola!\n"
     ]
    }
   ],
   "source": [
    "# lo único que cambia con el ejemplo anterior es que le añadimos un 2 al final. \n",
    "txt_9_2 = re.sub(\"e\", \"9\", txt, 2)\n",
    "\n",
    "# si nos fijamos, ahora se nos han cambiado solo 2 \"e\", mientras que la última se ha mantenido\n",
    "print(\"El resultado es:\", txt_9_2)"
   ]
  },
  {
   "cell_type": "markdown",
   "metadata": {},
   "source": [
    "Pongamos un ejemplo algo más complejo. Imaginemos ahora que queremos reemplazar \"C++\" por Python. Si recordamos del inicio de la lección, el operador `+` es un caracter especial y como tal tendremos que \"escaparlo\" con el operador `\\`. Veamos como hacerlo:  "
   ]
  },
  {
   "cell_type": "code",
   "execution_count": 17,
   "metadata": {},
   "outputs": [
    {
     "name": "stdout",
     "output_type": "stream",
     "text": [
      "El texto sobre el que vamos a sustituir un patrón es: C++ es el mejor lenguaje. C++ mola!\n"
     ]
    }
   ],
   "source": [
    "# recordemos como era nuestro strinf\n",
    "print('El texto sobre el que vamos a sustituir un patrón es:', txt)\n",
    "\n",
    "# ahora vamos a definir nuestro patrón, que nos sirva para reemplazar C++ por Pyhton. \n",
    "\n",
    "patron = \"C\\+\\+\""
   ]
  },
  {
   "cell_type": "markdown",
   "metadata": {},
   "source": [
    "Con este patrón lo que estamos buscando es: \n",
    "\n",
    "- Algo que en nuestro *string* que tenga una \"C\"\n",
    "\n",
    "- Seguido de dos \"+\". Como los \"+\", son caracteres especiales tendremos que poner `\\` delante de cada uno. "
   ]
  },
  {
   "cell_type": "code",
   "execution_count": 18,
   "metadata": {},
   "outputs": [
    {
     "name": "stdout",
     "output_type": "stream",
     "text": [
      "el resultado de este método es: Python es el mejor lenguaje. Python mola!\n"
     ]
    }
   ],
   "source": [
    "# lo siguiente que hacemos es utilizar el método re.sub para hacer el reemplazo\n",
    "txt_python= re.sub(patron, \"Python\", txt)\n",
    "\n",
    "# veamos como nos quedo nuestro string ahora\n",
    "\n",
    "print(\"el resultado de este método es:\", txt_python)"
   ]
  },
  {
   "cell_type": "markdown",
   "metadata": {},
   "source": [
    "Perfecto!! Ya hemos hecho nuestros primero reemplazos. Veamos ahora otro ejemplo con el *string*  de la canción que definimos al inicio. Si nos fijamos, en nuestra canción hay algunas comas que tienen un espacio delante, esto no nos gusta mucho y queremos quitar esos espacios. Pongamonos manos a la obra!! "
   ]
  },
  {
   "cell_type": "code",
   "execution_count": 19,
   "metadata": {},
   "outputs": [
    {
     "name": "stdout",
     "output_type": "stream",
     "text": [
      "La canción que teníamos es:\n",
      "\n",
      " Había una Vez un Barquito Chiquitito,   \n",
      "había una vez un barquito chiquitito,\n",
      "que no sabia, que no sabía , que no sabía navegar.\n",
      "\n",
      "Pasaron un, dos, tres,\n",
      "cuatro , cinco, seis semanas,\n",
      "pasaron 1, 2 , 3,\n",
      "4, 5 , 6 semanas,\n",
      "y aquel barquito y aquel barquito\n",
      "y aquel barquito navegó.\n",
      "\n",
      "-----------\n",
      "\n",
      "La canción quitando los espacios\n",
      "\n",
      " Había una Vez un Barquito Chiquitito,   \n",
      "había una vez un barquito chiquitito,\n",
      "que no sabia, que no sabía, que no sabía navegar.\n",
      "\n",
      "Pasaron un, dos, tres,\n",
      "cuatro, cinco, seis semanas,\n",
      "pasaron 1, 2, 3,\n",
      "4, 5, 6 semanas,\n",
      "y aquel barquito y aquel barquito\n",
      "y aquel barquito navegó.\n"
     ]
    }
   ],
   "source": [
    "# recordemos como era nuestra canción\n",
    "\n",
    "print(\"La canción que teníamos es:\\n\\n\",cancion)\n",
    "\n",
    "# lo primero que hacemos es definir nuestro patrón. Recordemos que (si no nos acordamos no pasa nada, nos vamos a la cheatsheet que os pusimos al inicio de la lección) que para buscar los espacios tendremos que usar \\s\n",
    "# lo que vamos a querer buscar es algo que tenga un espacio seguido de una \",\"\n",
    "patron2 = \"\\s,\"\n",
    "print(\"\\n-----------\\n\")\n",
    "# lo que estamos haciendo aquí es reemplazas las comas que tenían un espacio previo por comas sin espacio previo. \n",
    "cancion_espacios = re.sub(patron2, \",\", cancion)\n",
    "print(\"La canción quitando los espacios\\n\\n\", cancion_espacios)"
   ]
  },
  {
   "cell_type": "markdown",
   "metadata": {},
   "source": [
    "Sigamos limpiando un poco más nuestra canción. De nuevo, si nos fijamos, tenemos palabras que están en mayúsulas en mitad de nuestra canción, y eso no puede ser!! Reemplacemos esas letras! "
   ]
  },
  {
   "cell_type": "code",
   "execution_count": 20,
   "metadata": {},
   "outputs": [],
   "source": [
    "# definamos nuestro patrón de regex\n",
    "patron3 = \"[^\\.\\n][A-Z]\""
   ]
  },
  {
   "cell_type": "markdown",
   "metadata": {},
   "source": [
    "¿Cómo está definido este patrón? Por que este parece algo más complejo. Primero tenemos que pensar que es lo que queremos buscar: \n",
    "\n",
    "- Queremos buscar todas las letras mayúsculas\n",
    "\n",
    "- Que **no** vayan después de un `.` ni un salto de línea `\\n` \n",
    "\n",
    "\n",
    "Desgranémoslo para entenderlo mejor\n",
    "\n",
    "- La primera parte de nuestro patrón es `[^\\.\\n]`. Bien, con esto estamos indicando que nos seleccione todo aquello que **NO** tenga un `.` ni un salto de línea `\\n`. Recordemos que aunque el operador `^` indica \"que nuestro *string* empiece por\", si lo ponemos entre corchetes indicara \"todo lo que **NO** contenga\". \n",
    "\n",
    "- Por otro lado solo queremos remplazar las mayúsulas por lo tanto usaremos la estructura `[A-Z]` para indicar cualquier letra que esté en mayúscula entre la \"A\" y la \"Z\". \n",
    "\n",
    "\n",
    "Y ahora nos puede surgir la duda de por que lo reemplazamos, ya que tenemos un \"V\", una \"B\" y una \"C\". Para solucionar esto con el `findall` buscaremos todas las letras que coinciden, luego iteraremos por ella y haremos el reemplazo. "
   ]
  },
  {
   "cell_type": "code",
   "execution_count": 21,
   "metadata": {},
   "outputs": [
    {
     "name": "stdout",
     "output_type": "stream",
     "text": [
      "Las letras que están en may´suculas son: [' V', ' B', ' C']\n",
      "\n",
      "--------------------------\n",
      "\n",
      "Las canción con la que estamos trabajando es:\n",
      "\n",
      " Había una Vez un Barquito Chiquitito,   \n",
      "había una vez un barquito chiquitito,\n",
      "que no sabia, que no sabía, que no sabía navegar.\n",
      "\n",
      "Pasaron un, dos, tres,\n",
      "cuatro, cinco, seis semanas,\n",
      "pasaron 1, 2, 3,\n",
      "4, 5, 6 semanas,\n",
      "y aquel barquito y aquel barquito\n",
      "y aquel barquito navegó.\n"
     ]
    }
   ],
   "source": [
    "# lo primero que hacemos es sacar las mayúsculas que no estén después de un punto que haya en nuestra canción. \n",
    "mayus = re.findall(patron3,cancion_espacios)\n",
    "\n",
    "print(\"Las letras que están en may´suculas son:\", mayus)\n",
    "\n",
    "print(\"\\n--------------------------\\n\")\n",
    "# recordamos la canción\n",
    "print(\"Las canción con la que estamos trabajando es:\\n\\n\", cancion_espacios)"
   ]
  },
  {
   "cell_type": "code",
   "execution_count": 22,
   "metadata": {},
   "outputs": [
    {
     "name": "stdout",
     "output_type": "stream",
     "text": [
      "La cancion despues de este último cambio es:\n",
      "\n",
      " Había una vez un barquito chiquitito,   \n",
      "había una vez un barquito chiquitito,\n",
      "que no sabia, que no sabía, que no sabía navegar.\n",
      "\n",
      "Pasaron un, dos, tres,\n",
      "cuatro, cinco, seis semanas,\n",
      "pasaron 1, 2, 3,\n",
      "4, 5, 6 semanas,\n",
      "y aquel barquito y aquel barquito\n",
      "y aquel barquito navegó.\n"
     ]
    }
   ],
   "source": [
    "# una vez que tenemos la lista de mayúsculas  iteramos por ella\n",
    "for letra in mayus:\n",
    "   # y aplicamos el método re.sub. Donde usaremos el método .lower() de string para convertir cada una de las letras por las que estamos iterando en minúscula\n",
    "   cancion_espacios = re.sub(letra,letra.lower(),cancion_espacios) \n",
    "   \n",
    "# vemos como es nuestra canción ahora y vemos que ya no tenemos letras minúsculas!!\n",
    "\n",
    "print(\"La cancion despues de este último cambio es:\\n\\n\", cancion_espacios)"
   ]
  },
  {
   "cell_type": "markdown",
   "metadata": {},
   "source": [
    "## `re.split()` \n",
    "\n",
    "La función `re.split()` es parte del módulo `re` de Python, que proporciona herramientas para trabajar con expresiones regulares. Esta función se utiliza para dividir una cadena en partes más pequeñas utilizando un patrón de expresión regular como separador, devolviendo una lista.\n",
    "\n",
    "Es similar al `split` que aprendimos de *strings*, solo que en este caso lo combinaremos con regex, dándonos más opciones para dividir. \n",
    "\n",
    "La sintaxis básica de `re.split` es: \n",
    "\n",
    "```python\n",
    "re.split(patron, string)\n",
    "\n",
    "```\n",
    "\n",
    "Basándonos en la imagen que tenemos a continuación:\n",
    "\n",
    "- **patron**: sería el patrón de regex que utilizaremos para dividir en partes más pequeñas nuestro *string*, en este caso `a`. \n",
    "\n",
    "- **string**: la cadena de texto que se va a dividir en partes más pequeñas, en este caso  `bbabbbab`. \n",
    "\n",
    "![split](https://github.com/Adalab/data_imagenes/blob/main/Modulo-1/python/re-split().png?raw=true)"
   ]
  },
  {
   "cell_type": "markdown",
   "metadata": {},
   "source": [
    "De nuevo empecemos con ejemplos algo más sencillos, para luego ir complicandolo un poco más. En este caso, vamos a querer dividir nuestro *string* por un número que este compuesto por dos dígitos, en concreto dos doses. De nuevo, tendremos que definir nuestro patrón de regex y luego llamar al método `re.split()` pasándole el *string* sobre el que querremos aplicar la acción. "
   ]
  },
  {
   "cell_type": "code",
   "execution_count": 23,
   "metadata": {},
   "outputs": [
    {
     "name": "stdout",
     "output_type": "stream",
     "text": [
      "El resultado de dividir nuestro string por el número que tenga dos doses: ['uno1dos', 'tres333cuatro']\n"
     ]
    }
   ],
   "source": [
    "# definimos un string\n",
    "s_nums = 'uno1dos22tres333cuatro'\n",
    "\n",
    "# en nuestro caso, como queremos dividirlo por el número \"22\", nuestro patrón será literal por lo que lo queremos dividir\n",
    "patron4 = \"2{2}\"\n",
    "\n",
    "# aplicamos el método split\n",
    "primera_division  = re.split(patron4, s_nums)\n",
    "print(\"El resultado de dividir nuestro string por el número que tenga dos doses:\", primera_division)"
   ]
  },
  {
   "cell_type": "markdown",
   "metadata": {},
   "source": [
    "¿Qué es lo que ha pasado en la celda anterior? Lo que ha hecho el `re.split()` es dividir nuestro *string* en aquellos puntos que coincidan con el patrón que le pasamos. En este caso, nuestro patrón era \"2{2}\", lo que ha dado como resultado una lista con dos elementos, donde se ha cortado el *string* original por el sitio que nosotras especificamos en el método. Fijaos que el patrón por el que hacemos el *split* ya no forma parte de nuestra lista!\n",
    "\n",
    "Imaginemos ahora que ya no queremos dividir solo por el \"2{2}\", también lo querremos hacer por los elementos que sean dígitos. Veamos como hacerlo: "
   ]
  },
  {
   "cell_type": "code",
   "execution_count": 24,
   "metadata": {},
   "outputs": [
    {
     "name": "stdout",
     "output_type": "stream",
     "text": [
      "El resultado de dividir nuestro string por cualquier elemento que sea un dígito: ['uno', 'dos', 'tres', 'cuatro']\n"
     ]
    }
   ],
   "source": [
    "# definimos el patrón para que nos corte por cualquier elemento que sea un número, que pueda aparecer 1 o muchas veces. \n",
    "patron5 = \"\\d+\"\n",
    "\n",
    "# aplicamos el método re.split()\n",
    "segunda_division = re.split(patron5, s_nums)\n",
    "\n",
    "print(\"El resultado de dividir nuestro string por cualquier elemento que sea un dígito:\", segunda_division)"
   ]
  },
  {
   "cell_type": "markdown",
   "metadata": {},
   "source": [
    "Si nos fijamos ahora, hemos dividido nuestro *string* por todos los elementos numéricos de nuestro *string* y el resultado es una lista que con los números en formato letra. Veamos un último ejemplo sencillo con `re.split()`. Imaginemos ahora que tenemos un *string*  en el cual nos vamos a encontrar distintos tipos de delimitadores, como por ejemplo \"+\", \"-\" o \"#\" y queremos dividir por estos delimitadores. "
   ]
  },
  {
   "cell_type": "code",
   "execution_count": 25,
   "metadata": {},
   "outputs": [
    {
     "name": "stdout",
     "output_type": "stream",
     "text": [
      "El resultado de dividir nuestro string por cualquier símbolo: ['uno', 'dos', 'tres', 'cuatro']\n"
     ]
    }
   ],
   "source": [
    "# definirmos el string\n",
    "marcas = 'uno-dos+tres#cuatro'\n",
    "\n",
    "# como siempre lo primero que hacemos es definir nuestro patrón. Os acordáis de los operadores \"[]\", esencialmente es una abreviatura de un \"|\", ya que nos va a permitir capturar todos los elementos que indiquemos entre los corchetes. Estos elementos que indiquemos, podrán estar o no. Recordad cuando lo hacíamos para capturar todas las mayúsuclas. \n",
    "patron6 = '[-+#]'\n",
    "\n",
    "division_simbolos = re.split(patron6, marcas)\n",
    "print(\"El resultado de dividir nuestro string por cualquier símbolo:\", division_simbolos)\n"
   ]
  },
  {
   "cell_type": "markdown",
   "metadata": {},
   "source": [
    "Ahora hemos conseguido eliminar todos los signos de puntuación o separadores que tenemos en nuestro string. Si quisieramos volver a unirlo como un *string*  recordad que teníamos el método `.join()` que nos permitía convertir una lista de *strings* a un *string* único. "
   ]
  },
  {
   "cell_type": "code",
   "execution_count": 28,
   "metadata": {},
   "outputs": [
    {
     "data": {
      "text/plain": [
       "'uno dos tres cuatro'"
      ]
     },
     "execution_count": 28,
     "metadata": {},
     "output_type": "execute_result"
    }
   ],
   "source": [
    "\" \".join(division_simbolos)"
   ]
  },
  {
   "cell_type": "markdown",
   "metadata": {},
   "source": [
    "Pongamos ahora un ejemplo con nuestra canción. En este caso, vamos a querer separar cada una de las estrofas de nuestra canción. Si printemos la cancion, como lo tenemos en la celda siguiente, nos podemos fijar que las estrofas están separadas por \"\\n\\n\". Al final de nuestra división, deberíamos tener dos elementos. "
   ]
  },
  {
   "cell_type": "code",
   "execution_count": 29,
   "metadata": {},
   "outputs": [
    {
     "name": "stdout",
     "output_type": "stream",
     "text": [
      "La canción con la que estamos trabajando es: \n",
      "\n",
      " Había una Vez un Barquito Chiquitito,   \n",
      "había una vez un barquito chiquitito,\n",
      "que no sabia, que no sabía , que no sabía navegar.\n",
      "\n",
      "Pasaron un, dos, tres,\n",
      "cuatro , cinco, seis semanas,\n",
      "pasaron 1, 2 , 3,\n",
      "4, 5 , 6 semanas,\n",
      "y aquel barquito y aquel barquito\n",
      "y aquel barquito navegó.\n",
      "\n",
      "---------------------------\n",
      "\n",
      "El resultado de dividir nuestra canción por las estrofas es: ['Había una Vez un Barquito Chiquitito,   \\nhabía una vez un barquito chiquitito,\\nque no sabia, que no sabía , que no sabía navegar.', 'Pasaron un, dos, tres,\\ncuatro , cinco, seis semanas,\\npasaron 1, 2 , 3,\\n4, 5 , 6 semanas,\\ny aquel barquito y aquel barquito\\ny aquel barquito navegó.']\n",
      "\n",
      "---------------------------\n",
      "\n",
      "La cantidad de estrofas que tiene nuestra poesía es: 2\n"
     ]
    }
   ],
   "source": [
    "# recordamos como era la canción\n",
    "print(\"La canción con la que estamos trabajando es: \\n\\n\", cancion)\n",
    "\n",
    "# definimos el patrón. En este caso, las estrofas están separadas por saltos de línea, por lo tanto, tendremos que hacer un split por estos saltos. Recordemos que el patrón para los saltos de línea es \"\\n\"\n",
    "# pero fijaros, que cada línea ya tiene de por si un salto de línea, pero cuando cambiamos de párrafo tiene dos saltos de línea, por lo tanto nuestro patron son los dis saltos de línea\n",
    "patron7 = \"\\n\\n\"\n",
    "\n",
    "print(\"\\n---------------------------\\n\")\n",
    "\n",
    "# aplicamos el método re.split()\n",
    "estrofas = re.split(patron7, cancion)\n",
    "print(\"El resultado de dividir nuestra canción por las estrofas es:\", estrofas)\n",
    "\n",
    "print(\"\\n---------------------------\\n\")\n",
    "\n",
    "# vamos a chequear cuantos elementos tenemos después del re.split(), que recordemos, hemos dicho que teníamos que tener dos\n",
    "print(\"La cantidad de estrofas que tiene nuestra poesía es:\", len(estrofas))"
   ]
  },
  {
   "cell_type": "markdown",
   "metadata": {},
   "source": [
    "## `re.match()` \n",
    "\n",
    "Este método se utiliza para buscar un patrón de expresión regular al principio de una cadena. **Este método va a devolver un objeto de tipo `re.Match`. \n",
    "\n",
    "\n",
    "Su sintaxis básica es: \n",
    "\n",
    "```python\n",
    "re.match(patron, string)\n",
    "```\n",
    "\n",
    "Básandonos en la imagen que tenemos a continuación: \n",
    "\n",
    "- **patron**: es el patron de expresión regular que se utilizará para hacer la búsqueda, en este caso `[A-Z]`. \n",
    "\n",
    "- **string**: es la cadena de texto en la cual se realizará la búsqueda, en este caso `Hola`.\n",
    "\n",
    "![match](https://github.com/Adalab/data_imagenes/blob/main/Modulo-1/python/re-match.png?raw=true)\n",
    "\n",
    "\n",
    "⚠️⚠️ **COSAS IMPORTANTES A TENER EN CUENTA CUANDO USAMOS ESTE MÉTODO** ⚠️⚠️\n",
    "\n",
    "- Solo nos va a devolver la primera coincidencia.\n",
    "\n",
    "- En caso de que tengamos un *string* multilínea, solo nos buscará en la primera línea. \n",
    "\n",
    "\n",
    "Veamoslo con un ejemplo: "
   ]
  },
  {
   "cell_type": "code",
   "execution_count": 30,
   "metadata": {},
   "outputs": [],
   "source": [
    "# supongamos que tenemos los siguientes strings\n",
    "\n",
    "\n",
    "string1 ='''Regex! En Adalab estamos aprendiendo regex !!!\n",
    "         Regex es muy útil para buscar patrones en nuestros strings.\n",
    "          Además es muy rápido.'''\n",
    "\n",
    "string2 ='''Esto es de locos !!!\n",
    "         regex es muy útil para buscar patrones en nuesrtos strings.\n",
    "          Ademas es muy rápido.'''\n",
    "\n",
    "\n",
    "# imaginamemos que queremos buscar la palabra \"regex\" o \"Regex\" dentro de nuestro string. Lo primero que tendremos que hacer es definir nuestro patrón. \n",
    "\n",
    "patron8 = \"[r|R]\\w+\""
   ]
  },
  {
   "cell_type": "markdown",
   "metadata": {},
   "source": [
    "Entendamos el patrón que hemos escrito: \n",
    "\n",
    "- Empezamos con `[r|R]`, con esto estamos buscando cualquier palabra que tenga la \"r\" o (`|`) \"R\"\n",
    "\n",
    "- Después tenemos `\\w+`, lo cual indica que queremos buscar cualquier \"r\" o \"R\" seguida de cualquier letra. "
   ]
  },
  {
   "cell_type": "code",
   "execution_count": 31,
   "metadata": {},
   "outputs": [
    {
     "name": "stdout",
     "output_type": "stream",
     "text": [
      "El resultado del método re.match buscando la palabra regex al primer string es: <re.Match object; span=(0, 5), match='Regex'>\n"
     ]
    }
   ],
   "source": [
    "# apliquemos el patrón sobre el primer string\n",
    "pat1 = re.match(patron8, string1)\n",
    "print(\"El resultado del método re.match buscando la palabra regex al primer string es:\", pat1)"
   ]
  },
  {
   "cell_type": "markdown",
   "metadata": {},
   "source": [
    "Genial! Nos ha devuelto cosas!!! Pero puede que nos las entendaís muy bien, no os preocupéis, ahora veremos en detenimiento que significa cada una de estas cosas. Pero antes de seguir, veamos que pasa si le aplicamos este mismo patrón al `string2` "
   ]
  },
  {
   "cell_type": "code",
   "execution_count": 32,
   "metadata": {},
   "outputs": [
    {
     "name": "stdout",
     "output_type": "stream",
     "text": [
      "El resultado del método re.match buscando la palabra regex al segundo string es: None\n"
     ]
    }
   ],
   "source": [
    "# apliquemos el patrón sobre el segundo string\n",
    "pat2 = re.match(patron8, string2)\n",
    "print(\"El resultado del método re.match buscando la palabra regex al segundo string es:\", pat2)"
   ]
  },
  {
   "cell_type": "markdown",
   "metadata": {},
   "source": [
    "Vaya... no nos ha devuelto nada (nos ha devuelto un None), a pesar de que en nuestro *string* teníamos la palabra \"regex\"! Esto es porque este método **SOLO nos va a buscar la coincidencia en la primera línea**!!! Por lo tanto, si en esa línea no tenemos una coincidencia no nos devolverá nada! Lo mismo pasa en el primer *string*, donde a pesar de que en la primera línea tenemos dos veces la palabra \"regex\" solo nos devuelve una, y es que recordemos, este método a parte de buscar únicamente en la primera línea, **SOLO nos va a devolver la PRIMERA COINCIDENCIA**. \n",
    "\n",
    "Una vez entendido que pasa con las búsquedas de patrones con este método, entendamos ese objeto que nos devuelve, para saber como acceder a la información que ha coincidido:"
   ]
  },
  {
   "cell_type": "code",
   "execution_count": 33,
   "metadata": {},
   "outputs": [
    {
     "name": "stdout",
     "output_type": "stream",
     "text": [
      "El resultado del método re.match buscando la palabra regex al primer string es: <re.Match object; span=(0, 5), match='Regex'>\n",
      "\n",
      "----------------\n",
      "\n",
      "Span, nos devuelve las posiciones del string donde hemos encontrado las coincidencias, en este caso las coincidencias están entre las posiciones (0, 5)\n",
      "\n",
      "----------------\n",
      "\n",
      "Group, nos va a devolver el string resultado de la coincidencia del patrón de regex que hemos construido, en este caso es: Regex\n"
     ]
    }
   ],
   "source": [
    "# recordamos el resultado\n",
    "print(\"El resultado del método re.match buscando la palabra regex al primer string es:\", pat1)\n",
    "\n",
    "print(\"\\n----------------\\n\")\n",
    "\n",
    "# el span hace referencía a las posiciones donde hizo el \"match\", para acceder a esos valores usaremos el método .span(). En nuestro caso, el match lo hizo en los elementos que están en la posición 0 hasta la 5\n",
    "print(\"Span, nos devuelve las posiciones del string donde hemos encontrado las coincidencias, en este caso las coincidencias están entre las posiciones\", pat1.span())\n",
    "\n",
    "print(\"\\n----------------\\n\")\n",
    "\n",
    "# el match hace referencia al elemento resultado de la coincidencia. Para acceder a ese valor usaremos el método .group()\n",
    "print(\"Group, nos va a devolver el string resultado de la coincidencia del patrón de regex que hemos construido, en este caso es:\", pat1.group())"
   ]
  },
  {
   "cell_type": "markdown",
   "metadata": {},
   "source": [
    "Hagamos un ejemplo con nuestra canción, en este caso, vamos a querer buscar \"barquito\""
   ]
  },
  {
   "cell_type": "code",
   "execution_count": 34,
   "metadata": {},
   "outputs": [
    {
     "name": "stdout",
     "output_type": "stream",
     "text": [
      "La canción con la que estamos trabajando es: \n",
      " Había una Vez un Barquito Chiquitito,   \n",
      "había una vez un barquito chiquitito,\n",
      "que no sabia, que no sabía , que no sabía navegar.\n",
      "\n",
      "Pasaron un, dos, tres,\n",
      "cuatro , cinco, seis semanas,\n",
      "pasaron 1, 2 , 3,\n",
      "4, 5 , 6 semanas,\n",
      "y aquel barquito y aquel barquito\n",
      "y aquel barquito navegó.\n",
      "\n",
      "----------------\n",
      "\n",
      "El resultado del método re.match es: None\n"
     ]
    }
   ],
   "source": [
    "# como siempre, lo primero que hacemos es recordad como era nuestro string\n",
    "print(\"La canción con la que estamos trabajando es: \\n\", cancion)\n",
    "\n",
    "# como literal queremos buscar la palabra barquito, nuestro patrón será la palabra\n",
    "patron9 = \"barquito\"\n",
    "\n",
    "print(\"\\n----------------\\n\")\n",
    "\n",
    "# aplicamos el método re.match\n",
    "barquito = re.match(patron9, cancion)\n",
    "print(\"El resultado del método re.match es:\", barquito)"
   ]
  },
  {
   "cell_type": "markdown",
   "metadata": {},
   "source": [
    "No nos devuelve nada! Y es que esto es normal, ya que la palabra \"barquito\" aparece por primera vez en la segunda línea y recordemos que el `.match()` solo busca en la primera línea."
   ]
  },
  {
   "cell_type": "markdown",
   "metadata": {},
   "source": [
    "## `re.search()`\n",
    "\n",
    "Es similar al `re.match` y se utiliza para buscar un patrón de expresión regular en toda la cadena. Al igual que el método `re.match()`, devuelve un objeto Match, pero al contrario que el `re.match`, este método va a buscar si hay una coincidencia en cualquier parte de la cadena.\n",
    "\n",
    "Su sintaxis básica es: \n",
    "\n",
    "```python\n",
    "re.search(patron, string)\n",
    "```\n",
    "\n",
    "Basándonos en la imagen que tenemos a continuación: \n",
    "\n",
    "\n",
    "- **patron**: es el patrón de expresión regular que se utilizará para hacer la búsqueda, en este caso `[A-Z]`. \n",
    "\n",
    "- **string**: es la cadena de texto en la cual se realizará la búsqueda, en este caso `Hola`\n",
    "\n",
    "\n",
    "\n",
    "\n",
    "![search](https://github.com/Adalab/data_imagenes/blob/main/Modulo-1/python/re-search.png?raw=true)\n",
    "\n",
    "⚠️⚠️ **COSAS IMPORTANTES DE ESTE MÉTODO** ⚠️⚠️\n",
    "\n",
    "- Como en el `re.match()`, solo nos devolverá la primera coincidencia.\n",
    "\n",
    "- Al contrario que el `re.match()` nos hará la búsqueda en **TODO** el *string*."
   ]
  },
  {
   "cell_type": "code",
   "execution_count": 35,
   "metadata": {},
   "outputs": [
    {
     "name": "stdout",
     "output_type": "stream",
     "text": [
      "El primer string que teníamos es: Regex! En Adalab estamos aprendiendo regex !!!\n",
      "         Regex es muy útil para buscar patrones en nuestros strings.\n",
      "          Además es muy rápido.\n",
      "\n",
      "----------------\n",
      "\n",
      "El segundo string que teníamos es: Esto es de locos !!!\n",
      "         regex es muy útil para buscar patrones en nuesrtos strings.\n",
      "          Ademas es muy rápido.\n",
      "\n",
      "----------------\n",
      "\n",
      "El patrón para buscar la palabra regex es: [r|R]\\w+\n",
      "\n",
      "----------------\n",
      "\n",
      "El resultado del método re.search buscando la palabra regex al primer string es: <re.Match object; span=(0, 5), match='Regex'>\n",
      "\n",
      "----------------\n",
      "\n",
      "El resultado del método re.search buscando la palabra regex al segundo string es: <re.Match object; span=(30, 35), match='regex'>\n"
     ]
    }
   ],
   "source": [
    "# sigamos usando los string definidos en el método re.match()\n",
    "\n",
    "print(\"El primer string que teníamos es:\", string1)\n",
    "\n",
    "print(\"\\n----------------\\n\")\n",
    "\n",
    "print(\"El segundo string que teníamos es:\", string2)\n",
    "\n",
    "print(\"\\n----------------\\n\")\n",
    "\n",
    "# vamos a querer seguir búscando la palabra regex, por lo que reutilizaremos el patrón que definimos previamente. Recordemoslo\n",
    "print(\"El patrón para buscar la palabra regex es:\", patron8)\n",
    "\n",
    "print(\"\\n----------------\\n\")\n",
    "\n",
    "# apliquemos el patrón sobre el primer string\n",
    "pat_search_1 = re.search(patron8, string1)\n",
    "print(\"El resultado del método re.search buscando la palabra regex al primer string es:\", pat_search_1)\n",
    "\n",
    "print(\"\\n----------------\\n\")\n",
    "\n",
    "# apliquemos el patrón sobre el primer string\n",
    "pat_search_2 = re.search(patron8, string2)\n",
    "print(\"El resultado del método re.search buscando la palabra regex al segundo string es:\", pat_search_2)\n"
   ]
  },
  {
   "cell_type": "markdown",
   "metadata": {},
   "source": [
    "Vaya... no se si os acordais de cuando usamos el método `re.match()`, pero en aquel caso, no obtuvimos resultado de búsqueda en el segundo *string* y en este caso si!!! Y esta es la diferencia entre estos dos métodos, mientras que `re.match()` solo busca en la primera línea `re.search()` lo hará sobre todo el *string*.  "
   ]
  },
  {
   "cell_type": "markdown",
   "metadata": {},
   "source": [
    "Hasta aquí la lección de hoy, hemos aprendido muchas cosas y pueden resultar algo abstractas, pero no os preocupeis, regex es algo que se va a aprendiendo poco a poco y se basa mucho en la práctica. Os dejamos por aquí un resumen de los métodos que hemos visto: \n",
    "\n",
    "\n",
    "|  método |donde nos busca   |qué nos devuelve  |\n",
    "|---|---|---|\n",
    "|**findall()**  |en todo el *string* | una lista con todas las coincidencias en nuestro *string* |\n",
    "|**search()**      |   en todo el *string*| un objeto con la primera coincidencia en nuestro *string*| \n",
    "|**match()**  | en la primera línea del *string*   | un objeto con la primera coincidencia en nuestro *string*  |\n",
    "|**split()**|en todo el *string*|una lista con los elementos separados por el patrón que especificaramos|\n",
    "|**sub()**|en todo el *string*| un *string* con el elemento que coincide| "
   ]
  },
  {
   "cell_type": "markdown",
   "metadata": {},
   "source": [
    "----------------\n",
    "# Ejercicios\n",
    "\n",
    "Online hay unas páginas interactivas con muchos ejercicios para ir practicando los regex, ya que con explicarlo sólo no te valdrá. \n",
    "\n",
    "Te invitamos que mireis la página de [regexone](https://regexone.com/). Mañana en la sesión después del kahoot resolveremos los ejercicios que os encontraréis en esta página. \n",
    "\n"
   ]
  },
  {
   "cell_type": "code",
   "execution_count": 36,
   "metadata": {},
   "outputs": [
    {
     "name": "stdout",
     "output_type": "stream",
     "text": [
      "['3', '5']\n",
      "Encontrado: manzanas en posición 6\n",
      "Coincide: Hay\n",
      "['Hay', '3', 'manzanas', 'y', '5', 'naranjas', 'en', 'la', 'cesta']\n",
      "Hay muchas manzanas y muchas naranjas en la cesta\n",
      "['Python', 'Lenguaje']\n",
      "Número de teléfono encontrado: 123-456-7890\n",
      "Correo electrónico válido: email@example.com\n",
      "['manzana', 'naranja', 'plátano', 'uva']\n",
      "python es un lenguaje de programación\n",
      "['caminar', 'cocinar']\n",
      "Fecha encontrada: 11/06/2024\n",
      "Empieza con mayúscula: H\n",
      "['Este es el primer', ' Este es el segundo', ' Y este es el tercero', '']\n",
      "La contraseña es ####\n"
     ]
    }
   ],
   "source": [
    "import re\n",
    "\n",
    "\"\"\"\n",
    "Operadores y sintaxis básica de Regex:\n",
    "--------------------------------------\n",
    ".       - Cualquier carácter (excepto una nueva línea)\n",
    "^       - Inicio de la cadena\n",
    "$       - Final de la cadena\n",
    "*       - Cero o más repeticiones\n",
    "+       - Una o más repeticiones\n",
    "?       - Cero o una repetición\n",
    "{n}     - Exactamente n repeticiones\n",
    "{n,}    - n o más repeticiones\n",
    "{n,m}   - Entre n y m repeticiones\n",
    "[]      - Conjunto de caracteres\n",
    "|       - Alternativa lógica (OR)\n",
    "()      - Grupo de captura\n",
    "\\d      - Cualquier dígito (equivalente a [0-9])\n",
    "\\D      - Cualquier carácter no numérico\n",
    "\\s      - Cualquier espacio en blanco\n",
    "\\S      - Cualquier carácter que no sea un espacio en blanco\n",
    "\\w      - Cualquier carácter alfanumérico (equivalente a [a-zA-Z0-9_])\n",
    "\\W      - Cualquier carácter no alfanumérico\n",
    "\"\"\"\n",
    "\n",
    "# Funciones principales de re\n",
    "\n",
    "# 1. findall() - Encuentra todas las coincidencias en la cadena y devuelve una lista de coincidencias\n",
    "pattern = r'\\d+'\n",
    "text = 'Hay 3 manzanas y 5 naranjas en la cesta'\n",
    "result = re.findall(pattern, text)\n",
    "print(result)  # ['3', '5']\n",
    "\n",
    "# 2. search() - Busca el patrón en la cadena y devuelve el primer objeto match encontrado\n",
    "pattern = r'\\bmanzanas\\b'\n",
    "text = 'Hay 3 manzanas y 5 naranjas en la cesta'\n",
    "match = re.search(pattern, text)\n",
    "if match:\n",
    "    print(f\"Encontrado: {match.group()} en posición {match.start()}\")  # Encontrado: manzanas en posición 6\n",
    "\n",
    "# 3. match() - Comprueba si el patrón coincide al comienzo de la cadena\n",
    "pattern = r'Hay'\n",
    "text = 'Hay 3 manzanas y 5 naranjas en la cesta'\n",
    "match = re.match(pattern, text)\n",
    "if match:\n",
    "    print(f\"Coincide: {match.group()}\")  # Coincide: Hay\n",
    "\n",
    "# 4. split() - Divide la cadena por el patrón y devuelve una lista de cadenas\n",
    "pattern = r'\\s+'\n",
    "text = 'Hay 3 manzanas y 5 naranjas en la cesta'\n",
    "result = re.split(pattern, text)\n",
    "print(result)  # ['Hay', '3', 'manzanas', 'y', '5', 'naranjas', 'en', 'la', 'cesta']\n",
    "\n",
    "# 5. sub() - Sustituye las coincidencias del patrón en la cadena con un reemplazo\n",
    "pattern = r'\\d+'\n",
    "text = 'Hay 3 manzanas y 5 naranjas en la cesta'\n",
    "replacement = 'muchas'\n",
    "result = re.sub(pattern, replacement, text)\n",
    "print(result)  # 'Hay muchas manzanas y muchas naranjas en la cesta'\n",
    "\n",
    "# Ejercicios resueltos\n",
    "\n",
    "# Ejercicio 1: Encontrar todas las palabras que empiezan con una letra mayúscula\n",
    "pattern = r'\\b[A-Z][a-z]*\\b'\n",
    "text = 'Python es un Lenguaje de Programación'\n",
    "result = re.findall(pattern, text)\n",
    "print(result)  # ['Python', 'Lenguaje', 'Programación']\n",
    "\n",
    "# Ejercicio 2: Buscar un número de teléfono en el formato 123-456-7890\n",
    "pattern = r'\\d{3}-\\d{3}-\\d{4}'\n",
    "text = 'Mi número de teléfono es 123-456-7890.'\n",
    "match = re.search(pattern, text)\n",
    "if match:\n",
    "    print(f\"Número de teléfono encontrado: {match.group()}\")  # Número de teléfono encontrado: 123-456-7890\n",
    "\n",
    "# Ejercicio 3: Comprobar si una cadena es una dirección de correo electrónico válida\n",
    "pattern = r'^\\w+@\\w+\\.\\w+$'\n",
    "text = 'email@example.com'\n",
    "match = re.match(pattern, text)\n",
    "if match:\n",
    "    print(f\"Correo electrónico válido: {match.group()}\")  # Correo electrónico válido: email@example.com\n",
    "\n",
    "# Ejercicio 4: Dividir una cadena por comas y espacios\n",
    "pattern = r'[, ]+'\n",
    "text = 'manzana, naranja, plátano, uva'\n",
    "result = re.split(pattern, text)\n",
    "print(result)  # ['manzana', 'naranja', 'plátano', 'uva']\n",
    "\n",
    "# Ejercicio 5: Sustituir todas las letras mayúsculas por letras minúsculas\n",
    "pattern = r'[A-Z]'\n",
    "text = 'Python Es Un Lenguaje De Programación'\n",
    "result = re.sub(pattern, lambda x: x.group().lower(), text)\n",
    "print(result)  # 'python es un lenguaje de programación'\n",
    "\n",
    "# Ejercicio 6: Encontrar todas las palabras que terminan con 'ar'\n",
    "pattern = r'\\b\\w+ar\\b'\n",
    "text = 'Voy a caminar y luego a cocinar'\n",
    "result = re.findall(pattern, text)\n",
    "print(result)  # ['caminar', 'cocinar']\n",
    "\n",
    "# Ejercicio 7: Buscar una fecha en el formato dd/mm/yyyy\n",
    "pattern = r'\\b\\d{2}/\\d{2}/\\d{4}\\b'\n",
    "text = 'La fecha de hoy es 11/06/2024'\n",
    "match = re.search(pattern, text)\n",
    "if match:\n",
    "    print(f\"Fecha encontrada: {match.group()}\")  # Fecha encontrada: 11/06/2024\n",
    "\n",
    "# Ejercicio 8: Comprobar si una cadena empieza con una letra mayúscula\n",
    "pattern = r'^[A-Z]'\n",
    "text = 'Hola mundo'\n",
    "match = re.match(pattern, text)\n",
    "if match:\n",
    "    print(f\"Empieza con mayúscula: {match.group()}\")  # Empieza con mayúscula: H\n",
    "\n",
    "# Ejercicio 9: Dividir una cadena por puntos\n",
    "pattern = r'\\.'\n",
    "text = 'Este es el primer. Este es el segundo. Y este es el tercero.'\n",
    "result = re.split(pattern, text)\n",
    "print(result)  # ['Este es el primer', ' Este es el segundo', ' Y este es el tercero', '']\n",
    "\n",
    "# Ejercicio 10: Sustituir todos los dígitos por '#'\n",
    "pattern = r'\\d'\n",
    "text = 'La contraseña es 1234'\n",
    "result = re.sub(pattern, '#', text)\n",
    "print(result)  # 'La contraseña es ####'\n",
    "\n",
    "\n",
    "\n",
    "# PÁGINA WEB MUY ÚTIL: regex101.com\n"
   ]
  },
  {
   "cell_type": "code",
   "execution_count": 37,
   "metadata": {},
   "outputs": [
    {
     "name": "stdout",
     "output_type": "stream",
     "text": [
      "Help on package re:\n",
      "\n",
      "NAME\n",
      "    re - Support for regular expressions (RE).\n",
      "\n",
      "MODULE REFERENCE\n",
      "    https://docs.python.org/3.11/library/re.html\n",
      "    \n",
      "    The following documentation is automatically generated from the Python\n",
      "    source files.  It may be incomplete, incorrect or include features that\n",
      "    are considered implementation detail and may vary between Python\n",
      "    implementations.  When in doubt, consult the module reference at the\n",
      "    location listed above.\n",
      "\n",
      "DESCRIPTION\n",
      "    This module provides regular expression matching operations similar to\n",
      "    those found in Perl.  It supports both 8-bit and Unicode strings; both\n",
      "    the pattern and the strings being processed can contain null bytes and\n",
      "    characters outside the US ASCII range.\n",
      "    \n",
      "    Regular expressions can contain both special and ordinary characters.\n",
      "    Most ordinary characters, like \"A\", \"a\", or \"0\", are the simplest\n",
      "    regular expressions; they simply match themselves.  You can\n",
      "    concatenate ordinary characters, so last matches the string 'last'.\n",
      "    \n",
      "    The special characters are:\n",
      "        \".\"      Matches any character except a newline.\n",
      "        \"^\"      Matches the start of the string.\n",
      "        \"$\"      Matches the end of the string or just before the newline at\n",
      "                 the end of the string.\n",
      "        \"*\"      Matches 0 or more (greedy) repetitions of the preceding RE.\n",
      "                 Greedy means that it will match as many repetitions as possible.\n",
      "        \"+\"      Matches 1 or more (greedy) repetitions of the preceding RE.\n",
      "        \"?\"      Matches 0 or 1 (greedy) of the preceding RE.\n",
      "        *?,+?,?? Non-greedy versions of the previous three special characters.\n",
      "        {m,n}    Matches from m to n repetitions of the preceding RE.\n",
      "        {m,n}?   Non-greedy version of the above.\n",
      "        \"\\\\\"     Either escapes special characters or signals a special sequence.\n",
      "        []       Indicates a set of characters.\n",
      "                 A \"^\" as the first character indicates a complementing set.\n",
      "        \"|\"      A|B, creates an RE that will match either A or B.\n",
      "        (...)    Matches the RE inside the parentheses.\n",
      "                 The contents can be retrieved or matched later in the string.\n",
      "        (?aiLmsux) The letters set the corresponding flags defined below.\n",
      "        (?:...)  Non-grouping version of regular parentheses.\n",
      "        (?P<name>...) The substring matched by the group is accessible by name.\n",
      "        (?P=name)     Matches the text matched earlier by the group named name.\n",
      "        (?#...)  A comment; ignored.\n",
      "        (?=...)  Matches if ... matches next, but doesn't consume the string.\n",
      "        (?!...)  Matches if ... doesn't match next.\n",
      "        (?<=...) Matches if preceded by ... (must be fixed length).\n",
      "        (?<!...) Matches if not preceded by ... (must be fixed length).\n",
      "        (?(id/name)yes|no) Matches yes pattern if the group with id/name matched,\n",
      "                           the (optional) no pattern otherwise.\n",
      "    \n",
      "    The special sequences consist of \"\\\\\" and a character from the list\n",
      "    below.  If the ordinary character is not on the list, then the\n",
      "    resulting RE will match the second character.\n",
      "        \\number  Matches the contents of the group of the same number.\n",
      "        \\A       Matches only at the start of the string.\n",
      "        \\Z       Matches only at the end of the string.\n",
      "        \\b       Matches the empty string, but only at the start or end of a word.\n",
      "        \\B       Matches the empty string, but not at the start or end of a word.\n",
      "        \\d       Matches any decimal digit; equivalent to the set [0-9] in\n",
      "                 bytes patterns or string patterns with the ASCII flag.\n",
      "                 In string patterns without the ASCII flag, it will match the whole\n",
      "                 range of Unicode digits.\n",
      "        \\D       Matches any non-digit character; equivalent to [^\\d].\n",
      "        \\s       Matches any whitespace character; equivalent to [ \\t\\n\\r\\f\\v] in\n",
      "                 bytes patterns or string patterns with the ASCII flag.\n",
      "                 In string patterns without the ASCII flag, it will match the whole\n",
      "                 range of Unicode whitespace characters.\n",
      "        \\S       Matches any non-whitespace character; equivalent to [^\\s].\n",
      "        \\w       Matches any alphanumeric character; equivalent to [a-zA-Z0-9_]\n",
      "                 in bytes patterns or string patterns with the ASCII flag.\n",
      "                 In string patterns without the ASCII flag, it will match the\n",
      "                 range of Unicode alphanumeric characters (letters plus digits\n",
      "                 plus underscore).\n",
      "                 With LOCALE, it will match the set [0-9_] plus characters defined\n",
      "                 as letters for the current locale.\n",
      "        \\W       Matches the complement of \\w.\n",
      "        \\\\       Matches a literal backslash.\n",
      "    \n",
      "    This module exports the following functions:\n",
      "        match     Match a regular expression pattern to the beginning of a string.\n",
      "        fullmatch Match a regular expression pattern to all of a string.\n",
      "        search    Search a string for the presence of a pattern.\n",
      "        sub       Substitute occurrences of a pattern found in a string.\n",
      "        subn      Same as sub, but also return the number of substitutions made.\n",
      "        split     Split a string by the occurrences of a pattern.\n",
      "        findall   Find all occurrences of a pattern in a string.\n",
      "        finditer  Return an iterator yielding a Match object for each match.\n",
      "        compile   Compile a pattern into a Pattern object.\n",
      "        purge     Clear the regular expression cache.\n",
      "        escape    Backslash all non-alphanumerics in a string.\n",
      "    \n",
      "    Each function other than purge and escape can take an optional 'flags' argument\n",
      "    consisting of one or more of the following module constants, joined by \"|\".\n",
      "    A, L, and U are mutually exclusive.\n",
      "        A  ASCII       For string patterns, make \\w, \\W, \\b, \\B, \\d, \\D\n",
      "                       match the corresponding ASCII character categories\n",
      "                       (rather than the whole Unicode categories, which is the\n",
      "                       default).\n",
      "                       For bytes patterns, this flag is the only available\n",
      "                       behaviour and needn't be specified.\n",
      "        I  IGNORECASE  Perform case-insensitive matching.\n",
      "        L  LOCALE      Make \\w, \\W, \\b, \\B, dependent on the current locale.\n",
      "        M  MULTILINE   \"^\" matches the beginning of lines (after a newline)\n",
      "                       as well as the string.\n",
      "                       \"$\" matches the end of lines (before a newline) as well\n",
      "                       as the end of the string.\n",
      "        S  DOTALL      \".\" matches any character at all, including the newline.\n",
      "        X  VERBOSE     Ignore whitespace and comments for nicer looking RE's.\n",
      "        U  UNICODE     For compatibility only. Ignored for string patterns (it\n",
      "                       is the default), and forbidden for bytes patterns.\n",
      "    \n",
      "    This module also defines an exception 'error'.\n",
      "\n",
      "PACKAGE CONTENTS\n",
      "    _casefix\n",
      "    _compiler\n",
      "    _constants\n",
      "    _parser\n",
      "\n",
      "CLASSES\n",
      "    builtins.Exception(builtins.BaseException)\n",
      "        error\n",
      "    builtins.object\n",
      "        Match\n",
      "        Pattern\n",
      "    enum.IntFlag(builtins.int, enum.ReprEnum, enum.Flag)\n",
      "        RegexFlag\n",
      "    \n",
      "    class Match(builtins.object)\n",
      "     |  The result of re.match() and re.search().\n",
      "     |  Match objects always have a boolean value of True.\n",
      "     |  \n",
      "     |  Methods defined here:\n",
      "     |  \n",
      "     |  __copy__(self, /)\n",
      "     |  \n",
      "     |  __deepcopy__(self, memo, /)\n",
      "     |  \n",
      "     |  __getitem__(self, key, /)\n",
      "     |      Return self[key].\n",
      "     |  \n",
      "     |  __repr__(self, /)\n",
      "     |      Return repr(self).\n",
      "     |  \n",
      "     |  end(self, group=0, /)\n",
      "     |      Return index of the end of the substring matched by group.\n",
      "     |  \n",
      "     |  expand(self, /, template)\n",
      "     |      Return the string obtained by doing backslash substitution on the string template, as done by the sub() method.\n",
      "     |  \n",
      "     |  group(...)\n",
      "     |      group([group1, ...]) -> str or tuple.\n",
      "     |      Return subgroup(s) of the match by indices or names.\n",
      "     |      For 0 returns the entire match.\n",
      "     |  \n",
      "     |  groupdict(self, /, default=None)\n",
      "     |      Return a dictionary containing all the named subgroups of the match, keyed by the subgroup name.\n",
      "     |      \n",
      "     |      default\n",
      "     |        Is used for groups that did not participate in the match.\n",
      "     |  \n",
      "     |  groups(self, /, default=None)\n",
      "     |      Return a tuple containing all the subgroups of the match, from 1.\n",
      "     |      \n",
      "     |      default\n",
      "     |        Is used for groups that did not participate in the match.\n",
      "     |  \n",
      "     |  span(self, group=0, /)\n",
      "     |      For match object m, return the 2-tuple (m.start(group), m.end(group)).\n",
      "     |  \n",
      "     |  start(self, group=0, /)\n",
      "     |      Return index of the start of the substring matched by group.\n",
      "     |  \n",
      "     |  ----------------------------------------------------------------------\n",
      "     |  Class methods defined here:\n",
      "     |  \n",
      "     |  __class_getitem__(...)\n",
      "     |      See PEP 585\n",
      "     |  \n",
      "     |  ----------------------------------------------------------------------\n",
      "     |  Data descriptors defined here:\n",
      "     |  \n",
      "     |  endpos\n",
      "     |      The index into the string beyond which the RE engine will not go.\n",
      "     |  \n",
      "     |  lastgroup\n",
      "     |      The name of the last matched capturing group.\n",
      "     |  \n",
      "     |  lastindex\n",
      "     |      The integer index of the last matched capturing group.\n",
      "     |  \n",
      "     |  pos\n",
      "     |      The index into the string at which the RE engine started looking for a match.\n",
      "     |  \n",
      "     |  re\n",
      "     |      The regular expression object.\n",
      "     |  \n",
      "     |  regs\n",
      "     |  \n",
      "     |  string\n",
      "     |      The string passed to match() or search().\n",
      "    \n",
      "    class Pattern(builtins.object)\n",
      "     |  Compiled regular expression object.\n",
      "     |  \n",
      "     |  Methods defined here:\n",
      "     |  \n",
      "     |  __copy__(self, /)\n",
      "     |  \n",
      "     |  __deepcopy__(self, memo, /)\n",
      "     |  \n",
      "     |  __eq__(self, value, /)\n",
      "     |      Return self==value.\n",
      "     |  \n",
      "     |  __ge__(self, value, /)\n",
      "     |      Return self>=value.\n",
      "     |  \n",
      "     |  __gt__(self, value, /)\n",
      "     |      Return self>value.\n",
      "     |  \n",
      "     |  __hash__(self, /)\n",
      "     |      Return hash(self).\n",
      "     |  \n",
      "     |  __le__(self, value, /)\n",
      "     |      Return self<=value.\n",
      "     |  \n",
      "     |  __lt__(self, value, /)\n",
      "     |      Return self<value.\n",
      "     |  \n",
      "     |  __ne__(self, value, /)\n",
      "     |      Return self!=value.\n",
      "     |  \n",
      "     |  __repr__(self, /)\n",
      "     |      Return repr(self).\n",
      "     |  \n",
      "     |  findall(self, /, string, pos=0, endpos=9223372036854775807)\n",
      "     |      Return a list of all non-overlapping matches of pattern in string.\n",
      "     |  \n",
      "     |  finditer(self, /, string, pos=0, endpos=9223372036854775807)\n",
      "     |      Return an iterator over all non-overlapping matches for the RE pattern in string.\n",
      "     |      \n",
      "     |      For each match, the iterator returns a match object.\n",
      "     |  \n",
      "     |  fullmatch(self, /, string, pos=0, endpos=9223372036854775807)\n",
      "     |      Matches against all of the string.\n",
      "     |  \n",
      "     |  match(self, /, string, pos=0, endpos=9223372036854775807)\n",
      "     |      Matches zero or more characters at the beginning of the string.\n",
      "     |  \n",
      "     |  scanner(self, /, string, pos=0, endpos=9223372036854775807)\n",
      "     |  \n",
      "     |  search(self, /, string, pos=0, endpos=9223372036854775807)\n",
      "     |      Scan through string looking for a match, and return a corresponding match object instance.\n",
      "     |      \n",
      "     |      Return None if no position in the string matches.\n",
      "     |  \n",
      "     |  split(self, /, string, maxsplit=0)\n",
      "     |      Split string by the occurrences of pattern.\n",
      "     |  \n",
      "     |  sub(self, /, repl, string, count=0)\n",
      "     |      Return the string obtained by replacing the leftmost non-overlapping occurrences of pattern in string by the replacement repl.\n",
      "     |  \n",
      "     |  subn(self, /, repl, string, count=0)\n",
      "     |      Return the tuple (new_string, number_of_subs_made) found by replacing the leftmost non-overlapping occurrences of pattern with the replacement repl.\n",
      "     |  \n",
      "     |  ----------------------------------------------------------------------\n",
      "     |  Class methods defined here:\n",
      "     |  \n",
      "     |  __class_getitem__(...)\n",
      "     |      See PEP 585\n",
      "     |  \n",
      "     |  ----------------------------------------------------------------------\n",
      "     |  Data descriptors defined here:\n",
      "     |  \n",
      "     |  flags\n",
      "     |      The regex matching flags.\n",
      "     |  \n",
      "     |  groupindex\n",
      "     |      A dictionary mapping group names to group numbers.\n",
      "     |  \n",
      "     |  groups\n",
      "     |      The number of capturing groups in the pattern.\n",
      "     |  \n",
      "     |  pattern\n",
      "     |      The pattern string from which the RE object was compiled.\n",
      "    \n",
      "    class RegexFlag(enum.IntFlag)\n",
      "     |  RegexFlag(value, names=None, *, module=None, qualname=None, type=None, start=1, boundary=None)\n",
      "     |  \n",
      "     |  An enumeration.\n",
      "     |  \n",
      "     |  Method resolution order:\n",
      "     |      RegexFlag\n",
      "     |      enum.IntFlag\n",
      "     |      builtins.int\n",
      "     |      enum.ReprEnum\n",
      "     |      enum.Flag\n",
      "     |      enum.Enum\n",
      "     |      builtins.object\n",
      "     |  \n",
      "     |  Methods defined here:\n",
      "     |  \n",
      "     |  __and__(self, other) from enum.Flag\n",
      "     |  \n",
      "     |  __format__(self, format_spec, /) from builtins.int\n",
      "     |      Default object formatter.\n",
      "     |  \n",
      "     |  __invert__(self) from enum.Flag\n",
      "     |  \n",
      "     |  __new__(cls, value) from enum.Enum\n",
      "     |      Create and return a new object.  See help(type) for accurate signature.\n",
      "     |  \n",
      "     |  __or__(self, other) from enum.Flag\n",
      "     |      Return self|value.\n",
      "     |  \n",
      "     |  __rand__ = __and__(self, other)\n",
      "     |  \n",
      "     |  __repr__ = global_flag_repr(self) from enum\n",
      "     |      use module.flag_name instead of class.flag_name\n",
      "     |      \n",
      "     |      the module is the last module in case of a multi-module name\n",
      "     |  \n",
      "     |  __ror__ = __or__(self, other)\n",
      "     |  \n",
      "     |  __rxor__ = __xor__(self, other)\n",
      "     |  \n",
      "     |  __str__(self, /) from builtins.object\n",
      "     |      Return str(self).\n",
      "     |  \n",
      "     |  __xor__(self, other) from enum.Flag\n",
      "     |  \n",
      "     |  ----------------------------------------------------------------------\n",
      "     |  Data and other attributes defined here:\n",
      "     |  \n",
      "     |  ASCII = re.ASCII\n",
      "     |  \n",
      "     |  DEBUG = re.DEBUG\n",
      "     |  \n",
      "     |  DOTALL = re.DOTALL\n",
      "     |  \n",
      "     |  IGNORECASE = re.IGNORECASE\n",
      "     |  \n",
      "     |  LOCALE = re.LOCALE\n",
      "     |  \n",
      "     |  MULTILINE = re.MULTILINE\n",
      "     |  \n",
      "     |  TEMPLATE = re.TEMPLATE\n",
      "     |  \n",
      "     |  UNICODE = re.UNICODE\n",
      "     |  \n",
      "     |  VERBOSE = re.VERBOSE\n",
      "     |  \n",
      "     |  ----------------------------------------------------------------------\n",
      "     |  Methods inherited from builtins.int:\n",
      "     |  \n",
      "     |  __abs__(self, /)\n",
      "     |      abs(self)\n",
      "     |  \n",
      "     |  __add__(self, value, /)\n",
      "     |      Return self+value.\n",
      "     |  \n",
      "     |  __bool__(self, /)\n",
      "     |      True if self else False\n",
      "     |  \n",
      "     |  __ceil__(...)\n",
      "     |      Ceiling of an Integral returns itself.\n",
      "     |  \n",
      "     |  __divmod__(self, value, /)\n",
      "     |      Return divmod(self, value).\n",
      "     |  \n",
      "     |  __eq__(self, value, /)\n",
      "     |      Return self==value.\n",
      "     |  \n",
      "     |  __float__(self, /)\n",
      "     |      float(self)\n",
      "     |  \n",
      "     |  __floor__(...)\n",
      "     |      Flooring an Integral returns itself.\n",
      "     |  \n",
      "     |  __floordiv__(self, value, /)\n",
      "     |      Return self//value.\n",
      "     |  \n",
      "     |  __ge__(self, value, /)\n",
      "     |      Return self>=value.\n",
      "     |  \n",
      "     |  __getattribute__(self, name, /)\n",
      "     |      Return getattr(self, name).\n",
      "     |  \n",
      "     |  __getnewargs__(self, /)\n",
      "     |  \n",
      "     |  __gt__(self, value, /)\n",
      "     |      Return self>value.\n",
      "     |  \n",
      "     |  __hash__(self, /)\n",
      "     |      Return hash(self).\n",
      "     |  \n",
      "     |  __index__(self, /)\n",
      "     |      Return self converted to an integer, if self is suitable for use as an index into a list.\n",
      "     |  \n",
      "     |  __int__(self, /)\n",
      "     |      int(self)\n",
      "     |  \n",
      "     |  __le__(self, value, /)\n",
      "     |      Return self<=value.\n",
      "     |  \n",
      "     |  __lshift__(self, value, /)\n",
      "     |      Return self<<value.\n",
      "     |  \n",
      "     |  __lt__(self, value, /)\n",
      "     |      Return self<value.\n",
      "     |  \n",
      "     |  __mod__(self, value, /)\n",
      "     |      Return self%value.\n",
      "     |  \n",
      "     |  __mul__(self, value, /)\n",
      "     |      Return self*value.\n",
      "     |  \n",
      "     |  __ne__(self, value, /)\n",
      "     |      Return self!=value.\n",
      "     |  \n",
      "     |  __neg__(self, /)\n",
      "     |      -self\n",
      "     |  \n",
      "     |  __pos__(self, /)\n",
      "     |      +self\n",
      "     |  \n",
      "     |  __pow__(self, value, mod=None, /)\n",
      "     |      Return pow(self, value, mod).\n",
      "     |  \n",
      "     |  __radd__(self, value, /)\n",
      "     |      Return value+self.\n",
      "     |  \n",
      "     |  __rdivmod__(self, value, /)\n",
      "     |      Return divmod(value, self).\n",
      "     |  \n",
      "     |  __rfloordiv__(self, value, /)\n",
      "     |      Return value//self.\n",
      "     |  \n",
      "     |  __rlshift__(self, value, /)\n",
      "     |      Return value<<self.\n",
      "     |  \n",
      "     |  __rmod__(self, value, /)\n",
      "     |      Return value%self.\n",
      "     |  \n",
      "     |  __rmul__(self, value, /)\n",
      "     |      Return value*self.\n",
      "     |  \n",
      "     |  __round__(...)\n",
      "     |      Rounding an Integral returns itself.\n",
      "     |      \n",
      "     |      Rounding with an ndigits argument also returns an integer.\n",
      "     |  \n",
      "     |  __rpow__(self, value, mod=None, /)\n",
      "     |      Return pow(value, self, mod).\n",
      "     |  \n",
      "     |  __rrshift__(self, value, /)\n",
      "     |      Return value>>self.\n",
      "     |  \n",
      "     |  __rshift__(self, value, /)\n",
      "     |      Return self>>value.\n",
      "     |  \n",
      "     |  __rsub__(self, value, /)\n",
      "     |      Return value-self.\n",
      "     |  \n",
      "     |  __rtruediv__(self, value, /)\n",
      "     |      Return value/self.\n",
      "     |  \n",
      "     |  __sizeof__(self, /)\n",
      "     |      Returns size in memory, in bytes.\n",
      "     |  \n",
      "     |  __sub__(self, value, /)\n",
      "     |      Return self-value.\n",
      "     |  \n",
      "     |  __truediv__(self, value, /)\n",
      "     |      Return self/value.\n",
      "     |  \n",
      "     |  __trunc__(...)\n",
      "     |      Truncating an Integral returns itself.\n",
      "     |  \n",
      "     |  as_integer_ratio(self, /)\n",
      "     |      Return integer ratio.\n",
      "     |      \n",
      "     |      Return a pair of integers, whose ratio is exactly equal to the original int\n",
      "     |      and with a positive denominator.\n",
      "     |      \n",
      "     |      >>> (10).as_integer_ratio()\n",
      "     |      (10, 1)\n",
      "     |      >>> (-10).as_integer_ratio()\n",
      "     |      (-10, 1)\n",
      "     |      >>> (0).as_integer_ratio()\n",
      "     |      (0, 1)\n",
      "     |  \n",
      "     |  bit_count(self, /)\n",
      "     |      Number of ones in the binary representation of the absolute value of self.\n",
      "     |      \n",
      "     |      Also known as the population count.\n",
      "     |      \n",
      "     |      >>> bin(13)\n",
      "     |      '0b1101'\n",
      "     |      >>> (13).bit_count()\n",
      "     |      3\n",
      "     |  \n",
      "     |  bit_length(self, /)\n",
      "     |      Number of bits necessary to represent self in binary.\n",
      "     |      \n",
      "     |      >>> bin(37)\n",
      "     |      '0b100101'\n",
      "     |      >>> (37).bit_length()\n",
      "     |      6\n",
      "     |  \n",
      "     |  conjugate(...)\n",
      "     |      Returns self, the complex conjugate of any int.\n",
      "     |  \n",
      "     |  to_bytes(self, /, length=1, byteorder='big', *, signed=False)\n",
      "     |      Return an array of bytes representing an integer.\n",
      "     |      \n",
      "     |      length\n",
      "     |        Length of bytes object to use.  An OverflowError is raised if the\n",
      "     |        integer is not representable with the given number of bytes.  Default\n",
      "     |        is length 1.\n",
      "     |      byteorder\n",
      "     |        The byte order used to represent the integer.  If byteorder is 'big',\n",
      "     |        the most significant byte is at the beginning of the byte array.  If\n",
      "     |        byteorder is 'little', the most significant byte is at the end of the\n",
      "     |        byte array.  To request the native byte order of the host system, use\n",
      "     |        `sys.byteorder' as the byte order value.  Default is to use 'big'.\n",
      "     |      signed\n",
      "     |        Determines whether two's complement is used to represent the integer.\n",
      "     |        If signed is False and a negative integer is given, an OverflowError\n",
      "     |        is raised.\n",
      "     |  \n",
      "     |  ----------------------------------------------------------------------\n",
      "     |  Class methods inherited from builtins.int:\n",
      "     |  \n",
      "     |  from_bytes(bytes, byteorder='big', *, signed=False)\n",
      "     |      Return the integer represented by the given array of bytes.\n",
      "     |      \n",
      "     |      bytes\n",
      "     |        Holds the array of bytes to convert.  The argument must either\n",
      "     |        support the buffer protocol or be an iterable object producing bytes.\n",
      "     |        Bytes and bytearray are examples of built-in objects that support the\n",
      "     |        buffer protocol.\n",
      "     |      byteorder\n",
      "     |        The byte order used to represent the integer.  If byteorder is 'big',\n",
      "     |        the most significant byte is at the beginning of the byte array.  If\n",
      "     |        byteorder is 'little', the most significant byte is at the end of the\n",
      "     |        byte array.  To request the native byte order of the host system, use\n",
      "     |        `sys.byteorder' as the byte order value.  Default is to use 'big'.\n",
      "     |      signed\n",
      "     |        Indicates whether two's complement is used to represent the integer.\n",
      "     |  \n",
      "     |  ----------------------------------------------------------------------\n",
      "     |  Data descriptors inherited from builtins.int:\n",
      "     |  \n",
      "     |  denominator\n",
      "     |      the denominator of a rational number in lowest terms\n",
      "     |  \n",
      "     |  imag\n",
      "     |      the imaginary part of a complex number\n",
      "     |  \n",
      "     |  numerator\n",
      "     |      the numerator of a rational number in lowest terms\n",
      "     |  \n",
      "     |  real\n",
      "     |      the real part of a complex number\n",
      "     |  \n",
      "     |  ----------------------------------------------------------------------\n",
      "     |  Methods inherited from enum.Flag:\n",
      "     |  \n",
      "     |  __contains__(self, other)\n",
      "     |      Returns True if self has at least the same flags set as other.\n",
      "     |  \n",
      "     |  __iter__(self)\n",
      "     |      Returns flags in definition order.\n",
      "     |  \n",
      "     |  __len__(self)\n",
      "     |      Return the number of members (no aliases)\n",
      "     |  \n",
      "     |  ----------------------------------------------------------------------\n",
      "     |  Methods inherited from enum.Enum:\n",
      "     |  \n",
      "     |  __dir__(self)\n",
      "     |      Returns public methods and other interesting attributes.\n",
      "     |  \n",
      "     |  __init__(self, *args, **kwds)\n",
      "     |      Initialize self.  See help(type(self)) for accurate signature.\n",
      "     |  \n",
      "     |  __reduce_ex__(self, proto)\n",
      "     |      Helper for pickle.\n",
      "     |  \n",
      "     |  ----------------------------------------------------------------------\n",
      "     |  Data descriptors inherited from enum.Enum:\n",
      "     |  \n",
      "     |  name\n",
      "     |      The name of the Enum member.\n",
      "     |  \n",
      "     |  value\n",
      "     |      The value of the Enum member.\n",
      "     |  \n",
      "     |  ----------------------------------------------------------------------\n",
      "     |  Static methods inherited from enum.EnumType:\n",
      "     |  \n",
      "     |  __getitem__(name)\n",
      "     |      Return the member matching `name`.\n",
      "     |  \n",
      "     |  ----------------------------------------------------------------------\n",
      "     |  Readonly properties inherited from enum.EnumType:\n",
      "     |  \n",
      "     |  __members__\n",
      "     |      Returns a mapping of member name->value.\n",
      "     |      \n",
      "     |      This mapping lists all enum members, including aliases. Note that this\n",
      "     |      is a read-only view of the internal mapping.\n",
      "    \n",
      "    class error(builtins.Exception)\n",
      "     |  error(msg, pattern=None, pos=None)\n",
      "     |  \n",
      "     |  Exception raised for invalid regular expressions.\n",
      "     |  \n",
      "     |  Attributes:\n",
      "     |  \n",
      "     |      msg: The unformatted error message\n",
      "     |      pattern: The regular expression pattern\n",
      "     |      pos: The index in the pattern where compilation failed (may be None)\n",
      "     |      lineno: The line corresponding to pos (may be None)\n",
      "     |      colno: The column corresponding to pos (may be None)\n",
      "     |  \n",
      "     |  Method resolution order:\n",
      "     |      error\n",
      "     |      builtins.Exception\n",
      "     |      builtins.BaseException\n",
      "     |      builtins.object\n",
      "     |  \n",
      "     |  Methods defined here:\n",
      "     |  \n",
      "     |  __init__(self, msg, pattern=None, pos=None) from re._constants.error\n",
      "     |      Initialize self.  See help(type(self)) for accurate signature.\n",
      "     |  \n",
      "     |  ----------------------------------------------------------------------\n",
      "     |  Data descriptors defined here:\n",
      "     |  \n",
      "     |  __weakref__\n",
      "     |      list of weak references to the object\n",
      "     |  \n",
      "     |  ----------------------------------------------------------------------\n",
      "     |  Static methods inherited from builtins.Exception:\n",
      "     |  \n",
      "     |  __new__(*args, **kwargs) class method of builtins.Exception\n",
      "     |      Create and return a new object.  See help(type) for accurate signature.\n",
      "     |  \n",
      "     |  ----------------------------------------------------------------------\n",
      "     |  Methods inherited from builtins.BaseException:\n",
      "     |  \n",
      "     |  __delattr__(self, name, /)\n",
      "     |      Implement delattr(self, name).\n",
      "     |  \n",
      "     |  __getattribute__(self, name, /)\n",
      "     |      Return getattr(self, name).\n",
      "     |  \n",
      "     |  __reduce__(...)\n",
      "     |      Helper for pickle.\n",
      "     |  \n",
      "     |  __repr__(self, /)\n",
      "     |      Return repr(self).\n",
      "     |  \n",
      "     |  __setattr__(self, name, value, /)\n",
      "     |      Implement setattr(self, name, value).\n",
      "     |  \n",
      "     |  __setstate__(...)\n",
      "     |  \n",
      "     |  __str__(self, /)\n",
      "     |      Return str(self).\n",
      "     |  \n",
      "     |  add_note(...)\n",
      "     |      Exception.add_note(note) --\n",
      "     |      add a note to the exception\n",
      "     |  \n",
      "     |  with_traceback(...)\n",
      "     |      Exception.with_traceback(tb) --\n",
      "     |      set self.__traceback__ to tb and return self.\n",
      "     |  \n",
      "     |  ----------------------------------------------------------------------\n",
      "     |  Data descriptors inherited from builtins.BaseException:\n",
      "     |  \n",
      "     |  __cause__\n",
      "     |      exception cause\n",
      "     |  \n",
      "     |  __context__\n",
      "     |      exception context\n",
      "     |  \n",
      "     |  __dict__\n",
      "     |  \n",
      "     |  __suppress_context__\n",
      "     |  \n",
      "     |  __traceback__\n",
      "     |  \n",
      "     |  args\n",
      "\n",
      "FUNCTIONS\n",
      "    compile(pattern, flags=0)\n",
      "        Compile a regular expression pattern, returning a Pattern object.\n",
      "    \n",
      "    escape(pattern)\n",
      "        Escape special characters in a string.\n",
      "    \n",
      "    findall(pattern, string, flags=0)\n",
      "        Return a list of all non-overlapping matches in the string.\n",
      "        \n",
      "        If one or more capturing groups are present in the pattern, return\n",
      "        a list of groups; this will be a list of tuples if the pattern\n",
      "        has more than one group.\n",
      "        \n",
      "        Empty matches are included in the result.\n",
      "    \n",
      "    finditer(pattern, string, flags=0)\n",
      "        Return an iterator over all non-overlapping matches in the\n",
      "        string.  For each match, the iterator returns a Match object.\n",
      "        \n",
      "        Empty matches are included in the result.\n",
      "    \n",
      "    fullmatch(pattern, string, flags=0)\n",
      "        Try to apply the pattern to all of the string, returning\n",
      "        a Match object, or None if no match was found.\n",
      "    \n",
      "    match(pattern, string, flags=0)\n",
      "        Try to apply the pattern at the start of the string, returning\n",
      "        a Match object, or None if no match was found.\n",
      "    \n",
      "    purge()\n",
      "        Clear the regular expression caches\n",
      "    \n",
      "    search(pattern, string, flags=0)\n",
      "        Scan through string looking for a match to the pattern, returning\n",
      "        a Match object, or None if no match was found.\n",
      "    \n",
      "    split(pattern, string, maxsplit=0, flags=0)\n",
      "        Split the source string by the occurrences of the pattern,\n",
      "        returning a list containing the resulting substrings.  If\n",
      "        capturing parentheses are used in pattern, then the text of all\n",
      "        groups in the pattern are also returned as part of the resulting\n",
      "        list.  If maxsplit is nonzero, at most maxsplit splits occur,\n",
      "        and the remainder of the string is returned as the final element\n",
      "        of the list.\n",
      "    \n",
      "    sub(pattern, repl, string, count=0, flags=0)\n",
      "        Return the string obtained by replacing the leftmost\n",
      "        non-overlapping occurrences of the pattern in string by the\n",
      "        replacement repl.  repl can be either a string or a callable;\n",
      "        if a string, backslash escapes in it are processed.  If it is\n",
      "        a callable, it's passed the Match object and must return\n",
      "        a replacement string to be used.\n",
      "    \n",
      "    subn(pattern, repl, string, count=0, flags=0)\n",
      "        Return a 2-tuple containing (new_string, number).\n",
      "        new_string is the string obtained by replacing the leftmost\n",
      "        non-overlapping occurrences of the pattern in the source\n",
      "        string by the replacement repl.  number is the number of\n",
      "        substitutions that were made. repl can be either a string or a\n",
      "        callable; if a string, backslash escapes in it are processed.\n",
      "        If it is a callable, it's passed the Match object and must\n",
      "        return a replacement string to be used.\n",
      "    \n",
      "    template(pattern, flags=0)\n",
      "        Compile a template pattern, returning a Pattern object, deprecated\n",
      "\n",
      "DATA\n",
      "    A = re.ASCII\n",
      "    ASCII = re.ASCII\n",
      "    DOTALL = re.DOTALL\n",
      "    I = re.IGNORECASE\n",
      "    IGNORECASE = re.IGNORECASE\n",
      "    L = re.LOCALE\n",
      "    LOCALE = re.LOCALE\n",
      "    M = re.MULTILINE\n",
      "    MULTILINE = re.MULTILINE\n",
      "    NOFLAG = re.NOFLAG\n",
      "    S = re.DOTALL\n",
      "    U = re.UNICODE\n",
      "    UNICODE = re.UNICODE\n",
      "    VERBOSE = re.VERBOSE\n",
      "    X = re.VERBOSE\n",
      "    __all__ = ['match', 'fullmatch', 'search', 'sub', 'subn', 'split', 'fi...\n",
      "\n",
      "VERSION\n",
      "    2.2.1\n",
      "\n",
      "FILE\n",
      "    /opt/anaconda3/lib/python3.11/re/__init__.py\n",
      "\n",
      "\n",
      "None\n"
     ]
    }
   ],
   "source": [
    "print(help(re))"
   ]
  }
 ],
 "metadata": {
  "kernelspec": {
   "display_name": "Python 3 (ipykernel)",
   "language": "python",
   "name": "python3"
  },
  "language_info": {
   "codemirror_mode": {
    "name": "ipython",
    "version": 3
   },
   "file_extension": ".py",
   "mimetype": "text/x-python",
   "name": "python",
   "nbconvert_exporter": "python",
   "pygments_lexer": "ipython3",
   "version": "3.11.9"
  },
  "toc": {
   "base_numbering": 1,
   "nav_menu": {},
   "number_sections": true,
   "sideBar": true,
   "skip_h1_title": false,
   "title_cell": "Table of Contents",
   "title_sidebar": "Contents",
   "toc_cell": true,
   "toc_position": {},
   "toc_section_display": true,
   "toc_window_display": false
  },
  "vscode": {
   "interpreter": {
    "hash": "31f2aee4e71d21fbe5cf8b01ff0e069b9275f58929596ceb00d14d90e3e16cd6"
   }
  }
 },
 "nbformat": 4,
 "nbformat_minor": 2
}

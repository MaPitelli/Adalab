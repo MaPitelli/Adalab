{
 "cells": [
  {
   "cell_type": "markdown",
   "metadata": {},
   "source": [
    "# 1 Calcular el área de un círculo.\n",
    "\n",
    "Descripción: Crea una función llamada calcular_area_circulo que tome el radio como parámetro y devuelva el área del círculo.\n",
    "\n",
    "NOTA: Os dejamos aquí un link para recordar comose calculaba el área de un círculo."
   ]
  },
  {
   "cell_type": "code",
   "execution_count": 8,
   "metadata": {},
   "outputs": [
    {
     "name": "stdout",
     "output_type": "stream",
     "text": [
      "El área del círculo es 28.27 cm2\n"
     ]
    }
   ],
   "source": [
    "import math  # Importa el módulo math que contiene funciones matemáticas, como el valor de pi\n",
    "\n",
    "def calcular_area_circulo(radio):\n",
    "    area = math.pi * (radio**2)  # Calcula el área del círculo usando la fórmula πr^2\n",
    "    return area \n",
    "\n",
    "radio = 3  # Define una variable radio con el valor 3\n",
    "\n",
    "print(f\"El área del círculo es {calcular_area_circulo(radio):.2f} cm2\")\n"
   ]
  },
  {
   "cell_type": "markdown",
   "metadata": {},
   "source": [
    "# 2 Contar la cantidad de caracteres en una cadena.\n",
    "\n",
    "Descripción: Crea una función llamada contar_caracteres que tome una cadena como parámetro y devuelva la cantidad de caracteres que contiene."
   ]
  },
  {
   "cell_type": "code",
   "execution_count": 10,
   "metadata": {},
   "outputs": [
    {
     "name": "stdout",
     "output_type": "stream",
     "text": [
      "El número de caracteres de texto es 18\n"
     ]
    }
   ],
   "source": [
    "def contar_caracteres(cadena):\n",
    "    return len(cadena)  # Retorna la longitud de la cadena usando la función len()\n",
    "\n",
    "cadena_texto = \"nos gusta la pasta\"\n",
    "\n",
    "print(f\"El número de caracteres de texto es {contar_caracteres(cadena_texto)}\")\n"
   ]
  },
  {
   "cell_type": "markdown",
   "metadata": {},
   "source": [
    "# 3 Determinar si una cadena es un palíndromo.\n",
    "\n",
    "Descripción: Crea una función llamada es_palindromo que tome una cadena como parámetro y devuelva True si es un palíndromo, o False si no lo es."
   ]
  },
  {
   "cell_type": "code",
   "execution_count": 12,
   "metadata": {},
   "outputs": [
    {
     "name": "stdout",
     "output_type": "stream",
     "text": [
      "True\n"
     ]
    }
   ],
   "source": [
    "def es_palindromo(cadena):\n",
    "    cadena_inversa = cadena[::-1] # Crea una nueva cadena que es la inversa de la cadena original\n",
    "    if cadena == cadena_inversa:\n",
    "        return True\n",
    "    else:\n",
    "        return False\n",
    "\n",
    "palabra = \"anilina\"\n",
    "\n",
    "print(es_palindromo(palabra)) \n"
   ]
  },
  {
   "cell_type": "markdown",
   "metadata": {},
   "source": [
    "#  4 Calcular el promedio de una lista de números.\n",
    "\n",
    "Descripción: Crea una función llamada calcular_promedio que tome una lista de números como parámetro y devuelva el promedio de todos sus elementos."
   ]
  },
  {
   "cell_type": "code",
   "execution_count": 1,
   "metadata": {},
   "outputs": [
    {
     "data": {
      "text/plain": [
       "4.8"
      ]
     },
     "execution_count": 1,
     "metadata": {},
     "output_type": "execute_result"
    }
   ],
   "source": [
    "def media_num(num1,num2,num3,num4,num5):\n",
    "    return (num1 + num2+ num3+ num4 +num5) / 5\n",
    "\n",
    "promedio = media_num(2, 4, 5, 6, 7)\n",
    "promedio"
   ]
  },
  {
   "cell_type": "markdown",
   "metadata": {},
   "source": [
    "# 5 Calcular el interés compuesto\n",
    "Descripción: Crea una función llamada calcular_interes_compuesto que tome el capital inicial, la tasa de interés y el número de períodos como parámetros y devuelva el beneficio final después del interés compuesto"
   ]
  },
  {
   "cell_type": "code",
   "execution_count": 1,
   "metadata": {},
   "outputs": [
    {
     "name": "stdout",
     "output_type": "stream",
     "text": [
      "El beneficio final después del interés compuesto es: 1628.894626777442\n"
     ]
    }
   ],
   "source": [
    "def calcular_interes_compuesto(capital_inicial, tasa_interes, numero_periodos):\n",
    "    # A = P * (1 + r) ** t\n",
    "    beneficio_final = capital_inicial * (1 + tasa_interes) ** numero_periodos\n",
    "    return beneficio_final\n",
    "\n",
    "# Ejemplo de uso:\n",
    "capital_inicial = 1000  # Capital inicial en dólares\n",
    "tasa_interes = 0.05     # Tasa de interés anual del 5%\n",
    "numero_periodos = 10    # Número de años\n",
    "\n",
    "beneficio = calcular_interes_compuesto(capital_inicial, tasa_interes, numero_periodos)\n",
    "print(f\"El beneficio final después del interés compuesto es: {beneficio}\")\n"
   ]
  },
  {
   "cell_type": "markdown",
   "metadata": {},
   "source": [
    "# 6 Validar si una palabra es un anagrama de otra.\n",
    "Descripción: Crea una función llamada es_anagrama que tome dos palabras como parámetros y devuelva True si una es un anagrama de la otra, o False si no lo es."
   ]
  },
  {
   "cell_type": "code",
   "execution_count": 2,
   "metadata": {},
   "outputs": [
    {
     "name": "stdout",
     "output_type": "stream",
     "text": [
      "¿Son anagramas 'amor' y 'Roma'? True\n"
     ]
    }
   ],
   "source": [
    "def es_anagrama(palabra1, palabra2):\n",
    "    # Convertir ambas palabras a minúsculas para una comparación case-insensitive\n",
    "    palabra1 = palabra1.lower()\n",
    "    palabra2 = palabra2.lower()\n",
    "    \n",
    "    # Ordenar las letras de ambas palabras\n",
    "    ordenada1 = ''.join(sorted(palabra1))\n",
    "    ordenada2 = ''.join(sorted(palabra2))\n",
    "    \n",
    "    # Comparar las palabras ordenadas\n",
    "    return ordenada1 == ordenada2\n",
    "\n",
    "# Ejemplo de uso:\n",
    "palabra1 = \"amor\"\n",
    "palabra2 = \"Roma\"\n",
    "\n",
    "resultado = es_anagrama(palabra1, palabra2)\n",
    "print(f\"¿Son anagramas '{palabra1}' y '{palabra2}'? {resultado}\")\n"
   ]
  },
  {
   "cell_type": "markdown",
   "metadata": {},
   "source": [
    "# 7 Validar si una cadena de texto es un isograma.\n",
    "Descripción: Crea una función llamada es_isograma que tome una cadena de texto como parámetro y devuelva True si es un isograma. En caso contrario, devuelve False.\n",
    "¿Qué es un isograma? Una palabra que no contiene letras repetidas."
   ]
  },
  {
   "cell_type": "code",
   "execution_count": 3,
   "metadata": {},
   "outputs": [
    {
     "name": "stdout",
     "output_type": "stream",
     "text": [
      "¿Es 'isograma' un isograma? False\n",
      "¿Es 'Hola' un isograma? True\n"
     ]
    }
   ],
   "source": [
    "def es_isograma(cadena):\n",
    "    # Convertir la cadena a minúsculas para una comparación case-insensitive\n",
    "    cadena = cadena.lower()\n",
    "    \n",
    "    # Crear un conjunto para almacenar las letras encontradas\n",
    "    letras_encontradas = set()\n",
    "    \n",
    "    # Recorrer cada letra en la cadena\n",
    "    for letra in cadena:\n",
    "        # Ignorar caracteres que no sean letras\n",
    "        if letra.isalpha():\n",
    "            # Si la letra ya está en el conjunto, no es un isograma\n",
    "            if letra in letras_encontradas:\n",
    "                return False\n",
    "            # Añadir la letra al conjunto\n",
    "            letras_encontradas.add(letra)\n",
    "    \n",
    "    # Si no encontramos letras repetidas, es un isograma\n",
    "    return True\n",
    "\n",
    "# Ejemplo de uso:\n",
    "cadena1 = \"isograma\"\n",
    "cadena2 = \"Hola\"\n",
    "\n",
    "resultado1 = es_isograma(cadena1)\n",
    "resultado2 = es_isograma(cadena2)\n",
    "\n",
    "print(f\"¿Es '{cadena1}' un isograma? {resultado1}\")\n",
    "print(f\"¿Es '{cadena2}' un isograma? {resultado2}\")\n"
   ]
  },
  {
   "cell_type": "markdown",
   "metadata": {},
   "source": [
    "# 8 Concatenar múltiples cadenas de texto\n",
    "Descripción: Crea una función llamada concatenar_cadenas que tome una cantidad variable de cadenas de texto como argumentos y devuelva una única cadena que contenga la concatenación de todas las cadenas ingresadas."
   ]
  },
  {
   "cell_type": "code",
   "execution_count": 4,
   "metadata": {},
   "outputs": [
    {
     "name": "stdout",
     "output_type": "stream",
     "text": [
      "Hola Mundo!\n"
     ]
    }
   ],
   "source": [
    "def concatenar_cadenas(*args):\n",
    "    # Unir todas las cadenas usando join\n",
    "    cadena_concatenada = ''.join(args)\n",
    "    return cadena_concatenada\n",
    "\n",
    "# Ejemplo de uso:\n",
    "cadena1 = \"Hola\"\n",
    "cadena2 = \" \"\n",
    "cadena3 = \"Mundo\"\n",
    "cadena4 = \"!\"\n",
    "\n",
    "resultado = concatenar_cadenas(cadena1, cadena2, cadena3, cadena4)\n",
    "print(resultado)  # Output: \"Hola Mundo!\"\n"
   ]
  },
  {
   "cell_type": "markdown",
   "metadata": {},
   "source": [
    "# 9 Crear un diccionario con información de una persona.\n",
    "Descripción: Crea una función llamada crear_persona que tome como argumentos clave-valor los datos de una persona, como nombre, edad, ciudad, etc., y devuelva un diccionario con toda la información ingresada."
   ]
  },
  {
   "cell_type": "code",
   "execution_count": 5,
   "metadata": {},
   "outputs": [
    {
     "name": "stdout",
     "output_type": "stream",
     "text": [
      "{'nombre': 'Juan', 'edad': 30, 'ciudad': 'Madrid', 'profesion': 'Ingeniero'}\n"
     ]
    }
   ],
   "source": [
    "def crear_persona(**kwargs):\n",
    "    # Crear un diccionario con los argumentos clave-valor proporcionados\n",
    "    persona = {}\n",
    "    for clave, valor in kwargs.items():\n",
    "        persona[clave] = valor\n",
    "    return persona\n",
    "\n",
    "# Ejemplo de uso:\n",
    "info_persona = crear_persona(nombre=\"Juan\", edad=30, ciudad=\"Madrid\", profesion=\"Ingeniero\")\n",
    "print(info_persona)  # Output: {'nombre': 'Juan', 'edad': 30, 'ciudad': 'Madrid', 'profesion': 'Ingeniero'}\n"
   ]
  },
  {
   "cell_type": "markdown",
   "metadata": {},
   "source": [
    "# 10 Encontrar el número que falta en una lista ordenada de números consecutivos.\n",
    "Descripción: Crea una función llamada encontrar_numero_faltante que tome una lista de números consecutivos (del 1 al N, sin repetir) con un número faltante y devuelva ese número faltante."
   ]
  },
  {
   "cell_type": "code",
   "execution_count": 6,
   "metadata": {},
   "outputs": [
    {
     "name": "stdout",
     "output_type": "stream",
     "text": [
      "El número faltante es: 5\n"
     ]
    }
   ],
   "source": [
    "def encontrar_numero_faltante(lista):\n",
    "    # Calcular el tamaño esperado de la lista (N)\n",
    "    n = len(lista) + 1\n",
    "    \n",
    "    # Calcular la suma esperada de los primeros N números naturales\n",
    "    suma_esperada = n * (n + 1) // 2\n",
    "    \n",
    "    # Calcular la suma de los números en la lista\n",
    "    suma_actual = sum(lista)\n",
    "    \n",
    "    # El número faltante es la diferencia entre la suma esperada y la suma actual\n",
    "    numero_faltante = suma_esperada - suma_actual\n",
    "    \n",
    "    return numero_faltante\n",
    "\n",
    "# Ejemplo de uso:\n",
    "lista = [1, 2, 3, 4, 6, 7, 8, 9, 10]\n",
    "\n",
    "numero_faltante = encontrar_numero_faltante(lista)\n",
    "print(f\"El número faltante es: {numero_faltante}\")  # Output: El número faltante es: 5\n"
   ]
  },
  {
   "cell_type": "markdown",
   "metadata": {},
   "source": [
    "# 11 Encontrar el elemento duplicado en una lista de números.\n",
    "Descripción: Crea una función llamada encontrar_duplicado que tome una lista de números enteros y devuelva el elemento que está duplicado en la lista."
   ]
  },
  {
   "cell_type": "code",
   "execution_count": 7,
   "metadata": {},
   "outputs": [
    {
     "name": "stdout",
     "output_type": "stream",
     "text": [
      "El número duplicado es: 3\n"
     ]
    }
   ],
   "source": [
    "def encontrar_duplicado(lista):\n",
    "    # Crear un conjunto para almacenar los números encontrados\n",
    "    numeros_vistos = set()\n",
    "    \n",
    "    # Recorrer cada número en la lista\n",
    "    for numero in lista:\n",
    "        # Si el número ya está en el conjunto, es el duplicado\n",
    "        if numero in numeros_vistos:\n",
    "            return numero\n",
    "        # Añadir el número al conjunto\n",
    "        numeros_vistos.add(numero)\n",
    "    \n",
    "    # Si no se encuentra ningún duplicado (aunque según la descripción siempre debería haber uno)\n",
    "    return None\n",
    "\n",
    "# Ejemplo de uso:\n",
    "lista = [1, 3, 4, 2, 5, 3]\n",
    "\n",
    "numero_duplicado = encontrar_duplicado(lista)\n",
    "print(f\"El número duplicado es: {numero_duplicado}\")  # Output: El número duplicado es: 3\n"
   ]
  }
 ],
 "metadata": {
  "kernelspec": {
   "display_name": "base",
   "language": "python",
   "name": "python3"
  },
  "language_info": {
   "codemirror_mode": {
    "name": "ipython",
    "version": 3
   },
   "file_extension": ".py",
   "mimetype": "text/x-python",
   "name": "python",
   "nbconvert_exporter": "python",
   "pygments_lexer": "ipython3",
   "version": "3.11.9"
  }
 },
 "nbformat": 4,
 "nbformat_minor": 2
}

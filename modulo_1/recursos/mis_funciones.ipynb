{
 "cells": [
  {
   "cell_type": "markdown",
   "metadata": {},
   "source": [
    "## Código para numerar ejercicios del Gitbook"
   ]
  },
  {
   "cell_type": "code",
   "execution_count": null,
   "metadata": {},
   "outputs": [],
   "source": [
    "texto = \"Variable que contiene los ejercícios para numerar, es un string.\"\n",
    "frases = texto.split(\".\\n\\n\")  \n",
    "for i, frase in enumerate(frases):  \n",
    "    numero = i + 1  \n",
    "    nueva_frase = f\"{numero}. {frase}\" \n",
    "    print(nueva_frase)  "
   ]
  },
  {
   "cell_type": "code",
   "execution_count": 4,
   "metadata": {},
   "outputs": [
    {
     "name": "stdout",
     "output_type": "stream",
     "text": [
      "1. Crear un conjunto vacío: Crea un conjunto llamado mi_set que esté vacío\n",
      "2. Agregar elementos a un conjunto: Agrega los números 1, 2 y 3 al conjunto mi_set\n",
      "3. Eliminar elementos de un conjunto: Elimina el número 2 del conjunto mi_set\n",
      "4. Verificar pertenencia: Comprueba si el número 3 está en mi_set y almacena el resultado en una variable llamada existe\n",
      "5. Operaciones de conjuntos: Crea dos conjuntos set1 y set2 con números y encuentra la intersección de ambos conjuntos\n",
      "6. Unión de conjuntos: Combina set1 y set2 para formar un nuevo conjunto que contenga todos los elementos de ambos\n",
      "7. Diferencia de conjuntos: Encuentra los elementos que están en set1 pero no en set2\n",
      "8. Comparación de conjuntos: Comprueba si set1 es un subconjunto de set2 y almacena el resultado en una variable llamada es_subconjunto\n",
      "9. Eliminar elementos duplicados: Dada una lista mi_lista con elementos duplicados, conviértela en un conjunto para eliminar los duplicados\n",
      "10. Comprobar igualdad de conjuntos: Compara si set1 y set2 son iguales y almacena el resultado en una variable llamada son_iguales.\n"
     ]
    }
   ],
   "source": [
    "texto = '''Crear un conjunto vacío: Crea un conjunto llamado mi_set que esté vacío.\n",
    "\n",
    "Agregar elementos a un conjunto: Agrega los números 1, 2 y 3 al conjunto mi_set.\n",
    "\n",
    "Eliminar elementos de un conjunto: Elimina el número 2 del conjunto mi_set.\n",
    "\n",
    "Verificar pertenencia: Comprueba si el número 3 está en mi_set y almacena el resultado en una variable llamada existe.\n",
    "\n",
    "Operaciones de conjuntos: Crea dos conjuntos set1 y set2 con números y encuentra la intersección de ambos conjuntos.\n",
    "\n",
    "Unión de conjuntos: Combina set1 y set2 para formar un nuevo conjunto que contenga todos los elementos de ambos.\n",
    "\n",
    "Diferencia de conjuntos: Encuentra los elementos que están en set1 pero no en set2.\n",
    "\n",
    "Comparación de conjuntos: Comprueba si set1 es un subconjunto de set2 y almacena el resultado en una variable llamada es_subconjunto.\n",
    "\n",
    "Eliminar elementos duplicados: Dada una lista mi_lista con elementos duplicados, conviértela en un conjunto para eliminar los duplicados.\n",
    "\n",
    "Comprobar igualdad de conjuntos: Compara si set1 y set2 son iguales y almacena el resultado en una variable llamada son_iguales.'''\n",
    "\n",
    "frases = texto.split(\".\\n\\n\")  \n",
    "for i, frase in enumerate(frases):  \n",
    "    numero = i + 1  \n",
    "    nueva_frase = f\"{numero}. {frase}\" \n",
    "    print(nueva_frase)  \n"
   ]
  },
  {
   "cell_type": "code",
   "execution_count": 1,
   "metadata": {},
   "outputs": [
    {
     "name": "stdout",
     "output_type": "stream",
     "text": [
      "The Zen of Python, by Tim Peters\n",
      "\n",
      "Beautiful is better than ugly.\n",
      "Explicit is better than implicit.\n",
      "Simple is better than complex.\n",
      "Complex is better than complicated.\n",
      "Flat is better than nested.\n",
      "Sparse is better than dense.\n",
      "Readability counts.\n",
      "Special cases aren't special enough to break the rules.\n",
      "Although practicality beats purity.\n",
      "Errors should never pass silently.\n",
      "Unless explicitly silenced.\n",
      "In the face of ambiguity, refuse the temptation to guess.\n",
      "There should be one-- and preferably only one --obvious way to do it.\n",
      "Although that way may not be obvious at first unless you're Dutch.\n",
      "Now is better than never.\n",
      "Although never is often better than *right* now.\n",
      "If the implementation is hard to explain, it's a bad idea.\n",
      "If the implementation is easy to explain, it may be a good idea.\n",
      "Namespaces are one honking great idea -- let's do more of those!\n"
     ]
    }
   ],
   "source": [
    "import this"
   ]
  }
 ],
 "metadata": {
  "kernelspec": {
   "display_name": "base",
   "language": "python",
   "name": "python3"
  },
  "language_info": {
   "codemirror_mode": {
    "name": "ipython",
    "version": 3
   },
   "file_extension": ".py",
   "mimetype": "text/x-python",
   "name": "python",
   "nbconvert_exporter": "python",
   "pygments_lexer": "ipython3",
   "version": "3.11.9"
  }
 },
 "nbformat": 4,
 "nbformat_minor": 2
}

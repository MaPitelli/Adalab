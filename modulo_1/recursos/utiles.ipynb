{
 "cells": [
  {
   "cell_type": "markdown",
   "metadata": {},
   "source": [
    "## Código para numerar ejercicios del Gitbook"
   ]
  },
  {
   "cell_type": "code",
   "execution_count": null,
   "metadata": {},
   "outputs": [],
   "source": [
    "texto = \"Variable que contiene los ejercícios para numerar, es un string.\"\n",
    "frases = texto.split(\".\\n\\n\")  \n",
    "for i, frase in enumerate(frases):  \n",
    "    numero = i + 1  \n",
    "    nueva_frase = f\"{numero}. {frase}\" \n",
    "    print(nueva_frase)  "
   ]
  },
  {
   "cell_type": "code",
   "execution_count": 1,
   "metadata": {},
   "outputs": [
    {
     "name": "stdout",
     "output_type": "stream",
     "text": [
      "1. Crear una tupla: Crea una tupla llamada mi_tupla con algunos elementos de tu elección\n",
      "2. Acceder al primer elemento: Accede al primer elemento de mi_tupla y guárdalo en una variable llamada primer_elemento\n",
      "3. Acceder al último elemento: Accede al último elemento de mi_tupla y guárdalo en una variable llamada ultimo_elemento\n",
      "4. Acceder a un rango de elementos: Utilizando el slicing, crea una nueva tupla llamada sub_tupla que contenga los elementos desde el segundo hasta el cuarto de mi_tupla\n",
      "5. Concatenar dos tuplas: Crea otra tupla llamada otra_tupla y concaténala con mi_tupla para formar una nueva tupla llamada tupla_concatenada\n",
      "6. Encontrar la longitud: Encuentra la longitud de tupla_concatenada y guárdala en una variable llamada longitud\n",
      "7. Buscar un elemento: Verifica si un elemento específico está presente en mi_tupla, por ejemplo, \"manzana\"\n",
      "8. Contar elementos: Cuenta cuántas veces aparece un elemento específico en mi_tupla, por ejemplo, cuántas veces aparece \"pera\"\n",
      "9. Desempaquetar una tupla: Si tienes una tupla de nombres (nombre, apellido), desempaqueta los valores en dos variables separadas\n",
      "10. Convertir una lista en tupla: Crea una lista de números y conviértela en una tupla llamada tupla_desde_lista.\n"
     ]
    }
   ],
   "source": [
    "texto = ''' '''\n",
    "\n",
    "frases = texto.split(\".\\n\\n\")  \n",
    "for i, frase in enumerate(frases):  \n",
    "    numero = i + 1  \n",
    "    nueva_frase = f\"{numero}. {frase}\" \n",
    "    print(nueva_frase)  \n"
   ]
  },
  {
   "cell_type": "code",
   "execution_count": null,
   "metadata": {},
   "outputs": [],
   "source": []
  }
 ],
 "metadata": {
  "kernelspec": {
   "display_name": "base",
   "language": "python",
   "name": "python3"
  },
  "language_info": {
   "codemirror_mode": {
    "name": "ipython",
    "version": 3
   },
   "file_extension": ".py",
   "mimetype": "text/x-python",
   "name": "python",
   "nbconvert_exporter": "python",
   "pygments_lexer": "ipython3",
   "version": "3.11.7"
  }
 },
 "nbformat": 4,
 "nbformat_minor": 2
}

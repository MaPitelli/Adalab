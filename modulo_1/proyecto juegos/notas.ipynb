{
 "cells": [
  {
   "cell_type": "code",
   "execution_count": 28,
   "metadata": {},
   "outputs": [
    {
     "name": "stdout",
     "output_type": "stream",
     "text": [
      "   |   |  \n",
      "---+---+---\n",
      "   |   |  \n",
      "---+---+---\n",
      "   |   |   \n",
      "\n",
      "\n",
      " 1 | 2 | 3\n",
      "---+---+---\n",
      " 4 | 5 | 6\n",
      "---+---+---\n",
      " 7 | 8 | 9 \n",
      "\n",
      "\n",
      "   +---+\n",
      "   |   |\n",
      "   O   |\n",
      "  /|\\  |\n",
      "  / \\  |\n",
      "       |\n",
      "=========\n",
      "\n",
      "\n"
     ]
    }
   ],
   "source": [
    "tablero_vacio = '''   |   |  \n",
    "---+---+---\n",
    "   |   |  \n",
    "---+---+---\n",
    "   |   |   '''\n",
    "\n",
    "tablero_lleno = ''' 1 | 2 | 3\n",
    "---+---+---\n",
    " 4 | 5 | 6\n",
    "---+---+---\n",
    " 7 | 8 | 9 '''\n",
    "\n",
    "cuerpo_completo = '''   +---+\n",
    "   |   |\n",
    "   O   |\n",
    "  /|\\  |\n",
    "  / \\  |\n",
    "       |\n",
    "=========\n",
    "\n",
    "'''\n",
    "\n",
    "print(tablero_vacio)\n",
    "print(\"\\n\")\n",
    "print(tablero_lleno)\n",
    "print(\"\\n\")\n",
    "print(cuerpo_completo)\n"
   ]
  }
 ],
 "metadata": {
  "kernelspec": {
   "display_name": "base",
   "language": "python",
   "name": "python3"
  },
  "language_info": {
   "codemirror_mode": {
    "name": "ipython",
    "version": 3
   },
   "file_extension": ".py",
   "mimetype": "text/x-python",
   "name": "python",
   "nbconvert_exporter": "python",
   "pygments_lexer": "ipython3",
   "version": "3.11.7"
  }
 },
 "nbformat": 4,
 "nbformat_minor": 2
}

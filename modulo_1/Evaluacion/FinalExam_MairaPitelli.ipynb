{
 "cells": [
  {
   "cell_type": "code",
   "execution_count": 1027,
   "metadata": {},
   "outputs": [],
   "source": [
    "import re\n",
    "\n",
    "class OnlineStore:\n",
    "\n",
    "    def __init__(self):\n",
    "        self.inventory = []\n",
    "        self.customers = {} \n",
    "        self.total_sales = 0\n",
    "\n",
    "\n",
    "    def add_product(self, name, price, quantity):\n",
    "        # Itera a través del inventario para ver si el producto ya existe.\n",
    "        for product in self.inventory:\n",
    "            if name == product['name']:\n",
    "                product['quantity'] += quantity\n",
    "                print(f\"La cantidad del producto {name} ha sido actualizada correctamente.\")\n",
    "\n",
    "        # Si el producto no existe, agrega el producto al inventario. \n",
    "        new_product = {'name': name, 'price': price, 'quantity': quantity}\n",
    "        self.inventory.append(new_product)\n",
    "        print(f\"El producto '{name}' ha sido agregado correctamente.\")\n",
    "\n",
    "\n",
    "    def view_inventory(self):\n",
    "        # Itera a través del inventario para mostrar los detalles de cada producto\n",
    "        for product in self.inventory:\n",
    "            name = product['name']\n",
    "            price = product['price']\n",
    "            quantity = product['quantity']\n",
    "            # Imprime los detalles del producto\n",
    "            print(f\"Nombre: {name}, Precio: ${price}, Cantidad: {quantity}\")\n",
    "\n",
    "\n",
    "    def search_product(self, name):\n",
    "        # Itera a través del inventario para buscar el producto por nombre\n",
    "        for product in self.inventory:\n",
    "            if name == product['name']:\n",
    "                # Imprime los detalles del producto si se encuentra\n",
    "                return f\"Nombre: {product['name']}, Precio: ${product['price']}, Cantidad: {product['quantity']}\"\n",
    "    \n",
    "        # Imprime un mensaje si el producto no se encuentra en el inventario\n",
    "        print(f\"El producto con nombre '{name}' no se encuentra en el inventario.\")\n",
    "\n",
    "\n",
    "    def update_stock(self, name, quantity):\n",
    "        # Itera a través del inventario para buscar el producto por nombre\n",
    "        for product in self.inventory:\n",
    "            if name == product['name']:\n",
    "                # Actualiza la cantidad del producto\n",
    "                product['quantity'] += quantity\n",
    "                print(f\"El producto con nombre '{name}' ha sido actualizado correctamente.\")\n",
    "                return product\n",
    "\n",
    "        # Imprime un mensaje si el producto no se encuentra en el inventario\n",
    "        print(f\"El producto con nombre '{name}' no se encuentra en el inventario.\")\n",
    "\n",
    "\n",
    "    def remove_product(self, name):\n",
    "        # Itera a través del inventario para buscar el producto por nombre\n",
    "        for product in self.inventory:\n",
    "            if name == product['name']:\n",
    "                # Elimina el producto del inventario si existe \n",
    "                self.inventory.remove(product)\n",
    "                return f\"El producto '{name}' ha sido eliminado correctamente.\"\n",
    "        \n",
    "        # Imprime un mensaje si el producto no se encuentra en el inventario\n",
    "        print(f\"El producto con nombre '{name}' no se encuentra en el inventario.\")\n",
    "\n",
    "\n",
    "    def calculate_inventory_value(self):\n",
    "        # Crea una variable de tipo float para sumar el valor total del inventario\n",
    "        total_inventory = 0\n",
    "        # Itera a través del inventario\n",
    "        for product in self.inventory:\n",
    "            # Calcula el valor total de cada producto (precio * cantidad)\n",
    "            total_product = product['price'] * product['quantity']\n",
    "            # Suma el valor total de cada producto al valor total del inventario\n",
    "            total_inventory += total_product\n",
    "\n",
    "        # Devuelve el valor total del inventario en euros    \n",
    "        return f\"El valor total del inventario es de {total_inventory}€.\"\n",
    "\n",
    "    \n",
    "    def make_purchase(self):\n",
    "        cart = {}\n",
    "        total_amount = 0\n",
    "        \n",
    "        while True:\n",
    "            # Muestra el inventario al cliente\n",
    "            print(\"Tenemos en nuestro inventario los productos:\")\n",
    "            for product in self.inventory:\n",
    "                print(f\"{product['name']} - Precio: {product['price']}€ - Cantidad: {product['quantity']}\")\n",
    "            \n",
    "            # Solicita al cliente ingresar el nombre del producto que desea comprar y la cantidad\n",
    "            name = input(\"Ingresa el nombre del producto que desea comprar: \").lower()\n",
    "            quantity = int(input(f\"Ingresa la cantidad del producto {name} que desea comprar: \")) # Error común si el usuario no ingresa un número, se puede resolver con un try-except ValueError\n",
    "            \n",
    "            # Verifica que el producto existe en el inventario\n",
    "            for product in self.inventory:\n",
    "                if name == product['name']:\n",
    "                    # Verifica que hay cantidad en stock para vender\n",
    "                    if quantity <= product['quantity']:\n",
    "                        # Añade la compra al carrito e imprime un mensaje mostrando que el carrito ha sido actualizado\n",
    "                        cart[product['name']] = {'price':product['price'], 'quantity':quantity}    \n",
    "                        print(f\"El producto {name} con la cantidad {quantity} ha sido agregado al carrito correctamente.\")\n",
    "                        # Actualiza el inventario\n",
    "                        product['quantity'] -= quantity\n",
    "                        total_amount += cart[name]['price'] * cart[name]['quantity'] # Ejemplo estructura del carrito: cart = {\"Camisa\": {\"precio\": 20, \"cantidad\": 3}}\n",
    "                        break\n",
    "                    else:\n",
    "                        print(f\"Lo sentimos, solo tenemos en stock {product['quantity']} unidades del producto {name}.\")\n",
    "                        break\n",
    "            else:\n",
    "                print(f\"El producto con nombre '{name}' no se encuentra en el inventario.\")\n",
    "            \n",
    "            # Pregunta al cliente si desea continuar comprando o finalizar la compra\n",
    "            while True: # Este bucle es para filtrar opción no valida que no sea 'c' o 'f'\n",
    "                option = input(\"Desea continuar comprando o quiere finalizar la compra? Ingresa 'c' para continuar o 'f' para finalizar: \").lower()\n",
    "                if option in ['c', 'f']:\n",
    "                    break\n",
    "                else:\n",
    "                    print(\"Opción no válida.\")\n",
    "            \n",
    "            if option == 'f' and total_amount > 0: # Aquí pongo doble condición para no pasar al pago a un cliente que no compró nada.\n",
    "                print(f\"Muchas gracias por ser nuestro cliente, el valor total de la compra es: {total_amount}€. Usted será transferido a la plataforma de pago.\")\n",
    "                payment_confirmed = self.process_payment(total_amount)\n",
    "                if payment_confirmed:\n",
    "                    name = input(\"Cómo se llama usted? \")\n",
    "                    self.__register_purchase(name, cart, total_amount) # Llamada al método privado que solo se usa dentro de la clase\n",
    "                    return \n",
    "                else:\n",
    "                    print(f\"No ha sido posible realizar el pago, por favor contacta con el departamento de atención al cliente.\")\n",
    "                    break\n",
    "            elif option == 'f':\n",
    "                print(\"Gracias por visitar nuestra tienda, ¡vuelve pronto!\") # Para el cliente que miró para comprar algo pero no compró nada o intentó comprar algo que no hay en el inventario.\n",
    "                break\n",
    "\n",
    "\n",
    "    def process_payment(self, total_amount): \n",
    "        try:\n",
    "            # total_amount = float(input(\"Ingresa la cantidad total: \")) >> Así sería si hubiera cumplido con el enunciado y no hubiera pasado la variable por parámetro\n",
    "            payment_amount = float(input(\"Ingresa la cantidad de pago: \"))\n",
    "            # Verifica si el pago es exacto, si hay cambio o si el monto de pago no es suficiente\n",
    "            if payment_amount == total_amount:\n",
    "                print(f\"El pago del importe {total_amount}€ se ha realizado correctamente. ¡Gracias de nuevo y hasta pronto!\")\n",
    "                return True           \n",
    "            elif payment_amount > total_amount:\n",
    "                change = payment_amount - total_amount\n",
    "                print(f\"El pago del importe {total_amount}€ se ha realizado correctamente, el cambio es de: {change}€. ¡Gracias de nuevo y hasta pronto!\")\n",
    "                return True\n",
    "            else:\n",
    "                print(f\"Error: El monto de pago es insuficiente.\")\n",
    "                return False    \n",
    "        except ValueError as e: \n",
    "            print(f\"El valor ingresado no es válido, vuelve a intentarlo.\")\n",
    "            return e\n",
    "        \n",
    "\n",
    "    def add_customer(self, name, email):\n",
    "        # Comprobar si el correo electrónico es válido usando Regex\n",
    "        if not re.match(r\"[^@]+@[^@]+\\.[^@]+\", email):\n",
    "            print(\"Correo electrónico inválido. Por favor, introduce un correo electrónico válido.\")\n",
    "            return False\n",
    "\n",
    "        # Itera a través del registro de clientes para ver si el cliente ya existe\n",
    "        if name in self.customers:\n",
    "            print(f\"El cliente {name} ya existe en el registro de clientes.\")\n",
    "            return True\n",
    "\n",
    "        # Si el cliente no existe, agrega el cliente al registro de clientes\n",
    "        self.customers[name] = {'email': email, 'purchases': {}}\n",
    "        print(f\"El cliente '{name}' ha sido agregado correctamente.\")\n",
    "        return True\n",
    "\n",
    "\n",
    "    def view_customers(self):\n",
    "        # Comprobamos si hay clientes registrados\n",
    "        if self.customers:\n",
    "            for client, details in self.customers.items():\n",
    "                print(f\"Nombre: {client} - Correo electrónico: {details['email']}\")\n",
    "            return\n",
    "        else:\n",
    "            print(\"Nuestra tienda acaba de inaugurar y aún no tenemos clientes registrados.\")\n",
    "\n",
    "  \n",
    "    def __register_purchase(self, customer_name, cart, total_amount): # El doble guión bajo representa el método privado, que no debe ser llamado desde fuera de la clase\n",
    "        # Si el cliente no está registrado en el registro de clientes\n",
    "        if customer_name not in self.customers:\n",
    "            print(f\"El cliente {customer_name} no está registrado en nuestra tienda.\")\n",
    "            # Hay la opción de registrar \n",
    "            register = input(\"Ingresa 'r' para registrar el cliente o 's' para salir: \").lower()\n",
    "            if register == 'r':\n",
    "                name = customer_name # No volver a pedir el nombre del cliente otra vez. \n",
    "                email = input(\"Ingresa tu correo electrónico: \") # Se valida en el método add_customer\n",
    "                self.add_customer(name, email)\n",
    "            else:\n",
    "                # Si el cliente no está registrado, no es posible registrar la compra\n",
    "                print(\"No ha sido posible registrar la compra: Cliente no registrado.\")\n",
    "                print(\"Por favor registra el cliente e intenta nuevamente.\")\n",
    "                return\n",
    "\n",
    "        if customer_name in self.customers: # Si el cliente está registrado\n",
    "            for item, details in cart.items(): # Iterar por el carrito de la compra\n",
    "                if item in self.customers[customer_name]['purchases']: # Ver si el producto está en las compras del cliente \n",
    "                    self.customers[customer_name]['purchases'][item]['quantity'] += details['quantity'] # Si está, accedemos a la cantidad del producto en el registro del cliente via las claves de los diccionarios anidados y sumamos la nueva cantidad que está en el carrito\n",
    "                else:\n",
    "                    self.customers[customer_name]['purchases'][item] = details # Si no existe el producto, me lo añades en lugar de sumar la cantidad a uno ya existente\n",
    "            \n",
    "            self.customers[customer_name]['purchases']['total_amount'] = total_amount # Añadimos al registro de compras del cliente el valor total de la compra\n",
    "            print(f\"Compra registrada exitosamente para el cliente {customer_name}.\")\n",
    "            print(f\"El valor total de la compra de {customer_name} es de {total_amount}€ y ha sido registrado exitosamente.\")\n",
    "\n",
    "\n",
    "    def view_customer_purchases(self, customer_name):\n",
    "        # Verifica si el cliente está registrado\n",
    "        if customer_name in self.customers:\n",
    "            print(f\"Las compras del cliente {customer_name} son:\")\n",
    "            client_total_amount = 0\n",
    "            # Itera a través del registro de clientes para acceder a las compras\n",
    "            for item, details in self.customers[customer_name]['purchases'].items(): # Estamos iterando sobre este ejemplo: dict_items([('camisa', {'price': 20, 'quantity': 1}), ('pantalón', {'price': 30, 'quantity': 2}), ('total_amount', 80)])          \n",
    "                if not item == 'total_amount': # Filtramos los items que no son el total amount\n",
    "                    total_value_product = details['price'] * details['quantity'] # Calculamos el importe total por producto\n",
    "                    client_total_amount += total_value_product\n",
    "                    print(f\"Producto: {item} - Precio: {details['price']}€ - Cantidad: {details['quantity']} - Valor total por producto: {total_value_product}€\")\n",
    "                else:\n",
    "                    print(f\"Valor total de la última compra: {details}\") # Imprmir el valor total de la compra mas reciente (item = 'total_amount', details = 80)\n",
    "                    print(f\"Valor total de todas las compras: {client_total_amount}€\") \n",
    "            \n",
    "            return True if client_total_amount != 0 else f\"Ninguna. El cliente está registrado pero no hizo compras.\"\n",
    "        else:\n",
    "            print(f\"El cliente {customer_name} no está registrado.\")\n",
    "            return False\n",
    "\n",
    "\n",
    "    def calculate_total_sales(self):\n",
    "        for _, details in self.customers.items(): # Iterar a través de los detalles de los clientes\n",
    "            for item, purchase_details in details['purchases'].items(): # Iterar a través de los detalles de la compra\n",
    "                if item != 'total_amount': # Filtrar el 'total_amount'\n",
    "                    self.total_sales += purchase_details['price'] * purchase_details['quantity'] # Atributo de la clase\n",
    "        return f\"El valor total de las ventas es de {self.total_sales}€.\"\n",
    "\n"
   ]
  },
  {
   "cell_type": "code",
   "execution_count": 1028,
   "metadata": {},
   "outputs": [],
   "source": [
    "# Instanciar el objeto \n",
    "my_store = OnlineStore()"
   ]
  },
  {
   "cell_type": "code",
   "execution_count": 1029,
   "metadata": {},
   "outputs": [
    {
     "data": {
      "text/plain": [
       "[]"
      ]
     },
     "execution_count": 1029,
     "metadata": {},
     "output_type": "execute_result"
    }
   ],
   "source": [
    "# Atributo inventario \n",
    "my_store.inventory"
   ]
  },
  {
   "cell_type": "code",
   "execution_count": 1030,
   "metadata": {},
   "outputs": [
    {
     "name": "stdout",
     "output_type": "stream",
     "text": [
      "El producto 'pantalón' ha sido agregado correctamente.\n",
      "El producto 'chanclas' ha sido agregado correctamente.\n"
     ]
    }
   ],
   "source": [
    "# Agregar un producto\n",
    "my_store.add_product(\"pantalón\", 30, 5)\n",
    "# Agregar otro producto\n",
    "my_store.add_product(\"chanclas\", 15, 5)"
   ]
  },
  {
   "cell_type": "code",
   "execution_count": 1031,
   "metadata": {},
   "outputs": [
    {
     "data": {
      "text/plain": [
       "[{'name': 'pantalón', 'price': 30, 'quantity': 5},\n",
       " {'name': 'chanclas', 'price': 15, 'quantity': 5}]"
      ]
     },
     "execution_count": 1031,
     "metadata": {},
     "output_type": "execute_result"
    }
   ],
   "source": [
    "# Atributo inventario\n",
    "my_store.inventory"
   ]
  },
  {
   "cell_type": "code",
   "execution_count": 1032,
   "metadata": {},
   "outputs": [
    {
     "name": "stdout",
     "output_type": "stream",
     "text": [
      "Nombre: pantalón, Precio: $30, Cantidad: 5\n",
      "Nombre: chanclas, Precio: $15, Cantidad: 5\n"
     ]
    }
   ],
   "source": [
    "# Ver inventario\n",
    "my_store.view_inventory()"
   ]
  },
  {
   "cell_type": "code",
   "execution_count": 1033,
   "metadata": {},
   "outputs": [
    {
     "name": "stdout",
     "output_type": "stream",
     "text": [
      "Nombre: chanclas, Precio: $15, Cantidad: 5\n",
      "El producto con nombre 'falda' no se encuentra en el inventario.\n"
     ]
    }
   ],
   "source": [
    "# Buscar producto por nombre\n",
    "print(my_store.search_product(\"chanclas\"))\n",
    "# Buscar producto que no existe >> Retorna None\n",
    "my_store.search_product(\"falda\")"
   ]
  },
  {
   "cell_type": "code",
   "execution_count": 1034,
   "metadata": {},
   "outputs": [
    {
     "name": "stdout",
     "output_type": "stream",
     "text": [
      "El producto con nombre 'pantalón' ha sido actualizado correctamente.\n"
     ]
    },
    {
     "data": {
      "text/plain": [
       "{'name': 'pantalón', 'price': 30, 'quantity': 15}"
      ]
     },
     "execution_count": 1034,
     "metadata": {},
     "output_type": "execute_result"
    }
   ],
   "source": [
    "# Actualizar inventario \n",
    "my_store.update_stock(\"pantalón\", 10)"
   ]
  },
  {
   "cell_type": "code",
   "execution_count": 1035,
   "metadata": {},
   "outputs": [
    {
     "name": "stdout",
     "output_type": "stream",
     "text": [
      "El producto con nombre 'pantalón' ha sido actualizado correctamente.\n"
     ]
    },
    {
     "data": {
      "text/plain": [
       "{'name': 'pantalón', 'price': 30, 'quantity': 10}"
      ]
     },
     "execution_count": 1035,
     "metadata": {},
     "output_type": "execute_result"
    }
   ],
   "source": [
    "# Actualizar inventario \n",
    "my_store.update_stock(\"pantalón\", -5)"
   ]
  },
  {
   "cell_type": "code",
   "execution_count": 1036,
   "metadata": {},
   "outputs": [
    {
     "name": "stdout",
     "output_type": "stream",
     "text": [
      "Nombre: pantalón, Precio: $30, Cantidad: 10\n",
      "Nombre: chanclas, Precio: $15, Cantidad: 5\n"
     ]
    }
   ],
   "source": [
    "# Ver inventario\n",
    "my_store.view_inventory()"
   ]
  },
  {
   "cell_type": "code",
   "execution_count": 1037,
   "metadata": {},
   "outputs": [
    {
     "name": "stdout",
     "output_type": "stream",
     "text": [
      "El producto con nombre 'falda' no se encuentra en el inventario.\n"
     ]
    }
   ],
   "source": [
    "# Actualizar inventario con producto que no existe\n",
    "my_store.update_stock(\"falda\", 10)"
   ]
  },
  {
   "cell_type": "code",
   "execution_count": 1038,
   "metadata": {},
   "outputs": [
    {
     "data": {
      "text/plain": [
       "\"El producto 'chanclas' ha sido eliminado correctamente.\""
      ]
     },
     "execution_count": 1038,
     "metadata": {},
     "output_type": "execute_result"
    }
   ],
   "source": [
    "# Remover producto\n",
    "my_store.remove_product(\"chanclas\")"
   ]
  },
  {
   "cell_type": "code",
   "execution_count": 1039,
   "metadata": {},
   "outputs": [
    {
     "name": "stdout",
     "output_type": "stream",
     "text": [
      "El producto 'camisa' ha sido agregado correctamente.\n"
     ]
    }
   ],
   "source": [
    "# Agregar otro producto\n",
    "my_store.add_product(\"camisa\", 20, 8)"
   ]
  },
  {
   "cell_type": "code",
   "execution_count": 1040,
   "metadata": {},
   "outputs": [
    {
     "name": "stdout",
     "output_type": "stream",
     "text": [
      "Nombre: pantalón, Precio: $30, Cantidad: 10\n",
      "Nombre: camisa, Precio: $20, Cantidad: 8\n"
     ]
    }
   ],
   "source": [
    "# Ver inventario\n",
    "my_store.view_inventory()"
   ]
  },
  {
   "cell_type": "code",
   "execution_count": 1041,
   "metadata": {},
   "outputs": [
    {
     "name": "stdout",
     "output_type": "stream",
     "text": [
      "El producto con nombre 'gafas' no se encuentra en el inventario.\n"
     ]
    }
   ],
   "source": [
    "# Remover producto que no existe\n",
    "my_store.remove_product(\"gafas\")"
   ]
  },
  {
   "cell_type": "code",
   "execution_count": 1042,
   "metadata": {},
   "outputs": [
    {
     "data": {
      "text/plain": [
       "'El valor total del inventario es de 460€.'"
      ]
     },
     "execution_count": 1042,
     "metadata": {},
     "output_type": "execute_result"
    }
   ],
   "source": [
    "# Calcular el valor total del inventario\n",
    "my_store.calculate_inventory_value()"
   ]
  },
  {
   "cell_type": "code",
   "execution_count": 1043,
   "metadata": {},
   "outputs": [
    {
     "name": "stdout",
     "output_type": "stream",
     "text": [
      "Nuestra tienda acaba de inaugurar y aún no tenemos clientes registrados.\n"
     ]
    }
   ],
   "source": [
    "# Probando método view_customers sin tener clientes registrados\n",
    "my_store.view_customers()"
   ]
  },
  {
   "cell_type": "code",
   "execution_count": 1044,
   "metadata": {},
   "outputs": [
    {
     "name": "stdout",
     "output_type": "stream",
     "text": [
      "Tenemos en nuestro inventario los productos:\n",
      "pantalón - Precio: 30€ - Cantidad: 10\n",
      "camisa - Precio: 20€ - Cantidad: 8\n",
      "El producto camisa con la cantidad 1 ha sido agregado al carrito correctamente.\n",
      "Tenemos en nuestro inventario los productos:\n",
      "pantalón - Precio: 30€ - Cantidad: 10\n",
      "camisa - Precio: 20€ - Cantidad: 7\n",
      "El producto pantalón con la cantidad 1 ha sido agregado al carrito correctamente.\n",
      "Muchas gracias por ser nuestro cliente, el valor total de la compra es: 50€. Usted será transferido a la plataforma de pago.\n",
      "El pago del importe 50€ se ha realizado correctamente. ¡Gracias de nuevo y hasta pronto!\n",
      "El cliente MariCarmen no está registrado en nuestra tienda.\n",
      "El cliente 'MariCarmen' ha sido agregado correctamente.\n",
      "Compra registrada exitosamente para el cliente MariCarmen.\n",
      "El valor total de la compra de MariCarmen es de 50€ y ha sido registrado exitosamente.\n"
     ]
    }
   ],
   "source": [
    "# Realizar compra\n",
    "my_store.make_purchase()"
   ]
  },
  {
   "cell_type": "code",
   "execution_count": 1045,
   "metadata": {},
   "outputs": [
    {
     "name": "stdout",
     "output_type": "stream",
     "text": [
      "Nombre: pantalón, Precio: $30, Cantidad: 9\n",
      "Nombre: camisa, Precio: $20, Cantidad: 7\n"
     ]
    }
   ],
   "source": [
    "# Ver inventario\n",
    "my_store.view_inventory()"
   ]
  },
  {
   "cell_type": "code",
   "execution_count": 1046,
   "metadata": {},
   "outputs": [
    {
     "data": {
      "text/plain": [
       "'El valor total del inventario es de 410€.'"
      ]
     },
     "execution_count": 1046,
     "metadata": {},
     "output_type": "execute_result"
    }
   ],
   "source": [
    "# Calcular el valor total del inventario\n",
    "my_store.calculate_inventory_value()"
   ]
  },
  {
   "cell_type": "code",
   "execution_count": 1047,
   "metadata": {},
   "outputs": [
    {
     "name": "stdout",
     "output_type": "stream",
     "text": [
      "Error: El monto de pago es insuficiente.\n"
     ]
    },
    {
     "data": {
      "text/plain": [
       "False"
      ]
     },
     "execution_count": 1047,
     "metadata": {},
     "output_type": "execute_result"
    }
   ],
   "source": [
    "# Procesar Pago - Monto inferior\n",
    "my_store.process_payment(70)"
   ]
  },
  {
   "cell_type": "code",
   "execution_count": 1048,
   "metadata": {},
   "outputs": [
    {
     "name": "stdout",
     "output_type": "stream",
     "text": [
      "El pago del importe 70€ se ha realizado correctamente, el cambio es de: 30.0€. ¡Gracias de nuevo y hasta pronto!\n"
     ]
    },
    {
     "data": {
      "text/plain": [
       "True"
      ]
     },
     "execution_count": 1048,
     "metadata": {},
     "output_type": "execute_result"
    }
   ],
   "source": [
    "# Procesar Pago recibir cambio\n",
    "my_store.process_payment(70)"
   ]
  },
  {
   "cell_type": "code",
   "execution_count": 1049,
   "metadata": {},
   "outputs": [
    {
     "name": "stdout",
     "output_type": "stream",
     "text": [
      "El valor ingresado no es válido, vuelve a intentarlo.\n"
     ]
    },
    {
     "data": {
      "text/plain": [
       "ValueError(\"could not convert string to float: 'm'\")"
      ]
     },
     "execution_count": 1049,
     "metadata": {},
     "output_type": "execute_result"
    }
   ],
   "source": [
    "# Procesar Pago valor no valido - excepción capturada\n",
    "my_store.process_payment(70)"
   ]
  },
  {
   "cell_type": "code",
   "execution_count": 1050,
   "metadata": {},
   "outputs": [
    {
     "name": "stdout",
     "output_type": "stream",
     "text": [
      "El cliente 'Paco' ha sido agregado correctamente.\n"
     ]
    },
    {
     "data": {
      "text/plain": [
       "True"
      ]
     },
     "execution_count": 1050,
     "metadata": {},
     "output_type": "execute_result"
    }
   ],
   "source": [
    "# Agregar Cliente\n",
    "my_store.add_customer(\"Paco\", \"pakito@adalab.com\")"
   ]
  },
  {
   "cell_type": "code",
   "execution_count": 1051,
   "metadata": {},
   "outputs": [
    {
     "name": "stdout",
     "output_type": "stream",
     "text": [
      "El cliente MariCarmen ya existe en el registro de clientes.\n"
     ]
    },
    {
     "data": {
      "text/plain": [
       "True"
      ]
     },
     "execution_count": 1051,
     "metadata": {},
     "output_type": "execute_result"
    }
   ],
   "source": [
    "# Agregar cliente que ya existe\n",
    "my_store.add_customer(\"MariCarmen\", \"marikita@adalab.com\")"
   ]
  },
  {
   "cell_type": "code",
   "execution_count": 1052,
   "metadata": {},
   "outputs": [
    {
     "name": "stdout",
     "output_type": "stream",
     "text": [
      "Nombre: MariCarmen - Correo electrónico: marikita@adalab.com\n",
      "Nombre: Paco - Correo electrónico: pakito@adalab.com\n"
     ]
    }
   ],
   "source": [
    "# Ver clientes\n",
    "my_store.view_customers()"
   ]
  },
  {
   "cell_type": "code",
   "execution_count": 1053,
   "metadata": {},
   "outputs": [
    {
     "name": "stdout",
     "output_type": "stream",
     "text": [
      "Las compras del cliente MariCarmen son:\n",
      "Producto: camisa - Precio: 20€ - Cantidad: 1 - Valor total por producto: 20€\n",
      "Producto: pantalón - Precio: 30€ - Cantidad: 1 - Valor total por producto: 30€\n",
      "Valor total de la última compra: 50\n",
      "Valor total de todas las compras: 50€\n"
     ]
    },
    {
     "data": {
      "text/plain": [
       "True"
      ]
     },
     "execution_count": 1053,
     "metadata": {},
     "output_type": "execute_result"
    }
   ],
   "source": [
    "# Ver compras cliente\n",
    "my_store.view_customer_purchases(\"MariCarmen\")"
   ]
  },
  {
   "cell_type": "code",
   "execution_count": 1054,
   "metadata": {},
   "outputs": [
    {
     "name": "stdout",
     "output_type": "stream",
     "text": [
      "Tenemos en nuestro inventario los productos:\n",
      "pantalón - Precio: 30€ - Cantidad: 9\n",
      "camisa - Precio: 20€ - Cantidad: 7\n",
      "El producto camisa con la cantidad 2 ha sido agregado al carrito correctamente.\n",
      "Tenemos en nuestro inventario los productos:\n",
      "pantalón - Precio: 30€ - Cantidad: 9\n",
      "camisa - Precio: 20€ - Cantidad: 5\n",
      "El producto pantalón con la cantidad 2 ha sido agregado al carrito correctamente.\n",
      "Muchas gracias por ser nuestro cliente, el valor total de la compra es: 100€. Usted será transferido a la plataforma de pago.\n",
      "El pago del importe 100€ se ha realizado correctamente, el cambio es de: 30.0€. ¡Gracias de nuevo y hasta pronto!\n",
      "Compra registrada exitosamente para el cliente MariCarmen.\n",
      "El valor total de la compra de MariCarmen es de 100€ y ha sido registrado exitosamente.\n"
     ]
    }
   ],
   "source": [
    "# El mismo cliente realiza otra compra\n",
    "my_store.make_purchase()"
   ]
  },
  {
   "cell_type": "code",
   "execution_count": 1055,
   "metadata": {},
   "outputs": [
    {
     "name": "stdout",
     "output_type": "stream",
     "text": [
      "Las compras del cliente Paco son:\n"
     ]
    },
    {
     "data": {
      "text/plain": [
       "'Ninguna. El cliente está registrado pero no hizo compras.'"
      ]
     },
     "execution_count": 1055,
     "metadata": {},
     "output_type": "execute_result"
    }
   ],
   "source": [
    "# Ver compras cliente registrado sin compras\n",
    "my_store.view_customer_purchases(\"Paco\")"
   ]
  },
  {
   "cell_type": "code",
   "execution_count": 1056,
   "metadata": {},
   "outputs": [
    {
     "data": {
      "text/plain": [
       "'El valor total de las ventas es de 150€.'"
      ]
     },
     "execution_count": 1056,
     "metadata": {},
     "output_type": "execute_result"
    }
   ],
   "source": [
    "# Calcular ventas totales\n",
    "my_store.calculate_total_sales()"
   ]
  },
  {
   "cell_type": "code",
   "execution_count": 1057,
   "metadata": {},
   "outputs": [
    {
     "name": "stdout",
     "output_type": "stream",
     "text": [
      "Tenemos en nuestro inventario los productos:\n",
      "pantalón - Precio: 30€ - Cantidad: 7\n",
      "camisa - Precio: 20€ - Cantidad: 5\n",
      "El producto con nombre 'gafas' no se encuentra en el inventario.\n",
      "Gracias por visitar nuestra tienda, ¡vuelve pronto!\n"
     ]
    }
   ],
   "source": [
    "# Realizar la compra de un producto que no existe en el inventario\n",
    "my_store.make_purchase()"
   ]
  }
 ],
 "metadata": {
  "kernelspec": {
   "display_name": "base",
   "language": "python",
   "name": "python3"
  },
  "language_info": {
   "codemirror_mode": {
    "name": "ipython",
    "version": 3
   },
   "file_extension": ".py",
   "mimetype": "text/x-python",
   "name": "python",
   "nbconvert_exporter": "python",
   "pygments_lexer": "ipython3",
   "version": "3.11.9"
  }
 },
 "nbformat": 4,
 "nbformat_minor": 2
}

{
 "cells": [
  {
   "cell_type": "markdown",
   "metadata": {},
   "source": [
    "# Evaluación Intermedia Módulo 1"
   ]
  },
  {
   "cell_type": "markdown",
   "metadata": {},
   "source": [
    "# Parte 1: Strings"
   ]
  },
  {
   "cell_type": "code",
   "execution_count": 146,
   "metadata": {},
   "outputs": [
    {
     "name": "stdout",
     "output_type": "stream",
     "text": [
      "La letra aparece 0 veces en la cadena.\n"
     ]
    }
   ],
   "source": [
    "# 1. Dada una cadena de texto, contar cuántas veces aparece una letra específica en ella. Usa un input para que el usuario elija la letra a buscar.\n",
    "cadena = \"Python es un lenguaje de programación muy popular\"\n",
    "letra = input(\"Dime una letra: \").lower()\n",
    "\n",
    "# if letra.isdigit() == True:\n",
    "#     print(\"Valor no válido, inténtalo de nuevo.\")\n",
    "# else:\n",
    "#     if letra in cadena.lower():\n",
    "#         print(f\"La letra aparece {cadena.count(letra)} veces en la cadena.\")\n",
    "#     else:\n",
    "#         print(\"La letra no está en la cadena, inténtalo de nuevo.\")\n",
    "\n",
    "print(f\"La letra aparece {cadena.lower().count(letra)} veces en la cadena.\")\n"
   ]
  },
  {
   "cell_type": "code",
   "execution_count": 17,
   "metadata": {},
   "outputs": [
    {
     "name": "stdout",
     "output_type": "stream",
     "text": [
      "La nueva cadena es: *** Python Es Genial. Python Es Popopopop De Aprender. ***\n"
     ]
    }
   ],
   "source": [
    "# 2. Escribe un programa que tome la siguiente cadena de texto y reemplace una palabra específica por otra palabra. La palabra a reemplazar y reemplazada deben ser elegidas por el usuario. \n",
    "cadena = \"Python es genial. Python es fácil de aprender.\"\n",
    "cadena = cadena.lower()\n",
    "palabra_reemplazar = input(f\"De la cadena *** {cadena.capitalize()} *** Dime la palabra que quieres reemplazar: \").lower()\n",
    "palabra_reemplazada = input(\"Dime la palabra nueva: \").lower()\n",
    "\n",
    "if palabra_reemplazar in cadena:\n",
    "    cadena_nueva = cadena.replace(palabra_reemplazar, palabra_reemplazada)\n",
    "    print(f\"La nueva cadena es: *** {cadena_nueva.title()} ***\")\n",
    "else:\n",
    "    print(\"La palabra no está en la cadena, inténtalo de nuevo.\")\n"
   ]
  },
  {
   "cell_type": "code",
   "execution_count": 147,
   "metadata": {},
   "outputs": [
    {
     "name": "stdout",
     "output_type": "stream",
     "text": [
      "['Esto', 'es', 'una', 'oración', 'de', 'ejemplo']\n",
      "Esto es una oración de ejemplo\n"
     ]
    }
   ],
   "source": [
    "# 3. Toma la siguiente oración y divídela en una lista de palabras. Luego, únelas nuevamente en una sola cadena de texto. \n",
    "oracion = \"Esto es una oración de ejemplo\"\n",
    "oracion_sep = oracion.split(\" \")\n",
    "print(oracion_sep)\n",
    "oracion_unida = \" \".join(oracion_sep)\n",
    "print(oracion_unida)"
   ]
  },
  {
   "cell_type": "code",
   "execution_count": 26,
   "metadata": {},
   "outputs": [
    {
     "name": "stdout",
     "output_type": "stream",
     "text": [
      "Hay 7 palabras en la cadena.\n"
     ]
    }
   ],
   "source": [
    "# 4. Desarrolla un programa que cuente cuántas palabras hay en la siguiente frase. \n",
    "cadena = \"Esta es una cadena con cinco palabras\"\n",
    "cadena_sep = cadena.split(\" \")\n",
    "print(f\"Hay {len(cadena_sep)} palabras en la cadena.\")"
   ]
  },
  {
   "cell_type": "code",
   "execution_count": 30,
   "metadata": {},
   "outputs": [
    {
     "name": "stdout",
     "output_type": "stream",
     "text": [
      "La cadena al revés es: estas como hola.\n"
     ]
    }
   ],
   "source": [
    "# 5. Escribe un programa que invierta una cadena de texto dada por un usuario. Mira el siguiente ejemplo para entender lo que se pide: \n",
    "   # input  \"Hola buenos dias\"  # output   \"dias buenos Hola\"\n",
    "\n",
    "cadena_user = input(\"Dime una cadena: \")\n",
    "lista_cadena = cadena_user.split(\" \")\n",
    "lista_cadena.reverse()\n",
    "print(f\"La cadena al revés es: {' '.join(lista_cadena)}.\")\n",
    "\n",
    "# invertida = cadena_user[::-1] solución interesante."
   ]
  },
  {
   "cell_type": "code",
   "execution_count": 35,
   "metadata": {},
   "outputs": [
    {
     "name": "stdout",
     "output_type": "stream",
     "text": [
      "La palabra no está en la cadena, inténtalo de nuevo.\n"
     ]
    }
   ],
   "source": [
    "# 6. Crea un programa que busque una palabra específica(elegida por la usuaria) en una cadena de texto e indique su posición. \n",
    "cadena_texto = input(\"Dime una cadena de texto: \")\n",
    "palabra = input(\"Dime una palabra: \")\n",
    "\n",
    "if palabra in cadena_texto:\n",
    "    lista_cadena = cadena_texto.split(\" \")\n",
    "    posicion = lista_cadena.index(palabra)\n",
    "    print(f\"La posicion de la palabra en la cadena es: {posicion + 1}.\")\n",
    "else:\n",
    "    print(\"La palabra no está en la cadena, inténtalo de nuevo.\")"
   ]
  },
  {
   "cell_type": "markdown",
   "metadata": {},
   "source": [
    "# Parte 2: Listas"
   ]
  },
  {
   "cell_type": "code",
   "execution_count": 41,
   "metadata": {},
   "outputs": [
    {
     "name": "stdout",
     "output_type": "stream",
     "text": [
      "['manzana', 'durazno', 'banana', 'uva', 'kiwi']\n",
      "['manzana', 'durazno', 'banana', 'uva', 'kiwi', 'naranja']\n",
      "El tercer elemento de la lista es: banana.\n"
     ]
    }
   ],
   "source": [
    "# 1. Dada la siguiente lista: frutas = ['manzana', 'pera', 'banana', 'uva', 'kiwi'], realiza \n",
    "# lo siguiente: \n",
    "#   a) Reemplaza el segundo elemento con 'durazno'. \n",
    "frutas = ['manzana', 'pera', 'banana', 'uva', 'kiwi']\n",
    "frutas[1] = \"durazno\"\n",
    "print(frutas)\n",
    "\n",
    "#   b) Agrega 'naranja' al final de la lista. \n",
    "frutas.append(\"naranja\")\n",
    "print(frutas)\n",
    "\n",
    "#   c) Extrae y muestra por pantalla el tercer elemento de la lista.\n",
    "print(f\"El tercer elemento de la lista es: {frutas.pop(2)}.\")"
   ]
  },
  {
   "cell_type": "code",
   "execution_count": 46,
   "metadata": {},
   "outputs": [],
   "source": [
    "# 2. Crea una lista llamada numeros que contenga los siguientes valores: 10, 25, 15, 30, 20. \n",
    "numeros = [10, 25, 15, 30, 20]"
   ]
  },
  {
   "cell_type": "code",
   "execution_count": 43,
   "metadata": {},
   "outputs": [
    {
     "data": {
      "text/plain": [
       "[35, 10, 25, 15, 30, 20]"
      ]
     },
     "execution_count": 43,
     "metadata": {},
     "output_type": "execute_result"
    }
   ],
   "source": [
    "# 3. Agrega el valor 35 al incio de la lista numeros. \n",
    "numeros.insert(0, 35)\n",
    "numeros"
   ]
  },
  {
   "cell_type": "code",
   "execution_count": 44,
   "metadata": {},
   "outputs": [
    {
     "data": {
      "text/plain": [
       "[10, 15, 20, 25, 30, 35]"
      ]
     },
     "execution_count": 44,
     "metadata": {},
     "output_type": "execute_result"
    }
   ],
   "source": [
    "# 4. Ordena la lista numeros en orden ascendente. \n",
    "numeros.sort()\n",
    "numeros"
   ]
  },
  {
   "cell_type": "code",
   "execution_count": 47,
   "metadata": {},
   "outputs": [
    {
     "data": {
      "text/plain": [
       "[10, 25, 15, 30, 20, 45, 22, 19, 38, 29]"
      ]
     },
     "execution_count": 47,
     "metadata": {},
     "output_type": "execute_result"
    }
   ],
   "source": [
    "# 5. Dada la siguiente lista numeros2 = [45, 22, 19, 38, 29]. Crea una nueva lista llamada numeros3 donde tengamos la unión de los todos los elementos de las dos listas (numeros y \n",
    "# numeros2) de tal forma que el resultado final sea: numeros3 = [10, 25, 15, 30, 20, 45, 22, 19, 38, 29] \n",
    "numeros2 = [45, 22, 19, 38, 29]\n",
    "numeros3 = numeros + numeros2\n",
    "numeros3"
   ]
  },
  {
   "cell_type": "code",
   "execution_count": 48,
   "metadata": {},
   "outputs": [
    {
     "data": {
      "text/plain": [
       "[10, 25, 15, 30, 20, 45, 22, 19, 38]"
      ]
     },
     "execution_count": 48,
     "metadata": {},
     "output_type": "execute_result"
    }
   ],
   "source": [
    "# 6. Elimina el último elemento de la lista numeros3. \n",
    "numeros3.pop()\n",
    "numeros3"
   ]
  },
  {
   "cell_type": "code",
   "execution_count": 50,
   "metadata": {},
   "outputs": [
    {
     "data": {
      "text/plain": [
       "[10, 25, 15, 20, 45, 22, 19, 38]"
      ]
     },
     "execution_count": 50,
     "metadata": {},
     "output_type": "execute_result"
    }
   ],
   "source": [
    "# 7. Elimina el número 30 de la lista numeros3.\n",
    "numeros3.remove(30)\n",
    "numeros3"
   ]
  },
  {
   "cell_type": "markdown",
   "metadata": {},
   "source": [
    "# Parte 3. Tuplas"
   ]
  },
  {
   "cell_type": "code",
   "execution_count": 51,
   "metadata": {},
   "outputs": [],
   "source": [
    "# 1. Crea una tupla llamada colores que contenga los siguientes valores: 'rojo', 'verde', 'azul', 'amarillo', 'morado'. \n",
    "colores = ('rojo', 'verde', 'azul', 'amarillo', 'morado')"
   ]
  },
  {
   "cell_type": "code",
   "execution_count": 53,
   "metadata": {},
   "outputs": [
    {
     "data": {
      "text/plain": [
       "1"
      ]
     },
     "execution_count": 53,
     "metadata": {},
     "output_type": "execute_result"
    }
   ],
   "source": [
    "# 2. Encuentra el índice de 'verde' en la tupla colores. \n",
    "colores.index(\"verde\")"
   ]
  },
  {
   "cell_type": "code",
   "execution_count": 55,
   "metadata": {},
   "outputs": [
    {
     "data": {
      "text/plain": [
       "1"
      ]
     },
     "execution_count": 55,
     "metadata": {},
     "output_type": "execute_result"
    }
   ],
   "source": [
    "# 3. ¿Cuántas veces aparece 'azul' en la tupla colores? \n",
    "colores.count(\"azul\")"
   ]
  },
  {
   "cell_type": "code",
   "execution_count": 148,
   "metadata": {},
   "outputs": [
    {
     "data": {
      "text/plain": [
       "('rojo', 'verde', 'azul', 'amarillo', 'morado', 'morado')"
      ]
     },
     "execution_count": 148,
     "metadata": {},
     "output_type": "execute_result"
    }
   ],
   "source": [
    "# 4. Añade el color \"morado\" a la tupla colores. ¿Qué ha pasado? ¿Por qué? Como podríamos añadir el elemento \"morado\".\n",
    "# Ha pasado un error porque las tuplas son inmutables. \n",
    "colores2 = list(colores)\n",
    "colores2.append(\"morado\")\n",
    "colores2 = tuple(colores2)\n",
    "colores2\n"
   ]
  },
  {
   "cell_type": "markdown",
   "metadata": {},
   "source": [
    "# Parte 4: Diccionarios "
   ]
  },
  {
   "cell_type": "code",
   "execution_count": 60,
   "metadata": {},
   "outputs": [],
   "source": [
    "# 1. Crea un diccionario llamado frutas con las siguientes parejas clave-valor: \n",
    "# o 'manzana': 2 \n",
    "# o 'banana': 3 \n",
    "# o 'uva': 5 \n",
    "# o 'pera': 4 \n",
    "frutas = {'manzana': 2,\n",
    "          'banana': 3, \n",
    "          'uva': 5, \n",
    "          'pera': 4 }"
   ]
  },
  {
   "cell_type": "code",
   "execution_count": 63,
   "metadata": {},
   "outputs": [
    {
     "name": "stdout",
     "output_type": "stream",
     "text": [
      "['manzana', 'banana', 'uva', 'pera']\n"
     ]
    }
   ],
   "source": [
    "# 2. Saca una lista de todas las frutas en el diccionario. \n",
    "lista = frutas.keys()\n",
    "print(list(lista))"
   ]
  },
  {
   "cell_type": "code",
   "execution_count": 64,
   "metadata": {},
   "outputs": [
    {
     "name": "stdout",
     "output_type": "stream",
     "text": [
      "[2, 3, 5, 4]\n"
     ]
    }
   ],
   "source": [
    "# 3. Saca una lista de todas las cantidades en el diccionario. \n",
    "lista = frutas.values()\n",
    "print(list(lista))"
   ]
  },
  {
   "cell_type": "code",
   "execution_count": 65,
   "metadata": {},
   "outputs": [
    {
     "name": "stdout",
     "output_type": "stream",
     "text": [
      "2\n"
     ]
    }
   ],
   "source": [
    "# 4. ¿Qué cantidad de 'manzana' tenemos?. Si la clave 'manzana' no está presente, devuelve un mensaje diciendo \"No existe esa clave\". \n",
    "print(frutas.setdefault(\"manzana\", \"No existe esa clave\"))"
   ]
  },
  {
   "cell_type": "code",
   "execution_count": 66,
   "metadata": {},
   "outputs": [
    {
     "data": {
      "text/plain": [
       "{'manzana': 2, 'banana': 3, 'uva': 5, 'pera': 4, 'kiwi': 6}"
      ]
     },
     "execution_count": 66,
     "metadata": {},
     "output_type": "execute_result"
    }
   ],
   "source": [
    "# 5. Agrega un nuevo par de clave-valor al diccionario frutas: 'kiwi' con una cantidad de 6. \n",
    "frutas[\"kiwi\"] = 6\n",
    "frutas"
   ]
  },
  {
   "cell_type": "code",
   "execution_count": 76,
   "metadata": {},
   "outputs": [
    {
     "data": {
      "text/plain": [
       "{'manzana': 2, 'banana': 3, 'uva': 8, 'pera': 4, 'kiwi': 6}"
      ]
     },
     "execution_count": 76,
     "metadata": {},
     "output_type": "execute_result"
    }
   ],
   "source": [
    "# 6. Cambia la cantidad de 'uva' a 8. \n",
    "frutas[\"uva\"] = 8\n",
    "frutas"
   ]
  },
  {
   "cell_type": "code",
   "execution_count": 77,
   "metadata": {},
   "outputs": [],
   "source": [
    "# 7. Crea un segundo diccionario llamado frutas_nuevas con las siguientes parejas clave-valor: \n",
    "# o 'sandía': 7 \n",
    "# o 'mango': 4 \n",
    "frutas_nuevas = {'sandía': 7, \n",
    "                 'mango': 4}"
   ]
  },
  {
   "cell_type": "code",
   "execution_count": 79,
   "metadata": {},
   "outputs": [
    {
     "name": "stdout",
     "output_type": "stream",
     "text": [
      "{'manzana': 2, 'banana': 3, 'uva': 8, 'pera': 4, 'kiwi': 6, 'sandía': 7, 'mango': 4}\n"
     ]
    }
   ],
   "source": [
    "# 8. Combinar los dos diccionarios frutas_nuevas y frutas en uno nuevos llamado frutas_total. \n",
    "frutas_total = frutas.copy()\n",
    "frutas_total.update(frutas_nuevas)\n",
    "print(frutas_total)"
   ]
  },
  {
   "cell_type": "code",
   "execution_count": 81,
   "metadata": {},
   "outputs": [
    {
     "data": {
      "text/plain": [
       "{'manzana': 2, 'banana': 3, 'uva': 8, 'pera': 4, 'kiwi': 6, 'sandía': 7}"
      ]
     },
     "execution_count": 81,
     "metadata": {},
     "output_type": "execute_result"
    }
   ],
   "source": [
    "# 9. Elimina el último par de clave-valor del diccionario fruta_total. \n",
    "frutas_total.popitem()\n",
    "frutas_total"
   ]
  },
  {
   "cell_type": "code",
   "execution_count": 82,
   "metadata": {},
   "outputs": [
    {
     "data": {
      "text/plain": [
       "{'manzana': 2, 'banana': 3, 'pera': 4, 'kiwi': 6, 'sandía': 7}"
      ]
     },
     "execution_count": 82,
     "metadata": {},
     "output_type": "execute_result"
    }
   ],
   "source": [
    "# 10.  Elimina el par de clave-valor correspondiente a la clave 'uva' del diccionario. \n",
    "frutas_total.pop(\"uva\")\n",
    "frutas_total"
   ]
  },
  {
   "cell_type": "code",
   "execution_count": 83,
   "metadata": {},
   "outputs": [
    {
     "data": {
      "text/plain": [
       "{'manzana': 2, 'banana': 3, 'pera': 4, 'kiwi': 6, 'sandía': 7}"
      ]
     },
     "execution_count": 83,
     "metadata": {},
     "output_type": "execute_result"
    }
   ],
   "source": [
    "# 11.  Agregar la fruta 'manzana' con una cantidad de 10 al diccionario. Si ya existe, no se realizarán cambios en los valores que teníamos. \n",
    "if \"manzana\" not in frutas_total:\n",
    "    frutas_total[\"manzana\"] = 10\n",
    "frutas_total"
   ]
  },
  {
   "cell_type": "code",
   "execution_count": 89,
   "metadata": {},
   "outputs": [
    {
     "name": "stdout",
     "output_type": "stream",
     "text": [
      "La suma total de las cantidades es: 22.\n",
      "La cantidade mas grande es: 7, y la mas pequeña es: 2.\n"
     ]
    }
   ],
   "source": [
    "# 12.  Combinar métodos de listas y diccionarios: \n",
    "# o Obtén una lista de todas las cantidades en el diccionario y calcula suma total de las cantidades del diccionario frutas_total. \n",
    "# o Utilizando la lista creada en el apartado anterior encuentra la cantidad más grande y más pequeña.\n",
    "lista_frutas_total = list(frutas_total.values())\n",
    "suma_total_cantidades = sum(lista_frutas_total)\n",
    "print(f\"La suma total de las cantidades es: {suma_total_cantidades}.\") \n",
    "print(f\"La cantidade mas grande es: {max(lista_frutas_total)}, y la mas pequeña es: {min(lista_frutas_total)}.\") "
   ]
  },
  {
   "cell_type": "markdown",
   "metadata": {},
   "source": [
    "# Parte 5: Métodos de Sets"
   ]
  },
  {
   "cell_type": "code",
   "execution_count": 90,
   "metadata": {},
   "outputs": [],
   "source": [
    "# 13.  Crea un set llamado conjunto1 con los números del 1 al 5. \n",
    "conjunto1 = {1, 2, 3, 4, 5}"
   ]
  },
  {
   "cell_type": "code",
   "execution_count": 91,
   "metadata": {},
   "outputs": [],
   "source": [
    "# 14.  Crea otro set llamado conjunto2 con los números del 4 al 8. \n",
    "conjunto2 = {4, 5, 6, 7, 8}"
   ]
  },
  {
   "cell_type": "code",
   "execution_count": 92,
   "metadata": {},
   "outputs": [
    {
     "data": {
      "text/plain": [
       "{1, 2, 3, 4, 5, 6, 7, 8}"
      ]
     },
     "execution_count": 92,
     "metadata": {},
     "output_type": "execute_result"
    }
   ],
   "source": [
    "# 15.  Obtén la unión de conjunto1 y conjunto2. \n",
    "union = conjunto1.union(conjunto2)\n",
    "union"
   ]
  },
  {
   "cell_type": "code",
   "execution_count": 94,
   "metadata": {},
   "outputs": [
    {
     "data": {
      "text/plain": [
       "{4, 5}"
      ]
     },
     "execution_count": 94,
     "metadata": {},
     "output_type": "execute_result"
    }
   ],
   "source": [
    "# 16.  Obtén la intersección de conjunto1 y conjunto2. \n",
    "interseccion = conjunto1.intersection(conjunto2)\n",
    "interseccion"
   ]
  },
  {
   "cell_type": "code",
   "execution_count": 95,
   "metadata": {},
   "outputs": [
    {
     "data": {
      "text/plain": [
       "{1, 2, 3}"
      ]
     },
     "execution_count": 95,
     "metadata": {},
     "output_type": "execute_result"
    }
   ],
   "source": [
    "# 17.  Obtén los elementos que están en conjunto1 pero no en el conjunto2. \n",
    "diferencia = conjunto1.difference(conjunto2)\n",
    "diferencia"
   ]
  },
  {
   "cell_type": "markdown",
   "metadata": {},
   "source": [
    "# Parte 6: Sentencias de Control "
   ]
  },
  {
   "cell_type": "code",
   "execution_count": 149,
   "metadata": {},
   "outputs": [
    {
     "name": "stdout",
     "output_type": "stream",
     "text": [
      "Eres adulto.\n"
     ]
    }
   ],
   "source": [
    "# Ejercicio 1: Evaluación de Edades: \n",
    "# o Escribe un programa que solicite al usuario ingresar su edad. \n",
    "# o Si la edad es menor de 18, muestra \"Eres menor de edad\". \n",
    "# o Si la edad está entre 18 y 65 (incluyendo ambos extremos), muestra \"Eres adulto\". \n",
    "# o Si la edad es mayor que 65, muestra \"Eres un adulto mayor\". \n",
    "edad = int(input(\"Dime una edad: \"))\n",
    "\n",
    "if 130 > edad > 0:\n",
    "    if edad < 18:\n",
    "        print(\"Eres menor de edad.\")\n",
    "    elif edad <= 65:\n",
    "        print(\"Eres adulto.\")\n",
    "    else:\n",
    "        print(\"Eres un adulto mayor.\")\n",
    "else:\n",
    "    print(\"Valor no valido, inténtalo otra vez.\")"
   ]
  },
  {
   "cell_type": "code",
   "execution_count": 122,
   "metadata": {},
   "outputs": [
    {
     "name": "stdout",
     "output_type": "stream",
     "text": [
      "El día de la semana correspondiente es: Miércoles\n"
     ]
    }
   ],
   "source": [
    "# - Ejercicio 2: Determinación de Día de la Semana \n",
    "# o Solicita al usuario que ingrese un número del 1 al 7. \n",
    "# o Utilizando una serie de if-elif-else, muestra el día de la semana correspondiente al número ingresado. Por ejemplo, si ingresa 1, muestra \"Lunes\". \n",
    "\n",
    "# dias_semana = [\"Lunes\", \"Martes\", \"Miércoles\", \"Jueves\", \"Viernes\", \"Sábado\", \"Domingo\"]\n",
    "dias_semana = input()\n",
    "user_num = int(input(\"Introduce un numero del 1 al 7: \"))\n",
    "\n",
    "if user_num in dias_semana.keys():\n",
    "    print(f\"Hoy es {dias_semana[user_num]}.\")\n",
    "else:\n",
    "    print(\"Esto no es un día\")\n",
    "\n",
    "# if user_num == 1:\n",
    "#     print(f\"El día de la semana correspondiente es: {dias_semana[0]}\")\n",
    "# elif user_num == 2:\n",
    "#     print(f\"El día de la semana correspondiente es: {dias_semana[1]}\")\n",
    "# elif user_num == 3:\n",
    "#     print(f\"El día de la semana correspondiente es: {dias_semana[2]}\")\n",
    "# elif user_num == 4:\n",
    "#     print(f\"El día de la semana correspondiente es: {dias_semana[3]}\")\n",
    "# elif user_num == 5:\n",
    "#     print(f\"El día de la semana correspondiente es: {dias_semana[4]}\")\n",
    "# elif user_num == 6:\n",
    "#     print(f\"El día de la semana correspondiente es: {dias_semana[5]}\")\n",
    "# elif user_num == 7:\n",
    "#     print(f\"El día de la semana correspondiente es: {dias_semana[6]}\")\n",
    "# else:\n",
    "#     print(\"Valor no valido, inténtalo otra vez.\")\n",
    "\n",
    "# Usar el setdefault en solo una frase?? \n"
   ]
  },
  {
   "cell_type": "code",
   "execution_count": 132,
   "metadata": {},
   "outputs": [
    {
     "name": "stdout",
     "output_type": "stream",
     "text": [
      "Valor no valido, inténtalo otra vez.\n",
      "El número es mayor, inténtalo de nuevo. Llevas 1 intento(s).\n",
      "El número es mayor, inténtalo de nuevo. Llevas 2 intento(s).\n",
      "El número es menor, inténtalo de nuevo. Llevas 3 intento(s).\n",
      "¡Ganaste! El número es: 20. Tuviste 3 intento(s).\n"
     ]
    }
   ],
   "source": [
    "# - Ejercicio 3: Juego de Adivinanza \n",
    "# o Genera un número aleatorio entre 1 y 100. \n",
    "# o Pídele al usuario que adivine el número. \n",
    "# o Si el usuario adivina correctamente en el primer intento, muestra \"¡Ganaste en el primer intento!\". \n",
    "# o Si el usuario no adivina en el primer intento, bríndale pistas (mayor o menor) y permite que intente nuevamente. Muestra cuántos intentos le llevó al final. \n",
    "import random\n",
    "num_aleatorio = random.randint(1, 100)\n",
    "num_intentos = 0\n",
    "\n",
    "while True:\n",
    "    user_num = input(\"Introduce un numero del 1 al 100 o (q) para salir: \")\n",
    "\n",
    "\n",
    "    if user_num == \"q\":\n",
    "        print(\"¡Adiós!\")\n",
    "        break\n",
    "    elif user_num != \"q\":\n",
    "        user_num = int(user_num)\n",
    "\n",
    "        if 100 >= user_num > 0:\n",
    "\n",
    "            if num_aleatorio == user_num and num_intentos == 0:\n",
    "                print(f\"¡Ganaste en el primer intento! El número es: {num_aleatorio}.\")\n",
    "                break\n",
    "            elif num_aleatorio == user_num:\n",
    "                print(f\"¡Ganaste! El número es: {num_aleatorio}. Tuviste {num_intentos} intento(s).\")\n",
    "                break\n",
    "            elif num_aleatorio > user_num:\n",
    "                num_intentos += 1\n",
    "                print(f\"El número es mayor, inténtalo de nuevo. Llevas {num_intentos} intento(s).\")\n",
    "            elif num_aleatorio < user_num:\n",
    "                num_intentos += 1\n",
    "                print(f\"El número es menor, inténtalo de nuevo. Llevas {num_intentos} intento(s).\")\n",
    "        \n",
    "        else: \n",
    "             print(\"Valor no valido, inténtalo otra vez.\")\n",
    "    \n",
    "    else:\n",
    "        print(\"Valor no valido, inténtalo otra vez.\")\n"
   ]
  },
  {
   "cell_type": "code",
   "execution_count": 1,
   "metadata": {},
   "outputs": [
    {
     "name": "stdout",
     "output_type": "stream",
     "text": [
      "\n",
      "Esta es la palabra: ****. Tienes 5 vida(s)\n",
      "\n",
      "Muy bien, de momento esta es la palabra: ***a y tienes 5 vida(s).\n",
      "\n",
      "Esta es la palabra: ***a. Tienes 5 vida(s)\n",
      "\n",
      "Muy bien, de momento esta es la palabra: *i*a y tienes 5 vida(s).\n",
      "\n",
      "Esta es la palabra: *i*a. Tienes 5 vida(s)\n",
      "\n",
      "Muy bien, de momento esta es la palabra: ni*a y tienes 5 vida(s).\n",
      "\n",
      "Esta es la palabra: ni*a. Tienes 5 vida(s)\n",
      "\n",
      "¡Enhorabuena! Ganaste, la palabra es: nika. Te quedaron 5 vida(s).\n"
     ]
    }
   ],
   "source": [
    "# - Ejercicio 4: Juego de Adivinar la Palabra \n",
    "# o Elige una palabra secreta y ocúltala utilizando asteriscos, por ejemplo, \"secreto\" se muestra como \"*******\". \n",
    "# o Permite al usuario adivinar letras una por una. \n",
    "# o Si la letra adivinada está en la palabra secreta, muestra la palabra con las letras descubiertas y los asteriscos. \n",
    "# o Si la letra no está en la palabra secreta, resta una vida al jugador. \n",
    "# o El juego continúa hasta que el jugador adivine la palabra.\n",
    "secreta = \"nika\"\n",
    "palabra_oculta = \"*\" * len(secreta)\n",
    "vidas = 5\n",
    "\n",
    "while vidas > 0:\n",
    "\n",
    "    print(f\"\\nEsta es la palabra: {palabra_oculta}. Tienes {vidas} vida(s)\\n\")\n",
    "    letra_usuario = input(\"Dime una letra: \").lower()\n",
    "\n",
    "    if letra_usuario in secreta:\n",
    "        indice_letra = secreta.index(letra_usuario)\n",
    "        palabra_oculta = palabra_oculta[:indice_letra] + letra_usuario + palabra_oculta[indice_letra+1:]\n",
    "        if \"*\" not in palabra_oculta:\n",
    "            print(f\"¡Enhorabuena! Ganaste, la palabra es: {palabra_oculta}. Te quedaron {vidas} vida(s).\")\n",
    "            break\n",
    "        else:\n",
    "            print(f\"Muy bien, de momento esta es la palabra: {palabra_oculta} y tienes {vidas} vida(s).\")\n",
    "    else:\n",
    "        vidas -= 1\n",
    "        print(f\"La letra {letra_usuario} no está en la palabra, tienes {vidas} vida(s), inténtalo de nuevo.\")\n",
    "\n",
    "else:\n",
    "    print(f\"Ya no tienes mas vidas. La palabra era: {secreta}.\")\n",
    "\n",
    "\n",
    "'''\n",
    "Otra solución usando listas:\n",
    "\n",
    "import random\n",
    "\n",
    "num_sec = random.randint(1,10)\n",
    "\n",
    "intentos = 0\n",
    "\n",
    "while True:\n",
    "\n",
    "    usuaria = input(\"adivina el num\")\n",
    "    intentos += 1\n",
    "    if usuaria.isdigit():\n",
    "        usuaria = int(usuaria)\n",
    "\n",
    "        if num_sec == usuaria:\n",
    "\n",
    "            if intentos == 1:\n",
    "                print(\"Enhorabuena, lo has adivinado a la primera\")\n",
    "                break\n",
    "            else:\n",
    "                print(f\"Enhorabuena, lo has adivinado en {intentos} intentos\")\n",
    "                break\n",
    "        else:\n",
    "            if usuaria > num_sec:\n",
    "                print(\"el número secreto es más pequeño\")\n",
    "            else:\n",
    "                print(\"el número secreto es más grande\")\n",
    "    else:\n",
    "        print(\"la opcion no es correcta\")\n",
    "    print(f\"llevas {intentos} intentos\")\n",
    "    print(\"-------------------------------\")\n",
    "\n",
    "'''\n"
   ]
  }
 ],
 "metadata": {
  "kernelspec": {
   "display_name": "base",
   "language": "python",
   "name": "python3"
  },
  "language_info": {
   "codemirror_mode": {
    "name": "ipython",
    "version": 3
   },
   "file_extension": ".py",
   "mimetype": "text/x-python",
   "name": "python",
   "nbconvert_exporter": "python",
   "pygments_lexer": "ipython3",
   "version": "3.11.7"
  }
 },
 "nbformat": 4,
 "nbformat_minor": 2
}

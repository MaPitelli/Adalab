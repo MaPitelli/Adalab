{
 "cells": [
  {
   "cell_type": "markdown",
   "metadata": {},
   "source": [
    "# Ejercicio intermedio mod-1\n",
    "\n",
    "## Strings"
   ]
  },
  {
   "cell_type": "code",
   "execution_count": 3,
   "metadata": {},
   "outputs": [
    {
     "name": "stdout",
     "output_type": "stream",
     "text": [
      "The Zen of Python, by Tim Peters\n",
      "\n",
      "Beautiful is better than ugly.\n",
      "Explicit is better than implicit.\n",
      "Simple is better than complex.\n",
      "Complex is better than complicated.\n",
      "Flat is better than nested.\n",
      "Sparse is better than dense.\n",
      "Readability counts.\n",
      "Special cases aren't special enough to break the rules.\n",
      "Although practicality beats purity.\n",
      "Errors should never pass silently.\n",
      "Unless explicitly silenced.\n",
      "In the face of ambiguity, refuse the temptation to guess.\n",
      "There should be one-- and preferably only one --obvious way to do it.\n",
      "Although that way may not be obvious at first unless you're Dutch.\n",
      "Now is better than never.\n",
      "Although never is often better than *right* now.\n",
      "If the implementation is hard to explain, it's a bad idea.\n",
      "If the implementation is easy to explain, it may be a good idea.\n",
      "Namespaces are one honking great idea -- let's do more of those!\n"
     ]
    }
   ],
   "source": [
    "import this"
   ]
  },
  {
   "cell_type": "code",
   "execution_count": null,
   "metadata": {},
   "outputs": [
    {
     "name": "stdout",
     "output_type": "stream",
     "text": [
      "Tu letra '3' aparece un total de 0 veces.\n"
     ]
    }
   ],
   "source": [
    "# 1. Dada una cadena de texto, contar cuántas veces aparece una letra específica en ella. Usa un input para que el usuario elija la letra a buscar\n",
    "\n",
    "cadena = \"Python es un lenguaje de programación muy popular\"\n",
    "\n",
    "letra = input(\"Escribe una letra por favor\")\n",
    "\n",
    "print(f\"Tu letra '{letra}' aparece un total de {cadena.count(letra)} veces.\")"
   ]
  },
  {
   "cell_type": "code",
   "execution_count": 6,
   "metadata": {},
   "outputs": [
    {
     "name": "stdout",
     "output_type": "stream",
     "text": [
      "La nueva frase cambiada es: Python es maravilloso. Python es fácil de aprender.\n"
     ]
    }
   ],
   "source": [
    "# 2. Escribe un programa que tome la siguiente cadena de texto y reemplace una palabra específica por otra palabra. La palabra a reemplazar y reemplazada deben ser elegidas por el usuario. \n",
    "cadena2 = \"Python es genial. Python es fácil de aprender.\"\n",
    "palabra = input(f\"Por favor, de la siguiente frase escoja una palabra a reemplazar: {cadena2}\")\n",
    "cambio = input(f\"Ahora diga por cual palabra desea cambiarla.\")\n",
    "nueva_cadena = cadena2.replace(palabra, cambio)\n",
    "print(f\"La nueva frase cambiada es: {nueva_cadena}\")\n",
    "\n"
   ]
  },
  {
   "cell_type": "code",
   "execution_count": 9,
   "metadata": {},
   "outputs": [
    {
     "name": "stdout",
     "output_type": "stream",
     "text": [
      "['Esto', 'es', 'una', 'oración', 'de', 'ejemplo']\n",
      "Esto😂es😂una😂oración😂de😂ejemplo\n"
     ]
    }
   ],
   "source": [
    "#3. Toma la siguiente oración y divídela en una lista de palabras. Luego, únelas nuevamente en una sola cadena de texto.\n",
    "\n",
    "oracion = \"Esto es una oración de ejemplo\"\n",
    "\n",
    "lista_palabras = oracion.split(' ')\n",
    "print(lista_palabras)\n",
    "oracion_nueva = '😂'.join(lista_palabras)\n",
    "print(oracion_nueva)"
   ]
  },
  {
   "cell_type": "code",
   "execution_count": 14,
   "metadata": {},
   "outputs": [
    {
     "name": "stdout",
     "output_type": "stream",
     "text": [
      "La frase tiene 7 palabras.\n",
      "La frase tienen 7 palabras\n"
     ]
    }
   ],
   "source": [
    "# 4. Desarrolla un programa que cuente cuántas palabras hay en la siguiente frase. \n",
    "\n",
    "cadena = \"Esta es una cadena con cinco palabras\" \n",
    "contador_palabras = len(cadena.split()) \n",
    "print(\"La frase tiene\", contador_palabras, \"palabras.\")\n",
    "print(f\"La frase tienen {contador_palabras} palabras\")\n"
   ]
  },
  {
   "cell_type": "code",
   "execution_count": 15,
   "metadata": {},
   "outputs": [
    {
     "name": "stdout",
     "output_type": "stream",
     "text": [
      "Estamos de evaluación\n",
      "['Estamos', 'de', 'evaluación']\n",
      "['evaluación', 'de', 'Estamos']\n",
      "evaluación de Estamos\n"
     ]
    }
   ],
   "source": [
    "# 5. Escribe un programa que invierta una cadena de texto dada por un usuario. Mira el siguiente ejemplo para entender lo que se pide: \n",
    "\n",
    "Frase5 = input('Dime una frase')\n",
    "print(Frase5)\n",
    "frase5_1 = Frase5.split()\n",
    "print(frase5_1)\n",
    "frase5_1.reverse()\n",
    "print(frase5_1)\n",
    "Frase5_2 = ' '.join(frase5_1)\n",
    "print(Frase5_2)\n"
   ]
  },
  {
   "cell_type": "code",
   "execution_count": 16,
   "metadata": {},
   "outputs": [
    {
     "name": "stdout",
     "output_type": "stream",
     "text": [
      "Su frase es: Estamos de evaluación \n",
      "Su frase del revés es: evaluación de Estamos \n"
     ]
    }
   ],
   "source": [
    "texto = input(\"Escribe una frase por favor\")\n",
    "texto_cadena = texto.split()\n",
    "invertida = texto_cadena[::-1]\n",
    "frase_invertida =  \" \".join(invertida)\n",
    "print(f\"Su frase es: {texto} \")\n",
    "print(f\"Su frase del revés es: {frase_invertida} \")"
   ]
  },
  {
   "cell_type": "code",
   "execution_count": 18,
   "metadata": {},
   "outputs": [
    {
     "name": "stdout",
     "output_type": "stream",
     "text": [
      "['Python', 'es', 'un', 'lenguaje', 'de', 'programación', 'muy', 'popular']\n",
      "la poscion de lenguaje es 4\n"
     ]
    }
   ],
   "source": [
    "# 6. Crea un programa que busque una palabra específica(elegida por la usuaria) en una cadena de texto e indique su posición.\n",
    "\n",
    "cadena = \"Python es un lenguaje de programación muy popular\"\n",
    "palabra_buscar = input(\"palabra de la cual quieres saber su posicion de 'Python es un lenguaje de programación muy popular'\")\n",
    "lista_cadena = cadena.split()\n",
    "print(lista_cadena)\n",
    "posicion = lista_cadena.index(palabra_buscar) + 1\n",
    "print(f\"la poscion de {palabra_buscar} es {posicion}\")"
   ]
  },
  {
   "cell_type": "code",
   "execution_count": 19,
   "metadata": {},
   "outputs": [
    {
     "name": "stdout",
     "output_type": "stream",
     "text": [
      "7\n"
     ]
    }
   ],
   "source": [
    "cadena = \"Python es un lenguaje de programación muy popular\"\n",
    "palabra_buscar = \"es\"\n",
    "print(cadena.find(palabra_buscar))\n"
   ]
  },
  {
   "cell_type": "code",
   "execution_count": null,
   "metadata": {},
   "outputs": [],
   "source": [
    "cadena_de_texto = 'hola, como estas?'\n",
    "palabra_elegida = input('elige una palabra')\n",
    "\n",
    "if palabra_elegida in cadena_de_texto:\n",
    "    print(f'palabra elegida es:{palabra_elegida}' )\n",
    "    print('la posicion es:', cadena_de_texto.find(palabra_elegida))"
   ]
  },
  {
   "cell_type": "markdown",
   "metadata": {},
   "source": [
    "## Listas"
   ]
  },
  {
   "cell_type": "markdown",
   "metadata": {},
   "source": [
    "1. Dada la siguiente lista: frutas = ['manzana', 'pera', 'banana', 'uva', 'kiwi'], realiza \n",
    "lo siguiente: \n",
    "a) Reemplaza el segundo elemento con 'durazno'. \n",
    "b) Agrega 'naranja' al final de la lista. \n",
    "c) Extrae y muestra por pantalla el tercer elemento de la lista."
   ]
  },
  {
   "cell_type": "code",
   "execution_count": 20,
   "metadata": {},
   "outputs": [
    {
     "data": {
      "text/plain": [
       "['manzana', 'durazno', 'banana', 'uva', 'kiwi']"
      ]
     },
     "execution_count": 20,
     "metadata": {},
     "output_type": "execute_result"
    }
   ],
   "source": [
    "frutas = ['manzana', 'pera', 'banana', 'uva', 'kiwi']\n",
    "\n",
    "frutas[1] = 'durazno'\n",
    "\n",
    "frutas"
   ]
  },
  {
   "cell_type": "code",
   "execution_count": 21,
   "metadata": {},
   "outputs": [
    {
     "data": {
      "text/plain": [
       "['manzana', 'durazno', 'banana', 'uva', 'kiwi', 'naranja']"
      ]
     },
     "execution_count": 21,
     "metadata": {},
     "output_type": "execute_result"
    }
   ],
   "source": [
    "frutas.append(\"naranja\")\n",
    "frutas"
   ]
  },
  {
   "cell_type": "code",
   "execution_count": 23,
   "metadata": {},
   "outputs": [
    {
     "data": {
      "text/plain": [
       "'banana'"
      ]
     },
     "execution_count": 23,
     "metadata": {},
     "output_type": "execute_result"
    }
   ],
   "source": [
    "frutas_3 =frutas[2]\n",
    "frutas_3"
   ]
  },
  {
   "cell_type": "code",
   "execution_count": 24,
   "metadata": {},
   "outputs": [
    {
     "data": {
      "text/plain": [
       "'banana'"
      ]
     },
     "execution_count": 24,
     "metadata": {},
     "output_type": "execute_result"
    }
   ],
   "source": [
    "frutas.pop(2)"
   ]
  },
  {
   "cell_type": "code",
   "execution_count": 25,
   "metadata": {},
   "outputs": [
    {
     "data": {
      "text/plain": [
       "['manzana', 'durazno', 'uva', 'kiwi', 'naranja']"
      ]
     },
     "execution_count": 25,
     "metadata": {},
     "output_type": "execute_result"
    }
   ],
   "source": [
    "frutas"
   ]
  },
  {
   "cell_type": "code",
   "execution_count": 26,
   "metadata": {},
   "outputs": [],
   "source": [
    "# 2. Crea una lista llamada numeros que contenga los siguientes valores: 10, 25, 15, 30, 20.\n",
    "numeros = [10, 25, 15, 30, 20]"
   ]
  },
  {
   "cell_type": "code",
   "execution_count": 27,
   "metadata": {},
   "outputs": [
    {
     "name": "stdout",
     "output_type": "stream",
     "text": [
      "[35, 10, 25, 15, 30, 20]\n"
     ]
    }
   ],
   "source": [
    "# 3. Agrega el valor 35 al incio de la lista numeros. \n",
    "\n",
    "numeros.insert(0, 35)\n",
    "print (numeros)"
   ]
  },
  {
   "cell_type": "code",
   "execution_count": 28,
   "metadata": {},
   "outputs": [
    {
     "name": "stdout",
     "output_type": "stream",
     "text": [
      "[10, 15, 20, 25, 30, 35]\n"
     ]
    }
   ],
   "source": [
    "# 4. Ordena la lista numeros en orden ascendente. \n",
    "numeros.sort()\n",
    "print (numeros)"
   ]
  },
  {
   "cell_type": "code",
   "execution_count": 29,
   "metadata": {},
   "outputs": [
    {
     "name": "stdout",
     "output_type": "stream",
     "text": [
      "[10, 25, 15, 30, 20, 45, 22, 19, 38, 29]\n"
     ]
    }
   ],
   "source": [
    "# 5. Dada la siguiente lista numeros2 = [45, 22, 19, 38, 29]. Crea una nueva lista llamada \n",
    "# numeros3 donde tengamos la unión de los todos los elementos de las dos listas (numeros y \n",
    "# numeros2) de tal forma que el resultado final sea: \n",
    "# numeros3 = [10, 25, 15, 30, 20, 45, 22, 19, 38, 29] \n",
    "\n",
    "numeros = [10,25,15,30,20]\n",
    "numeros2 = [45, 22, 19, 38, 29]\n",
    "numeros3 = numeros + numeros2\n",
    "print(numeros3)"
   ]
  },
  {
   "cell_type": "code",
   "execution_count": 32,
   "metadata": {},
   "outputs": [
    {
     "name": "stdout",
     "output_type": "stream",
     "text": [
      "[[10, 25, 15, 30, 20], [45, 22, 19, 38, 29]]\n"
     ]
    }
   ],
   "source": [
    "numeros_4 = [numeros,numeros2]\n",
    "print (numeros_4)"
   ]
  },
  {
   "cell_type": "code",
   "execution_count": 33,
   "metadata": {},
   "outputs": [
    {
     "data": {
      "text/plain": [
       "list"
      ]
     },
     "execution_count": 33,
     "metadata": {},
     "output_type": "execute_result"
    }
   ],
   "source": [
    "type(numeros_4)"
   ]
  },
  {
   "cell_type": "code",
   "execution_count": 34,
   "metadata": {},
   "outputs": [
    {
     "name": "stdout",
     "output_type": "stream",
     "text": [
      "[10, 25, 15, 30, 20, 45, 22, 19, 38]\n"
     ]
    }
   ],
   "source": [
    "# 6. Elimina el último elemento de la lista numeros3.\n",
    "numeros3.pop()\n",
    "print(numeros3)"
   ]
  },
  {
   "cell_type": "code",
   "execution_count": 35,
   "metadata": {},
   "outputs": [
    {
     "name": "stdout",
     "output_type": "stream",
     "text": [
      "[10, 25, 15, 20, 45, 22, 19, 38]\n"
     ]
    }
   ],
   "source": [
    "# 7. Elimina el número 30 de la lista numeros3. \n",
    "\n",
    "numeros3.remove(30)\n",
    "print(numeros3)"
   ]
  },
  {
   "cell_type": "code",
   "execution_count": 36,
   "metadata": {},
   "outputs": [
    {
     "name": "stdout",
     "output_type": "stream",
     "text": [
      "[10, 25, 15, 45, 22, 19, 38]\n"
     ]
    }
   ],
   "source": [
    "numeros3.pop(3)\n",
    "print(numeros3)"
   ]
  },
  {
   "cell_type": "code",
   "execution_count": 37,
   "metadata": {},
   "outputs": [
    {
     "name": "stdout",
     "output_type": "stream",
     "text": [
      "2\n"
     ]
    },
    {
     "data": {
      "text/plain": [
       "[10, 25, 45, 22, 19, 38]"
      ]
     },
     "execution_count": 37,
     "metadata": {},
     "output_type": "execute_result"
    }
   ],
   "source": [
    "indice_num = numeros3.index(15)\n",
    "print(indice_num)\n",
    "\n",
    "numeros3.pop(indice_num)\n",
    "numeros3"
   ]
  },
  {
   "cell_type": "markdown",
   "metadata": {},
   "source": [
    "## Tuplas"
   ]
  },
  {
   "cell_type": "code",
   "execution_count": 38,
   "metadata": {},
   "outputs": [],
   "source": [
    "# 1. Crea una tupla llamada colores que contenga los siguientes valores: 'rojo', 'verde', 'azul', 'amarillo', 'morado'. \n",
    "\n",
    "colores = ('rojo', 'verde', 'azul', 'amarillo', 'morado')"
   ]
  },
  {
   "cell_type": "code",
   "execution_count": 41,
   "metadata": {},
   "outputs": [
    {
     "name": "stdout",
     "output_type": "stream",
     "text": [
      "El índice de 'verde' es: 1 dentro de la tupla colores\n"
     ]
    }
   ],
   "source": [
    "# 2. Encuentra el índice de 'verde' en la tupla colores.\n",
    "\n",
    "indice_verde = colores.index('verde')\n",
    "print(\"El índice de 'verde' es:\", indice_verde, \"dentro de la tupla colores\")\n",
    "print(f\"El índice de 'verde' es: {indice_verde} dentro de la tupla colores\")"
   ]
  },
  {
   "cell_type": "code",
   "execution_count": 42,
   "metadata": {},
   "outputs": [
    {
     "name": "stdout",
     "output_type": "stream",
     "text": [
      "1\n"
     ]
    }
   ],
   "source": [
    "# 3. ¿Cuántas veces aparece 'azul' en la tupla colores?.\n",
    "\n",
    "print(colores.count(\"azul\"))"
   ]
  },
  {
   "cell_type": "code",
   "execution_count": 45,
   "metadata": {},
   "outputs": [
    {
     "data": {
      "text/plain": [
       "('rojo', 'verde', 'azul', 'amarillo', 'morado', 'morado')"
      ]
     },
     "execution_count": 45,
     "metadata": {},
     "output_type": "execute_result"
    }
   ],
   "source": [
    "# 4. Añade el color \"morado\" a la tupla colores. Añade el color \"morado\" a la tupla colores. ¿Qué ha pasado? ¿Por qué? Como podríamos añadir el elemento \"morado\".\n",
    "colores2 = list(colores)\n",
    "colores2.append(\"morado\")\n",
    "colores2 = tuple(colores2)\n",
    "colores2"
   ]
  },
  {
   "cell_type": "code",
   "execution_count": 47,
   "metadata": {},
   "outputs": [
    {
     "ename": "AttributeError",
     "evalue": "'tuple' object has no attribute 'append'",
     "output_type": "error",
     "traceback": [
      "\u001b[0;31m---------------------------------------------------------------------------\u001b[0m",
      "\u001b[0;31mAttributeError\u001b[0m                            Traceback (most recent call last)",
      "Input \u001b[0;32mIn [47]\u001b[0m, in \u001b[0;36m<cell line: 1>\u001b[0;34m()\u001b[0m\n\u001b[0;32m----> 1\u001b[0m \u001b[43mcolores2\u001b[49m\u001b[38;5;241;43m.\u001b[39;49m\u001b[43mappend\u001b[49m(\u001b[38;5;124m\"\u001b[39m\u001b[38;5;124mmorado\u001b[39m\u001b[38;5;124m\"\u001b[39m)\n",
      "\u001b[0;31mAttributeError\u001b[0m: 'tuple' object has no attribute 'append'"
     ]
    }
   ],
   "source": [
    "colores2.append(\"morado\")"
   ]
  },
  {
   "cell_type": "code",
   "execution_count": 46,
   "metadata": {},
   "outputs": [
    {
     "data": {
      "text/plain": [
       "tuple"
      ]
     },
     "execution_count": 46,
     "metadata": {},
     "output_type": "execute_result"
    }
   ],
   "source": [
    "type(colores2)"
   ]
  },
  {
   "cell_type": "code",
   "execution_count": 48,
   "metadata": {},
   "outputs": [
    {
     "name": "stdout",
     "output_type": "stream",
     "text": [
      "Creamos una nueva variable que contenga la tupla más el color, quedando tal que así: ('rojo', 'verde', 'azul', 'amarillo', 'morado', 'morado')\n"
     ]
    }
   ],
   "source": [
    "mas_colores = colores + ('morado',)\n",
    "print(f\"Creamos una nueva variable que contenga la tupla más el color, quedando tal que así: {mas_colores}\")"
   ]
  },
  {
   "cell_type": "markdown",
   "metadata": {},
   "source": [
    "## Parte 6: Sentencias de Control"
   ]
  },
  {
   "cell_type": "markdown",
   "metadata": {},
   "source": [
    "Ejercicio 1: Evaluación de Edades:\n",
    "\n",
    "Escribe un programa que solicite al usuario ingresar su edad.\n",
    "\n",
    "Si la edad es menor de 18, muestra \"Eres menor de edad\".\n",
    "\n",
    "Si la edad está entre 18 y 65 (incluyendo ambos extremos), muestra \"Eres adulto\".\n",
    "\n",
    "Si la edad es mayor o igual a 65, muestra \"Eres un adulto mayor\"."
   ]
  },
  {
   "cell_type": "code",
   "execution_count": 57,
   "metadata": {},
   "outputs": [],
   "source": [
    "edad = int(input(\"Dime tu edad\"))\n",
    "\n",
    "if edad < 18:\n",
    "    print(f\"Tienes {edad}, eres menor de edad\")\n",
    "\n",
    "elif 18 <= edad <= 65:\n",
    "    print(f\"Tienes {edad}, eres adulto\")\n",
    "\n",
    "else:\n",
    "    print(\"Eres adulto mayor\")\n"
   ]
  },
  {
   "cell_type": "code",
   "execution_count": 67,
   "metadata": {},
   "outputs": [
    {
     "name": "stdout",
     "output_type": "stream",
     "text": [
      "Eres adulto mayor\n"
     ]
    }
   ],
   "source": [
    "edad = int(input(\"Dime tu edad\"))\n",
    "\n",
    "if edad < 18:\n",
    "    print(f\"Tienes {edad}, eres menor de edad\")\n",
    "\n",
    "elif edad <= 65:\n",
    "    print(f\"Tienes {edad}, eres adulto\")\n",
    "\n",
    "else:\n",
    "    print(\"Eres adulto mayor\")"
   ]
  },
  {
   "cell_type": "code",
   "execution_count": null,
   "metadata": {},
   "outputs": [],
   "source": [
    "edad = int(input(\"¿Que edad tienes?\"))\n",
    "print(edad)\n",
    "\n",
    "if edad < 18:\n",
    "    print(\"Eres menor de edad\")\n",
    "elif edad >= 18:\n",
    "    if edad <= 65:\n",
    "        print(\"Eres adulto\")\n",
    "    else:\n",
    "        print(\"Eres un adulto mayor\")"
   ]
  },
  {
   "cell_type": "markdown",
   "metadata": {},
   "source": [
    "- Ejercicio 2: Determinación de Día de la Semana \n",
    "o Solicita al usuario que ingrese un número del 1 al 7. \n",
    "o Utilizando una serie de if-elif-else, muestra el día de la semana correspondiente al \n",
    "número ingresado. Por ejemplo, si ingresa 1, muestra \"Lunes\". "
   ]
  },
  {
   "cell_type": "code",
   "execution_count": 68,
   "metadata": {},
   "outputs": [
    {
     "name": "stdout",
     "output_type": "stream",
     "text": [
      "hoy es miércoles\n"
     ]
    }
   ],
   "source": [
    "dias = {1: \"lunes\", 2 : \"martes\", 3: \"miércoles\", 4: \"jueves\", 5:\"viernes\", 6:\"sábado\", 7: \"domingo\"}\n",
    "\n",
    "usuaria = int(input(\"Dime un número de día\"))\n",
    "\n",
    "if usuaria in dias.keys():\n",
    "    print(f\"hoy es {dias[usuaria]}\")\n",
    "\n",
    "else:\n",
    "    print(\"eso no es un día\")"
   ]
  },
  {
   "cell_type": "markdown",
   "metadata": {},
   "source": [
    "- Ejercicio 4: Juego de Adivinar la Palabra \n",
    "o Elige una palabra secreta y ocúltala utilizando asteriscos, por ejemplo, \"secreto\" se \n",
    "muestra como \"*******\". \n",
    "o Permite al usuario adivinar letras una por una. \n",
    "o Si la letra adivinada está en la palabra secreta, muestra la palabra con las letras \n",
    "descubiertas y los asteriscos. \n",
    "o Si la letra no está en la palabra secreta, resta una vida al jugador. \n",
    "o El juego continúa hasta que el jugador adivine la palabra."
   ]
  },
  {
   "cell_type": "code",
   "execution_count": 92,
   "metadata": {},
   "outputs": [
    {
     "data": {
      "text/plain": [
       "['*', '*', '*', '*']"
      ]
     },
     "execution_count": 92,
     "metadata": {},
     "output_type": "execute_result"
    }
   ],
   "source": [
    "# forma de crear una lista de asteriscos con la longitud de la palabra secreta\n",
    "\n",
    "secreto = \"gato\"\n",
    "solucion = list(\"*\" * len(secreto))\n",
    "\n",
    "solucion"
   ]
  },
  {
   "cell_type": "code",
   "execution_count": 93,
   "metadata": {},
   "outputs": [
    {
     "data": {
      "text/plain": [
       "'****'"
      ]
     },
     "execution_count": 93,
     "metadata": {},
     "output_type": "execute_result"
    }
   ],
   "source": [
    "# Mostramos la lista de asterisco cómo un único string\n",
    "\n",
    "\"\".join(solucion)"
   ]
  },
  {
   "cell_type": "code",
   "execution_count": null,
   "metadata": {},
   "outputs": [],
   "source": [
    "# Empezamos a desarrollar la lógica del juego \n",
    "# OJO: este código da error, no está completo\n",
    "\n",
    "secreto = \"gato\"\n",
    "\n",
    "solucion = list(\"*\" * len(secreto))\n",
    "\n",
    "#creamos la variable vidas para poder usarla como condición de parada del bucle\n",
    "vidas = 3\n",
    "\n",
    "# este bucle se va a ejecutar mientras tengamos vidas o lleguemos a un \"break\"\n",
    "while vidas > 0:\n",
    "\n",
    "    print(f\"La palabra es {\"\".join(solucion)}\")\n",
    "    print(f\"Tienes {vidas} vidas\")\n",
    "\n",
    "    letra = input(\"Dime una letra\")\n",
    "    print(f\"La letra que has elegido es {letra}\")\n",
    "\n",
    "    if letra: # evaluamos si el input es correcto\n",
    "        \n",
    "        if letra in secreto:\n",
    "            pass\n",
    "            #añadir letra a la solucion\n",
    "\n",
    "        else:\n",
    "            pass\n",
    "            # restar vida\n",
    "\n",
    "\n",
    "        if secreto == \"\".join(solucion):\n",
    "            break\n",
    "            #paramos el juego\n",
    "\n",
    "else:\n",
    "    pass\n",
    "    # el bucle se ha detenido porque te has quedado sin vidas\n",
    "\n",
    "\n",
    "\n",
    "\n",
    "    "
   ]
  },
  {
   "cell_type": "code",
   "execution_count": 2,
   "metadata": {},
   "outputs": [
    {
     "name": "stdout",
     "output_type": "stream",
     "text": [
      "La palabra es ****\n",
      "Tienes 3 vidas\n",
      "La letra que has elegido es g\n",
      "La letra g está en la palabra \n",
      " g***\n",
      "La palabra es g***\n",
      "Tienes 3 vidas\n",
      "La letra que has elegido es o\n",
      "La letra o está en la palabra \n",
      " g**o\n",
      "La palabra es g**o\n",
      "Tienes 3 vidas\n",
      "La letra que has elegido es o\n",
      "La letra o está en la palabra \n",
      " g**o\n",
      "La palabra es g**o\n",
      "Tienes 3 vidas\n",
      "La letra que has elegido es t\n",
      "La letra t está en la palabra \n",
      " g*to\n",
      "La palabra es g*to\n",
      "Tienes 3 vidas\n",
      "La letra que has elegido es t\n",
      "La letra t está en la palabra \n",
      " g*to\n",
      "La palabra es g*to\n",
      "Tienes 3 vidas\n",
      "La letra que has elegido es a\n",
      "La letra a está en la palabra \n",
      " gato\n",
      "has ganado\n"
     ]
    }
   ],
   "source": [
    "secreto = \"gato\"\n",
    "\n",
    "solucion = list(\"*\" * len(secreto))\n",
    "\n",
    "vidas = 3\n",
    "\n",
    "while vidas > 0:\n",
    "\n",
    "    print(f\"La palabra es {''.join(solucion)}\")\n",
    "    print(f\"Tienes {vidas} vidas\")\n",
    "\n",
    "    letra = input(\"Dime una letra\")\n",
    "    print(f\"La letra que has elegido es {letra}\")\n",
    "\n",
    "    if letra: # evaluamos si el input es correcto\n",
    "        \n",
    "        if letra in secreto:\n",
    "            solucion[secreto.index(letra)] = letra\n",
    "            print(f\"La letra {letra} está en la palabra \\n {''.join(solucion)}\")\n",
    "\n",
    "\n",
    "        else:\n",
    "            vidas -= 1\n",
    "            print(f\"la letra no está, te quedan {vidas} vidas\")\n",
    "\n",
    "\n",
    "        if secreto == \"\".join(solucion): # esta condición nos comprueba si hemos adivinado la palabra secreta\n",
    "            print(\"has ganado\")\n",
    "            break\n",
    "\n",
    "            #paramos el juego\n",
    "\n",
    "else:\n",
    "    print(\"te has quedado sin vidas\")\n",
    "    # el bucle se ha detenido porque te has quedado sin vidas"
   ]
  },
  {
   "cell_type": "code",
   "execution_count": null,
   "metadata": {},
   "outputs": [],
   "source": [
    "# Solución Maíra\n",
    "\n",
    "secreta = \"nika\"\n",
    "palabra_oculta = \"*\" * len(secreta)\n",
    "vidas = 5\n",
    "while vidas > 0:\n",
    "    print(f\"\\nEsta es la palabra: {palabra_oculta}. Tienes {vidas} vida(s)\\n\")\n",
    "    letra_usuario = input(\"Dime una letra: \").lower()\n",
    "    if letra_usuario in secreta:\n",
    "        indice_letra = secreta.index(letra_usuario)\n",
    "        palabra_oculta = palabra_oculta[:indice_letra] + letra_usuario + palabra_oculta[indice_letra+1:]\n",
    "        if \"*\" not in palabra_oculta:\n",
    "            print(f\"¡Enhorabuena! Ganaste, la palabra es: {palabra_oculta}. Te quedaron {vidas} vida(s).\")\n",
    "            break\n",
    "        else:\n",
    "            print(f\"Muy bien, de momento esta es la palabra: {palabra_oculta} y tienes {vidas} vida(s).\")\n",
    "    else:\n",
    "        vidas -= 1\n",
    "        print(f\"La letra {letra_usuario} no está en la palabra, tienes {vidas} vida(s), inténtalo de nuevo.\")\n",
    "else:\n",
    "    print(f\"Ya no tienes mas vidas. La palabra era: {secreta}.\")"
   ]
  },
  {
   "cell_type": "code",
   "execution_count": 99,
   "metadata": {},
   "outputs": [
    {
     "name": "stdout",
     "output_type": "stream",
     "text": [
      "nop\n"
     ]
    }
   ],
   "source": [
    "# en Python, si tenemos una variable vacia, ej: string sin nada \"\", lista vacía: [],... \n",
    "# se entiende que esa variable es == False\n",
    "\n",
    "nombre = []\n",
    "\n",
    "if nombre == True:\n",
    "    print(\"ok\")\n",
    "\n",
    "else:\n",
    "    print(\"nop\")"
   ]
  },
  {
   "cell_type": "code",
   "execution_count": 3,
   "metadata": {},
   "outputs": [],
   "source": [
    "s = \"gato\"\n",
    "l = [\"*\", \"*\", \"*\", \"*\"]"
   ]
  },
  {
   "cell_type": "code",
   "execution_count": 7,
   "metadata": {},
   "outputs": [
    {
     "data": {
      "text/plain": [
       "['g', '*', 't', 'o']"
      ]
     },
     "execution_count": 7,
     "metadata": {},
     "output_type": "execute_result"
    }
   ],
   "source": [
    "\n",
    "\n",
    "l[s.index(\"o\")] = \"o\"\n",
    "\n",
    "l"
   ]
  },
  {
   "cell_type": "code",
   "execution_count": 8,
   "metadata": {},
   "outputs": [
    {
     "data": {
      "text/plain": [
       "'g*to'"
      ]
     },
     "execution_count": 8,
     "metadata": {},
     "output_type": "execute_result"
    }
   ],
   "source": [
    "\"\".join(l)"
   ]
  },
  {
   "cell_type": "markdown",
   "metadata": {},
   "source": [
    "Solución del ejercicio 4:"
   ]
  },
  {
   "cell_type": "code",
   "execution_count": 10,
   "metadata": {},
   "outputs": [
    {
     "name": "stdout",
     "output_type": "stream",
     "text": [
      "el número secreto es más grande\n",
      "llevas 1 intentos\n",
      "-------------------------------\n",
      "el número secreto es más grande\n",
      "llevas 2 intentos\n",
      "-------------------------------\n",
      "la opcion no es correcta\n",
      "llevas 3 intentos\n",
      "-------------------------------\n",
      "el número secreto es más grande\n",
      "llevas 4 intentos\n",
      "-------------------------------\n",
      "el número secreto es más grande\n",
      "llevas 5 intentos\n",
      "-------------------------------\n",
      "el número secreto es más grande\n",
      "llevas 6 intentos\n",
      "-------------------------------\n",
      "Enhorabuena, lo has adivinado en 7 intentos\n"
     ]
    }
   ],
   "source": [
    "import random\n",
    "\n",
    "num_sec = random.randint(1,10)\n",
    "\n",
    "intentos = 0\n",
    "\n",
    "while True:\n",
    "\n",
    "    usuaria = input(\"adivina el num\")\n",
    "    intentos += 1\n",
    "    if usuaria.isdigit():\n",
    "        usuaria = int(usuaria)\n",
    "\n",
    "        if num_sec == usuaria:\n",
    "\n",
    "            if intentos == 1:\n",
    "                print(\"Enhorabuena, lo has adivinado a la primera\")\n",
    "                break\n",
    "            else:\n",
    "                print(f\"Enhorabuena, lo has adivinado en {intentos} intentos\")\n",
    "                break\n",
    "        else:\n",
    "            if usuaria > num_sec:\n",
    "                print(\"el número secreto es más pequeño\")\n",
    "            else:\n",
    "                print(\"el número secreto es más grande\")\n",
    "    else:\n",
    "        print(\"la opcion no es correcta\")\n",
    "    print(f\"llevas {intentos} intentos\")\n",
    "    print(\"-------------------------------\")"
   ]
  }
 ],
 "metadata": {
  "kernelspec": {
   "display_name": "base",
   "language": "python",
   "name": "python3"
  },
  "language_info": {
   "codemirror_mode": {
    "name": "ipython",
    "version": 3
   },
   "file_extension": ".py",
   "mimetype": "text/x-python",
   "name": "python",
   "nbconvert_exporter": "python",
   "pygments_lexer": "ipython3",
   "version": "3.9.12"
  }
 },
 "nbformat": 4,
 "nbformat_minor": 2
}
